{
 "cells": [
  {
   "cell_type": "markdown",
   "metadata": {},
   "source": [
    "<H1>MADATORY PYTHON LIBRARIES</H1>"
   ]
  },
  {
   "cell_type": "code",
   "execution_count": 1,
   "metadata": {
    "collapsed": false
   },
   "outputs": [],
   "source": [
    "%matplotlib  inline\n",
    "import xarray\n",
    "import os\n",
    "import pandas as pd\n",
    "import matplotlib.pyplot as plt\n",
    "from matplotlib import colors\n",
    "plt.rcParams.update({'font.size': 15})"
   ]
  },
  {
   "cell_type": "markdown",
   "metadata": {},
   "source": [
    "<h1>IN SITU VESSELS</h1>"
   ]
  },
  {
   "cell_type": "markdown",
   "metadata": {},
   "source": [
    "In Situ 'vessels' comprehends a wide range of devices on board of vessels like Thermosalinometers, CTDs, MiniLoggers, Ferriboxes, XBTs, Bottles, BATHY and TESAC. Depending on the device, vessels provides data time series of certain parameters along its trajectory either for the upper watter surface (time series) or along the water column (profiles). It's platform data types are TS, CT, ML, FB, XB, BO, BA and TE:"
   ]
  },
  {
   "cell_type": "code",
   "execution_count": 2,
   "metadata": {
    "collapsed": false
   },
   "outputs": [
    {
     "data": {
      "text/html": [
       "<div>\n",
       "<table border=\"1\" class=\"dataframe\">\n",
       "  <thead>\n",
       "    <tr style=\"text-align: right;\">\n",
       "      <th></th>\n",
       "      <th>PR (profile)</th>\n",
       "      <th>TS (time serie)</th>\n",
       "    </tr>\n",
       "  </thead>\n",
       "  <tbody>\n",
       "    <tr>\n",
       "      <th>TS (thermosalinomter)</th>\n",
       "      <td>-</td>\n",
       "      <td>✔</td>\n",
       "    </tr>\n",
       "    <tr>\n",
       "      <th>CT (CTDs)</th>\n",
       "      <td>✔</td>\n",
       "      <td>-</td>\n",
       "    </tr>\n",
       "    <tr>\n",
       "      <th>ML (Miniloggers)</th>\n",
       "      <td>✔</td>\n",
       "      <td>-</td>\n",
       "    </tr>\n",
       "    <tr>\n",
       "      <th>FB (Ferribox)</th>\n",
       "      <td>✔</td>\n",
       "      <td>-</td>\n",
       "    </tr>\n",
       "    <tr>\n",
       "      <th>XB (XBTs)</th>\n",
       "      <td>✔</td>\n",
       "      <td>-</td>\n",
       "    </tr>\n",
       "    <tr>\n",
       "      <th>BO (Bottles)</th>\n",
       "      <td>✔</td>\n",
       "      <td>-</td>\n",
       "    </tr>\n",
       "    <tr>\n",
       "      <th>BA (BATHY)</th>\n",
       "      <td>✔</td>\n",
       "      <td>-</td>\n",
       "    </tr>\n",
       "    <tr>\n",
       "      <th>TE (TESAC)</th>\n",
       "      <td>✔</td>\n",
       "      <td>-</td>\n",
       "    </tr>\n",
       "  </tbody>\n",
       "</table>\n",
       "</div>"
      ],
      "text/plain": [
       "                      PR (profile) TS (time serie)\n",
       "TS (thermosalinomter)            -               ✔\n",
       "CT (CTDs)                        ✔               -\n",
       "ML (Miniloggers)                ✔               - \n",
       "FB (Ferribox)                    ✔              - \n",
       "XB (XBTs)                        ✔              - \n",
       "BO (Bottles)                     ✔               -\n",
       "BA (BATHY)                       ✔              - \n",
       "TE (TESAC)                       ✔               -"
      ]
     },
     "execution_count": 2,
     "metadata": {},
     "output_type": "execute_result"
    }
   ],
   "source": [
    "data = { 'PR (profile)': [' -', ' ✔',' ✔ ', ' ✔',' ✔', '  ✔',' ✔', ' ✔'], 'TS (time serie)': [' ✔', ' -',' - ', ' - ',' - ', ' -', '- ', ' -']}\n",
    "pd.DataFrame(data=data, index=['TS (thermosalinomter)', 'CT (CTDs)', 'ML (Miniloggers)', 'FB (Ferribox)', 'XB (XBTs)', 'BO (Bottles)', 'BA (BATHY)', 'TE (TESAC)'])"
   ]
  },
  {
   "cell_type": "markdown",
   "metadata": {},
   "source": [
    "<h1>PLOTTING PROFILES</h1>"
   ]
  },
  {
   "cell_type": "markdown",
   "metadata": {},
   "source": [
    "Imagine you have downloaded some <i>_PF_ (profiles)</i> dataset from In Situ vessels (see how to download files from a  certain [platform data source](https://github.com/CopernicusMarineInsitu/INSTACTraining-Phase2UPDATE/blob/master/PythonNotebooks/In_Situ_data_download_by_platform_data_source.ipynb) or [platform category](https://github.com/CopernicusMarineInsitu/INSTACTraining-Phase2UPDATE/blob/master/PythonNotebooks/In_Situ_data_download_by_platform_category.ipynb)) like: [MO_PR_CT_EABV_2013.nc](ftp://nrt.cmems-du.eu/Core/INSITU_MED_NRT_OBSERVATIONS_013_035/history/vessel/MO_PR_CT_EABV_2013.nc)"
   ]
  },
  {
   "cell_type": "code",
   "execution_count": 3,
   "metadata": {
    "collapsed": true
   },
   "outputs": [],
   "source": [
    "dataset = 'MO_PR_CT_EABV_2013.nc'"
   ]
  },
  {
   "cell_type": "markdown",
   "metadata": {},
   "source": [
    "Let's have a look to its content:"
   ]
  },
  {
   "cell_type": "code",
   "execution_count": 4,
   "metadata": {
    "collapsed": false
   },
   "outputs": [
    {
     "name": "stdout",
     "output_type": "stream",
     "text": [
      "path2file: /home/protllan/code/Training/INSTACTraining-PhaseII/PythonNotebooks/MO_PR_CT_EABV_2013.nc\n"
     ]
    }
   ],
   "source": [
    "full_path2file = os.getcwd()+'/'+dataset #default to current directory\n",
    "print('path2file: %s'%(full_path2file))"
   ]
  },
  {
   "cell_type": "code",
   "execution_count": 5,
   "metadata": {
    "collapsed": false
   },
   "outputs": [],
   "source": [
    "ds = xarray.open_dataset(dataset)"
   ]
  },
  {
   "cell_type": "markdown",
   "metadata": {},
   "source": [
    "ds contains all the information about the dataset (relevant metadata, variables, dimensions etc):"
   ]
  },
  {
   "cell_type": "code",
   "execution_count": 6,
   "metadata": {
    "collapsed": false
   },
   "outputs": [
    {
     "data": {
      "text/plain": [
       "<xarray.Dataset>\n",
       "Dimensions:             (DEPTH: 189, LATITUDE: 28, LONGITUDE: 28, POSITION: 28, TIME: 28)\n",
       "Coordinates:\n",
       "  * TIME                (TIME) datetime64[ns] 2013-12-02T12:34:57.014400 ...\n",
       "  * LATITUDE            (LATITUDE) float64 39.0 39.0 39.45 39.0 38.8 39.32 ...\n",
       "  * LONGITUDE           (LONGITUDE) float64 1.121 1.195 2.318 0.7367 0.9914 ...\n",
       "Dimensions without coordinates: DEPTH, POSITION\n",
       "Data variables:\n",
       "    TIME_QC             (TIME) float64 1.0 1.0 1.0 1.0 1.0 1.0 1.0 1.0 1.0 ...\n",
       "    POSITION_QC         (POSITION) float64 1.0 1.0 1.0 1.0 1.0 1.0 1.0 1.0 ...\n",
       "    DATA_MODE           (TIME) object 'R' 'R' 'R' 'R' 'R' 'R' 'R' 'R' 'R' ...\n",
       "    DIRECTION           (TIME) object 'D' 'D' 'D' 'D' 'D' 'D' 'D' 'D' 'D' ...\n",
       "    CNDC                (TIME, DEPTH) float64 4.781 4.782 4.782 4.782 4.787 ...\n",
       "    CNDC_QC             (TIME, DEPTH) float64 0.0 0.0 0.0 0.0 0.0 0.0 0.0 ...\n",
       "    DOWNWELLING_PAR     (TIME, DEPTH) float64 18.62 11.17 8.382 6.304 4.723 ...\n",
       "    DOWNWELLING_PAR_QC  (TIME, DEPTH) float64 0.0 0.0 0.0 0.0 0.0 0.0 0.0 ...\n",
       "    DOX1                (TIME, DEPTH) float64 5.102 5.107 5.106 5.089 5.086 ...\n",
       "    DOX1_QC             (TIME, DEPTH) float64 0.0 0.0 0.0 0.0 0.0 0.0 0.0 ...\n",
       "    FLU2                (TIME, DEPTH) float64 0.3359 0.3733 0.4308 0.4407 ...\n",
       "    FLU2_QC             (TIME, DEPTH) float64 0.0 0.0 0.0 0.0 0.0 0.0 0.0 ...\n",
       "    LGH4                (TIME, DEPTH) float64 0.3592 0.3549 0.3555 0.3539 ...\n",
       "    LGH4_QC             (TIME, DEPTH) float64 0.0 0.0 0.0 0.0 0.0 0.0 0.0 ...\n",
       "    PRES                (TIME, DEPTH) float64 5.0 10.0 15.0 20.0 25.0 30.0 ...\n",
       "    PRES_QC             (TIME, DEPTH) float64 1.0 1.0 1.0 1.0 1.0 1.0 1.0 ...\n",
       "    PSAL                (TIME, DEPTH) float64 37.88 37.88 37.89 37.91 37.95 ...\n",
       "    PSAL_QC             (TIME, DEPTH) float64 1.0 1.0 1.0 1.0 1.0 1.0 1.0 ...\n",
       "    SIGMA_THETA         (TIME, DEPTH) float64 27.81 27.81 27.82 27.84 27.87 ...\n",
       "    SIGMA_THETA_QC      (TIME, DEPTH) float64 0.0 0.0 0.0 0.0 0.0 0.0 0.0 ...\n",
       "    TEMP                (TIME, DEPTH) float64 16.65 16.66 16.65 16.62 16.64 ...\n",
       "    TEMP_QC             (TIME, DEPTH) float64 1.0 1.0 1.0 1.0 1.0 1.0 1.0 ...\n",
       "    TUR4                (TIME, DEPTH) float64 0.109 0.06 0.052 0.058 0.061 ...\n",
       "    TUR4_QC             (TIME, DEPTH) float64 0.0 0.0 0.0 0.0 0.0 0.0 0.0 ...\n",
       "Attributes:\n",
       "    data_type:                   OceanSITES vertical profile\n",
       "    format_version:              1.2\n",
       "    platform_code:               145\n",
       "    institution:                 SOCIB (Sistema de Observacion y prediccion C...\n",
       "    date_update:                 2018-06-02T01:00:33Z\n",
       "    site_code:                   \n",
       "    wmo_platform_code:           EABV\n",
       "    source:                       \n",
       "    history:                     2018-06-02T00:34:44Z  : Creation\n",
       "    data_mode:                   R\n",
       "    quality_control_indicator:   6\n",
       "    quality_index:               A\n",
       "    references:                  http://www.oceansites.org, http://marine.cop...\n",
       "    comment:                      \n",
       "    Conventions:                 CF-1.6 OceanSITES-Manual-1.2 Copernicus-InSi...\n",
       "    title:                       Med Sea - NRT in situ Observations\n",
       "    summary:                      \n",
       "    naming_authority:            OceanSITES\n",
       "    id:                          MO_PR_CT_EABV\n",
       "    cdm_data_type:               vertical profile\n",
       "    area:                        Mediterranean\n",
       "    wmo_inst_type:                \n",
       "    institution_edmo_code:       3410\n",
       "    geospatial_lat_min:          38.7974\n",
       "    geospatial_lat_max:          39.5004\n",
       "    geospatial_lon_min:          0.146\n",
       "    geospatial_lon_max:          2.40108\n",
       "    geospatial_vertical_min:     5.0\n",
       "    geospatial_vertical_max:     945.0\n",
       "    time_coverage_start:         2013-12-02T12:34:57Z\n",
       "    time_coverage_end:           2013-12-04T14:50:20Z\n",
       "    institution_references:      http://www.socib.es/\n",
       "    contact:                     data.centre@socib.es, cmems-service@ath.hcmr.gr\n",
       "    author:                      SOCIB Data Centre, Med ROOS data center (HCMR)\n",
       "    data_assembly_center:        HCMR\n",
       "    pi_name:                     Dr. Joaquin Tintore (jtintore@socib.es), Ana...\n",
       "    distribution_statement:      These data follow Copernicus standards; they...\n",
       "    citation:                    These data were collected and made freely av...\n",
       "    update_interval:             daily\n",
       "    qc_manual:                   OceanSITES User's Manual v1.2\n",
       "    last_latitude_observation:   38.7994\n",
       "    last_longitude_observation:  0.34892\n",
       "    last_date_observation:       2013-12-04T14:50:20Z\n",
       "    netcdf_version:              3.5"
      ]
     },
     "execution_count": 6,
     "metadata": {},
     "output_type": "execute_result"
    }
   ],
   "source": [
    "ds"
   ]
  },
  {
   "cell_type": "markdown",
   "metadata": {},
   "source": [
    "these attributes can be accesed individually; i.e:"
   ]
  },
  {
   "cell_type": "code",
   "execution_count": 7,
   "metadata": {
    "collapsed": false
   },
   "outputs": [
    {
     "data": {
      "text/plain": [
       "[u'TIME',\n",
       " u'TIME_QC',\n",
       " u'LATITUDE',\n",
       " u'LONGITUDE',\n",
       " u'POSITION_QC',\n",
       " u'DATA_MODE',\n",
       " u'DIRECTION',\n",
       " u'CNDC',\n",
       " u'CNDC_QC',\n",
       " u'DOWNWELLING_PAR',\n",
       " u'DOWNWELLING_PAR_QC',\n",
       " u'DOX1',\n",
       " u'DOX1_QC',\n",
       " u'FLU2',\n",
       " u'FLU2_QC',\n",
       " u'LGH4',\n",
       " u'LGH4_QC',\n",
       " u'PRES',\n",
       " u'PRES_QC',\n",
       " u'PSAL',\n",
       " u'PSAL_QC',\n",
       " u'SIGMA_THETA',\n",
       " u'SIGMA_THETA_QC',\n",
       " u'TEMP',\n",
       " u'TEMP_QC',\n",
       " u'TUR4',\n",
       " u'TUR4_QC']"
      ]
     },
     "execution_count": 7,
     "metadata": {},
     "output_type": "execute_result"
    }
   ],
   "source": [
    "ds.variables.keys()"
   ]
  },
  {
   "cell_type": "markdown",
   "metadata": {},
   "source": [
    "Every of the above parameters varies along certain dimensions (within parenthesis when checking the parameter metadata):"
   ]
  },
  {
   "cell_type": "code",
   "execution_count": 8,
   "metadata": {
    "collapsed": false
   },
   "outputs": [
    {
     "data": {
      "text/plain": [
       "<xarray.DataArray 'TEMP' (TIME: 28, DEPTH: 189)>\n",
       "array([[ 16.6546  ,  16.6563  ,  16.6493  , ...,        nan,        nan,\n",
       "               nan],\n",
       "       [ 16.574301,  16.5961  ,  16.5972  , ...,        nan,        nan,\n",
       "               nan],\n",
       "       [ 15.9273  ,  15.93    ,  15.9294  , ...,        nan,        nan,\n",
       "               nan],\n",
       "       ..., \n",
       "       [ 17.189699,  17.132299,  17.0459  , ...,        nan,        nan,\n",
       "               nan],\n",
       "       [ 17.2344  ,  17.2211  ,  17.2132  , ...,        nan,        nan,\n",
       "               nan],\n",
       "       [ 17.151699,  17.1371  ,  17.095699, ...,        nan,        nan,\n",
       "               nan]])\n",
       "Coordinates:\n",
       "  * TIME     (TIME) datetime64[ns] 2013-12-02T12:34:57.014400 ...\n",
       "Dimensions without coordinates: DEPTH\n",
       "Attributes:\n",
       "    long_name:      Sea temperature\n",
       "    standard_name:  sea_water_temperature\n",
       "    units:          degrees_C"
      ]
     },
     "execution_count": 8,
     "metadata": {},
     "output_type": "execute_result"
    }
   ],
   "source": [
    "ds['TEMP']"
   ]
  },
  {
   "cell_type": "code",
   "execution_count": 9,
   "metadata": {
    "collapsed": false
   },
   "outputs": [
    {
     "data": {
      "image/png": "[encoded data removed]",
      "text/plain": [
       "<matplotlib.figure.Figure at 0x7f4354dbcf10>"
      ]
     },
     "metadata": {},
     "output_type": "display_data"
    }
   ],
   "source": [
    "ds['TEMP'].plot(x='TIME', y='DEPTH',aspect=3, size=10)\n",
    "plt.gca().invert_yaxis()"
   ]
  },
  {
   "cell_type": "markdown",
   "metadata": {},
   "source": [
    "Every of the above variables have a corresponding '_QC' variable, which is the variable that contains the data quality flags:"
   ]
  },
  {
   "cell_type": "code",
   "execution_count": 10,
   "metadata": {
    "collapsed": false
   },
   "outputs": [
    {
     "data": {
      "text/plain": [
       "<xarray.DataArray 'TEMP_QC' (TIME: 28, DEPTH: 189)>\n",
       "array([[  1.,   1.,   1., ...,  nan,  nan,  nan],\n",
       "       [  1.,   1.,   1., ...,  nan,  nan,  nan],\n",
       "       [  1.,   1.,   1., ...,  nan,  nan,  nan],\n",
       "       ..., \n",
       "       [  1.,   1.,   1., ...,  nan,  nan,  nan],\n",
       "       [  1.,   1.,   1., ...,  nan,  nan,  nan],\n",
       "       [  1.,   1.,   1., ...,  nan,  nan,  nan]])\n",
       "Coordinates:\n",
       "  * TIME     (TIME) datetime64[ns] 2013-12-02T12:34:57.014400 ...\n",
       "Dimensions without coordinates: DEPTH\n",
       "Attributes:\n",
       "    long_name:      quality flag\n",
       "    conventions:    OceanSITES reference table 2\n",
       "    valid_min:      0\n",
       "    valid_max:      9\n",
       "    flag_values:    [0 1 2 3 4 5 6 7 8 9]\n",
       "    flag_meanings:  no_qc_performed good_data probably_good_data bad_data_tha..."
      ]
     },
     "execution_count": 10,
     "metadata": {},
     "output_type": "execute_result"
    }
   ],
   "source": [
    "ds['TEMP_QC']"
   ]
  },
  {
   "cell_type": "code",
   "execution_count": 11,
   "metadata": {
    "collapsed": false
   },
   "outputs": [
    {
     "data": {
      "image/png": "[encoded data removed]",
      "text/plain": [
       "<matplotlib.figure.Figure at 0x7f435474c9d0>"
      ]
     },
     "metadata": {},
     "output_type": "display_data"
    }
   ],
   "source": [
    "ds['TEMP_QC'].plot(x='TIME', y='DEPTH',aspect=3, size=10)\n",
    "plt.gca().invert_yaxis()"
   ]
  },
  {
   "cell_type": "markdown",
   "metadata": {},
   "source": [
    "This '_QC' variable will therefore guide us when when working with the parameter data to distinguish good from bad data:"
   ]
  },
  {
   "cell_type": "code",
   "execution_count": 12,
   "metadata": {
    "collapsed": false
   },
   "outputs": [
    {
     "data": {
      "text/html": [
       "<div>\n",
       "<table border=\"1\" class=\"dataframe\">\n",
       "  <thead>\n",
       "    <tr style=\"text-align: right;\">\n",
       "      <th></th>\n",
       "      <th>quality flag</th>\n",
       "    </tr>\n",
       "  </thead>\n",
       "  <tbody>\n",
       "    <tr>\n",
       "      <th>no_qc_performed</th>\n",
       "      <td>0</td>\n",
       "    </tr>\n",
       "    <tr>\n",
       "      <th>good_data</th>\n",
       "      <td>1</td>\n",
       "    </tr>\n",
       "    <tr>\n",
       "      <th>probably_good_data</th>\n",
       "      <td>2</td>\n",
       "    </tr>\n",
       "    <tr>\n",
       "      <th>bad_data_that_are_potentially_correctable</th>\n",
       "      <td>3</td>\n",
       "    </tr>\n",
       "    <tr>\n",
       "      <th>bad_data</th>\n",
       "      <td>4</td>\n",
       "    </tr>\n",
       "    <tr>\n",
       "      <th>value_changed</th>\n",
       "      <td>5</td>\n",
       "    </tr>\n",
       "    <tr>\n",
       "      <th>not_used</th>\n",
       "      <td>6</td>\n",
       "    </tr>\n",
       "    <tr>\n",
       "      <th>nominal_value</th>\n",
       "      <td>7</td>\n",
       "    </tr>\n",
       "    <tr>\n",
       "      <th>interpolated_value</th>\n",
       "      <td>8</td>\n",
       "    </tr>\n",
       "    <tr>\n",
       "      <th>missing_value</th>\n",
       "      <td>9</td>\n",
       "    </tr>\n",
       "  </tbody>\n",
       "</table>\n",
       "</div>"
      ],
      "text/plain": [
       "                                           quality flag\n",
       "no_qc_performed                                       0\n",
       "good_data                                             1\n",
       "probably_good_data                                    2\n",
       "bad_data_that_are_potentially_correctable             3\n",
       "bad_data                                              4\n",
       "value_changed                                         5\n",
       "not_used                                              6\n",
       "nominal_value                                         7\n",
       "interpolated_value                                    8\n",
       "missing_value                                         9"
      ]
     },
     "execution_count": 12,
     "metadata": {},
     "output_type": "execute_result"
    }
   ],
   "source": [
    "pd.DataFrame(data=ds['TEMP_QC'].attrs['flag_values'], index = ds['TEMP_QC'].attrs['flag_meanings'].split(' '), columns = ['quality flag'])"
   ]
  },
  {
   "cell_type": "markdown",
   "metadata": {},
   "source": [
    "In this case all is flagged as 1 (good) so we go straight to try a different colormap for example:"
   ]
  },
  {
   "cell_type": "code",
   "execution_count": 13,
   "metadata": {
    "collapsed": true
   },
   "outputs": [],
   "source": [
    "cmap = plt.cm.Spectral_r"
   ]
  },
  {
   "cell_type": "code",
   "execution_count": 15,
   "metadata": {
    "collapsed": false
   },
   "outputs": [
    {
     "data": {
      "image/png": "[encoded data removed]",
      "text/plain": [
       "<matplotlib.figure.Figure at 0x7f43540c4350>"
      ]
     },
     "metadata": {},
     "output_type": "display_data"
    }
   ],
   "source": [
    "ds['TEMP'].plot(x='TIME', y='DEPTH',aspect=3, size=10, cmap=cmap)\n",
    "plt.gca().invert_yaxis()"
   ]
  }
 ],
 "metadata": {
  "kernelspec": {
   "display_name": "Python [anaconda2]",
   "language": "python",
   "name": "Python [anaconda2]"
  },
  "language_info": {
   "codemirror_mode": {
    "name": "ipython",
    "version": 2
   },
   "file_extension": ".py",
   "mimetype": "text/x-python",
   "name": "python",
   "nbconvert_exporter": "python",
   "pygments_lexer": "ipython2",
   "version": "2.7.12"
  }
 },
 "nbformat": 4,
 "nbformat_minor": 0
}
