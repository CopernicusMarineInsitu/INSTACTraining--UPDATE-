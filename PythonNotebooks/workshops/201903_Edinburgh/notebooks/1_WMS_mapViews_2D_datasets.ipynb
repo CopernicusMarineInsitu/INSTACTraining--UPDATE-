{
 "cells": [
  {
   "cell_type": "markdown",
   "metadata": {},
   "source": [
    "<h1>MADATORY PYTHON LIBRARIES</h1>"
   ]
  },
  {
   "cell_type": "code",
   "execution_count": null,
   "metadata": {},
   "outputs": [],
   "source": [
    "import folium #from conda prompt window: conda install folium\n",
    "from folium import plugins\n",
    "from owslib.wms import WebMapService #from conda prompt window: conda install OWSLib\n",
    "from IPython.core.display import HTML\n",
    "folium.__version__"
   ]
  },
  {
   "cell_type": "markdown",
   "metadata": {},
   "source": [
    "<H1>WEB MAP SERVICES</H1>"
   ]
  },
  {
   "cell_type": "markdown",
   "metadata": {},
   "source": [
    "Web Map Services are available for almost all products within the Copernicus Marien Service.<br>\n",
    "You can always check if a given product offers this service by exploring the 'services' tab in the Copernicus Marine Service Cataloge detailed view:"
   ]
  },
  {
   "cell_type": "code",
   "execution_count": null,
   "metadata": {},
   "outputs": [],
   "source": [
    "product_id = \"GLOBAL_ANALYSIS_FORECAST_PHY_001_024\"\n",
    "detail_view = \"http://marine.copernicus.eu/services-portfolio/access-to-products/?option=com_csw&view=details&product_id=\"+product_id\n",
    "print(detail_view)"
   ]
  },
  {
   "cell_type": "markdown",
   "metadata": {},
   "source": [
    "Let's play with such service for getting a quick view of the variables of the above product"
   ]
  },
  {
   "cell_type": "markdown",
   "metadata": {},
   "source": [
    "<h1>WMS - MapViews</h1>"
   ]
  },
  {
   "cell_type": "markdown",
   "metadata": {},
   "source": [
    "<ul><li><h2>2D datasets</li></ul></h2>"
   ]
  },
  {
   "cell_type": "markdown",
   "metadata": {},
   "source": [
    "Let's choose one of the above 2D datasets an display its variables; or example, the hourly mean dataset:"
   ]
  },
  {
   "cell_type": "code",
   "execution_count": null,
   "metadata": {},
   "outputs": [],
   "source": [
    "dataset = 'global-analysis-forecast-phy-001-024-hourly-t-u-v-ssh'"
   ]
  },
  {
   "cell_type": "code",
   "execution_count": null,
   "metadata": {},
   "outputs": [],
   "source": [
    "url = 'http://nrt.cmems-du.eu/thredds/wms/'+dataset\n",
    "wms = WebMapService(url)"
   ]
  },
  {
   "cell_type": "code",
   "execution_count": null,
   "metadata": {},
   "outputs": [],
   "source": [
    "for layer in wms.contents.keys():\n",
    "    print(layer + ' = ' + wms[layer].title)"
   ]
  },
  {
   "cell_type": "markdown",
   "metadata": {},
   "source": [
    "Let's choose one of the above 2D variables and calculate the center of its bounding box:"
   ]
  },
  {
   "cell_type": "code",
   "execution_count": null,
   "metadata": {},
   "outputs": [],
   "source": [
    "target = 'thetao'"
   ]
  },
  {
   "cell_type": "code",
   "execution_count": null,
   "metadata": {},
   "outputs": [],
   "source": [
    "lon = (wms[target].boundingBox[0] + wms[target].boundingBox[2]) / 2.\n",
    "lat = (wms[target].boundingBox[1] + wms[target].boundingBox[3]) / 2.\n",
    "center = lat, lon\n",
    "print(center)"
   ]
  },
  {
   "cell_type": "markdown",
   "metadata": {},
   "source": [
    "Let's now display the chosen variable on a map centered in the abobe lat,lon point:"
   ]
  },
  {
   "cell_type": "code",
   "execution_count": null,
   "metadata": {},
   "outputs": [],
   "source": [
    "m = folium.Map(\n",
    "    location=center,\n",
    "    zoom_start=2,\n",
    "    control_scale=True\n",
    ")\n",
    "style = [wms[target].styles[key]['title'] for key in wms[target].styles.keys()][0]\n",
    "w = folium.raster_layers.WmsTileLayer(\n",
    "    url=url,\n",
    "    name=wms[target].title,\n",
    "    styles=style,\n",
    "    fmt='image/png',\n",
    "    transparent=True,\n",
    "    layers=target,\n",
    "    overlay=True,\n",
    ")\n",
    "w.add_to(m)\n",
    "m"
   ]
  },
  {
   "cell_type": "markdown",
   "metadata": {},
   "source": [
    "Let's add a legend so that we know what the above color means:"
   ]
  },
  {
   "cell_type": "code",
   "execution_count": null,
   "metadata": {},
   "outputs": [],
   "source": [
    "legend = [wms[target].styles[key]['legend'] for key in wms[target].styles.keys()][0]\n",
    "print(legend)"
   ]
  },
  {
   "cell_type": "code",
   "execution_count": null,
   "metadata": {
    "scrolled": false
   },
   "outputs": [],
   "source": [
    "m = folium.Map(\n",
    "    location=center,\n",
    "    zoom_start=2,\n",
    "    control_scale=True\n",
    ")\n",
    "\n",
    "style = [wms[target].styles[key]['title'] for key in wms[target].styles.keys()][0]\n",
    "w = folium.raster_layers.WmsTileLayer(\n",
    "    url=url,\n",
    "    name=wms[target].title,\n",
    "    styles=style,\n",
    "    fmt='image/png',\n",
    "    transparent=True,\n",
    "    layers=target,\n",
    "    overlay=True,\n",
    ")\n",
    "w.add_to(m)\n",
    "legend_html = '<div style=\"position: fixed; bottom: 50px; right: 50px; z-index:9999\"><img src=\"'+legend+'\"></div>'\n",
    "m.get_root().html.add_child(folium.Element(legend_html))\n",
    "m"
   ]
  },
  {
   "cell_type": "markdown",
   "metadata": {},
   "source": [
    "Let's zoom around the UK:"
   ]
  },
  {
   "cell_type": "code",
   "execution_count": null,
   "metadata": {},
   "outputs": [],
   "source": [
    "m = folium.Map(\n",
    "    location=[55.9533, 1.888],\n",
    "    zoom_start=5,\n",
    "    control_scale=True\n",
    ")\n",
    "\n",
    "style = [wms[target].styles[key]['title'] for key in wms[target].styles.keys()][0]\n",
    "w = folium.raster_layers.WmsTileLayer(\n",
    "    url=url,\n",
    "    name=wms[target].title,\n",
    "    styles=style,\n",
    "    fmt='image/png',\n",
    "    transparent=True,\n",
    "    layers=target,\n",
    "    overlay=True,\n",
    ")\n",
    "w.add_to(m)\n",
    "\n",
    "legend_html = '<div style=\"position: fixed; bottom: 50px; right: 50px; z-index:9999\"><img src=\"'+legend+'\"></div>'\n",
    "m.get_root().html.add_child(folium.Element(legend_html))\n",
    "m"
   ]
  },
  {
   "cell_type": "markdown",
   "metadata": {},
   "source": [
    "Let's reset the color scale ranges to be able to distinguish better the transitions:"
   ]
  },
  {
   "cell_type": "code",
   "execution_count": null,
   "metadata": {},
   "outputs": [],
   "source": [
    "COLORSCALERANGE = '-2.0,16.0'"
   ]
  },
  {
   "cell_type": "code",
   "execution_count": null,
   "metadata": {},
   "outputs": [],
   "source": [
    "legend = [wms[target].styles[key]['legend'] for key in wms[target].styles.keys()][0]+'&colorscalerange='+COLORSCALERANGE\n",
    "print(legend)"
   ]
  },
  {
   "cell_type": "code",
   "execution_count": null,
   "metadata": {},
   "outputs": [],
   "source": [
    "m = folium.Map(\n",
    "    location=[55.9533, 1.888],\n",
    "    zoom_start=5,\n",
    "    control_scale=True\n",
    ")\n",
    "\n",
    "style = [wms[target].styles[key]['title'] for key in wms[target].styles.keys()][0]\n",
    "w = folium.raster_layers.WmsTileLayer(\n",
    "    url=url,\n",
    "    name=wms[target].title,\n",
    "    styles=style,\n",
    "    fmt='image/png',\n",
    "    transparent=True,\n",
    "    layers=target,\n",
    "    overlay=True,\n",
    "    colorscalerange=COLORSCALERANGE,\n",
    ")\n",
    "w.add_to(m)\n",
    "legend_html = '<div style=\"position: fixed; bottom: 50px; right: 50px; z-index:9999\"><img src=\"'+legend+'\"></div>'\n",
    "m.get_root().html.add_child(folium.Element(legend_html))\n",
    "m"
   ]
  },
  {
   "cell_type": "markdown",
   "metadata": {},
   "source": [
    "But which time this correponds to? Let's check the time coverage of the target layer:"
   ]
  },
  {
   "cell_type": "code",
   "execution_count": null,
   "metadata": {},
   "outputs": [],
   "source": [
    "ini = wms[target].timepositions[0].strip()\n",
    "end = wms[target].timepositions[-1].strip()\n",
    "time_coverage = (ini+'/'+end).split('/P')[0]\n",
    "print(time_coverage)"
   ]
  },
  {
   "cell_type": "markdown",
   "metadata": {},
   "source": [
    "Let's ask for certain times:"
   ]
  },
  {
   "cell_type": "code",
   "execution_count": null,
   "metadata": {},
   "outputs": [],
   "source": [
    "m = folium.Map(\n",
    "    location=[55.9533, 1.888],\n",
    "    zoom_start=5,\n",
    "    control_scale=True\n",
    ")\n",
    "style = [wms[target].styles[key]['title'] for key in wms[target].styles.keys()][0]\n",
    "w = folium.raster_layers.WmsTileLayer(\n",
    "    url=url,\n",
    "    name='winter_2018_'+wms[target].title,\n",
    "    styles=style,\n",
    "    fmt='image/png',\n",
    "    transparent=True,\n",
    "    layers=target,\n",
    "    overlay=True,\n",
    "    colorscalerange=COLORSCALERANGE,\n",
    "    time = '2018-02-10T12:30:00.000Z'\n",
    ")\n",
    "w2 = folium.raster_layers.WmsTileLayer(\n",
    "    url=url,\n",
    "    name='summer_2018_'+wms[target].title,\n",
    "    styles=style,\n",
    "    fmt='image/png',\n",
    "    transparent=True,\n",
    "    layers=target,\n",
    "    overlay=True,\n",
    "    colorscalerange=COLORSCALERANGE,\n",
    "    time = '2018-08-10T12:30:00.000Z'\n",
    ")\n",
    "w.add_to(m)\n",
    "w2.add_to(m)\n",
    "\n",
    "folium.LayerControl().add_to(m)\n",
    "\n",
    "legend_html = '<div style=\"position: fixed; bottom: 50px; right: 50px; z-index:9999\"><img src=\"'+legend+'\"></div>'\n",
    "m.get_root().html.add_child(folium.Element(legend_html))\n",
    "\n",
    "m"
   ]
  },
  {
   "cell_type": "markdown",
   "metadata": {},
   "source": [
    "Let's see these snapshots next each other to better see the differences:"
   ]
  },
  {
   "cell_type": "code",
   "execution_count": null,
   "metadata": {},
   "outputs": [],
   "source": [
    "m_dual = plugins.DualMap(location=[55.9533, 1.888], zoom_start=5, control_scale=True)\n",
    "style = [wms[target].styles[key]['title'] for key in wms[target].styles.keys()][0]\n",
    "w = folium.raster_layers.WmsTileLayer(\n",
    "    url=url,\n",
    "    name='winter_2018_'+wms[target].title,\n",
    "    styles=style,\n",
    "    fmt='image/png',\n",
    "    transparent=True,\n",
    "    layers=target,\n",
    "    overlay=True,\n",
    "    colorscalerange=COLORSCALERANGE,\n",
    "    time = '2018-02-10T12:30:00.000Z'\n",
    ")\n",
    "w2 = folium.raster_layers.WmsTileLayer(\n",
    "    url=url,\n",
    "    name='summer_2018_'+wms[target].title,\n",
    "    styles=style,\n",
    "    fmt='image/png',\n",
    "    transparent=True,\n",
    "    layers=target,\n",
    "    overlay=True,\n",
    "    colorscalerange=COLORSCALERANGE,\n",
    "    time = '2018-08-10T12:30:00.000Z'\n",
    ")\n",
    "w.add_to(m_dual.m1)\n",
    "w2.add_to(m_dual.m2)\n",
    "\n",
    "legend_html1 = '<div style=\"position: fixed; bottom: 50px; right:0px; z-index:9999\"><img src=\"'+legend+'\"></div>'\n",
    "legend_html2 = '<div style=\"position: fixed; bottom: 50px; left:370px; z-index:9999\"><img src=\"'+legend+'\"></div>'\n",
    "m_dual.get_root().html.add_child(folium.Element(legend_html1))\n",
    "m_dual.get_root().html.add_child(folium.Element(legend_html2))\n",
    "\n",
    "m_dual"
   ]
  },
  {
   "cell_type": "markdown",
   "metadata": {},
   "source": [
    "Let's animate the target layer to see its whole evolution and not just the above time selections:"
   ]
  },
  {
   "cell_type": "code",
   "execution_count": null,
   "metadata": {},
   "outputs": [],
   "source": [
    "w = folium.raster_layers.WmsTileLayer(\n",
    "    url=url,\n",
    "    name=wms[target].title+' at '+wms[target].elevations[0].strip(),\n",
    "    styles=style,\n",
    "    fmt='image/png',\n",
    "    transparent=True,\n",
    "    layers=target,\n",
    "    overlay=True,\n",
    "    elevation = wms[target].elevations[0].strip(),\n",
    "    colorscalerange=COLORSCALERANGE\n",
    ")"
   ]
  },
  {
   "cell_type": "code",
   "execution_count": null,
   "metadata": {},
   "outputs": [],
   "source": [
    "time_layer = plugins.TimestampedWmsTileLayers(\n",
    "    w,\n",
    "    period='PT1H',\n",
    "    time_interval='2019-03-01T00:30:00.000Z/2019-03-04T23:30:00.000Z'\n",
    ")"
   ]
  },
  {
   "cell_type": "code",
   "execution_count": null,
   "metadata": {},
   "outputs": [],
   "source": [
    "m = folium.Map(\n",
    "    location=[55.9533, 1.888],\n",
    "    zoom_start=5,\n",
    "    control_scale=True\n",
    ")\n",
    "tile_layer.add_to(m)\n",
    "time_layer.add_to(m)\n",
    "#layer style\n",
    "legend_html = '<div style=\"position: fixed; bottom: 50px; right:0px; z-index:9999\"><img src=\"'+legend+'\"></div>'\n",
    "#add legend to map\n",
    "m.get_root().html.add_child(folium.Element(legend_html))\n",
    "#show map\n",
    "m"
   ]
  }
 ],
 "metadata": {
  "kernelspec": {
   "display_name": "Python 2",
   "language": "python",
   "name": "python2"
  },
  "language_info": {
   "codemirror_mode": {
    "name": "ipython",
    "version": 2
   },
   "file_extension": ".py",
   "mimetype": "text/x-python",
   "name": "python",
   "nbconvert_exporter": "python",
   "pygments_lexer": "ipython2",
   "version": "2.7.15"
  }
 },
 "nbformat": 4,
 "nbformat_minor": 2
}
