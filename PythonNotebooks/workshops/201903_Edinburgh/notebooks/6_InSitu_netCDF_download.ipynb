{
 "cells": [
  {
   "cell_type": "markdown",
   "metadata": {},
   "source": [
    "<h1>MANDATORY PACKAGES</h1>"
   ]
  },
  {
   "cell_type": "code",
   "execution_count": null,
   "metadata": {},
   "outputs": [],
   "source": [
    "import ftputil #pip install ftputil\n",
    "import os\n",
    "import datetime\n",
    "import numpy as np\n",
    "from shapely.geometry import box #conda install Shapely\n",
    "from collections import namedtuple"
   ]
  },
  {
   "cell_type": "markdown",
   "metadata": {},
   "source": [
    "<H1>AUXILIARY FUNCTIONS </H1>"
   ]
  },
  {
   "cell_type": "code",
   "execution_count": null,
   "metadata": {},
   "outputs": [],
   "source": [
    "def bbox_check(netCDF, targeted_bounding_box):\n",
    "    geospatial_lat_min = float(netCDF['geospatial_lat_min'])\n",
    "    geospatial_lat_max = float(netCDF['geospatial_lat_max'])\n",
    "    geospatial_lon_min = float(netCDF['geospatial_lon_min'])\n",
    "    geospatial_lon_max = float(netCDF['geospatial_lon_max'])\n",
    "    bounding_box = box(geospatial_lon_min, geospatial_lat_min, geospatial_lon_max, geospatial_lat_max)        \n",
    "    if targeted_bounding_box.contains(bounding_box): \n",
    "        return True\n",
    "    else:\n",
    "        return False"
   ]
  },
  {
   "cell_type": "code",
   "execution_count": null,
   "metadata": {},
   "outputs": [],
   "source": [
    "def timerange_check(netCDF, targeted_ini, targted_end):\n",
    "    time_start = datetime.datetime.strptime(netCDF['time_coverage_start'].decode('utf-8'), date_format)\n",
    "    time_end = datetime.datetime.strptime(netCDF['time_coverage_end'].decode('utf-8'), date_format)\n",
    "    \n",
    "    Range = namedtuple('Range', ['start', 'end'])\n",
    "    r1 = Range(start=targeted_ini, end=targted_end)\n",
    "    r2 = Range(start=time_start, end=time_end)\n",
    "    \n",
    "    latest_start = max(r1.start, r2.start)\n",
    "    earliest_end = min(r1.end, r2.end)\n",
    "    delta = (earliest_end - latest_start).days + 1\n",
    "    overlap = max(0, delta)\n",
    "    if overlap != 0:\n",
    "        return True\n",
    "    else:\n",
    "        return False"
   ]
  },
  {
   "cell_type": "code",
   "execution_count": null,
   "metadata": {},
   "outputs": [],
   "source": [
    "def parameter_check(netCDF, targeted_parameters):\n",
    "    params = netCDF['parameters'].decode('utf-8').split(' ')\n",
    "    result = False\n",
    "    for param in params:\n",
    "        if param in targeted_parameters:\n",
    "            result = True\n",
    "    return result"
   ]
  },
  {
   "cell_type": "code",
   "execution_count": null,
   "metadata": {},
   "outputs": [],
   "source": [
    "def platformtype_check(netCDF, targeted_platform_types):\n",
    "    ftplink = netCDF['file_name'].decode('utf-8')\n",
    "    result = False\n",
    "    for platform_type in targeted_platform_types:\n",
    "        if platform_type == 'TS':\n",
    "            platform_type = 'TS_TS'\n",
    "        if '_'+platform_type+'_' in ftplink:\n",
    "            result = True\n",
    "    return result"
   ]
  },
  {
   "cell_type": "markdown",
   "metadata": {},
   "source": [
    "<h1>CUSTOM SETTINGS</h1>"
   ]
  },
  {
   "cell_type": "code",
   "execution_count": null,
   "metadata": {},
   "outputs": [],
   "source": [
    "output_directory = os.getcwd() #default to current working directory"
   ]
  },
  {
   "cell_type": "code",
   "execution_count": null,
   "metadata": {},
   "outputs": [],
   "source": [
    "user = '' #type CMEMS user name\n",
    "password = '' #type CMEMS password"
   ]
  },
  {
   "cell_type": "code",
   "execution_count": null,
   "metadata": {},
   "outputs": [],
   "source": [
    "product_name = 'INSITU_MED_NRT_OBSERVATIONS_013_035' #type aimed In Situ product \n",
    "host = 'nrt.cmems-du.eu' #type aimed host (nrt.cmems-du.eu or my.cmems-du)\n",
    "index_file = 'index_history.txt' #type aimed index file"
   ]
  },
  {
   "cell_type": "markdown",
   "metadata": {},
   "source": [
    "<H1> SELECTION CRITERIA</H1>"
   ]
  },
  {
   "cell_type": "code",
   "execution_count": null,
   "metadata": {},
   "outputs": [],
   "source": [
    "#selection criteria: spatial coverage\n",
    "targeted_geospatial_lat_min = 42.9146   # enter min latitude of your bounding box\n",
    "targeted_geospatial_lat_max =  44.8395   # enter max latitude of your bounding box\n",
    "targeted_geospatial_lon_min = 7.3546  # enter min longitude of your bounding box\n",
    "targeted_geospatial_lon_max =  12.3997  # enter max longitude of your bounding box\n",
    "targeted_bounding_box = box(targeted_geospatial_lon_min, targeted_geospatial_lat_min, targeted_geospatial_lon_max, targeted_geospatial_lat_max)"
   ]
  },
  {
   "cell_type": "code",
   "execution_count": null,
   "metadata": {},
   "outputs": [],
   "source": [
    "#selection criteria: timerange\n",
    "date_format = \"%Y-%m-%dT%H:%M:%SZ\" \n",
    "ini = datetime.datetime.strptime('2018-10-01T00:00:00Z', date_format)\n",
    "end = datetime.datetime.strptime('2018-11-30T23:59:59Z', date_format)"
   ]
  },
  {
   "cell_type": "code",
   "execution_count": null,
   "metadata": {},
   "outputs": [],
   "source": [
    "#selection criteria: parameters\n",
    "targeted_parameters = ['TEMP', 'PSAL']"
   ]
  },
  {
   "cell_type": "code",
   "execution_count": null,
   "metadata": {},
   "outputs": [],
   "source": [
    "#selection criteria: platform type\n",
    "targeted_platform_types = ['MO', 'RF']"
   ]
  },
  {
   "cell_type": "markdown",
   "metadata": {},
   "source": [
    "<H1>FILES MATCHING</H1>"
   ]
  },
  {
   "cell_type": "markdown",
   "metadata": {},
   "source": [
    "Check the above index file and product looking for file sthat matches all the selection criteria specified above and return the number of files matching:"
   ]
  },
  {
   "cell_type": "code",
   "execution_count": null,
   "metadata": {},
   "outputs": [],
   "source": [
    "matches = []\n",
    "with ftputil.FTPHost(host, user, password) as ftp_host: \n",
    "    #open the index file to read\n",
    "    with ftp_host.open(\"Core\"+'/'+product_name+'/'+index_file, \"r\") as indexfile:\n",
    "        #read the index file as a comma-separate-value file\n",
    "        index = np.genfromtxt(indexfile, skip_header=6, unpack=False, delimiter=',', dtype=None, names=['catalog_id', 'file_name','geospatial_lat_min', 'geospatial_lat_max', 'geospatial_lon_min','geospatial_lon_max','time_coverage_start', 'time_coverage_end', 'provider', 'date_update', 'data_mode', 'parameters'])\n",
    "        #loop over the lines/netCDFs and download the most sutable ones for you\n",
    "        for netCDF in index:\n",
    "            #getting ftplink, filepath and filename\n",
    "            ftplink = netCDF['file_name'].decode('utf-8')\n",
    "            filepath = '/'.join(ftplink.split('/')[3:len(ftplink.split('/'))])\n",
    "            ncdf_file_name = ftplink[ftplink.rfind('/')+1:]\n",
    "            #download netCDF if meeting all selection criteria\n",
    "            if bbox_check(netCDF, targeted_bounding_box) and timerange_check(netCDF, ini, end) and platformtype_check(netCDF, targeted_platform_types) and parameter_check(netCDF, targeted_parameters): \n",
    "                matches.append(netCDF)\n",
    "print('Number of matches : '+str(len(matches)))"
   ]
  },
  {
   "cell_type": "markdown",
   "metadata": {},
   "source": [
    "<H1>DOWNLOADING</H1>"
   ]
  },
  {
   "cell_type": "code",
   "execution_count": null,
   "metadata": {},
   "outputs": [],
   "source": [
    "os.chdir(output_directory) #change directory to the one designated for downloading\n",
    "with ftputil.FTPHost(host, user, password) as ftp_host: \n",
    "    #open the index file to read\n",
    "    with ftp_host.open(\"Core\"+'/'+product_name+'/'+index_file, \"r\") as indexfile:\n",
    "        for netCDF in matches:\n",
    "            #getting ftplink, filepath and filename\n",
    "            ftplink = netCDF['file_name'].decode('utf-8')\n",
    "            filepath = '/'.join(ftplink.split('/')[3:len(ftplink.split('/'))])\n",
    "            ncdf_file_name = ftplink[ftplink.rfind('/')+1:]\n",
    "            #download netCDF if meeting all selection criteria\n",
    "            if ftp_host.path.isfile(filepath):\n",
    "                ftp_host.download(filepath, ncdf_file_name)  # remote, local\n",
    "                print(ncdf_file_name)"
   ]
  }
 ],
 "metadata": {
  "kernelspec": {
   "display_name": "Python 2",
   "language": "python",
   "name": "python2"
  },
  "language_info": {
   "codemirror_mode": {
    "name": "ipython",
    "version": 2
   },
   "file_extension": ".py",
   "mimetype": "text/x-python",
   "name": "python",
   "nbconvert_exporter": "python",
   "pygments_lexer": "ipython2",
   "version": "2.7.15"
  }
 },
 "nbformat": 4,
 "nbformat_minor": 2
}
