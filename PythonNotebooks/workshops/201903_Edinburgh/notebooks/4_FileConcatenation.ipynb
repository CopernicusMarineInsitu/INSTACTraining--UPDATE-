{
 "cells": [
  {
   "cell_type": "markdown",
   "metadata": {},
   "source": [
    "<h1> MANDATORY PACKAGES </H1>"
   ]
  },
  {
   "cell_type": "code",
   "execution_count": 4,
   "metadata": {},
   "outputs": [],
   "source": [
    "import xarray\n",
    "import glob\n",
    "import os"
   ]
  },
  {
   "cell_type": "markdown",
   "metadata": {},
   "source": [
    "<H1>FILES PATTERN TO CONCATENATE</H1>"
   ]
  },
  {
   "cell_type": "markdown",
   "metadata": {},
   "source": [
    "Let's say we have downloaded 2 consecutive files from a model:"
   ]
  },
  {
   "cell_type": "code",
   "execution_count": 5,
   "metadata": {},
   "outputs": [],
   "source": [
    "file_1 = 'global-analysis-forecast-phy-001-024_1552454021202.nc'\n",
    "file_2 = 'global-analysis-forecast-phy-001-024_1552454378757.nc'"
   ]
  },
  {
   "cell_type": "markdown",
   "metadata": {},
   "source": [
    "Let's have a look to its coordinates:"
   ]
  },
  {
   "cell_type": "code",
   "execution_count": 6,
   "metadata": {},
   "outputs": [
    {
     "data": {
      "text/plain": [
       "Coordinates:\n",
       "  * depth      (depth) float32 0.494025\n",
       "  * latitude   (latitude) float32 -30.0 -29.916666 -29.833334 ... 29.916666 30.0\n",
       "  * time       (time) datetime64[ns] 2019-03-21T12:00:00\n",
       "  * longitude  (longitude) float32 -60.0 -59.916668 ... 59.916668 60.0"
      ]
     },
     "execution_count": 6,
     "metadata": {},
     "output_type": "execute_result"
    }
   ],
   "source": [
    "xarray.open_dataset(file_1).coords"
   ]
  },
  {
   "cell_type": "code",
   "execution_count": 7,
   "metadata": {},
   "outputs": [
    {
     "data": {
      "text/plain": [
       "Coordinates:\n",
       "  * depth      (depth) float32 0.494025\n",
       "  * latitude   (latitude) float32 -30.0 -29.916666 -29.833334 ... 29.916666 30.0\n",
       "  * time       (time) datetime64[ns] 2019-03-22T12:00:00\n",
       "  * longitude  (longitude) float32 -60.0 -59.916668 ... 59.916668 60.0"
      ]
     },
     "execution_count": 7,
     "metadata": {},
     "output_type": "execute_result"
    }
   ],
   "source": [
    "xarray.open_dataset(file_2).coords"
   ]
  },
  {
   "cell_type": "markdown",
   "metadata": {},
   "source": [
    "If we look at its time coordinate, there is only one element in the time coordinate, that means that what we have in hands is just a daily mean.\n",
    "<br>What we do to concatenate 2 consecutive daily means?"
   ]
  },
  {
   "cell_type": "code",
   "execution_count": 10,
   "metadata": {},
   "outputs": [
    {
     "name": "stdout",
     "output_type": "stream",
     "text": [
      "C:\\Users\\pazro\\Desktop\\socibapi\\DataFest\\cmems\n"
     ]
    }
   ],
   "source": [
    "files_path = os.getcwd() #we pressume the files are going to be here, change it if not\n",
    "print(files_path)"
   ]
  },
  {
   "cell_type": "code",
   "execution_count": 12,
   "metadata": {},
   "outputs": [],
   "source": [
    "common_pattern = 'global-analysis-forecast-phy-001-024_*.nc'"
   ]
  },
  {
   "cell_type": "code",
   "execution_count": 13,
   "metadata": {},
   "outputs": [],
   "source": [
    "os.chdir(files_path)\n",
    "merged_file = xarray.merge([xarray.open_dataset(f) for f in glob.glob(common_pattern)])"
   ]
  },
  {
   "cell_type": "code",
   "execution_count": 14,
   "metadata": {},
   "outputs": [
    {
     "data": {
      "text/plain": [
       "Coordinates:\n",
       "  * time       (time) datetime64[ns] 2019-03-21T12:00:00 2019-03-22T12:00:00\n",
       "  * depth      (depth) float32 0.494025\n",
       "  * latitude   (latitude) float32 -30.0 -29.916666 -29.833334 ... 29.916666 30.0\n",
       "  * longitude  (longitude) float32 -60.0 -59.916668 ... 59.916668 60.0"
      ]
     },
     "execution_count": 14,
     "metadata": {},
     "output_type": "execute_result"
    }
   ],
   "source": [
    "merged_file.coords"
   ]
  },
  {
   "cell_type": "markdown",
   "metadata": {},
   "source": [
    "Yeah! We have it, now, let's save it!:"
   ]
  },
  {
   "cell_type": "code",
   "execution_count": 15,
   "metadata": {},
   "outputs": [],
   "source": [
    "merged_file.to_netcdf('global-analysis-forecast-phy-001-024.nc')"
   ]
  }
 ],
 "metadata": {
  "kernelspec": {
   "display_name": "Python 2",
   "language": "python",
   "name": "python2"
  },
  "language_info": {
   "codemirror_mode": {
    "name": "ipython",
    "version": 2
   },
   "file_extension": ".py",
   "mimetype": "text/x-python",
   "name": "python",
   "nbconvert_exporter": "python",
   "pygments_lexer": "ipython2",
   "version": "2.7.15"
  }
 },
 "nbformat": 4,
 "nbformat_minor": 2
}
