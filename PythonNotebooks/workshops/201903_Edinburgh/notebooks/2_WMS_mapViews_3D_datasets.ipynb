{
 "cells": [
  {
   "cell_type": "markdown",
   "metadata": {},
   "source": [
    "<h1>MADATORY PYTHON LIBRARIES</h1>"
   ]
  },
  {
   "cell_type": "code",
   "execution_count": 1,
   "metadata": {},
   "outputs": [
    {
     "data": {
      "text/plain": [
       "u'0.8.2'"
      ]
     },
     "execution_count": 1,
     "metadata": {},
     "output_type": "execute_result"
    }
   ],
   "source": [
    "import folium #from conda prompt window: conda install folium\n",
    "from folium import plugins\n",
    "from owslib.wms import WebMapService #from conda prompt window: conda install OWSLib\n",
    "from IPython.core.display import HTML\n",
    "folium.__version__"
   ]
  },
  {
   "cell_type": "markdown",
   "metadata": {},
   "source": [
    "<H1>WEB MAP SERVICES</H1>"
   ]
  },
  {
   "cell_type": "markdown",
   "metadata": {},
   "source": [
    "Web Map Services are available for almost all products within the Copernicus Marien Service.<br>\n",
    "You can always check if a given product offers this service by exploring the 'services' tab in the Copernicus Marine Service Cataloge detailed view:"
   ]
  },
  {
   "cell_type": "code",
   "execution_count": 2,
   "metadata": {},
   "outputs": [
    {
     "name": "stdout",
     "output_type": "stream",
     "text": [
      "http://marine.copernicus.eu/services-portfolio/access-to-products/?option=com_csw&view=details&product_id=GLOBAL_ANALYSIS_FORECAST_PHY_001_024\n"
     ]
    }
   ],
   "source": [
    "product_id = \"GLOBAL_ANALYSIS_FORECAST_PHY_001_024\"\n",
    "detail_view = \"http://marine.copernicus.eu/services-portfolio/access-to-products/?option=com_csw&view=details&product_id=\"+product_id\n",
    "print(detail_view)"
   ]
  },
  {
   "cell_type": "markdown",
   "metadata": {},
   "source": [
    "Let's play with such service for getting a quick view of the variables of the above product"
   ]
  },
  {
   "cell_type": "markdown",
   "metadata": {},
   "source": [
    "<h1>WMS - MapViews</h1>"
   ]
  },
  {
   "cell_type": "markdown",
   "metadata": {},
   "source": [
    "<ul><li><h2>3D datasets</li></ul></h2>"
   ]
  },
  {
   "cell_type": "markdown",
   "metadata": {},
   "source": [
    "Let's choose one of the above 3D datasets an display its variables; for example, the daily mean dataset:"
   ]
  },
  {
   "cell_type": "code",
   "execution_count": 97,
   "metadata": {},
   "outputs": [],
   "source": [
    "dataset = 'global-analysis-forecast-phy-001-024'"
   ]
  },
  {
   "cell_type": "code",
   "execution_count": 98,
   "metadata": {},
   "outputs": [],
   "source": [
    "url = 'http://nrt.cmems-du.eu/thredds/wms/'+dataset\n",
    "wms = WebMapService(url)"
   ]
  },
  {
   "cell_type": "code",
   "execution_count": 99,
   "metadata": {},
   "outputs": [
    {
     "name": "stdout",
     "output_type": "stream",
     "text": [
      "mlotst = ocean_mixed_layer_thickness_defined_by_sigma_theta\n",
      "zos = sea_surface_height_above_geoid\n",
      "bottomT = sea_water_potential_temperature_at_sea_floor\n",
      "sithick = sea_ice_thickness\n",
      "siconc = sea_ice_area_fraction\n",
      "usi = eastward_sea_ice_velocity\n",
      "vsi = northward_sea_ice_velocity\n",
      "thetao = sea_water_potential_temperature\n",
      "so = sea_water_salinity\n",
      "uo = eastward_sea_water_velocity\n",
      "vo = northward_sea_water_velocity\n",
      "sea_ice_velocity = sea_ice_velocity\n",
      "sea_water_velocity = sea_water_velocity\n"
     ]
    }
   ],
   "source": [
    "for layer in wms.contents.keys():\n",
    "    print(layer + ' = ' + wms[layer].title)"
   ]
  },
  {
   "cell_type": "markdown",
   "metadata": {},
   "source": [
    "Let's choose one of the above variables and calculate the center of its bounding box:"
   ]
  },
  {
   "cell_type": "code",
   "execution_count": 100,
   "metadata": {},
   "outputs": [],
   "source": [
    "target = 'thetao'"
   ]
  },
  {
   "cell_type": "markdown",
   "metadata": {},
   "source": [
    "Let's zoom around the UK again and display the above layer:"
   ]
  },
  {
   "cell_type": "code",
   "execution_count": 101,
   "metadata": {},
   "outputs": [
    {
     "name": "stdout",
     "output_type": "stream",
     "text": [
      "http://nrt.cmems-du.eu/thredds/wms/global-analysis-forecast-phy-001-024?REQUEST=GetLegendGraphic&LAYER=thetao&PALETTE=occam\n"
     ]
    }
   ],
   "source": [
    "legend = [wms[target].styles[key]['legend'] for key in wms[target].styles.keys()][0]\n",
    "print(legend)"
   ]
  },
  {
   "cell_type": "code",
   "execution_count": 102,
   "metadata": {},
   "outputs": [
    {
     "data": {
      "text/html": [
       "<div style=\"width:100%;\"><div style=\"position:relative;width:100%;height:0;padding-bottom:60%;\"><iframe src=\"data:text/html;charset=utf-8;base64,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\" style=\"position:absolute;width:100%;height:100%;left:0;top:0;border:none !important;\" allowfullscreen webkitallowfullscreen mozallowfullscreen></iframe></div></div>"
      ],
      "text/plain": [
       "<folium.folium.Map at 0xd515470>"
      ]
     },
     "execution_count": 102,
     "metadata": {},
     "output_type": "execute_result"
    }
   ],
   "source": [
    "m = folium.Map(\n",
    "    location=[55.9533, 1.888],\n",
    "    zoom_start=5,\n",
    "    control_scale=True\n",
    ")\n",
    "\n",
    "style = [wms[target].styles[key]['title'] for key in wms[target].styles.keys()][0]\n",
    "w = folium.raster_layers.WmsTileLayer(\n",
    "    url=url,\n",
    "    name=wms[target].title,\n",
    "    styles=style,\n",
    "    fmt='image/png',\n",
    "    transparent=True,\n",
    "    layers=target,\n",
    "    overlay=True,\n",
    ")\n",
    "w.add_to(m)\n",
    "\n",
    "legend_html = '<div style=\"position: fixed; bottom: 50px; right: 50px; z-index:9999\"><img src=\"'+legend+'\"></div>'\n",
    "m.get_root().html.add_child(folium.Element(legend_html))\n",
    "m"
   ]
  },
  {
   "cell_type": "markdown",
   "metadata": {},
   "source": [
    "The questions know are 2: which time and depth am I seen?"
   ]
  },
  {
   "cell_type": "markdown",
   "metadata": {},
   "source": [
    "Let's have a look to this layer time coverage:"
   ]
  },
  {
   "cell_type": "code",
   "execution_count": 103,
   "metadata": {},
   "outputs": [
    {
     "name": "stdout",
     "output_type": "stream",
     "text": [
      "2016-01-01T12:00:00.000Z/2019-03-15T12:00:00.000Z\n"
     ]
    }
   ],
   "source": [
    "ini = wms[target].timepositions[0].strip()\n",
    "end = wms[target].timepositions[-1].strip()\n",
    "time_coverage = (ini+'/'+end).split('/P')[0]\n",
    "print(time_coverage)"
   ]
  },
  {
   "cell_type": "markdown",
   "metadata": {},
   "source": [
    "Let's have a look to this layer depth coverage:"
   ]
  },
  {
   "cell_type": "code",
   "execution_count": 104,
   "metadata": {},
   "outputs": [
    {
     "name": "stdout",
     "output_type": "stream",
     "text": [
      "-0.49402499198913574/-5727.9169921875\n"
     ]
    }
   ],
   "source": [
    "ini = wms[target].elevations[0].strip()\n",
    "end = wms[target].elevations[-1].strip()\n",
    "depth_coverage = (ini+'/'+end)\n",
    "print(depth_coverage)"
   ]
  },
  {
   "cell_type": "markdown",
   "metadata": {},
   "source": [
    "Let's select explicity a time and depth:"
   ]
  },
  {
   "cell_type": "code",
   "execution_count": 106,
   "metadata": {},
   "outputs": [
    {
     "data": {
      "text/html": [
       "<div style=\"width:100%;\"><div style=\"position:relative;width:100%;height:0;padding-bottom:60%;\"><iframe src=\"data:text/html;charset=utf-8;base64,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\" style=\"position:absolute;width:100%;height:100%;left:0;top:0;border:none !important;\" allowfullscreen webkitallowfullscreen mozallowfullscreen></iframe></div></div>"
      ],
      "text/plain": [
       "<folium.folium.Map at 0xd2f6da0>"
      ]
     },
     "execution_count": 106,
     "metadata": {},
     "output_type": "execute_result"
    }
   ],
   "source": [
    "m = folium.Map(\n",
    "    location=[55.9533, 1.888],\n",
    "    zoom_start=5,\n",
    "    control_scale=True\n",
    ")\n",
    "\n",
    "style = [wms[target].styles[key]['title'] for key in wms[target].styles.keys()][0]\n",
    "w = folium.raster_layers.WmsTileLayer(\n",
    "    url=url,\n",
    "    name=wms[target].title+' at '+wms[target].elevations[0].strip(),\n",
    "    styles=style,\n",
    "    fmt='image/png',\n",
    "    transparent=True,\n",
    "    layers=target,\n",
    "    overlay=True,\n",
    "    time = '2018-02-15T12:00:00.000Z',\n",
    "    elevation = wms[target].elevations[0].strip(),\n",
    ")\n",
    "w2 = folium.raster_layers.WmsTileLayer(\n",
    "    url=url,\n",
    "    name=wms[target].title+' at '+wms[target].elevations[12].strip(),\n",
    "    styles=style,\n",
    "    fmt='image/png',\n",
    "    transparent=True,\n",
    "    layers=target,\n",
    "    overlay=True,\n",
    "    time = '2018-02-15T12:00:00.000Z',\n",
    "    elevation = wms[target].elevations[12].strip(),\n",
    ")\n",
    "w.add_to(m)\n",
    "w2.add_to(m)\n",
    "\n",
    "folium.LayerControl().add_to(m)\n",
    "\n",
    "legend_html = '<div style=\"position: fixed; bottom: 50px; right: 50px; z-index:9999\"><img src=\"'+legend+'\"></div>'\n",
    "m.get_root().html.add_child(folium.Element(legend_html))\n",
    "\n",
    "m"
   ]
  },
  {
   "cell_type": "markdown",
   "metadata": {},
   "source": [
    "Let's reset the colorbar to see better the differences:"
   ]
  },
  {
   "cell_type": "code",
   "execution_count": 118,
   "metadata": {},
   "outputs": [
    {
     "name": "stdout",
     "output_type": "stream",
     "text": [
      "http://nrt.cmems-du.eu/thredds/wms/global-analysis-forecast-phy-001-024?REQUEST=GetLegendGraphic&LAYER=thetao&PALETTE=occam&colorscalerange=10.0,20.0\n"
     ]
    }
   ],
   "source": [
    "COLORSCALERANGE = '10.0,20.0'\n",
    "legend = [wms[target].styles[key]['legend'] for key in wms[target].styles.keys()][0]+'&colorscalerange='+COLORSCALERANGE\n",
    "print(legend)"
   ]
  },
  {
   "cell_type": "code",
   "execution_count": 122,
   "metadata": {
    "scrolled": true
   },
   "outputs": [
    {
     "data": {
      "text/html": [
       "<div style=\"width:100%;\"><div style=\"position:relative;width:100%;height:0;padding-bottom:60%;\"><iframe src=\"data:text/html;charset=utf-8;base64,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\" style=\"position:absolute;width:100%;height:100%;left:0;top:0;border:none !important;\" allowfullscreen webkitallowfullscreen mozallowfullscreen></iframe></div></div>"
      ],
      "text/plain": [
       "<folium.plugins.dual_map.DualMap at 0xd67eb38>"
      ]
     },
     "execution_count": 122,
     "metadata": {},
     "output_type": "execute_result"
    }
   ],
   "source": [
    "m_dual = plugins.DualMap(location=[55.9533, 1.888], zoom_start=5, control_scale=True)\n",
    "\n",
    "style = [wms[target].styles[key]['title'] for key in wms[target].styles.keys()][0]\n",
    "w = folium.raster_layers.WmsTileLayer(\n",
    "    url=url,\n",
    "    name=wms[target].title+' at '+wms[target].elevations[0].strip(),\n",
    "    styles=style,\n",
    "    fmt='image/png',\n",
    "    transparent=True,\n",
    "    layers=target,\n",
    "    overlay=True,\n",
    "    time = '2018-08-15T12:00:00.000Z',\n",
    "    elevation = wms[target].elevations[0].strip(),\n",
    "    colorscalerange=COLORSCALERANGE\n",
    ")\n",
    "w2 = folium.raster_layers.WmsTileLayer(\n",
    "    url=url,\n",
    "    name=wms[target].title+' at '+wms[target].elevations[9].strip(),\n",
    "    styles=style,\n",
    "    fmt='image/png',\n",
    "    transparent=True,\n",
    "    layers=target,\n",
    "    overlay=True,\n",
    "    time = '2018-08-15T12:00:00.000Z',\n",
    "    elevation = wms[target].elevations[9].strip(),\n",
    "    colorscalerange=COLORSCALERANGE\n",
    ")\n",
    "w.add_to(m_dual.m1)\n",
    "w2.add_to(m_dual.m2)\n",
    "\n",
    "legend_html1 = '<div style=\"position: fixed; bottom: 50px; right:0px; z-index:9999\"><img src=\"'+legend+'\"></div>'\n",
    "legend_html2 = '<div style=\"position: fixed; bottom: 50px; left:370px; z-index:9999\"><img src=\"'+legend+'\"></div>'\n",
    "m_dual.get_root().html.add_child(folium.Element(legend_html1))\n",
    "m_dual.get_root().html.add_child(folium.Element(legend_html2))\n",
    "\n",
    "m_dual"
   ]
  },
  {
   "cell_type": "markdown",
   "metadata": {},
   "source": [
    "Let's animate the target layer to see its whole evolution and not just the above time selections:"
   ]
  },
  {
   "cell_type": "code",
   "execution_count": null,
   "metadata": {},
   "outputs": [],
   "source": [
    "w = folium.raster_layers.WmsTileLayer(\n",
    "    url=url,\n",
    "    name=wms[target].title+' at '+wms[target].elevations[0].strip(),\n",
    "    styles=style,\n",
    "    fmt='image/png',\n",
    "    transparent=True,\n",
    "    layers=target,\n",
    "    overlay=True,\n",
    "    elevation = wms[target].elevations[0].strip(),\n",
    "    colorscalerange=COLORSCALERANGE\n",
    ")"
   ]
  },
  {
   "cell_type": "code",
   "execution_count": null,
   "metadata": {},
   "outputs": [],
   "source": [
    "time_layer = plugins.TimestampedWmsTileLayers(\n",
    "    w,\n",
    "    period='PT1H',\n",
    "    time_interval='2019-03-01T00:30:00.000Z/2019-03-04T23:30:00.000Z'\n",
    ")"
   ]
  },
  {
   "cell_type": "code",
   "execution_count": null,
   "metadata": {},
   "outputs": [],
   "source": [
    "m = folium.Map(\n",
    "    location=[55.9533, 1.888],\n",
    "    zoom_start=5,\n",
    "    control_scale=True\n",
    ")\n",
    "tile_layer.add_to(m)\n",
    "time_layer.add_to(m)\n",
    "#layer style\n",
    "legend_html = '<div style=\"position: fixed; bottom: 50px; right:0px; z-index:9999\"><img src=\"'+legend+'\"></div>'\n",
    "#add legend to map\n",
    "m.get_root().html.add_child(folium.Element(legend_html))\n",
    "#show map\n",
    "m"
   ]
  }
 ],
 "metadata": {
  "kernelspec": {
   "display_name": "Python 2",
   "language": "python",
   "name": "python2"
  },
  "language_info": {
   "codemirror_mode": {
    "name": "ipython",
    "version": 2
   },
   "file_extension": ".py",
   "mimetype": "text/x-python",
   "name": "python",
   "nbconvert_exporter": "python",
   "pygments_lexer": "ipython2",
   "version": "2.7.15"
  }
 },
 "nbformat": 4,
 "nbformat_minor": 2
}
