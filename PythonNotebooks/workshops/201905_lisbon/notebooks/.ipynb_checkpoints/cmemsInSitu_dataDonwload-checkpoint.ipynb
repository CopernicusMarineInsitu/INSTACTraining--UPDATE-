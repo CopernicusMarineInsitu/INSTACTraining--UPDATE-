{
 "cells": [
  {
   "cell_type": "markdown",
   "metadata": {},
   "source": [
    "<h1>MANDATORY PACKAGES</h1>"
   ]
  },
  {
   "cell_type": "code",
   "execution_count": 34,
   "metadata": {},
   "outputs": [],
   "source": [
    "import os\n",
    "import datetime\n",
    "import numpy as np\n",
    "from collections import namedtuple\n",
    "import pandas as pd\n",
    "import ftputil #pip install ftputil\n",
    "from shapely.geometry import box #conda install Shapely\n",
    "import folium # conda install -c conda-forge folium\n",
    "from folium import plugins"
   ]
  },
  {
   "cell_type": "markdown",
   "metadata": {},
   "source": [
    "<ul><b>Warning!</b>: Some of the packages will need a prior installation. A clear indication of this will be the see a <i style=\"color:red\">ModuleNotFoundError: No module named '{module name}}'</i> when running the next cell.<br>\n",
    "For each package throwing this error, please open first the Anaconda Powershell Prompt and run the installing command specified after the '#' next to the package.</ul>"
   ]
  },
  {
   "cell_type": "markdown",
   "metadata": {},
   "source": [
    "<h1>AUXILIARY FUNCTIONS</h1>"
   ]
  },
  {
   "cell_type": "code",
   "execution_count": 35,
   "metadata": {},
   "outputs": [],
   "source": [
    "def cmems_hosts(): \n",
    "    #dictionary of available FTP servers hosting CMEMS data\n",
    "    return {'NRT': 'nrt.cmems-du.eu', 'REP': 'my.cmems-du.eu'} "
   ]
  },
  {
   "cell_type": "code",
   "execution_count": 36,
   "metadata": {},
   "outputs": [],
   "source": [
    "def bbox_check(netCDF, search_area):\n",
    "    #filter-out netCDFs whose bounding-box is not within the aimed area (search_area)\n",
    "    #please use shapely documentation (https://shapely.readthedocs.io/en/stable/manual.html) to play with different relationships between geometric objects – contains, intersects, overlaps, touches, etc\n",
    "    geospatial_lat_min = float(netCDF['geospatial_lat_min'])\n",
    "    geospatial_lat_max = float(netCDF['geospatial_lat_max'])\n",
    "    geospatial_lon_min = float(netCDF['geospatial_lon_min'])\n",
    "    geospatial_lon_max = float(netCDF['geospatial_lon_max'])\n",
    "    targeted_bounding_box = box(search_area[0], search_area[1], search_area[2], search_area[3])\n",
    "    bounding_box = box(geospatial_lon_min, geospatial_lat_min, geospatial_lon_max, geospatial_lat_max)        \n",
    "    if targeted_bounding_box.contains(bounding_box): \n",
    "        return True\n",
    "    else:\n",
    "        return False"
   ]
  },
  {
   "cell_type": "code",
   "execution_count": 37,
   "metadata": {},
   "outputs": [],
   "source": [
    "def timerange_check(netCDF, search_timerange):\n",
    "    #filter-out netCDFs whose timerange does not overlap with the aimed times (search_timerange)\n",
    "    date_format = \"%Y-%m-%dT%H:%M:%SZ\" \n",
    "    targeted_ini = datetime.datetime.strptime(search_timerange[0], date_format)\n",
    "    targeted_end = datetime.datetime.strptime(search_timerange[1], date_format)\n",
    "\n",
    "    time_start = datetime.datetime.strptime(netCDF['time_coverage_start'].decode('utf-8'), date_format)\n",
    "    time_end = datetime.datetime.strptime(netCDF['time_coverage_end'].decode('utf-8'), date_format)\n",
    "    \n",
    "    Range = namedtuple('Range', ['start', 'end'])\n",
    "    r1 = Range(start=targeted_ini, end=targeted_end)\n",
    "    r2 = Range(start=time_start, end=time_end)\n",
    "    \n",
    "    latest_start = max(r1.start, r2.start)\n",
    "    earliest_end = min(r1.end, r2.end)\n",
    "    delta = (earliest_end - latest_start).days + 1\n",
    "    overlap = max(0, delta)\n",
    "    if overlap != 0:\n",
    "        return True\n",
    "    else:\n",
    "        return False"
   ]
  },
  {
   "cell_type": "code",
   "execution_count": 38,
   "metadata": {},
   "outputs": [],
   "source": [
    "def parameters_check(netCDF, search_parameters):\n",
    "    #filter-out those netCDFs not containing any of the aimed parameters (search_parameters)\n",
    "    #see more at: https://archimer.ifremer.fr/doc/00422/53381/\n",
    "    params = netCDF['parameters'].decode('utf-8').split(' ')\n",
    "    result = False\n",
    "    for param in params:\n",
    "        if param in search_parameters:\n",
    "            result = True\n",
    "    return result"
   ]
  },
  {
   "cell_type": "code",
   "execution_count": 39,
   "metadata": {},
   "outputs": [],
   "source": [
    "def sources_check(netCDF, search_sources):\n",
    "    #filter-out those netCDFs not coming from the aimed data sources (search_sources)\n",
    "    #see more at  http://resources.marine.copernicus.eu/documents/PUM/CMEMS-INS-PUM-013-048.pdf\n",
    "    ftplink = netCDF['file_name'].decode('utf-8')\n",
    "    result = False\n",
    "    for source in search_sources:\n",
    "        if source == 'TS':\n",
    "            source = 'TS_TS'\n",
    "        if '_'+source+'_' in ftplink:\n",
    "            result = True\n",
    "    return result"
   ]
  },
  {
   "cell_type": "code",
   "execution_count": 40,
   "metadata": {},
   "outputs": [],
   "source": [
    "#dictionary of checkers\n",
    "checkers = {\n",
    "    'bbox': bbox_check,\n",
    "    'timerange': timerange_check,\n",
    "    'parameters': parameters_check,\n",
    "    'sources': sources_check\n",
    "}"
   ]
  },
  {
   "cell_type": "code",
   "execution_count": 41,
   "metadata": {},
   "outputs": [],
   "source": [
    "def search(configuration, treshold=None, output=None, output_dir=None):\n",
    "    #access the FTPserver, product and archive to search for netCDFs matching the conditions set in the configuration\n",
    "    #if output is set to None (default behaviour) it returns the lis of matching files per archive.\n",
    "    #if output is set to 'files' it download the matching files.\n",
    "    #if output is set to 'map' it returns a map with the matching files's bbox-centrois.\n",
    "    matches = {}\n",
    "    host = [cmems_hosts()[key] for key in cmems_hosts().keys() if key in configuration['product']][0]\n",
    "    map = folium.Map(zoom_start=5)\n",
    "    with ftputil.FTPHost(host, configuration['user'], configuration['password']) as ftp_host:\n",
    "        archives = configuration['archives']\n",
    "        for item in archives:\n",
    "            marker_cluster = plugins.MarkerCluster(name=item,overlay=True,control=True)\n",
    "            counter, matches[item], index_file  = 0, [],'index_'+item+'.txt'\n",
    "            columns = ['catalog_id', 'file_name','geospatial_lat_min', 'geospatial_lat_max', 'geospatial_lon_min','geospatial_lon_max','time_coverage_start', 'time_coverage_end', 'provider', 'date_update', 'data_mode', 'parameters']\n",
    "            #open the index file to read\n",
    "            with ftp_host.open(\"Core\"+'/'+configuration['product']+'/'+index_file, \"r\") as indexfile:\n",
    "                #read the index file as a comma-separate-value file\n",
    "                index = np.genfromtxt(indexfile, skip_header=6, unpack=False, delimiter=',', dtype=None, names=columns)\n",
    "                dataframe = pd.DataFrame(index)\n",
    "                #loop over the lines/netCDFs and download the most suitable ones for you\n",
    "                if treshold != None and counter > treshold:\n",
    "                    continue\n",
    "                for netCDF in index:\n",
    "                    values = [checkers[key](netCDF,val) for key,val in configuration['searching_criteria'].items() if val != None]\n",
    "                    if False not in values:  #save netCDF if meeting all selection criteria\n",
    "                        counter = counter + 1\n",
    "                        decoded_metadata = [metadata.decode('utf-8') if isinstance(metadata, bytes) else metadata for metadata in list(netCDF)]\n",
    "                        matches[item].append({key: val for key,val in zip(columns,decoded_metadata)})\n",
    "                        #getting ftplink, filepath and filename\n",
    "                        ftplink = netCDF['file_name'].decode('utf-8')\n",
    "                        filepath = '/'.join(ftplink.split('/')[3:len(ftplink.split('/'))])\n",
    "                        ncdf_file_name = ftplink[ftplink.rfind('/')+1:]\n",
    "                        if output=='map':\n",
    "                            lat_min = netCDF['geospatial_lat_min']\n",
    "                            lat_max = netCDF['geospatial_lat_max']\n",
    "                            lon_min = netCDF['geospatial_lon_min']\n",
    "                            lon_max = netCDF['geospatial_lon_max']                           \n",
    "                            try:\n",
    "                                bounding_box  = box(lon_min, lat_min, lon_max, lat_max)\n",
    "                            except Exception as e:\n",
    "                                bounding_box  = box(float(lon_min), float(lat_min), float(lon_max), float(lat_max))\n",
    "                            x,y = bounding_box.centroid.x, bounding_box.centroid.y\n",
    "                            marker = folium.Marker([y,x])\n",
    "                            popup_content = '<br>'.join('<b>'+key+'</b> : '+str(val) for key,val in zip(columns,decoded_metadata))\n",
    "                            folium.Popup(popup_content).add_to(marker)\n",
    "                            marker_cluster.add_child(marker)\n",
    "                        if output=='files':\n",
    "                            directory = output_dir if output_dir != None else os.getcwd()\n",
    "                            os.chdir(directory)\n",
    "                            print('...Downloading from '+item+' : '+ncdf_file_name)\n",
    "                            ftp_host.download(filepath, ncdf_file_name) #download netCDF\n",
    "            ftp_host.close()\n",
    "            marker_cluster.add_to(map)\n",
    "        folium.LayerControl().add_to(map)\n",
    "        if output == None:\n",
    "            [print('Found '+str(len(matches[item]))+' macthes in '+item) for item in archives]\n",
    "            print('Search completed!')\n",
    "            return matches\n",
    "        if output == 'map':\n",
    "            [print('Found '+str(len(matches[item]))+' macthes in '+item) for item in archives]\n",
    "            print('....Displaying files boundingBox centroids:')\n",
    "            print('warning!: open the notebook with chrome if map does not display')\n",
    "            return map\n",
    "        if output == 'files':\n",
    "            print('Download completed!')\n",
    "            return"
   ]
  },
  {
   "cell_type": "markdown",
   "metadata": {},
   "source": [
    "<h1>SETTINGS</h1>"
   ]
  },
  {
   "cell_type": "code",
   "execution_count": 58,
   "metadata": {},
   "outputs": [],
   "source": [
    "configuration = {\n",
    "    'user': 'protllan', #type CMEMS user name <= Don't you have one? ask here: http://marine.copernicus.eu/services-portfolio/register-now/\n",
    "    'password': 'PazCMEMS2016', #type CMEMS password <= Don't you have one? ask here: http://marine.copernicus.eu/services-portfolio/register-now/\n",
    "    'product': 'INSITU_IBI_NRT_OBSERVATIONS_013_033', #options: INSITU_IBI_TS_REP_OBSERVATIONS_013_040 or INSITU_IBI_NRT_OBSERVATIONS_013_033\n",
    "    'archives': ['history'], #options: history (NRT & REP), monthly (NRT), latest (NRT)\n",
    "    'searching_criteria':{\n",
    "        'bbox': [-8.6, 36.78, -12.6, 41.9], #Define here the area you want to check for data (expected order: south-east longitude, south-east latitude, north-west longitude, north-west latitude)\n",
    "        'timerange':  ['2019-04-01T00:00:00Z', '2019-05-30T23:59:59Z'],#Define here the time-range you want to check for data (expected format: \"YYYY-mm-ddTHH:MM:SSZ\")\n",
    "        'parameters': ['TEMP', 'PSAL'], #Define here the parameters you are interested in (see more at: https://archimer.ifremer.fr/doc/00422/53381/\n",
    "        'sources':  ['MO']#Define here the sources you are interested in (see more at: http://resources.marine.copernicus.eu/documents/PUM/CMEMS-INS-PUM-013-048.pdf),\n",
    "    }\n",
    "}"
   ]
  },
  {
   "cell_type": "markdown",
   "metadata": {},
   "source": [
    "If you do not want to apply any of the above searching_criteria provide an None value instead."
   ]
  },
  {
   "cell_type": "markdown",
   "metadata": {},
   "source": [
    "Achives refers to the collection of netCDFs to explore:\n",
    "<ul>\n",
    "<li><b>Latest</b>: to access last 30 days of data => one file/platform/day</li>\n",
    "<li><b>Monthy</b>: to access last 5 years of data => one file/platform/month</li>\n",
    "<li><b>History</b>: to access all available data => one file/platform</li>\n",
    "</ul>"
   ]
  },
  {
   "cell_type": "markdown",
   "metadata": {},
   "source": [
    "<H1>MATCHING FILES</H1>"
   ]
  },
  {
   "cell_type": "markdown",
   "metadata": {},
   "source": [
    "Search files matching the above configuration:"
   ]
  },
  {
   "cell_type": "code",
   "execution_count": 59,
   "metadata": {},
   "outputs": [
    {
     "name": "stderr",
     "output_type": "stream",
     "text": [
      "C:\\ProgramData\\Anaconda3\\lib\\site-packages\\ipykernel_launcher.py:9: DeprecationWarning: `use_list_a_option` will default to `False` in ftputil 4.x.x\n",
      "  if __name__ == '__main__':\n",
      "C:\\ProgramData\\Anaconda3\\lib\\site-packages\\ipykernel_launcher.py:18: VisibleDeprecationWarning: Reading unicode strings without specifying the encoding argument is deprecated. Set the encoding, use None for the system default.\n"
     ]
    },
    {
     "name": "stdout",
     "output_type": "stream",
     "text": [
      "Found 3 macthes in history\n",
      "Search completed!\n"
     ]
    }
   ],
   "source": [
    "search_result = search(configuration)"
   ]
  },
  {
   "cell_type": "markdown",
   "metadata": {},
   "source": [
    "Get a quick view of the files:"
   ]
  },
  {
   "cell_type": "code",
   "execution_count": 60,
   "metadata": {},
   "outputs": [
    {
     "data": {
      "text/html": [
       "<div>\n",
       "<style scoped>\n",
       "    .dataframe tbody tr th:only-of-type {\n",
       "        vertical-align: middle;\n",
       "    }\n",
       "\n",
       "    .dataframe tbody tr th {\n",
       "        vertical-align: top;\n",
       "    }\n",
       "\n",
       "    .dataframe thead th {\n",
       "        text-align: right;\n",
       "    }\n",
       "</style>\n",
       "<table border=\"1\" class=\"dataframe\">\n",
       "  <thead>\n",
       "    <tr style=\"text-align: right;\">\n",
       "      <th></th>\n",
       "      <th>catalog_id</th>\n",
       "      <th>data_mode</th>\n",
       "      <th>date_update</th>\n",
       "      <th>file_name</th>\n",
       "      <th>geospatial_lat_max</th>\n",
       "      <th>geospatial_lat_min</th>\n",
       "      <th>geospatial_lon_max</th>\n",
       "      <th>geospatial_lon_min</th>\n",
       "      <th>parameters</th>\n",
       "      <th>provider</th>\n",
       "      <th>time_coverage_end</th>\n",
       "      <th>time_coverage_start</th>\n",
       "    </tr>\n",
       "  </thead>\n",
       "  <tbody>\n",
       "    <tr>\n",
       "      <th>0</th>\n",
       "      <td>COP-IR-01</td>\n",
       "      <td>R</td>\n",
       "      <td>2019-04-03T10:20:02Z</td>\n",
       "      <td>ftp://nrt.cmems-du.eu/Core/INSITU_IBI_NRT_OBSE...</td>\n",
       "      <td>41.15</td>\n",
       "      <td>41.15</td>\n",
       "      <td>-9.58</td>\n",
       "      <td>-9.58</td>\n",
       "      <td>DEPH VMDR WSPD FLU3 VTM02 ATMS VTPK RELH VHM0 ...</td>\n",
       "      <td>Instituto Hidrográfico da Marinha Portuguesa (...</td>\n",
       "      <td>2019-04-03T10:00:00Z</td>\n",
       "      <td>2010-05-23T00:00:00Z</td>\n",
       "    </tr>\n",
       "    <tr>\n",
       "      <th>1</th>\n",
       "      <td>COP-IR-01</td>\n",
       "      <td>R</td>\n",
       "      <td>2019-04-03T10:20:02Z</td>\n",
       "      <td>ftp://nrt.cmems-du.eu/Core/INSITU_IBI_NRT_OBSE...</td>\n",
       "      <td>39.51</td>\n",
       "      <td>39.51</td>\n",
       "      <td>-9.64</td>\n",
       "      <td>-9.64</td>\n",
       "      <td>DEPH VMDR WSPD FLU3 ATMS VTPK RELH VTM02 VZMX ...</td>\n",
       "      <td>Instituto Hidrográfico da Marinha Portuguesa (...</td>\n",
       "      <td>2019-04-03T10:00:00Z</td>\n",
       "      <td>2009-04-27T19:00:00Z</td>\n",
       "    </tr>\n",
       "    <tr>\n",
       "      <th>2</th>\n",
       "      <td>COP-IR-01</td>\n",
       "      <td>R</td>\n",
       "      <td>2019-04-03T10:20:02Z</td>\n",
       "      <td>ftp://nrt.cmems-du.eu/Core/INSITU_IBI_NRT_OBSE...</td>\n",
       "      <td>39.56</td>\n",
       "      <td>39.56</td>\n",
       "      <td>-9.21</td>\n",
       "      <td>-9.21</td>\n",
       "      <td>DEPH VMDR FLU3 WSPD ATMS VTM02 VTPK RELH VHM0 ...</td>\n",
       "      <td>Instituto Hidrográfico da Marinha Portuguesa (...</td>\n",
       "      <td>2019-04-03T10:00:00Z</td>\n",
       "      <td>2010-06-12T12:00:00Z</td>\n",
       "    </tr>\n",
       "  </tbody>\n",
       "</table>\n",
       "</div>"
      ],
      "text/plain": [
       "  catalog_id data_mode           date_update  \\\n",
       "0  COP-IR-01         R  2019-04-03T10:20:02Z   \n",
       "1  COP-IR-01         R  2019-04-03T10:20:02Z   \n",
       "2  COP-IR-01         R  2019-04-03T10:20:02Z   \n",
       "\n",
       "                                           file_name  geospatial_lat_max  \\\n",
       "0  ftp://nrt.cmems-du.eu/Core/INSITU_IBI_NRT_OBSE...               41.15   \n",
       "1  ftp://nrt.cmems-du.eu/Core/INSITU_IBI_NRT_OBSE...               39.51   \n",
       "2  ftp://nrt.cmems-du.eu/Core/INSITU_IBI_NRT_OBSE...               39.56   \n",
       "\n",
       "   geospatial_lat_min  geospatial_lon_max  geospatial_lon_min  \\\n",
       "0               41.15               -9.58               -9.58   \n",
       "1               39.51               -9.64               -9.64   \n",
       "2               39.56               -9.21               -9.21   \n",
       "\n",
       "                                          parameters  \\\n",
       "0  DEPH VMDR WSPD FLU3 VTM02 ATMS VTPK RELH VHM0 ...   \n",
       "1  DEPH VMDR WSPD FLU3 ATMS VTPK RELH VTM02 VZMX ...   \n",
       "2  DEPH VMDR FLU3 WSPD ATMS VTM02 VTPK RELH VHM0 ...   \n",
       "\n",
       "                                            provider     time_coverage_end  \\\n",
       "0  Instituto Hidrográfico da Marinha Portuguesa (...  2019-04-03T10:00:00Z   \n",
       "1  Instituto Hidrográfico da Marinha Portuguesa (...  2019-04-03T10:00:00Z   \n",
       "2  Instituto Hidrográfico da Marinha Portuguesa (...  2019-04-03T10:00:00Z   \n",
       "\n",
       "    time_coverage_start  \n",
       "0  2010-05-23T00:00:00Z  \n",
       "1  2009-04-27T19:00:00Z  \n",
       "2  2010-06-12T12:00:00Z  "
      ]
     },
     "execution_count": 60,
     "metadata": {},
     "output_type": "execute_result"
    }
   ],
   "source": [
    "pd.DataFrame(search_result['history'])"
   ]
  },
  {
   "cell_type": "markdown",
   "metadata": {},
   "source": [
    "Locate on a map matching files bounding-box centroids:"
   ]
  },
  {
   "cell_type": "code",
   "execution_count": 61,
   "metadata": {
    "scrolled": false
   },
   "outputs": [
    {
     "name": "stderr",
     "output_type": "stream",
     "text": [
      "C:\\ProgramData\\Anaconda3\\lib\\site-packages\\ipykernel_launcher.py:9: DeprecationWarning: `use_list_a_option` will default to `False` in ftputil 4.x.x\n",
      "  if __name__ == '__main__':\n",
      "C:\\ProgramData\\Anaconda3\\lib\\site-packages\\ipykernel_launcher.py:18: VisibleDeprecationWarning: Reading unicode strings without specifying the encoding argument is deprecated. Set the encoding, use None for the system default.\n"
     ]
    },
    {
     "name": "stdout",
     "output_type": "stream",
     "text": [
      "Found 3 macthes in history\n",
      "....Displaying files boundingBox centroids:\n",
      "warning!: open the notebook with chrome if map does not display\n"
     ]
    },
    {
     "data": {
      "text/html": [
       "<div style=\"width:100%;\"><div style=\"position:relative;width:100%;height:0;padding-bottom:60%;\"><iframe src=\"data:text/html;charset=utf-8;base64,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\" style=\"position:absolute;width:100%;height:100%;left:0;top:0;border:none !important;\" allowfullscreen webkitallowfullscreen mozallowfullscreen></iframe></div></div>"
      ],
      "text/plain": [
       "<folium.folium.Map at 0x180bbe4dd68>"
      ]
     },
     "execution_count": 61,
     "metadata": {},
     "output_type": "execute_result"
    }
   ],
   "source": [
    "search(configuration, output='map')"
   ]
  },
  {
   "cell_type": "markdown",
   "metadata": {},
   "source": [
    "Download the files matching the configuration:"
   ]
  },
  {
   "cell_type": "code",
   "execution_count": 62,
   "metadata": {},
   "outputs": [
    {
     "name": "stderr",
     "output_type": "stream",
     "text": [
      "C:\\ProgramData\\Anaconda3\\lib\\site-packages\\ipykernel_launcher.py:9: DeprecationWarning: `use_list_a_option` will default to `False` in ftputil 4.x.x\n",
      "  if __name__ == '__main__':\n",
      "C:\\ProgramData\\Anaconda3\\lib\\site-packages\\ipykernel_launcher.py:18: VisibleDeprecationWarning: Reading unicode strings without specifying the encoding argument is deprecated. Set the encoding, use None for the system default.\n"
     ]
    },
    {
     "name": "stdout",
     "output_type": "stream",
     "text": [
      "...Downloading from history : IR_TS_MO_6200191.nc\n",
      "...Downloading from history : IR_TS_MO_6200192.nc\n",
      "...Downloading from history : IR_TS_MO_6200199.nc\n",
      "Download completed!\n"
     ]
    }
   ],
   "source": [
    "search(configuration, output='files')"
   ]
  }
 ],
 "metadata": {
  "kernelspec": {
   "display_name": "Python 3",
   "language": "python",
   "name": "python3"
  },
  "language_info": {
   "codemirror_mode": {
    "name": "ipython",
    "version": 3
   },
   "file_extension": ".py",
   "mimetype": "text/x-python",
   "name": "python",
   "nbconvert_exporter": "python",
   "pygments_lexer": "ipython3",
   "version": "3.7.3"
  }
 },
 "nbformat": 4,
 "nbformat_minor": 2
}
