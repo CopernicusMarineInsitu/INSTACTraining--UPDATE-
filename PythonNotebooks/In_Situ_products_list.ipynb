{
 "cells": [
  {
   "cell_type": "markdown",
   "metadata": {},
   "source": [
    "<H2>MADATORY PYTHON LIBRARIES</H2>"
   ]
  },
  {
   "cell_type": "code",
   "execution_count": 11,
   "metadata": {
    "collapsed": false
   },
   "outputs": [],
   "source": [
    "import ftputil\n",
    "import numpy as np\n",
    "import pandas as pd\n",
    "from IPython.display import Image, IFrame"
   ]
  },
  {
   "cell_type": "markdown",
   "metadata": {},
   "source": [
    "<h2> SET YOUR CREDENTIALS</h2>"
   ]
  },
  {
   "cell_type": "code",
   "execution_count": 3,
   "metadata": {
    "collapsed": true
   },
   "outputs": [],
   "source": [
    "user = '' #type CMEMS user name\n",
    "password = '' #type CMEMS password"
   ]
  },
  {
   "cell_type": "markdown",
   "metadata": {},
   "source": [
    "<h2> INSITU NEAR REAL TIME PRODUCT LIST (NRT)</h2>"
   ]
  },
  {
   "cell_type": "code",
   "execution_count": 7,
   "metadata": {
    "collapsed": false
   },
   "outputs": [
    {
     "name": "stderr",
     "output_type": "stream",
     "text": [
      "/home/protllan/anaconda2/lib/python2.7/site-packages/ipykernel/__main__.py:4: DeprecationWarning: `use_list_a_option` will default to `False` in ftputil 4.x.x\n"
     ]
    },
    {
     "data": {
      "text/html": [
       "<div>\n",
       "<table border=\"1\" class=\"dataframe\">\n",
       "  <thead>\n",
       "    <tr style=\"text-align: right;\">\n",
       "      <th></th>\n",
       "      <th>In Situ NRT products</th>\n",
       "    </tr>\n",
       "  </thead>\n",
       "  <tbody>\n",
       "    <tr>\n",
       "      <th>0</th>\n",
       "      <td>INSITU_ARC_NRT_OBSERVATIONS_013_031</td>\n",
       "    </tr>\n",
       "    <tr>\n",
       "      <th>1</th>\n",
       "      <td>INSITU_BAL_NRT_OBSERVATIONS_013_032</td>\n",
       "    </tr>\n",
       "    <tr>\n",
       "      <th>2</th>\n",
       "      <td>INSITU_BS_NRT_OBSERVATIONS_013_034</td>\n",
       "    </tr>\n",
       "    <tr>\n",
       "      <th>3</th>\n",
       "      <td>INSITU_GLO_NRT_OBSERVATIONS_013_030</td>\n",
       "    </tr>\n",
       "    <tr>\n",
       "      <th>4</th>\n",
       "      <td>INSITU_GLO_TS_ASSIM_NRT_OBSERVATIONS_013_047</td>\n",
       "    </tr>\n",
       "    <tr>\n",
       "      <th>5</th>\n",
       "      <td>INSITU_GLO_TS_OA_NRT_OBSERVATIONS_013_002_a</td>\n",
       "    </tr>\n",
       "    <tr>\n",
       "      <th>6</th>\n",
       "      <td>INSITU_IBI_NRT_OBSERVATIONS_013_033</td>\n",
       "    </tr>\n",
       "    <tr>\n",
       "      <th>7</th>\n",
       "      <td>INSITU_MED_NRT_OBSERVATIONS_013_035</td>\n",
       "    </tr>\n",
       "    <tr>\n",
       "      <th>8</th>\n",
       "      <td>INSITU_NWS_NRT_OBSERVATIONS_013_036</td>\n",
       "    </tr>\n",
       "  </tbody>\n",
       "</table>\n",
       "</div>"
      ],
      "text/plain": [
       "                           In Situ NRT products\n",
       "0           INSITU_ARC_NRT_OBSERVATIONS_013_031\n",
       "1           INSITU_BAL_NRT_OBSERVATIONS_013_032\n",
       "2            INSITU_BS_NRT_OBSERVATIONS_013_034\n",
       "3           INSITU_GLO_NRT_OBSERVATIONS_013_030\n",
       "4  INSITU_GLO_TS_ASSIM_NRT_OBSERVATIONS_013_047\n",
       "5   INSITU_GLO_TS_OA_NRT_OBSERVATIONS_013_002_a\n",
       "6           INSITU_IBI_NRT_OBSERVATIONS_013_033\n",
       "7           INSITU_MED_NRT_OBSERVATIONS_013_035\n",
       "8           INSITU_NWS_NRT_OBSERVATIONS_013_036"
      ]
     },
     "execution_count": 7,
     "metadata": {},
     "output_type": "execute_result"
    }
   ],
   "source": [
    "data = {'In Situ NRT products': []}\n",
    "NRT_products, REP_products = [], []\n",
    "#connect to CMEMS FTP\n",
    "with ftputil.FTPHost('nrt.cmems-du.eu', user, password) as ftp_host: \n",
    "    ftp_host.chdir('Core')\n",
    "    product_list = ftp_host.listdir(ftp_host.curdir)\n",
    "    for product in product_list:\n",
    "        items = product.split('_')\n",
    "        if 'INSITU' in items:\n",
    "            data['In Situ NRT products'].append(product)\n",
    "pd.DataFrame(data=data)"
   ]
  },
  {
   "cell_type": "markdown",
   "metadata": {},
   "source": [
    "<h2> INSITU REPROCESSED PRODUCT LIST (REP)</h2>"
   ]
  },
  {
   "cell_type": "code",
   "execution_count": 9,
   "metadata": {
    "collapsed": false
   },
   "outputs": [
    {
     "name": "stderr",
     "output_type": "stream",
     "text": [
      "/home/protllan/anaconda2/lib/python2.7/site-packages/ipykernel/__main__.py:4: DeprecationWarning: `use_list_a_option` will default to `False` in ftputil 4.x.x\n"
     ]
    },
    {
     "data": {
      "text/html": [
       "<div>\n",
       "<table border=\"1\" class=\"dataframe\">\n",
       "  <thead>\n",
       "    <tr style=\"text-align: right;\">\n",
       "      <th></th>\n",
       "      <th>In Situ REP products</th>\n",
       "    </tr>\n",
       "  </thead>\n",
       "  <tbody>\n",
       "    <tr>\n",
       "      <th>0</th>\n",
       "      <td>INSITU_ARC_TS_REP_OBSERVATIONS_013_037</td>\n",
       "    </tr>\n",
       "    <tr>\n",
       "      <th>1</th>\n",
       "      <td>INSITU_BAL_TS_REP_OBSERVATIONS_013_038</td>\n",
       "    </tr>\n",
       "    <tr>\n",
       "      <th>2</th>\n",
       "      <td>INSITU_BS_TS_REP_OBSERVATIONS_013_042</td>\n",
       "    </tr>\n",
       "    <tr>\n",
       "      <th>3</th>\n",
       "      <td>INSITU_GLO_BGC_REP_OBSERVATIONS_013_046</td>\n",
       "    </tr>\n",
       "    <tr>\n",
       "      <th>4</th>\n",
       "      <td>INSITU_GLO_TS_OA_REP_OBSERVATIONS_013_002_b</td>\n",
       "    </tr>\n",
       "    <tr>\n",
       "      <th>5</th>\n",
       "      <td>INSITU_GLO_TS_REP_OBSERVATIONS_013_001_b</td>\n",
       "    </tr>\n",
       "    <tr>\n",
       "      <th>6</th>\n",
       "      <td>INSITU_GLO_UV_L2_REP_OBSERVATIONS_013_044</td>\n",
       "    </tr>\n",
       "    <tr>\n",
       "      <th>7</th>\n",
       "      <td>INSITU_GLO_WAVE_REP_OBSERVATIONS_013_045</td>\n",
       "    </tr>\n",
       "    <tr>\n",
       "      <th>8</th>\n",
       "      <td>INSITU_IBI_TS_REP_OBSERVATIONS_013_040</td>\n",
       "    </tr>\n",
       "    <tr>\n",
       "      <th>9</th>\n",
       "      <td>INSITU_MED_TS_REP_OBSERVATIONS_013_041</td>\n",
       "    </tr>\n",
       "    <tr>\n",
       "      <th>10</th>\n",
       "      <td>INSITU_NWS_TS_REP_OBSERVATIONS_013_043</td>\n",
       "    </tr>\n",
       "  </tbody>\n",
       "</table>\n",
       "</div>"
      ],
      "text/plain": [
       "                           In Situ REP products\n",
       "0        INSITU_ARC_TS_REP_OBSERVATIONS_013_037\n",
       "1        INSITU_BAL_TS_REP_OBSERVATIONS_013_038\n",
       "2         INSITU_BS_TS_REP_OBSERVATIONS_013_042\n",
       "3       INSITU_GLO_BGC_REP_OBSERVATIONS_013_046\n",
       "4   INSITU_GLO_TS_OA_REP_OBSERVATIONS_013_002_b\n",
       "5      INSITU_GLO_TS_REP_OBSERVATIONS_013_001_b\n",
       "6     INSITU_GLO_UV_L2_REP_OBSERVATIONS_013_044\n",
       "7      INSITU_GLO_WAVE_REP_OBSERVATIONS_013_045\n",
       "8        INSITU_IBI_TS_REP_OBSERVATIONS_013_040\n",
       "9        INSITU_MED_TS_REP_OBSERVATIONS_013_041\n",
       "10       INSITU_NWS_TS_REP_OBSERVATIONS_013_043"
      ]
     },
     "execution_count": 9,
     "metadata": {},
     "output_type": "execute_result"
    }
   ],
   "source": [
    "data = {'In Situ REP products': []}\n",
    "NRT_products, REP_products = [], []\n",
    "#connect to CMEMS FTP\n",
    "with ftputil.FTPHost('my.cmems-du.eu', user, password) as ftp_host: \n",
    "    ftp_host.chdir('Core')\n",
    "    product_list = ftp_host.listdir(ftp_host.curdir)\n",
    "    for product in product_list:\n",
    "        items = product.split('_')\n",
    "        if 'INSITU' in items:\n",
    "            data['In Situ REP products'].append(product)\n",
    "pd.DataFrame(data=data)"
   ]
  },
  {
   "cell_type": "markdown",
   "metadata": {},
   "source": [
    "<h2> DETAILS? </h2>"
   ]
  },
  {
   "cell_type": "code",
   "execution_count": 12,
   "metadata": {
    "collapsed": true
   },
   "outputs": [],
   "source": [
    "product_name = 'INSITU_MED_TS_REP_OBSERVATIONS_013_041'"
   ]
  },
  {
   "cell_type": "code",
   "execution_count": 19,
   "metadata": {
    "collapsed": false
   },
   "outputs": [
    {
     "name": "stdout",
     "output_type": "stream",
     "text": [
      "Requested url: http://marine.copernicus.eu/services-portfolio/access-to-products/?option=com_csw&view=details&product_id=INSITU_MED_TS_REP_OBSERVATIONS_013_041\n"
     ]
    },
    {
     "data": {
      "text/html": [
       "\n",
       "        <iframe\n",
       "            width=\"1000\"\n",
       "            height=\"800\"\n",
       "            src=\"http://marine.copernicus.eu/services-portfolio/access-to-products/?option=com_csw&view=details&product_id=INSITU_MED_TS_REP_OBSERVATIONS_013_041\"\n",
       "            frameborder=\"0\"\n",
       "            allowfullscreen\n",
       "        ></iframe>\n",
       "        "
      ],
      "text/plain": [
       "<IPython.lib.display.IFrame at 0x7fb3e01af2d0>"
      ]
     },
     "execution_count": 19,
     "metadata": {},
     "output_type": "execute_result"
    }
   ],
   "source": [
    "url = 'http://marine.copernicus.eu/services-portfolio/access-to-products/?option=com_csw&view=details&product_id='+product_name\n",
    "print('Requested url: '+url)\n",
    "IFrame(url, width=1000, height=800)"
   ]
  }
 ],
 "metadata": {
  "kernelspec": {
   "display_name": "Python [anaconda2]",
   "language": "python",
   "name": "Python [anaconda2]"
  },
  "language_info": {
   "codemirror_mode": {
    "name": "ipython",
    "version": 2
   },
   "file_extension": ".py",
   "mimetype": "text/x-python",
   "name": "python",
   "nbconvert_exporter": "python",
   "pygments_lexer": "ipython2",
   "version": "2.7.12"
  }
 },
 "nbformat": 4,
 "nbformat_minor": 0
}
