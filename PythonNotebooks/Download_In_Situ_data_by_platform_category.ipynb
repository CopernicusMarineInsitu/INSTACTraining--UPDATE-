{
 "cells": [
  {
   "cell_type": "markdown",
   "metadata": {},
   "source": [
    "<H2>MADATORY PYTHON LIBRARIES</H2>"
   ]
  },
  {
   "cell_type": "code",
   "execution_count": 10,
   "metadata": {
    "collapsed": false
   },
   "outputs": [],
   "source": [
    "import ftputil\n",
    "import numpy as np\n",
    "import pandas as pd\n",
    "import os"
   ]
  },
  {
   "cell_type": "markdown",
   "metadata": {},
   "source": [
    "<H2>SET OUTPUT DIRECTORY</H2>"
   ]
  },
  {
   "cell_type": "code",
   "execution_count": 3,
   "metadata": {
    "collapsed": true
   },
   "outputs": [],
   "source": [
    "user = '' #type CMEMS user name\n",
    "password = '' #type CMEMS password"
   ]
  },
  {
   "cell_type": "markdown",
   "metadata": {},
   "source": [
    "<h2> TARGET A PRODUCT, HOST AND INDEX FILE</h2>"
   ]
  },
  {
   "cell_type": "markdown",
   "metadata": {},
   "source": [
    "Click here to check posible products, hosts and index files"
   ]
  },
  {
   "cell_type": "code",
   "execution_count": 7,
   "metadata": {
    "collapsed": true
   },
   "outputs": [],
   "source": [
    "product_name = 'INSITU_MED_NRT_OBSERVATIONS_013_035'\n",
    "host = 'nrt.cmems-du.eu'\n",
    "index_file = 'index_history.txt'"
   ]
  },
  {
   "cell_type": "markdown",
   "metadata": {},
   "source": [
    "<h2> INSITU INDEX FILES RAW INFO</h2>"
   ]
  },
  {
   "cell_type": "code",
   "execution_count": 12,
   "metadata": {
    "collapsed": false
   },
   "outputs": [
    {
     "name": "stderr",
     "output_type": "stream",
     "text": [
      "/home/protllan/anaconda2/lib/python2.7/site-packages/ipykernel/__main__.py:2: DeprecationWarning: `use_list_a_option` will default to `False` in ftputil 4.x.x\n",
      "  from ipykernel import kernelapp as app\n"
     ]
    },
    {
     "name": "stdout",
     "output_type": "stream",
     "text": [
      "ftplink and some metadata of the netCDFs produced by In Situ platform network since ever\n"
     ]
    },
    {
     "data": {
      "text/html": [
       "<div>\n",
       "<table border=\"1\" class=\"dataframe\">\n",
       "  <thead>\n",
       "    <tr style=\"text-align: right;\">\n",
       "      <th></th>\n",
       "      <th>#catalog_id</th>\n",
       "      <th>file_name</th>\n",
       "      <th>geospatial_lat_min</th>\n",
       "      <th>geospatial_lat_max</th>\n",
       "      <th>geospatial_lon_min</th>\n",
       "      <th>geospatial_lon_max</th>\n",
       "      <th>time_coverage_start</th>\n",
       "      <th>time_coverage_end</th>\n",
       "      <th>provider</th>\n",
       "      <th>date_update</th>\n",
       "      <th>data_mode</th>\n",
       "      <th>parameters</th>\n",
       "    </tr>\n",
       "  </thead>\n",
       "  <tbody>\n",
       "    <tr>\n",
       "      <th>0</th>\n",
       "      <td>MYO-MOON-01</td>\n",
       "      <td>ftp://nrt.cmems-du.eu/Core/INSITU_MED_NRT_OBSE...</td>\n",
       "      <td>41.810</td>\n",
       "      <td>42.820</td>\n",
       "      <td>4.030</td>\n",
       "      <td>7.400</td>\n",
       "      <td>1999-09-10T08:58:00Z</td>\n",
       "      <td>1999-11-15T06:48:00Z</td>\n",
       "      <td>MEDS</td>\n",
       "      <td>2017-07-05T10:21:49Z</td>\n",
       "      <td>R</td>\n",
       "      <td>PRES TEMP</td>\n",
       "    </tr>\n",
       "    <tr>\n",
       "      <th>1</th>\n",
       "      <td>MYO-MOON-01</td>\n",
       "      <td>ftp://nrt.cmems-du.eu/Core/INSITU_MED_NRT_OBSE...</td>\n",
       "      <td>41.760</td>\n",
       "      <td>42.630</td>\n",
       "      <td>3.670</td>\n",
       "      <td>5.330</td>\n",
       "      <td>1999-09-10T07:42:00Z</td>\n",
       "      <td>1999-10-04T10:36:00Z</td>\n",
       "      <td>MEDS</td>\n",
       "      <td>2017-07-05T10:21:48Z</td>\n",
       "      <td>R</td>\n",
       "      <td>PRES TEMP</td>\n",
       "    </tr>\n",
       "    <tr>\n",
       "      <th>2</th>\n",
       "      <td>MYO-MOON-01</td>\n",
       "      <td>ftp://nrt.cmems-du.eu/Core/INSITU_MED_NRT_OBSE...</td>\n",
       "      <td>42.000</td>\n",
       "      <td>43.450</td>\n",
       "      <td>5.330</td>\n",
       "      <td>8.280</td>\n",
       "      <td>1999-09-10T07:42:00Z</td>\n",
       "      <td>1999-11-11T14:37:00Z</td>\n",
       "      <td>MEDS</td>\n",
       "      <td>2017-07-05T10:21:49Z</td>\n",
       "      <td>R</td>\n",
       "      <td>PRES TEMP</td>\n",
       "    </tr>\n",
       "    <tr>\n",
       "      <th>3</th>\n",
       "      <td>MYO-MOON-01</td>\n",
       "      <td>ftp://nrt.cmems-du.eu/Core/INSITU_MED_NRT_OBSE...</td>\n",
       "      <td>41.538</td>\n",
       "      <td>42.395</td>\n",
       "      <td>4.857</td>\n",
       "      <td>5.909</td>\n",
       "      <td>2013-01-31T14:00:00Z</td>\n",
       "      <td>2013-03-21T13:00:00Z</td>\n",
       "      <td>Unknown institution</td>\n",
       "      <td>2017-07-05T10:21:48Z</td>\n",
       "      <td>R</td>\n",
       "      <td>DEPH TEMP</td>\n",
       "    </tr>\n",
       "    <tr>\n",
       "      <th>4</th>\n",
       "      <td>MYO-MOON-01</td>\n",
       "      <td>ftp://nrt.cmems-du.eu/Core/INSITU_MED_NRT_OBSE...</td>\n",
       "      <td>39.893</td>\n",
       "      <td>42.480</td>\n",
       "      <td>3.694</td>\n",
       "      <td>6.325</td>\n",
       "      <td>2013-01-31T14:00:00Z</td>\n",
       "      <td>2013-07-10T12:00:00Z</td>\n",
       "      <td>Naval Oceanographic Office (NAVO)</td>\n",
       "      <td>2017-07-05T10:21:48Z</td>\n",
       "      <td>R</td>\n",
       "      <td>DEPH TEMP</td>\n",
       "    </tr>\n",
       "  </tbody>\n",
       "</table>\n",
       "</div>"
      ],
      "text/plain": [
       "   #catalog_id                                          file_name  \\\n",
       "0  MYO-MOON-01  ftp://nrt.cmems-du.eu/Core/INSITU_MED_NRT_OBSE...   \n",
       "1  MYO-MOON-01  ftp://nrt.cmems-du.eu/Core/INSITU_MED_NRT_OBSE...   \n",
       "2  MYO-MOON-01  ftp://nrt.cmems-du.eu/Core/INSITU_MED_NRT_OBSE...   \n",
       "3  MYO-MOON-01  ftp://nrt.cmems-du.eu/Core/INSITU_MED_NRT_OBSE...   \n",
       "4  MYO-MOON-01  ftp://nrt.cmems-du.eu/Core/INSITU_MED_NRT_OBSE...   \n",
       "\n",
       "   geospatial_lat_min  geospatial_lat_max  geospatial_lon_min  \\\n",
       "0              41.810              42.820               4.030   \n",
       "1              41.760              42.630               3.670   \n",
       "2              42.000              43.450               5.330   \n",
       "3              41.538              42.395               4.857   \n",
       "4              39.893              42.480               3.694   \n",
       "\n",
       "   geospatial_lon_max   time_coverage_start     time_coverage_end  \\\n",
       "0               7.400  1999-09-10T08:58:00Z  1999-11-15T06:48:00Z   \n",
       "1               5.330  1999-09-10T07:42:00Z  1999-10-04T10:36:00Z   \n",
       "2               8.280  1999-09-10T07:42:00Z  1999-11-11T14:37:00Z   \n",
       "3               5.909  2013-01-31T14:00:00Z  2013-03-21T13:00:00Z   \n",
       "4               6.325  2013-01-31T14:00:00Z  2013-07-10T12:00:00Z   \n",
       "\n",
       "                            provider           date_update data_mode  \\\n",
       "0                               MEDS  2017-07-05T10:21:49Z         R   \n",
       "1                               MEDS  2017-07-05T10:21:48Z         R   \n",
       "2                               MEDS  2017-07-05T10:21:49Z         R   \n",
       "3                Unknown institution  2017-07-05T10:21:48Z         R   \n",
       "4  Naval Oceanographic Office (NAVO)  2017-07-05T10:21:48Z         R   \n",
       "\n",
       "   parameters  \n",
       "0   PRES TEMP  \n",
       "1   PRES TEMP  \n",
       "2   PRES TEMP  \n",
       "3   DEPH TEMP  \n",
       "4   DEPH TEMP  "
      ]
     },
     "execution_count": 12,
     "metadata": {},
     "output_type": "execute_result"
    }
   ],
   "source": [
    "#connect to CMEMS FTP\n",
    "with ftputil.FTPHost(host, user, password) as ftp_host: \n",
    "    #open the index file to read\n",
    "    with ftp_host.open(\"Core\"+'/'+product_name+'/'+index_file, \"r\") as indexfile:\n",
    "        raw_index_info = pd.read_csv(indexfile, skiprows=5) #load it as pandas dataframe\n",
    "print('ftplink and some metadata of the netCDFs produced by In Situ platform network since ever')\n",
    "raw_index_info.head()"
   ]
  },
  {
   "cell_type": "markdown",
   "metadata": {},
   "source": [
    "<h2> POSIBLE SELECTION CRITERIA</h2>"
   ]
  },
  {
   "cell_type": "markdown",
   "metadata": {},
   "source": [
    "Acording to the information available in the index file (above) there are basically 5 <ul>\n",
    "<li>catalog_id</li>\n",
    "<li>file_name</li>\n",
    "\n",
    "<li>geospatial_lat_min</li>\n",
    "<li>geospatial_lat_max</li>\n",
    "<li>geospatial_lon_min</li>\n",
    "<li>geospatial_lon_max</li>\n",
    "\n",
    "<li>time_coverage_start</li>\n",
    "<li>time_coverage_end</li>\n",
    "<li>date_update</li>\n",
    "\n",
    "<li>data_mode</li>\n",
    "<li>parameters</li>\n",
    "</ul>"
   ]
  },
  {
   "cell_type": "code",
   "execution_count": null,
   "metadata": {
    "collapsed": true
   },
   "outputs": [],
   "source": []
  }
 ],
 "metadata": {
  "kernelspec": {
   "display_name": "Python [anaconda2]",
   "language": "python",
   "name": "Python [anaconda2]"
  },
  "language_info": {
   "codemirror_mode": {
    "name": "ipython",
    "version": 2
   },
   "file_extension": ".py",
   "mimetype": "text/x-python",
   "name": "python",
   "nbconvert_exporter": "python",
   "pygments_lexer": "ipython2",
   "version": "2.7.12"
  }
 },
 "nbformat": 4,
 "nbformat_minor": 0
}
