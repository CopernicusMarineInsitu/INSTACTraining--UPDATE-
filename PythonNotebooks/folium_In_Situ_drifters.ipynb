{
 "cells": [
  {
   "cell_type": "markdown",
   "metadata": {},
   "source": [
    "<H1>MADATORY PYTHON LIBRARIES</H1>"
   ]
  },
  {
   "cell_type": "code",
   "execution_count": 80,
   "metadata": {
    "collapsed": true
   },
   "outputs": [],
   "source": [
    "import xarray\n",
    "import pandas as pd\n",
    "import folium\n",
    "import os\n",
    "import numpy as np\n",
    "from folium import plugins\n",
    "%matplotlib  inline"
   ]
  },
  {
   "cell_type": "markdown",
   "metadata": {},
   "source": [
    "<h1>IN SITU DRIFTERS</h1>"
   ]
  },
  {
   "cell_type": "markdown",
   "metadata": {},
   "source": [
    "In Situ 'drifters' comprehends a 2 kinds of drifting buoys: drifting buoys reporting currents (DC) and drifting buoys (DB). These moving platforms provides data time series of certain parameters along its trajectory/over time. It's platform data sources are: DB & DC."
   ]
  },
  {
   "cell_type": "markdown",
   "metadata": {},
   "source": [
    "## 1. In Situ netCDF"
   ]
  },
  {
   "cell_type": "markdown",
   "metadata": {},
   "source": [
    "Imagine you have downloaded some <i>_TS_ (time serie)</i> dataset from In Situ drifters (see how to download files from a  certain [platform data source](https://github.com/CopernicusMarineInsitu/INSTACTraining-Phase2UPDATE/blob/master/PythonNotebooks/In_Situ_data_download_by_platform_data_source.ipynb) or [platform category](https://github.com/CopernicusMarineInsitu/INSTACTraining-Phase2UPDATE/blob/master/PythonNotebooks/In_Situ_data_download_by_platform_category.ipynb)) like: [MO_TS_DC_0-2820800.nc](ftp://nrt.cmems-du.eu/Core/INSITU_MED_NRT_OBSERVATIONS_013_035/history/drifter/MO_TS_DC_0-2820800.nc)"
   ]
  },
  {
   "cell_type": "code",
   "execution_count": 81,
   "metadata": {
    "collapsed": true
   },
   "outputs": [],
   "source": [
    "dataset = 'MO_TS_DC_0-2820800.nc'"
   ]
  },
  {
   "cell_type": "markdown",
   "metadata": {},
   "source": [
    "Let's have a look to its content:"
   ]
  },
  {
   "cell_type": "code",
   "execution_count": 82,
   "metadata": {
    "collapsed": false
   },
   "outputs": [
    {
     "name": "stdout",
     "output_type": "stream",
     "text": [
      "path2file: /home/protllan/code/Training/INSTACTraining-PhaseII/PythonNotebooks/MO_TS_DC_0-2820800.nc\n"
     ]
    }
   ],
   "source": [
    "full_path2file = os.getcwd()+'/'+dataset #default to current directory\n",
    "print('path2file: %s'%(full_path2file))"
   ]
  },
  {
   "cell_type": "code",
   "execution_count": 83,
   "metadata": {
    "collapsed": true
   },
   "outputs": [],
   "source": [
    "ds = xarray.open_dataset(dataset)"
   ]
  },
  {
   "cell_type": "markdown",
   "metadata": {},
   "source": [
    "ds contains all the information about the dataset (relevant metadata, variables, dimensions etc):"
   ]
  },
  {
   "cell_type": "code",
   "execution_count": 84,
   "metadata": {
    "collapsed": false
   },
   "outputs": [
    {
     "data": {
      "text/plain": [
       "<xarray.Dataset>\n",
       "Dimensions:          (DEPTH: 1, LATITUDE: 142, LONGITUDE: 142, POSITION: 142, TIME: 142)\n",
       "Coordinates:\n",
       "  * LONGITUDE        (LONGITUDE) float64 9.715 9.723 9.73 9.741 9.756 9.768 ...\n",
       "  * LATITUDE         (LATITUDE) float64 43.83 43.83 43.82 43.82 43.81 43.81 ...\n",
       "  * TIME             (TIME) datetime64[ns] 2017-09-26T15:00:00 ...\n",
       "Dimensions without coordinates: DEPTH, POSITION\n",
       "Data variables:\n",
       "    EWCT             (TIME, DEPTH) float64 10.0 0.05808 0.06806 0.09422 ...\n",
       "    NSCT             (TIME, DEPTH) float64 10.0 -0.07387 -0.05337 -0.03517 ...\n",
       "    DEPH             (TIME, DEPTH) float64 0.0 0.0 0.0 0.0 0.0 0.0 0.0 0.0 ...\n",
       "    TIME_QC          (TIME) float64 1.0 1.0 1.0 1.0 1.0 1.0 1.0 1.0 1.0 1.0 ...\n",
       "    EWCT_QC          (TIME, DEPTH) float64 4.0 1.0 1.0 1.0 1.0 1.0 1.0 1.0 ...\n",
       "    NSCT_QC          (TIME, DEPTH) float64 4.0 1.0 1.0 1.0 1.0 1.0 1.0 1.0 ...\n",
       "    DEPH_QC          (TIME, DEPTH) float64 7.0 7.0 7.0 7.0 7.0 7.0 7.0 7.0 ...\n",
       "    POSITION_QC      (POSITION) float64 1.0 1.0 1.0 1.0 1.0 1.0 1.0 1.0 1.0 ...\n",
       "    EWCT_DM          (TIME, DEPTH) object 'R' 'R' 'R' 'R' 'R' 'R' 'R' 'R' ...\n",
       "    NSCT_DM          (TIME, DEPTH) object 'R' 'R' 'R' 'R' 'R' 'R' 'R' 'R' ...\n",
       "    DEPH_DM          (TIME, DEPTH) object 'R' 'R' 'R' 'R' 'R' 'R' 'R' 'R' ...\n",
       "    DROGUE_PRESENCE  (TIME) float64 4.0 4.0 4.0 4.0 4.0 4.0 4.0 4.0 4.0 4.0 ...\n",
       "Attributes:\n",
       "    data_type:                   OceanSITES time-series data\n",
       "    format_version:              1.2\n",
       "    platform_code:               0-2820800\n",
       "    date_update:                 2018-06-02T01:01:47Z\n",
       "    institution:                 OGS (Istituto Nazionale di Oceanografia e di...\n",
       "    institution_edmo_code:       120\n",
       "    site_code:                    \n",
       "    wmo_platform_code:            \n",
       "    source:                      Drifter observation: drogue centered 0 meter...\n",
       "    history:                     2018-06-02T00:21:24Z  : Creation\n",
       "    data_mode:                   R\n",
       "    quality_control_indicator:   6\n",
       "    quality_index:               A\n",
       "    references:                  http://www.eurosites.info, http://www.oceans...\n",
       "    comment:                     OGS PK id: 5509\n",
       "    Conventions:                 CF-1.6 OceanSITES-Manual-1.2 Copernicus-InSi...\n",
       "    netcdf_version:              3.5\n",
       "    title:                       Med Sea - NRT in situ Observations\n",
       "    summary:                      \n",
       "    naming_authority:            OceanSITES\n",
       "    id:                          MO_TS_DC_0-2820800\n",
       "    cdm_data_type:               Time-series\n",
       "    area:                        Mediterranean Sea\n",
       "    geospatial_lat_min:          42.76617\n",
       "    geospatial_lat_max:          43.51340\n",
       "    geospatial_lon_min:          9.92314\n",
       "    geospatial_lon_max:          10.24948\n",
       "    geospatial_vertical_min:     999999\n",
       "    geospatial_vertical_max:     999999\n",
       "    time_coverage_start:         2017-09-26T15:00:00Z\n",
       "    time_coverage_end:           2017-10-14T06:00:00Z\n",
       "    institution_references:      http://nettuno.ogs.trieste.it/sire/medsvp\n",
       "    contact:                     ppoulain@ogs.trieste.it, rgerin@ogs.trieste....\n",
       "    author:                      Pierre-Marie Poulain, Riccardo Gerin, Giulio...\n",
       "    data_assembly_center:        HCMR\n",
       "    pi_name:                     Pierre-Marie Poulain, Giulio Notarstefano, R...\n",
       "    distribution_statement:      These data follow Copernicus standards; they...\n",
       "    citation:                    These data were collected and made freely av...\n",
       "    update_interval:             monthly\n",
       "    qc_manual:                   OceanSITES Users Manual v1.2\n",
       "    last_latitude_observation:   42.7662\n",
       "    last_longitude_observation:  10.06\n",
       "    last_date_observation:       2017-10-14T06:00:00Z\n",
       "    wmo_inst_type:                "
      ]
     },
     "execution_count": 84,
     "metadata": {},
     "output_type": "execute_result"
    }
   ],
   "source": [
    "ds"
   ]
  },
  {
   "cell_type": "code",
   "execution_count": 85,
   "metadata": {
    "collapsed": false
   },
   "outputs": [
    {
     "data": {
      "text/plain": [
       "[u'LONGITUDE',\n",
       " u'LATITUDE',\n",
       " u'TIME',\n",
       " u'EWCT',\n",
       " u'NSCT',\n",
       " u'DEPH',\n",
       " u'TIME_QC',\n",
       " u'EWCT_QC',\n",
       " u'NSCT_QC',\n",
       " u'DEPH_QC',\n",
       " u'POSITION_QC',\n",
       " u'EWCT_DM',\n",
       " u'NSCT_DM',\n",
       " u'DEPH_DM',\n",
       " u'DROGUE_PRESENCE']"
      ]
     },
     "execution_count": 85,
     "metadata": {},
     "output_type": "execute_result"
    }
   ],
   "source": [
    "ds.variables.keys()"
   ]
  },
  {
   "cell_type": "markdown",
   "metadata": {},
   "source": [
    "Every of the above parameters varies along certain dimensions (within parenthesis when checking the parameter metadata):"
   ]
  },
  {
   "cell_type": "code",
   "execution_count": 86,
   "metadata": {
    "collapsed": false
   },
   "outputs": [
    {
     "data": {
      "text/plain": [
       "<xarray.DataArray 'LATITUDE' (LATITUDE: 142)>\n",
       "array([ 43.834084,  43.826336,  43.819721,  43.81596 ,  43.812881,  43.807896,\n",
       "        43.807041,  43.799366,  43.775936,  43.746105,  43.723782,  43.711159,\n",
       "        43.70813 ,  43.710346,  43.711716,  43.720608,  43.72868 ,  43.734245,\n",
       "        43.740459,  43.752243,  43.760128,  43.757561,  43.752071,  43.750095,\n",
       "        43.742977,  43.7276  ,  43.71653 ,  43.709187,  43.697643,  43.676819,\n",
       "        43.652836,  43.631584,  43.596386,  43.568653,  43.544025,  43.513401,\n",
       "        43.480167,  43.447044,  43.415894,  43.387951,  43.373196,  43.367912,\n",
       "        43.362961,  43.363979,  43.375019,  43.389091,  43.40419 ,  43.415527,\n",
       "        43.420174,  43.417522,  43.420837,  43.432312,  43.44326 ,  43.451431,\n",
       "        43.45639 ,  43.455784,  43.447483,  43.431911,  43.416157,  43.405838,\n",
       "        43.386341,  43.365253,  43.345589,  43.328152,  43.314831,  43.299995,\n",
       "        43.281975,  43.267632,  43.255585,  43.246117,  43.238102,  43.229069,\n",
       "        43.224575,  43.217865,  43.205704,  43.19854 ,  43.193405,  43.187847,\n",
       "        43.180042,  43.173908,  43.159706,  43.137646,  43.111439,  43.098438,\n",
       "        43.093033,  43.088066,  43.078381,  43.065277,  43.051487,  43.034878,\n",
       "        43.021042,  43.012058,  43.001781,  42.986671,  42.969513,  42.962608,\n",
       "        42.96587 ,  42.964298,  42.951454,  42.934219,  42.925758,  42.927998,\n",
       "        42.933113,  42.933609,  42.935604,  42.932747,  42.929764,  42.928055,\n",
       "        42.927608,  42.922634,  42.919094,  42.915783,  42.912785,  42.907368,\n",
       "        42.900063,  42.892212,  42.888252,  42.887501,  42.88567 ,  42.879711,\n",
       "        42.87632 ,  42.875572,  42.876698,  42.874496,  42.867901,  42.8647  ,\n",
       "        42.865063,  42.86121 ,  42.849926,  42.839622,  42.835369,  42.831169,\n",
       "        42.825325,  42.82225 ,  42.821178,  42.818951,  42.816128,  42.815403,\n",
       "        42.815102,  42.804813,  42.782928,  42.766171])\n",
       "Coordinates:\n",
       "  * LATITUDE  (LATITUDE) float64 43.83 43.83 43.82 43.82 43.81 43.81 43.81 ...\n",
       "Attributes:\n",
       "    long_name:      Latitude of each location\n",
       "    standard_name:  latitude\n",
       "    units:          degree_north\n",
       "    valid_min:      -90.0\n",
       "    valid_max:      90.0\n",
       "    QC_indicator:   1\n",
       "    QC_procedure:   1\n",
       "    uncertainty:     \n",
       "    comment:        Interpolated data\n",
       "    axis:           Y"
      ]
     },
     "execution_count": 86,
     "metadata": {},
     "output_type": "execute_result"
    }
   ],
   "source": [
    "ds['LATITUDE']"
   ]
  },
  {
   "cell_type": "markdown",
   "metadata": {},
   "source": [
    "Every of the above variables have a corresponding '_QC' variable, which is the variable that contains the data quality flags:"
   ]
  },
  {
   "cell_type": "code",
   "execution_count": 87,
   "metadata": {
    "collapsed": false
   },
   "outputs": [
    {
     "data": {
      "text/plain": [
       "<xarray.DataArray 'POSITION_QC' (POSITION: 142)>\n",
       "array([ 1.,  1.,  1.,  1.,  1.,  1.,  1.,  1.,  1.,  1.,  1.,  1.,  1.,  1.,\n",
       "        1.,  1.,  1.,  1.,  1.,  1.,  1.,  1.,  1.,  1.,  1.,  1.,  1.,  1.,\n",
       "        1.,  1.,  1.,  1.,  1.,  1.,  1.,  1.,  1.,  1.,  1.,  1.,  1.,  1.,\n",
       "        1.,  1.,  1.,  1.,  1.,  1.,  1.,  1.,  1.,  1.,  1.,  1.,  1.,  1.,\n",
       "        1.,  1.,  1.,  1.,  1.,  1.,  1.,  1.,  1.,  1.,  1.,  1.,  1.,  1.,\n",
       "        1.,  1.,  1.,  1.,  1.,  1.,  1.,  1.,  1.,  1.,  1.,  1.,  1.,  1.,\n",
       "        1.,  1.,  1.,  1.,  1.,  1.,  1.,  1.,  1.,  1.,  1.,  1.,  1.,  1.,\n",
       "        1.,  1.,  1.,  1.,  1.,  1.,  1.,  1.,  1.,  1.,  1.,  1.,  1.,  1.,\n",
       "        1.,  1.,  1.,  1.,  1.,  1.,  1.,  1.,  1.,  1.,  1.,  1.,  1.,  1.,\n",
       "        1.,  1.,  1.,  1.,  1.,  1.,  1.,  1.,  1.,  1.,  1.,  1.,  1.,  1.,\n",
       "        1.,  1.])\n",
       "Dimensions without coordinates: POSITION\n",
       "Attributes:\n",
       "    long_name:      quality flag\n",
       "    conventions:    OceanSITES reference table 2\n",
       "    valid_min:      0\n",
       "    valid_max:      9\n",
       "    flag_values:    [0 1 2 3 4 5 6 7 8 9]\n",
       "    flag_meanings:  no_qc_performed good_data probably_good_data bad_data_tha..."
      ]
     },
     "execution_count": 87,
     "metadata": {},
     "output_type": "execute_result"
    }
   ],
   "source": [
    "ds['POSITION_QC']"
   ]
  },
  {
   "cell_type": "markdown",
   "metadata": {},
   "source": [
    "This '_QC' variable will therefore guide us when when working with the parameter data to distinguish good from bad data: "
   ]
  },
  {
   "cell_type": "code",
   "execution_count": 88,
   "metadata": {
    "collapsed": false
   },
   "outputs": [
    {
     "data": {
      "text/html": [
       "<div>\n",
       "<table border=\"1\" class=\"dataframe\">\n",
       "  <thead>\n",
       "    <tr style=\"text-align: right;\">\n",
       "      <th></th>\n",
       "      <th>quality flag</th>\n",
       "    </tr>\n",
       "  </thead>\n",
       "  <tbody>\n",
       "    <tr>\n",
       "      <th>no_qc_performed</th>\n",
       "      <td>0</td>\n",
       "    </tr>\n",
       "    <tr>\n",
       "      <th>good_data</th>\n",
       "      <td>1</td>\n",
       "    </tr>\n",
       "    <tr>\n",
       "      <th>probably_good_data</th>\n",
       "      <td>2</td>\n",
       "    </tr>\n",
       "    <tr>\n",
       "      <th>bad_data_that_are_potentially_correctable</th>\n",
       "      <td>3</td>\n",
       "    </tr>\n",
       "    <tr>\n",
       "      <th>bad_data</th>\n",
       "      <td>4</td>\n",
       "    </tr>\n",
       "    <tr>\n",
       "      <th>value_changed</th>\n",
       "      <td>5</td>\n",
       "    </tr>\n",
       "    <tr>\n",
       "      <th>not_used</th>\n",
       "      <td>6</td>\n",
       "    </tr>\n",
       "    <tr>\n",
       "      <th>nominal_value</th>\n",
       "      <td>7</td>\n",
       "    </tr>\n",
       "    <tr>\n",
       "      <th>interpolated_value</th>\n",
       "      <td>8</td>\n",
       "    </tr>\n",
       "    <tr>\n",
       "      <th>missing_value</th>\n",
       "      <td>9</td>\n",
       "    </tr>\n",
       "  </tbody>\n",
       "</table>\n",
       "</div>"
      ],
      "text/plain": [
       "                                           quality flag\n",
       "no_qc_performed                                       0\n",
       "good_data                                             1\n",
       "probably_good_data                                    2\n",
       "bad_data_that_are_potentially_correctable             3\n",
       "bad_data                                              4\n",
       "value_changed                                         5\n",
       "not_used                                              6\n",
       "nominal_value                                         7\n",
       "interpolated_value                                    8\n",
       "missing_value                                         9"
      ]
     },
     "execution_count": 88,
     "metadata": {},
     "output_type": "execute_result"
    }
   ],
   "source": [
    "pd.DataFrame(data=ds['POSITION_QC'].attrs['flag_values'], index = ds['POSITION_QC'].attrs['flag_meanings'].split(' '), columns = ['quality flag'])"
   ]
  },
  {
   "cell_type": "code",
   "execution_count": 89,
   "metadata": {
    "collapsed": false
   },
   "outputs": [
    {
     "data": {
      "text/plain": [
       "[<matplotlib.lines.Line2D at 0x7f520043dfd0>]"
      ]
     },
     "execution_count": 89,
     "metadata": {},
     "output_type": "execute_result"
    },
    {
     "data": {
      "image/png": "[encoded data removed]",
      "text/plain": [
       "<matplotlib.figure.Figure at 0x7f5200815750>"
      ]
     },
     "metadata": {},
     "output_type": "display_data"
    }
   ],
   "source": [
    "ds['POSITION_QC'].plot(aspect=2, size=5)"
   ]
  },
  {
   "cell_type": "markdown",
   "metadata": {},
   "source": [
    "In this case, all positions are considered 'good' so we skip any further data selection to overlook not-good data."
   ]
  },
  {
   "cell_type": "markdown",
   "metadata": {},
   "source": [
    "## 2. Animating a drfiter trajectory with folium"
   ]
  },
  {
   "cell_type": "code",
   "execution_count": 90,
   "metadata": {
    "collapsed": true
   },
   "outputs": [],
   "source": [
    "lats = ds['LATITUDE'].values.tolist()\n",
    "lons = ds['LONGITUDE'].values.tolist()\n",
    "times = ds['TIME'].values.tolist()"
   ]
  },
  {
   "cell_type": "code",
   "execution_count": 91,
   "metadata": {
    "collapsed": true
   },
   "outputs": [],
   "source": [
    "mean_lat = np.mean(lats)\n",
    "mean_lon = np.mean(lons)"
   ]
  },
  {
   "cell_type": "code",
   "execution_count": 92,
   "metadata": {
    "collapsed": true
   },
   "outputs": [],
   "source": [
    "drifter = {\n",
    "    'type': 'Feature',\n",
    "    'geometry': {\n",
    "        'type': 'LineString',\n",
    "        'coordinates': []\n",
    "    },\n",
    "    'properties': {\n",
    "        'times': [],\n",
    "        'variable': []\n",
    "    }\n",
    "}"
   ]
  },
  {
   "cell_type": "code",
   "execution_count": 93,
   "metadata": {
    "collapsed": true
   },
   "outputs": [],
   "source": [
    "for time, lat, lon in zip(times, lats, lons) :\n",
    "    unix_timestamp = int(str(time)[:13])\n",
    "    drifter['properties']['times'].append(unix_timestamp)\n",
    "    drifter['geometry']['coordinates'].append([lon,lat])"
   ]
  },
  {
   "cell_type": "code",
   "execution_count": 94,
   "metadata": {
    "collapsed": false
   },
   "outputs": [
    {
     "data": {
      "text/html": [
       "<div style=\"width:100%;\"><div style=\"position:relative;width:100%;height:0;padding-bottom:60%;\"><iframe src=\"data:text/html;charset=utf-8;base64,PCFET0NUWVBFIGh0bWw+CjxoZWFkPiAgICAKICAgIDxtZXRhIGh0dHAtZXF1aXY9ImNvbnRlbnQtdHlwZSIgY29udGVudD0idGV4dC9odG1sOyBjaGFyc2V0PVVURi04IiAvPgogICAgPHNjcmlwdD5MX1BSRUZFUl9DQU5WQVMgPSBmYWxzZTsgTF9OT19UT1VDSCA9IGZhbHNlOyBMX0RJU0FCTEVfM0QgPSBmYWxzZTs8L3NjcmlwdD4KICAgIDxzY3JpcHQgc3JjPSJodHRwczovL2Nkbi5qc2RlbGl2ci5uZXQvbnBtL2xlYWZsZXRAMS4yLjAvZGlzdC9sZWFmbGV0LmpzIj48L3NjcmlwdD4KICAgIDxzY3JpcHQgc3JjPSJodHRwczovL2FqYXguZ29vZ2xlYXBpcy5jb20vYWpheC9saWJzL2pxdWVyeS8xLjExLjEvanF1ZXJ5Lm1pbi5qcyI+PC9zY3JpcHQ+CiAgICA8c2NyaXB0IHNyYz0iaHR0cHM6Ly9tYXhjZG4uYm9vdHN0cmFwY2RuLmNvbS9ib290c3RyYXAvMy4yLjAvanMvYm9vdHN0cmFwLm1pbi5qcyI+PC9zY3JpcHQ+CiAgICA8c2NyaXB0IHNyYz0iaHR0cHM6Ly9jZG5qcy5jbG91ZGZsYXJlLmNvbS9hamF4L2xpYnMvTGVhZmxldC5hd2Vzb21lLW1hcmtlcnMvMi4wLjIvbGVhZmxldC5hd2Vzb21lLW1hcmtlcnMuanMiPjwvc2NyaXB0PgogICAgPGxpbmsgcmVsPSJzdHlsZXNoZWV0IiBocmVmPSJodHRwczovL2Nkbi5qc2RlbGl2ci5uZXQvbnBtL2xlYWZsZXRAMS4yLjAvZGlzdC9sZWFmbGV0LmNzcyIvPgogICAgPGxpbmsgcmVsPSJzdHlsZXNoZWV0IiBocmVmPSJodHRwczovL21heGNkbi5ib290c3RyYXBjZG4uY29tL2Jvb3RzdHJhcC8zLjIuMC9jc3MvYm9vdHN0cmFwLm1pbi5jc3MiLz4KICAgIDxsaW5rIHJlbD0ic3R5bGVzaGVldCIgaHJlZj0iaHR0cHM6Ly9tYXhjZG4uYm9vdHN0cmFwY2RuLmNvbS9ib290c3RyYXAvMy4yLjAvY3NzL2Jvb3RzdHJhcC10aGVtZS5taW4uY3NzIi8+CiAgICA8bGluayByZWw9InN0eWxlc2hlZXQiIGhyZWY9Imh0dHBzOi8vbWF4Y2RuLmJvb3RzdHJhcGNkbi5jb20vZm9udC1hd2Vzb21lLzQuNi4zL2Nzcy9mb250LWF3ZXNvbWUubWluLmNzcyIvPgogICAgPGxpbmsgcmVsPSJzdHlsZXNoZWV0IiBocmVmPSJodHRwczovL2NkbmpzLmNsb3VkZmxhcmUuY29tL2FqYXgvbGlicy9MZWFmbGV0LmF3ZXNvbWUtbWFya2Vycy8yLjAuMi9sZWFmbGV0LmF3ZXNvbWUtbWFya2Vycy5jc3MiLz4KICAgIDxsaW5rIHJlbD0ic3R5bGVzaGVldCIgaHJlZj0iaHR0cHM6Ly9yYXdnaXQuY29tL3B5dGhvbi12aXN1YWxpemF0aW9uL2ZvbGl1bS9tYXN0ZXIvZm9saXVtL3RlbXBsYXRlcy9sZWFmbGV0LmF3ZXNvbWUucm90YXRlLmNzcyIvPgogICAgPHN0eWxlPmh0bWwsIGJvZHkge3dpZHRoOiAxMDAlO2hlaWdodDogMTAwJTttYXJnaW46IDA7cGFkZGluZzogMDt9PC9zdHlsZT4KICAgIDxzdHlsZT4jbWFwIHtwb3NpdGlvbjphYnNvbHV0ZTt0b3A6MDtib3R0b206MDtyaWdodDowO2xlZnQ6MDt9PC9zdHlsZT4KICAgIAogICAgICAgICAgICA8c3R5bGU+ICNtYXBfOWNmNjU5YjA1ZmExNDZjZjhlYmU0MGQwMjVkZWE2MjEgewogICAgICAgICAgICAgICAgcG9zaXRpb24gOiByZWxhdGl2ZTsKICAgICAgICAgICAgICAgIHdpZHRoIDogMTAwLjAlOwogICAgICAgICAgICAgICAgaGVpZ2h0OiAxMDAuMCU7CiAgICAgICAgICAgICAgICBsZWZ0OiAwLjAlOwogICAgICAgICAgICAgICAgdG9wOiAwLjAlOwogICAgICAgICAgICAgICAgfQogICAgICAgICAgICA8L3N0eWxlPgogICAgICAgIAogICAgPHNjcmlwdCBzcmM9Imh0dHBzOi8vY2RuanMuY2xvdWRmbGFyZS5jb20vYWpheC9saWJzL2pxdWVyeS8yLjAuMC9qcXVlcnkubWluLmpzIj48L3NjcmlwdD4KICAgIDxzY3JpcHQgc3JjPSJodHRwczovL2NkbmpzLmNsb3VkZmxhcmUuY29tL2FqYXgvbGlicy9qcXVlcnl1aS8xLjEwLjIvanF1ZXJ5LXVpLm1pbi5qcyI+PC9zY3JpcHQ+CiAgICA8c2NyaXB0IHNyYz0iaHR0cHM6Ly9yYXdnaXQuY29tL25lemFzYS9pc284NjAxLWpzLXBlcmlvZC9tYXN0ZXIvaXNvODYwMS5taW4uanMiPjwvc2NyaXB0PgogICAgPHNjcmlwdCBzcmM9Imh0dHBzOi8vcmF3Z2l0LmNvbS9zb2NpYi9MZWFmbGV0LlRpbWVEaW1lbnNpb24vbWFzdGVyL2Rpc3QvbGVhZmxldC50aW1lZGltZW5zaW9uLm1pbi5qcyI+PC9zY3JpcHQ+CiAgICA8bGluayByZWw9InN0eWxlc2hlZXQiIGhyZWY9Imh0dHBzOi8vY2RuanMuY2xvdWRmbGFyZS5jb20vYWpheC9saWJzL2hpZ2hsaWdodC5qcy84LjQvc3R5bGVzL2RlZmF1bHQubWluLmNzcyIvPgogICAgPGxpbmsgcmVsPSJzdHlsZXNoZWV0IiBocmVmPSJodHRwOi8vYXBwcy5zb2NpYi5lcy9MZWFmbGV0LlRpbWVEaW1lbnNpb24vZGlzdC9sZWFmbGV0LnRpbWVkaW1lbnNpb24uY29udHJvbC5taW4uY3NzIi8+CjwvaGVhZD4KPGJvZHk+ICAgIAogICAgCiAgICAgICAgICAgIDxkaXYgY2xhc3M9ImZvbGl1bS1tYXAiIGlkPSJtYXBfOWNmNjU5YjA1ZmExNDZjZjhlYmU0MGQwMjVkZWE2MjEiID48L2Rpdj4KICAgICAgICAKPC9ib2R5Pgo8c2NyaXB0PiAgICAKICAgIAoKICAgICAgICAgICAgCiAgICAgICAgICAgICAgICB2YXIgYm91bmRzID0gbnVsbDsKICAgICAgICAgICAgCgogICAgICAgICAgICB2YXIgbWFwXzljZjY1OWIwNWZhMTQ2Y2Y4ZWJlNDBkMDI1ZGVhNjIxID0gTC5tYXAoCiAgICAgICAgICAgICAgICAgICAgICAgICAgICAgICAgICAnbWFwXzljZjY1OWIwNWZhMTQ2Y2Y4ZWJlNDBkMDI1ZGVhNjIxJywKICAgICAgICAgICAgICAgICAgICAgICAgICAgICAgICAgIHtjZW50ZXI6IFs0My4yNTc2NDk1Njk0LDEwLjA3NDIyNjUwMDNdLAogICAgICAgICAgICAgICAgICAgICAgICAgICAgICAgICAgem9vbTogNywKICAgICAgICAgICAgICAgICAgICAgICAgICAgICAgICAgIG1heEJvdW5kczogYm91bmRzLAogICAgICAgICAgICAgICAgICAgICAgICAgICAgICAgICAgbGF5ZXJzOiBbXSwKICAgICAgICAgICAgICAgICAgICAgICAgICAgICAgICAgIHdvcmxkQ29weUp1bXA6IGZhbHNlLAogICAgICAgICAgICAgICAgICAgICAgICAgICAgICAgICAgY3JzOiBMLkNSUy5FUFNHMzg1NwogICAgICAgICAgICAgICAgICAgICAgICAgICAgICAgICB9KTsKICAgICAgICAgICAgCiAgICAgICAgCiAgICAKICAgICAgICAgICAgdmFyIHRpbGVfbGF5ZXJfMjRkMzU2OWYzNWFmNGYxZjg2ZGUzYTVkZmJmZjkxZDYgPSBMLnRpbGVMYXllcigKICAgICAgICAgICAgICAgICdodHRwczovL3tzfS50aWxlLm9wZW5zdHJlZXRtYXAub3JnL3t6fS97eH0ve3l9LnBuZycsCiAgICAgICAgICAgICAgICB7CiAgImF0dHJpYnV0aW9uIjogbnVsbCwgCiAgImRldGVjdFJldGluYSI6IGZhbHNlLCAKICAibWF4Wm9vbSI6IDE4LCAKICAibWluWm9vbSI6IDEsIAogICJub1dyYXAiOiBmYWxzZSwgCiAgInN1YmRvbWFpbnMiOiAiYWJjIgp9CiAgICAgICAgICAgICAgICApLmFkZFRvKG1hcF85Y2Y2NTliMDVmYTE0NmNmOGViZTQwZDAyNWRlYTYyMSk7CiAgICAgICAgCiAgICAKICAgICAgICAgICAgbWFwXzljZjY1OWIwNWZhMTQ2Y2Y4ZWJlNDBkMDI1ZGVhNjIxLnRpbWVEaW1lbnNpb24gPSBMLnRpbWVEaW1lbnNpb24oe3BlcmlvZDoiUFQxSCJ9KTsKICAgICAgICAgICAgbWFwXzljZjY1OWIwNWZhMTQ2Y2Y4ZWJlNDBkMDI1ZGVhNjIxLnRpbWVEaW1lbnNpb25Db250cm9sID0gTC5jb250cm9sLnRpbWVEaW1lbnNpb24oewogICAgICAgICAgICAgICAgcG9zaXRpb246ICdib3R0b21sZWZ0JywKICAgICAgICAgICAgICAgIGF1dG9QbGF5OiB0cnVlLAogICAgICAgICAgICAgICAgcGxheWVyT3B0aW9uczogewogICAgICAgICAgICAgICAgICAgIHRyYW5zaXRpb25UaW1lOiAyMDAsCiAgICAgICAgICAgICAgICAgICAgbG9vcDogZmFsc2V9CiAgICAgICAgICAgICAgICAgICAgfSk7CiAgICAgICAgICAgIG1hcF85Y2Y2NTliMDVmYTE0NmNmOGViZTQwZDAyNWRlYTYyMS5hZGRDb250cm9sKG1hcF85Y2Y2NTliMDVmYTE0NmNmOGViZTQwZDAyNWRlYTYyMS50aW1lRGltZW5zaW9uQ29udHJvbCk7CgogICAgICAgICAgICB2YXIgdGltZXN0YW1wZWRfZ2VvX2pzb25fZjFjMDY1NDUyNTljNDQ3OGE4MTBmYTQ0ZTUxN2FiODEgPSBMLnRpbWVEaW1lbnNpb24ubGF5ZXIuZ2VvSnNvbigKICAgICAgICAgICAgICAgIEwuZ2VvSnNvbih7InR5cGUiOiAiRmVhdHVyZUNvbGxlY3Rpb24iLCAiZmVhdHVyZXMiOiBbeyJnZW9tZXRyeSI6IHsidHlwZSI6ICJMaW5lU3RyaW5nIiwgImNvb3JkaW5hdGVzIjogW1s5LjcxNDY2NjM2NjU3NzE0OCwgNDMuODM0MDgzNTU3MTI4OTA2XSwgWzkuNzIyNzU5MjQ2ODI2MTcyLCA0My44MjYzMzU5MDY5ODI0Ml0sIFs5LjczMDI2MTgwMjY3MzM0LCA0My44MTk3MjEyMjE5MjM4M10sIFs5Ljc0MTAzMDY5MzA1NDIsIDQzLjgxNTk1OTkzMDQxOTkyXSwgWzkuNzU1NTU3MDYwMjQxNywgNDMuODEyODgxNDY5NzI2NTZdLCBbOS43NjgzNTM0NjIyMTkyMzgsIDQzLjgwNzg5NTY2MDQwMDM5XSwgWzkuNzg2MzMzMDg0MTA2NDQ1LCA0My44MDcwNDExNjgyMTI4OV0sIFs5LjgyNjczODM1NzU0Mzk0NSwgNDMuNzk5MzY1OTk3MzE0NDVdLCBbOS44NzkzMTI1MTUyNTg3ODksIDQzLjc3NTkzNjEyNjcwODk4NF0sIFs5LjkyNjI3OTA2Nzk5MzE2NCwgNDMuNzQ2MTA1MTk0MDkxOF0sIFs5Ljk1NTM1Mjc4MzIwMzEyNSwgNDMuNzIzNzgxNTg1NjkzMzZdLCBbOS45NzI5MjgwNDcxODAxNzYsIDQzLjcxMTE1ODc1MjQ0MTQwNl0sIFs5Ljk5MTA3ODM3Njc3MDAyLCA0My43MDgxMjk4ODI4MTI1XSwgWzEwLjAxMDU5NjI3NTMyOTU5LCA0My43MTAzNDYyMjE5MjM4M10sIFsxMC4wMzA4OTMzMjU4MDU2NjQsIDQzLjcxMTcxNTY5ODI0MjE5XSwgWzEwLjA0MDYxMTI2NzA4OTg0NCwgNDMuNzIwNjA3NzU3NTY4MzZdLCBbMTAuMDU4NzYxNTk2Njc5Njg4LCA0My43Mjg2Nzk2NTY5ODI0Ml0sIFsxMC4wNjA3NjQzMTI3NDQxNCwgNDMuNzM0MjQ1MzAwMjkyOTddLCBbMTAuMDUwNDQ1NTU2NjQwNjI1LCA0My43NDA0NTk0NDIxMzg2N10sIFsxMC4wNDI1MDUyNjQyODIyMjcsIDQzLjc1MjI0MzA0MTk5MjE5XSwgWzEwLjA0MTYyOTc5MTI1OTc2NiwgNDMuNzYwMTI4MDIxMjQwMjM0XSwgWzEwLjAzODExMjY0MDM4MDg2LCA0My43NTc1NjA3Mjk5ODA0N10sIFsxMC4wMjgxMjY3MTY2MTM3NywgNDMuNzUyMDcxMzgwNjE1MjM0XSwgWzEwLjAxNzU4OTU2OTA5MTc5NywgNDMuNzUwMDk1MzY3NDMxNjRdLCBbMTAuMDIxMTcyNTIzNDk4NTM1LCA0My43NDI5NzcxNDIzMzM5ODRdLCBbMTAuMDIxNTYyNTc2MjkzOTQ1LCA0My43Mjc2MDAwOTc2NTYyNV0sIFsxMC4wMTAxMzQ2OTY5NjA0NSwgNDMuNzE2NTI5ODQ2MTkxNDA2XSwgWzEwLjAwMTc1ODU3NTQzOTQ1MywgNDMuNzA5MTg2NTUzOTU1MDhdLCBbOS45OTcxMzMyNTUwMDQ4ODMsIDQzLjY5NzY0MzI4MDAyOTNdLCBbOS45OTU4NzE1NDM4ODQyNzcsIDQzLjY3NjgxODg0NzY1NjI1XSwgWzkuOTg1OTUxNDIzNjQ1MDIsIDQzLjY1MjgzNTg0NTk0NzI2Nl0sIFs5Ljk3NTk2NjQ1MzU1MjI0NiwgNDMuNjMxNTg0MTY3NDgwNDddLCBbOS45NzQ5OTU2MTMwOTgxNDUsIDQzLjU5NjM4NTk1NTgxMDU1XSwgWzkuOTY3MDg1ODM4MzE3ODcxLCA0My41Njg2NTMxMDY2ODk0NV0sIFs5Ljk1NTY2MjcyNzM1NTk1NywgNDMuNTQ0MDI1NDIxMTQyNThdLCBbOS45NTA3NTQxNjU2NDk0MTQsIDQzLjUxMzQwMTAzMTQ5NDE0XSwgWzkuOTUzMDIzOTEwNTIyNDYxLCA0My40ODAxNjczODg5MTYwMTZdLCBbOS45NTgxNjk5MzcxMzM3ODksIDQzLjQ0NzA0NDM3MjU1ODU5NF0sIFs5Ljk3MjgwNzg4NDIxNjMwOSwgNDMuNDE1ODkzNTU0Njg3NV0sIFs5Ljk4Njk3NjYyMzUzNTE1NiwgNDMuMzg3OTUwODk3MjE2OF0sIFs5Ljk5NDY0MTMwNDAxNjExMywgNDMuMzczMTk1NjQ4MTkzMzZdLCBbMTAuMDExMTIxNzQ5ODc3OTMsIDQzLjM2NzkxMjI5MjQ4MDQ3XSwgWzEwLjAyOTA1NzUwMjc0NjU4MiwgNDMuMzYyOTYwODE1NDI5NjldLCBbMTAuMDM0ODcxMTAxMzc5Mzk1LCA0My4zNjM5NzkzMzk1OTk2MV0sIFsxMC4wNDQ3NTk3NTAzNjYyMTEsIDQzLjM3NTAxOTA3MzQ4NjMzXSwgWzEwLjA0NzA1NjE5ODEyMDExNywgNDMuMzg5MDkxNDkxNjk5MjJdLCBbMTAuMDQyNTE0ODAxMDI1MzksIDQzLjQwNDE5MDA2MzQ3NjU2XSwgWzEwLjAzODg2NTA4OTQxNjUwNCwgNDMuNDE1NTI3MzQzNzVdLCBbMTAuMDQwODAzOTA5MzAxNzU4LCA0My40MjAxNzM2NDUwMTk1M10sIFsxMC4wNDE2Nzg0Mjg2NDk5MDIsIDQzLjQxNzUyMjQzMDQxOTkyXSwgWzEwLjAyOTgyOTAyNTI2ODU1NSwgNDMuNDIwODM3NDAyMzQzNzVdLCBbMTAuMDIzNDE1NTY1NDkwNzIzLCA0My40MzIzMTIwMTE3MTg3NV0sIFsxMC4wMjEzODA0MjQ0OTk1MTIsIDQzLjQ0MzI2MDE5Mjg3MTA5NF0sIFsxMC4wMDgzMTIyMjUzNDE3OTcsIDQzLjQ1MTQzMTI3NDQxNDA2XSwgWzkuOTk1NzM1MTY4NDU3MDMxLCA0My40NTYzOTAzODA4NTkzNzVdLCBbOS45OTI5ODA5NTcwMzEyNSwgNDMuNDU1NzgzODQzOTk0MTRdLCBbOS45OTI1NjAzODY2NTc3MTUsIDQzLjQ0NzQ4MzA2Mjc0NDE0XSwgWzkuOTc1Mzk3MTA5OTg1MzUyLCA0My40MzE5MTE0Njg1MDU4Nl0sIFs5Ljk1MTc0ODg0Nzk2MTQyNiwgNDMuNDE2MTU2NzY4Nzk4ODNdLCBbOS45MzM4MTUwMDI0NDE0MDYsIDQzLjQwNTgzODAxMjY5NTMxXSwgWzkuOTI1NjEyNDQ5NjQ1OTk2LCA0My4zODYzNDEwOTQ5NzA3XSwgWzkuOTIzMTQwNTI1ODE3ODcxLCA0My4zNjUyNTM0NDg0ODYzM10sIFs5LjkzMDkyMDYwMDg5MTExMywgNDMuMzQ1NTg4Njg0MDgyMDNdLCBbOS45MzgxODQ3MzgxNTkxOCwgNDMuMzI4MTUxNzAyODgwODZdLCBbOS45NDE0NjgyMzg4MzA1NjYsIDQzLjMxNDgzMDc4MDAyOTNdLCBbOS45NTUxNTE1NTc5MjIzNjMsIDQzLjI5OTk5NTQyMjM2MzI4XSwgWzkuOTY4NTE2MzQ5NzkyNDgsIDQzLjI4MTk3NDc5MjQ4MDQ3XSwgWzkuOTczNDA0ODg0MzM4Mzc5LCA0My4yNjc2MzE1MzA3NjE3Ml0sIFs5Ljk4MDc3Nzc0MDQ3ODUxNiwgNDMuMjU1NTg0NzE2Nzk2ODc1XSwgWzkuOTkxNDA2NDQwNzM0ODYzLCA0My4yNDYxMTY2MzgxODM1OTRdLCBbMTAuMDA0ODM3OTg5ODA3MTI5LCA0My4yMzgxMDE5NTkyMjg1MTZdLCBbMTAuMDE4OTQ1NjkzOTY5NzI3LCA0My4yMjkwNjg3NTYxMDM1MTZdLCBbMTAuMDI5NTM1MjkzNTc5MTAyLCA0My4yMjQ1NzUwNDI3MjQ2MV0sIFsxMC4wNDQxODE4MjM3MzA0NjksIDQzLjIxNzg2NDk5MDIzNDM3NV0sIFsxMC4wNTE4MTg4NDc2NTYyNSwgNDMuMjA1NzAzNzM1MzUxNTZdLCBbMTAuMDU2MTA2NTY3MzgyODEyLCA0My4xOTg1Mzk3MzM4ODY3Ml0sIFsxMC4wNjIwMzI2OTk1ODQ5NjEsIDQzLjE5MzQwNTE1MTM2NzE5XSwgWzEwLjA3MDgxNjk5MzcxMzM3OSwgNDMuMTg3ODQ3MTM3NDUxMTddLCBbMTAuMDc3Mzg3ODA5NzUzNDE4LCA0My4xODAwNDIyNjY4NDU3XSwgWzEwLjA4MzAyNTkzMjMxMjAxMiwgNDMuMTczOTA4MjMzNjQyNThdLCBbMTAuMDk0NjAwNjc3NDkwMjM0LCA0My4xNTk3MDYxMTU3MjI2NTZdLCBbMTAuMTA4MDA1NTIzNjgxNjQsIDQzLjEzNzY0NTcyMTQzNTU1XSwgWzEwLjExMDIwNTY1MDMyOTU5LCA0My4xMTE0Mzg3NTEyMjA3XSwgWzEwLjA5NDcyMjc0NzgwMjczNCwgNDMuMDk4NDM4MjYyOTM5NDVdLCBbMTAuMDg5ODU3MTAxNDQwNDMsIDQzLjA5MzAzMjgzNjkxNDA2XSwgWzEwLjA5NzM3MTEwMTM3OTM5NSwgNDMuMDg4MDY2MTAxMDc0MjJdLCBbMTAuMTE3MzUxNTMxOTgyNDIyLCA0My4wNzgzODA1ODQ3MTY4XSwgWzEwLjEzMjgxNjMxNDY5NzI2NiwgNDMuMDY1Mjc3MDk5NjA5Mzc1XSwgWzEwLjE0NzI5NDk5ODE2ODk0NSwgNDMuMDUxNDg2OTY4OTk0MTRdLCBbMTAuMTYwNzY3NTU1MjM2ODE2LCA0My4wMzQ4Nzc3NzcwOTk2MV0sIFsxMC4xNjk0MDg3OTgyMTc3NzMsIDQzLjAyMTA0MTg3MDExNzE5XSwgWzEwLjE4MjAxNDQ2NTMzMjAzMSwgNDMuMDEyMDU4MjU4MDU2NjRdLCBbMTAuMTk3NjMxODM1OTM3NSwgNDMuMDAxNzgxNDYzNjIzMDVdLCBbMTAuMjExNjY5OTIxODc1LCA0Mi45ODY2NzE0NDc3NTM5MDZdLCBbMTAuMjE3NzAzODE5Mjc0OTAyLCA0Mi45Njk1MTI5Mzk0NTMxMjVdLCBbMTAuMjA5MTYwODA0NzQ4NTM1LCA0Mi45NjI2MDgzMzc0MDIzNDRdLCBbMTAuMjA3NDI3MDI0ODQxMzA5LCA0Mi45NjU4Njk5MDM1NjQ0NV0sIFsxMC4yMjMzNDQ4MDI4NTY0NDUsIDQyLjk2NDI5ODI0ODI5MTAxNl0sIFsxMC4yNDA0NjcwNzE1MzMyMDMsIDQyLjk1MTQ1NDE2MjU5NzY1Nl0sIFsxMC4yNDAyOTU0MTAxNTYyNSwgNDIuOTM0MjE5MzYwMzUxNTZdLCBbMTAuMjI4NDEzNTgxODQ4MTQ1LCA0Mi45MjU3NTgzNjE4MTY0MDZdLCBbMTAuMjE5Nzg0NzM2NjMzMywgNDIuOTI3OTk3NTg5MTExMzNdLCBbMTAuMjI2NDc4NTc2NjYwMTU2LCA0Mi45MzMxMTMwOTgxNDQ1M10sIFsxMC4yMzM5MTcyMzYzMjgxMjUsIDQyLjkzMzYwOTAwODc4OTA2XSwgWzEwLjIzOTA2MzI2MjkzOTQ1MywgNDIuOTM1NjA0MDk1NDU4OTg0XSwgWzEwLjI0Mjg4MDgyMTIyODAyNywgNDIuOTMyNzQ2ODg3MjA3MDNdLCBbMTAuMjQzNDA2Mjk1Nzc2MzY3LCA0Mi45Mjk3NjM3OTM5NDUzMV0sIFsxMC4yNDQwMTE4Nzg5NjcyODUsIDQyLjkyODA1NDgwOTU3MDMxXSwgWzEwLjI0NTA1ODA1OTY5MjM4MywgNDIuOTI3NjA4NDg5OTkwMjM0XSwgWzEwLjI0NzY0NjMzMTc4NzExLCA0Mi45MjI2MzQxMjQ3NTU4Nl0sIFsxMC4yNDU3MDM2OTcyMDQ1OSwgNDIuOTE5MDk0MDg1NjkzMzZdLCBbMTAuMjQxMDAzMDM2NDk5MDIzLCA0Mi45MTU3ODI5Mjg0NjY4XSwgWzEwLjI0MTAwOTcxMjIxOTIzOCwgNDIuOTEyNzg0NTc2NDE2MDE2XSwgWzEwLjI0MjkyODUwNDk0Mzg0OCwgNDIuOTA3MzY3NzA2Mjk4ODNdLCBbMTAuMjQxMjA2MTY5MTI4NDE4LCA0Mi45MDAwNjI1NjEwMzUxNTZdLCBbMTAuMjM5ODc5NjA4MTU0Mjk3LCA0Mi44OTIyMTE5MTQwNjI1XSwgWzEwLjIzOTg4NDM3NjUyNTg3OSwgNDIuODg4MjUyMjU4MzAwNzhdLCBbMTAuMjQxMzc5NzM3ODU0MDA0LCA0Mi44ODc1MDA3NjI5Mzk0NV0sIFsxMC4yNDU5NjY5MTEzMTU5MTgsIDQyLjg4NTY2OTcwODI1MTk1XSwgWzEwLjI0NTQ2ODEzOTY0ODQzOCwgNDIuODc5NzExMTUxMTIzMDVdLCBbMTAuMjQxMTAzMTcyMzAyMjQ2LCA0Mi44NzYzMTk4ODUyNTM5MDZdLCBbMTAuMjM5NDM4MDU2OTQ1OCwgNDIuODc1NTcyMjA0NTg5ODQ0XSwgWzEwLjI0Mjk0OTQ4NTc3ODgwOSwgNDIuODc2Njk3NTQwMjgzMl0sIFsxMC4yNDgyMTA5MDY5ODI0MjIsIDQyLjg3NDQ5NjQ1OTk2MDk0XSwgWzEwLjI0OTQ3NzM4NjQ3NDYxLCA0Mi44Njc5MDA4NDgzODg2N10sIFsxMC4yNDMwMDc2NTk5MTIxMSwgNDIuODY0NzAwMzE3MzgyODFdLCBbMTAuMjM5NjU4MzU1NzEyODksIDQyLjg2NTA2MjcxMzYyMzA1XSwgWzEwLjI0MzU2NjUxMzA2MTUyMywgNDIuODYxMjA5ODY5Mzg0NzY2XSwgWzEwLjI0NDI5MzIxMjg5MDYyNSwgNDIuODQ5OTI1OTk0ODczMDVdLCBbMTAuMjM2ODMzNTcyMzg3Njk1LCA0Mi44Mzk2MjI0OTc1NTg1OTRdLCBbMTAuMjI4MjA5NDk1NTQ0NDM0LCA0Mi44MzUzNjkxMTAxMDc0Ml0sIFsxMC4yMTY1ODEzNDQ2MDQ0OTIsIDQyLjgzMTE2OTEyODQxNzk3XSwgWzEwLjIwNTk5NjUxMzM2NjcsIDQyLjgyNTMyNTAxMjIwNzAzXSwgWzEwLjE5NTk5MjQ2OTc4NzU5OCwgNDIuODIyMjUwMzY2MjEwOTRdLCBbMTAuMTg0MzM2NjYyMjkyNDgsIDQyLjgyMTE3ODQzNjI3OTNdLCBbMTAuMTY1Nzk0MzcyNTU4NTk0LCA0Mi44MTg5NTA2NTMwNzYxN10sIFsxMC4xNTE5ODgwMjk0Nzk5OCwgNDIuODE2MTI3Nzc3MDk5NjFdLCBbMTAuMTQ0NzQxMDU4MzQ5NjEsIDQyLjgxNTQwMjk4NDYxOTE0XSwgWzEwLjEzMDc4MTE3MzcwNjA1NSwgNDIuODE1MTAxNjIzNTM1MTU2XSwgWzEwLjEwNDI3ODU2NDQ1MzEyNSwgNDIuODA0ODEzMzg1MDA5NzY2XSwgWzEwLjA3ODE3NDU5MTA2NDQ1MywgNDIuNzgyOTI4NDY2Nzk2ODc1XSwgWzEwLjA2MDAwOTk1NjM1OTg2MywgNDIuNzY2MTcwNTAxNzA4OTg0XV19LCAidHlwZSI6ICJGZWF0dXJlIiwgInByb3BlcnRpZXMiOiB7InZhcmlhYmxlIjogW10sICJ0aW1lcyI6IFsxNTA2NDM4MDAwMDAwLCAxNTA2NDQ4ODAwMDAwLCAxNTA2NDU5NjAwMDAwLCAxNTA2NDcwNDAwMDAwLCAxNTA2NDgxMjAwMDAwLCAxNTA2NDkyMDAwMDAwLCAxNTA2NTAyODAwMDAwLCAxNTA2NTEzNjAwMDAwLCAxNTA2NTI0NDAwMDAwLCAxNTA2NTM1MjAwMDAwLCAxNTA2NTQ2MDAwMDAwLCAxNTA2NTU2ODAwMDAwLCAxNTA2NTY3NjAwMDAwLCAxNTA2NTc4NDAwMDAwLCAxNTA2NTg5MjAwMDAwLCAxNTA2NjAwMDAwMDAwLCAxNTA2NjEwODAwMDAwLCAxNTA2NjIxNjAwMDAwLCAxNTA2NjMyNDAwMDAwLCAxNTA2NjQzMjAwMDAwLCAxNTA2NjU0MDAwMDAwLCAxNTA2NjY0ODAwMDAwLCAxNTA2Njc1NjAwMDAwLCAxNTA2Njg2NDAwMDAwLCAxNTA2Njk3MjAwMDAwLCAxNTA2NzA4MDAwMDAwLCAxNTA2NzE4ODAwMDAwLCAxNTA2NzI5NjAwMDAwLCAxNTA2NzQwNDAwMDAwLCAxNTA2NzUxMjAwMDAwLCAxNTA2NzYyMDAwMDAwLCAxNTA2NzcyODAwMDAwLCAxNTA2NzgzNjAwMDAwLCAxNTA2Nzk0NDAwMDAwLCAxNTA2ODA1MjAwMDAwLCAxNTA2ODE2MDAwMDAwLCAxNTA2ODI2ODAwMDAwLCAxNTA2ODM3NjAwMDAwLCAxNTA2ODQ4NDAwMDAwLCAxNTA2ODU5MjAwMDAwLCAxNTA2ODcwMDAwMDAwLCAxNTA2ODgwODAwMDAwLCAxNTA2ODkxNjAwMDAwLCAxNTA2OTAyNDAwMDAwLCAxNTA2OTEzMjAwMDAwLCAxNTA2OTI0MDAwMDAwLCAxNTA2OTM0ODAwMDAwLCAxNTA2OTQ1NjAwMDAwLCAxNTA2OTU2NDAwMDAwLCAxNTA2OTY3MjAwMDAwLCAxNTA2OTc4MDAwMDAwLCAxNTA2OTg4ODAwMDAwLCAxNTA2OTk5NjAwMDAwLCAxNTA3MDEwNDAwMDAwLCAxNTA3MDIxMjAwMDAwLCAxNTA3MDMyMDAwMDAwLCAxNTA3MDQyODAwMDAwLCAxNTA3MDUzNjAwMDAwLCAxNTA3MDY0NDAwMDAwLCAxNTA3MDc1MjAwMDAwLCAxNTA3MDg2MDAwMDAwLCAxNTA3MDk2ODAwMDAwLCAxNTA3MTA3NjAwMDAwLCAxNTA3MTE4NDAwMDAwLCAxNTA3MTI5MjAwMDAwLCAxNTA3MTQwMDAwMDAwLCAxNTA3MTUwODAwMDAwLCAxNTA3MTYxNjAwMDAwLCAxNTA3MTcyNDAwMDAwLCAxNTA3MTgzMjAwMDAwLCAxNTA3MTk0MDAwMDAwLCAxNTA3MjA0ODAwMDAwLCAxNTA3MjE1NjAwMDAwLCAxNTA3MjI2NDAwMDAwLCAxNTA3MjM3MjAwMDAwLCAxNTA3MjQ4MDAwMDAwLCAxNTA3MjU4ODAwMDAwLCAxNTA3MjY5NjAwMDAwLCAxNTA3MjgwNDAwMDAwLCAxNTA3MjkxMjAwMDAwLCAxNTA3MzAyMDAwMDAwLCAxNTA3MzEyODAwMDAwLCAxNTA3MzIzNjAwMDAwLCAxNTA3MzM0NDAwMDAwLCAxNTA3MzQ1MjAwMDAwLCAxNTA3MzU2MDAwMDAwLCAxNTA3MzY2ODAwMDAwLCAxNTA3Mzc3NjAwMDAwLCAxNTA3Mzg4NDAwMDAwLCAxNTA3Mzk5MjAwMDAwLCAxNTA3NDEwMDAwMDAwLCAxNTA3NDIwODAwMDAwLCAxNTA3NDMxNjAwMDAwLCAxNTA3NDQyNDAwMDAwLCAxNTA3NDUzMjAwMDAwLCAxNTA3NDY0MDAwMDAwLCAxNTA3NDc0ODAwMDAwLCAxNTA3NDg1NjAwMDAwLCAxNTA3NDk2NDAwMDAwLCAxNTA3NTA3MjAwMDAwLCAxNTA3NTE4MDAwMDAwLCAxNTA3NTI4ODAwMDAwLCAxNTA3NTM5NjAwMDAwLCAxNTA3NTUwNDAwMDAwLCAxNTA3NTYxMjAwMDAwLCAxNTA3NTcyMDAwMDAwLCAxNTA3NTgyODAwMDAwLCAxNTA3NTkzNjAwMDAwLCAxNTA3NjA0NDAwMDAwLCAxNTA3NjE1MjAwMDAwLCAxNTA3NjI2MDAwMDAwLCAxNTA3NjM2ODAwMDAwLCAxNTA3NjQ3NjAwMDAwLCAxNTA3NjU4NDAwMDAwLCAxNTA3NjY5MjAwMDAwLCAxNTA3NjgwMDAwMDAwLCAxNTA3NjkwODAwMDAwLCAxNTA3NzAxNjAwMDAwLCAxNTA3NzEyNDAwMDAwLCAxNTA3NzIzMjAwMDAwLCAxNTA3NzM0MDAwMDAwLCAxNTA3NzQ0ODAwMDAwLCAxNTA3NzU1NjAwMDAwLCAxNTA3NzY2NDAwMDAwLCAxNTA3Nzc3MjAwMDAwLCAxNTA3Nzg4MDAwMDAwLCAxNTA3Nzk4ODAwMDAwLCAxNTA3ODA5NjAwMDAwLCAxNTA3ODIwNDAwMDAwLCAxNTA3ODMxMjAwMDAwLCAxNTA3ODQyMDAwMDAwLCAxNTA3ODUyODAwMDAwLCAxNTA3ODYzNjAwMDAwLCAxNTA3ODc0NDAwMDAwLCAxNTA3ODg1MjAwMDAwLCAxNTA3ODk2MDAwMDAwLCAxNTA3OTA2ODAwMDAwLCAxNTA3OTE3NjAwMDAwLCAxNTA3OTI4NDAwMDAwLCAxNTA3OTM5MjAwMDAwLCAxNTA3OTUwMDAwMDAwLCAxNTA3OTYwODAwMDAwXX19XX0sIHsnc3R5bGUnOiBmdW5jdGlvbiAoZmVhdHVyZSkgewogICAgICAgICAgICAgICAgICAgIHJldHVybiBmZWF0dXJlLnByb3BlcnRpZXMuc3R5bGUKICAgICAgICAgICAgICAgIH19KSwKICAgICAgICAgICAgICAgIHt1cGRhdGVUaW1lRGltZW5zaW9uOiB0cnVlLGFkZGxhc3RQb2ludDogdHJ1ZX0KICAgICAgICAgICAgICAgICkuYWRkVG8obWFwXzljZjY1OWIwNWZhMTQ2Y2Y4ZWJlNDBkMDI1ZGVhNjIxKTsKICAgICAgICAKPC9zY3JpcHQ+\" style=\"position:absolute;width:100%;height:100%;left:0;top:0;border:none !important;\" allowfullscreen webkitallowfullscreen mozallowfullscreen></iframe></div></div>"
      ],
      "text/plain": [
       "<folium.folium.Map at 0x7f51ffa3f390>"
      ]
     },
     "execution_count": 94,
     "metadata": {},
     "output_type": "execute_result"
    }
   ],
   "source": [
    "map = folium.Map(location=[mean_lat, mean_lon], zoom_start=7)\n",
    "marker = plugins.TimestampedGeoJson({\n",
    "    'type': 'FeatureCollection',\n",
    "    'features': [drifter],\n",
    "}, period='PT1H', add_last_point=True, loop=False).add_to(map)\n",
    "map"
   ]
  }
 ],
 "metadata": {
  "kernelspec": {
   "display_name": "Python [anaconda2]",
   "language": "python",
   "name": "Python [anaconda2]"
  },
  "language_info": {
   "codemirror_mode": {
    "name": "ipython",
    "version": 2
   },
   "file_extension": ".py",
   "mimetype": "text/x-python",
   "name": "python",
   "nbconvert_exporter": "python",
   "pygments_lexer": "ipython2",
   "version": "2.7.12"
  }
 },
 "nbformat": 4,
 "nbformat_minor": 0
}
