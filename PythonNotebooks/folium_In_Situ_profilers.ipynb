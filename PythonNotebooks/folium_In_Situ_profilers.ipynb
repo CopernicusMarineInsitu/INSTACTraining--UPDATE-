{
 "cells": [
  {
   "cell_type": "markdown",
   "metadata": {},
   "source": [
    "<H1>MADATORY PYTHON LIBRARIES</H1>"
   ]
  },
  {
   "cell_type": "code",
   "execution_count": 59,
   "metadata": {
    "collapsed": true
   },
   "outputs": [],
   "source": [
    "import xarray\n",
    "import pandas as pd\n",
    "import folium\n",
    "import os\n",
    "import numpy as np\n",
    "from folium import plugins\n",
    "%matplotlib  inline"
   ]
  },
  {
   "cell_type": "markdown",
   "metadata": {},
   "source": [
    "<h1>IN SITU PROFILERS</h1>"
   ]
  },
  {
   "cell_type": "markdown",
   "metadata": {},
   "source": [
    "In Situ 'profilers' comprehends a wide range of devices able to drift with the currents as well as submerge every now and then in the watter column reporting certain parameters along its trajectory. In Situ profilers produce only PR data (profiles) and its platform data source is PF. <a href=\"https://youtu.be/WGbanFvBX38\" traget=\"_blank\">More info</a>"
   ]
  },
  {
   "cell_type": "markdown",
   "metadata": {},
   "source": [
    "## 1. In Situ netCDF"
   ]
  },
  {
   "cell_type": "markdown",
   "metadata": {},
   "source": [
    "Imagine you have downloaded some <i>_PR_ (profile)</i> dataset from In Situ profilers (see how to download files from a certain [platform data source](https://github.com/CopernicusMarineInsitu/INSTAC-Tarining-Phase2/blob/master/PythonNotebook/In_Situ_data_download_by_platform_data_source.ipynb) or [platform category](https://github.com/CopernicusMarineInsitu/INSTAC-Tarining-Phase2/blob/master/PythonNotebooks/In_Situ_data_download_by_platform_type.ipynb)) like: [MO_PR_PF_6901885.nc](ftp://nrt.cmems-du.eu/Core/INSITU_MED_NRT_OBSERVATIONS_013_035/history/profiler-glider/MO_PR_PF_6901885.nc)"
   ]
  },
  {
   "cell_type": "code",
   "execution_count": 60,
   "metadata": {
    "collapsed": true
   },
   "outputs": [],
   "source": [
    "dataset = 'MO_PR_PF_6901885.nc'"
   ]
  },
  {
   "cell_type": "markdown",
   "metadata": {},
   "source": [
    "Let's have a look to its content:"
   ]
  },
  {
   "cell_type": "code",
   "execution_count": 61,
   "metadata": {
    "collapsed": false
   },
   "outputs": [
    {
     "name": "stdout",
     "output_type": "stream",
     "text": [
      "path2file: /home/protllan/code/Training/INSTACTraining-PhaseII/PythonNotebooks/MO_PR_PF_6901885.nc\n"
     ]
    }
   ],
   "source": [
    "full_path2file = os.getcwd()+'/'+dataset #default to current directory\n",
    "print('path2file: %s'%(full_path2file))"
   ]
  },
  {
   "cell_type": "code",
   "execution_count": 62,
   "metadata": {
    "collapsed": true
   },
   "outputs": [],
   "source": [
    "ds = xarray.open_dataset(dataset)"
   ]
  },
  {
   "cell_type": "markdown",
   "metadata": {},
   "source": [
    "ds contains all the information about the dataset (relevant metadata, variables, dimensions etc):"
   ]
  },
  {
   "cell_type": "code",
   "execution_count": 63,
   "metadata": {
    "collapsed": false
   },
   "outputs": [
    {
     "data": {
      "text/plain": [
       "<xarray.Dataset>\n",
       "Dimensions:      (DEPTH: 400, LATITUDE: 230, LONGITUDE: 230, POSITION: 230, TIME: 230)\n",
       "Coordinates:\n",
       "  * TIME         (TIME) datetime64[ns] 2014-10-19T12:45:40.003200 ...\n",
       "  * LATITUDE     (LATITUDE) float64 35.69 35.65 35.73 35.72 35.85 36.02 36.1 ...\n",
       "  * LONGITUDE    (LONGITUDE) float64 25.01 25.02 25.49 25.58 25.85 25.77 ...\n",
       "Dimensions without coordinates: DEPTH, POSITION\n",
       "Data variables:\n",
       "    TIME_QC      (TIME) float64 1.0 1.0 1.0 1.0 1.0 1.0 1.0 1.0 1.0 1.0 1.0 ...\n",
       "    POSITION_QC  (POSITION) float64 1.0 1.0 1.0 1.0 1.0 1.0 1.0 1.0 1.0 1.0 ...\n",
       "    DATA_MODE    (TIME) object 'R' 'R' 'R' 'R' 'R' 'R' 'R' 'R' 'R' 'R' 'R' ...\n",
       "    DIRECTION    (TIME) object 'D' 'D' 'D' 'D' 'D' 'D' 'D' 'D' 'D' 'D' 'D' ...\n",
       "    PRES         (TIME, DEPTH) float64 2.1 2.9 4.0 5.0 6.0 7.0 8.0 9.0 10.1 ...\n",
       "    PRES_QC      (TIME, DEPTH) float64 1.0 1.0 1.0 1.0 1.0 1.0 1.0 1.0 1.0 ...\n",
       "    TEMP         (TIME, DEPTH) float64 23.17 23.17 23.17 23.17 23.17 23.17 ...\n",
       "    TEMP_QC      (TIME, DEPTH) float64 1.0 1.0 1.0 1.0 1.0 1.0 1.0 1.0 1.0 ...\n",
       "    PSAL         (TIME, DEPTH) float64 39.34 39.34 39.34 39.34 39.34 39.34 ...\n",
       "    PSAL_QC      (TIME, DEPTH) float64 1.0 1.0 1.0 1.0 1.0 1.0 1.0 1.0 1.0 ...\n",
       "Attributes:\n",
       "    data_type:                   OceanSITES vertical profile\n",
       "    format_version:              1.2\n",
       "    platform_code:               6901885\n",
       "    institution:                 HELLENIC CENTER FOR MARINE RESEARCH (HCMR)\n",
       "    date_update:                 2018-02-02T02:00:31Z\n",
       "    site_code:                    \n",
       "    wmo_platform_code:           6901885\n",
       "    source:                      drifting subsurface profiling float\n",
       "    history:                     2018-02-02T01:32:11Z  : Creation\n",
       "    data_mode:                   R\n",
       "    quality_control_indicator:   6\n",
       "    quality_index:               A\n",
       "    references:                  http://www.poseidon.hcmr.gr, http://www.ocea...\n",
       "    comment:                      \n",
       "    Conventions:                 CF-1.6 OceanSITES-Manual-1.2 Copernicus-InSi...\n",
       "    netcdf_version:              3.5\n",
       "    title:                       Med Sea - NRT in situ Observations\n",
       "    summary:                      \n",
       "    naming_authority:            OceanSITES\n",
       "    id:                          MO_PR_PF_6901885\n",
       "    cdm_data_type:               vertical profile\n",
       "    area:                        Mediterranean\n",
       "    geospatial_lat_min:          35.743\n",
       "    geospatial_lat_max:          36.7481\n",
       "    geospatial_lon_min:          17.5301\n",
       "    geospatial_lon_max:          18.8839\n",
       "    geospatial_vertical_min:     2.1\n",
       "    geospatial_vertical_max:     1014.4\n",
       "    time_coverage_start:         2014-10-19T12:45:40Z\n",
       "    time_coverage_end:           2018-01-31T09:10:08Z\n",
       "    institution_references:      http://www.hcmr.gr\n",
       "    contact:                     achalk@hcmr.gr, cmems-service@hcmr.gr\n",
       "    author:                      Antonis Chalkiopoulos, Med ROOS data center ...\n",
       "    data_assembly_center:        HCMR\n",
       "    pi_name:                     Gerasimos Korres\n",
       "    distribution_statement:      These data follow Copernicus standards; they...\n",
       "    citation:                    These data were collected and made freely av...\n",
       "    update_interval:             daily\n",
       "    qc_manual:                   OceanSITES User's Manual v1.2\n",
       "    wmo_inst_type:                \n",
       "    last_latitude_observation:   35.743\n",
       "    last_longitude_observation:  17.5301\n",
       "    last_date_observation:       2018-01-31T09:10:08Z\n",
       "    institution_edmo_code:       164"
      ]
     },
     "execution_count": 63,
     "metadata": {},
     "output_type": "execute_result"
    }
   ],
   "source": [
    "ds"
   ]
  },
  {
   "cell_type": "code",
   "execution_count": 64,
   "metadata": {
    "collapsed": false
   },
   "outputs": [
    {
     "data": {
      "text/plain": [
       "[u'TIME',\n",
       " u'TIME_QC',\n",
       " u'LATITUDE',\n",
       " u'LONGITUDE',\n",
       " u'POSITION_QC',\n",
       " u'DATA_MODE',\n",
       " u'DIRECTION',\n",
       " u'PRES',\n",
       " u'PRES_QC',\n",
       " u'TEMP',\n",
       " u'TEMP_QC',\n",
       " u'PSAL',\n",
       " u'PSAL_QC']"
      ]
     },
     "execution_count": 64,
     "metadata": {},
     "output_type": "execute_result"
    }
   ],
   "source": [
    "ds.variables.keys()"
   ]
  },
  {
   "cell_type": "markdown",
   "metadata": {},
   "source": [
    "Every of the above parameters varies along certain dimensions (within parenthesis when checking the parameter metadata):"
   ]
  },
  {
   "cell_type": "code",
   "execution_count": 65,
   "metadata": {
    "collapsed": false
   },
   "outputs": [
    {
     "data": {
      "text/plain": [
       "<xarray.DataArray 'LATITUDE' (LATITUDE: 230)>\n",
       "array([ 35.694523,  35.64505 ,  35.731743, ...,  35.814137,  35.993549,\n",
       "        35.743042])\n",
       "Coordinates:\n",
       "  * LATITUDE  (LATITUDE) float64 35.69 35.65 35.73 35.72 35.85 36.02 36.1 ...\n",
       "Attributes:\n",
       "    long_name:                   Latitude of each location\n",
       "    standard_name:               latitude\n",
       "    units:                       degree_north\n",
       "    valid_min:                   -90.0\n",
       "    valid_max:                   90.0\n",
       "    QC_indicator:                1\n",
       "    QC_procedure:                1\n",
       "    uncertainty:                  \n",
       "    comment:                      \n",
       "    axis:                        Y\n",
       "    reference:                   WGS84\n",
       "    coordinate_reference_frame:  urn:ogc:crs:EPSG::4326"
      ]
     },
     "execution_count": 65,
     "metadata": {},
     "output_type": "execute_result"
    }
   ],
   "source": [
    "ds['LATITUDE']"
   ]
  },
  {
   "cell_type": "markdown",
   "metadata": {},
   "source": [
    "Every of the above variables have a corresponding '_QC' variable, which is the variable that contains the data quality flags:"
   ]
  },
  {
   "cell_type": "code",
   "execution_count": 66,
   "metadata": {
    "collapsed": false
   },
   "outputs": [
    {
     "data": {
      "text/plain": [
       "<xarray.DataArray 'POSITION_QC' (POSITION: 230)>\n",
       "array([ 1.,  1.,  1., ...,  1.,  1.,  1.])\n",
       "Dimensions without coordinates: POSITION\n",
       "Attributes:\n",
       "    long_name:      quality flag\n",
       "    conventions:    OceanSITES reference table 2\n",
       "    valid_min:      0\n",
       "    valid_max:      9\n",
       "    flag_values:    [0 1 2 3 4 5 6 7 8 9]\n",
       "    flag_meanings:  no_qc_performed good_data probably_good_data bad_data_tha..."
      ]
     },
     "execution_count": 66,
     "metadata": {},
     "output_type": "execute_result"
    }
   ],
   "source": [
    "ds['POSITION_QC']"
   ]
  },
  {
   "cell_type": "markdown",
   "metadata": {},
   "source": [
    "This '_QC' variable will therefore guide us when when working with the parameter data to distinguish good from bad data: "
   ]
  },
  {
   "cell_type": "code",
   "execution_count": 67,
   "metadata": {
    "collapsed": false
   },
   "outputs": [
    {
     "data": {
      "text/html": [
       "<div>\n",
       "<table border=\"1\" class=\"dataframe\">\n",
       "  <thead>\n",
       "    <tr style=\"text-align: right;\">\n",
       "      <th></th>\n",
       "      <th>quality flag</th>\n",
       "    </tr>\n",
       "  </thead>\n",
       "  <tbody>\n",
       "    <tr>\n",
       "      <th>no_qc_performed</th>\n",
       "      <td>0</td>\n",
       "    </tr>\n",
       "    <tr>\n",
       "      <th>good_data</th>\n",
       "      <td>1</td>\n",
       "    </tr>\n",
       "    <tr>\n",
       "      <th>probably_good_data</th>\n",
       "      <td>2</td>\n",
       "    </tr>\n",
       "    <tr>\n",
       "      <th>bad_data_that_are_potentially_correctable</th>\n",
       "      <td>3</td>\n",
       "    </tr>\n",
       "    <tr>\n",
       "      <th>bad_data</th>\n",
       "      <td>4</td>\n",
       "    </tr>\n",
       "    <tr>\n",
       "      <th>value_changed</th>\n",
       "      <td>5</td>\n",
       "    </tr>\n",
       "    <tr>\n",
       "      <th>not_used</th>\n",
       "      <td>6</td>\n",
       "    </tr>\n",
       "    <tr>\n",
       "      <th>nominal_value</th>\n",
       "      <td>7</td>\n",
       "    </tr>\n",
       "    <tr>\n",
       "      <th>interpolated_value</th>\n",
       "      <td>8</td>\n",
       "    </tr>\n",
       "    <tr>\n",
       "      <th>missing_value</th>\n",
       "      <td>9</td>\n",
       "    </tr>\n",
       "  </tbody>\n",
       "</table>\n",
       "</div>"
      ],
      "text/plain": [
       "                                           quality flag\n",
       "no_qc_performed                                       0\n",
       "good_data                                             1\n",
       "probably_good_data                                    2\n",
       "bad_data_that_are_potentially_correctable             3\n",
       "bad_data                                              4\n",
       "value_changed                                         5\n",
       "not_used                                              6\n",
       "nominal_value                                         7\n",
       "interpolated_value                                    8\n",
       "missing_value                                         9"
      ]
     },
     "execution_count": 67,
     "metadata": {},
     "output_type": "execute_result"
    }
   ],
   "source": [
    "pd.DataFrame(data=ds['POSITION_QC'].attrs['flag_values'], index = ds['POSITION_QC'].attrs['flag_meanings'].split(' '), columns = ['quality flag'])"
   ]
  },
  {
   "cell_type": "code",
   "execution_count": 68,
   "metadata": {
    "collapsed": false
   },
   "outputs": [
    {
     "data": {
      "text/plain": [
       "[<matplotlib.lines.Line2D at 0x7f59c5abec10>]"
      ]
     },
     "execution_count": 68,
     "metadata": {},
     "output_type": "execute_result"
    },
    {
     "data": {
      "image/png": "[encoded data removed]",
      "text/plain": [
       "<matplotlib.figure.Figure at 0x7f59c5a71610>"
      ]
     },
     "metadata": {},
     "output_type": "display_data"
    }
   ],
   "source": [
    "ds['POSITION_QC'].plot(aspect=2, size=5)"
   ]
  },
  {
   "cell_type": "markdown",
   "metadata": {},
   "source": [
    "In this case, all positions are considered 'good' so we skip any further data selection to overlook not-good data."
   ]
  },
  {
   "cell_type": "markdown",
   "metadata": {},
   "source": [
    "## 2. Animating a profiler trajectory with folium"
   ]
  },
  {
   "cell_type": "code",
   "execution_count": 69,
   "metadata": {
    "collapsed": true
   },
   "outputs": [],
   "source": [
    "lats = ds['LATITUDE'].values.tolist()\n",
    "lons = ds['LONGITUDE'].values.tolist()\n",
    "times = ds['TIME'].values.tolist()"
   ]
  },
  {
   "cell_type": "code",
   "execution_count": 70,
   "metadata": {
    "collapsed": true
   },
   "outputs": [],
   "source": [
    "mean_lat = np.mean(lats)\n",
    "mean_lon = np.mean(lons)"
   ]
  },
  {
   "cell_type": "code",
   "execution_count": 71,
   "metadata": {
    "collapsed": true
   },
   "outputs": [],
   "source": [
    "profiler = {\n",
    "    'type': 'Feature',\n",
    "    'geometry': {\n",
    "        'type': 'LineString',\n",
    "        'coordinates': []\n",
    "    },\n",
    "    'properties': {\n",
    "        'times': [],\n",
    "        'variable': []\n",
    "    }\n",
    "}"
   ]
  },
  {
   "cell_type": "code",
   "execution_count": 72,
   "metadata": {
    "collapsed": true
   },
   "outputs": [],
   "source": [
    "for time, lat, lon in zip(times, lats, lons) :\n",
    "    unix_timestamp = int(str(time)[:13])\n",
    "    profiler['properties']['times'].append(unix_timestamp)\n",
    "    profiler['geometry']['coordinates'].append([lon,lat])"
   ]
  },
  {
   "cell_type": "code",
   "execution_count": 73,
   "metadata": {
    "collapsed": false
   },
   "outputs": [
    {
     "data": {
      "text/html": [
       "<div style=\"width:100%;\"><div style=\"position:relative;width:100%;height:0;padding-bottom:60%;\"><iframe src=\"data:text/html;charset=utf-8;base64,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\" style=\"position:absolute;width:100%;height:100%;left:0;top:0;border:none !important;\" allowfullscreen webkitallowfullscreen mozallowfullscreen></iframe></div></div>"
      ],
      "text/plain": [
       "<folium.folium.Map at 0x7f59c5a3f6d0>"
      ]
     },
     "execution_count": 73,
     "metadata": {},
     "output_type": "execute_result"
    }
   ],
   "source": [
    "view = folium.Map(location=[mean_lat, mean_lon], zoom_start=6)\n",
    "marker = plugins.TimestampedGeoJson({\n",
    "    'type': 'FeatureCollection',\n",
    "    'features': [profiler],\n",
    "}, period='P1D', add_last_point=True, loop=False).add_to(view)\n",
    "view"
   ]
  },
  {
   "cell_type": "markdown",
   "metadata": {},
   "source": [
    "Did you know about the <a href=\"https://ars.els-cdn.com/content/image/1-s2.0-S0952197614002322-gr9.jpg\" target=\"_balnk\">Phelops Gyre</a>?"
   ]
  }
 ],
 "metadata": {
  "kernelspec": {
   "display_name": "Python [anaconda2]",
   "language": "python",
   "name": "Python [anaconda2]"
  },
  "language_info": {
   "codemirror_mode": {
    "name": "ipython",
    "version": 2
   },
   "file_extension": ".py",
   "mimetype": "text/x-python",
   "name": "python",
   "nbconvert_exporter": "python",
   "pygments_lexer": "ipython2",
   "version": "2.7.12"
  }
 },
 "nbformat": 4,
 "nbformat_minor": 0
}
