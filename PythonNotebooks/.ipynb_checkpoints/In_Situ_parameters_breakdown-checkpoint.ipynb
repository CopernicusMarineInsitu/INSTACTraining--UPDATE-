{
 "cells": [
  {
   "cell_type": "markdown",
   "metadata": {},
   "source": [
    "<H2>MADATORY PYTHON LIBRARIES</H2>"
   ]
  },
  {
   "cell_type": "code",
   "execution_count": 1,
   "metadata": {
    "collapsed": false
   },
   "outputs": [
    {
     "name": "stderr",
     "output_type": "stream",
     "text": [
      "/home/protllan/anaconda2/lib/python2.7/site-packages/ipykernel/__main__.py:1: DeprecationWarning: Python 2 suport will be removed in ftputil 4.0.0\n",
      "  if __name__ == '__main__':\n"
     ]
    }
   ],
   "source": [
    "import ftputil\n",
    "import numpy as np\n",
    "import pandas as pd\n",
    "from shapely.geometry import box\n",
    "import seaborn as sns\n",
    "%matplotlib inline  "
   ]
  },
  {
   "cell_type": "markdown",
   "metadata": {},
   "source": [
    "<H2>AUXILIARY FUNCTIONS</H2>"
   ]
  },
  {
   "cell_type": "code",
   "execution_count": 2,
   "metadata": {
    "collapsed": true
   },
   "outputs": [],
   "source": [
    "def itemize_ftplink(indexfile):\n",
    "    \"\"\"returns the keys for the items resulting from splitting by '/' the file_name colummn in the index files\"\"\"\n",
    "    if indexfile == 'index_history.txt':\n",
    "        return ['access_protocol','blank', 'host', 'core', 'product_name', 'directory', 'platform_category', 'netCDF_file']\n",
    "    elif indexfile == 'index_monthly.txt': \n",
    "        return ['access_protocol','blank', 'host', 'core', 'product_name', 'directory', 'platform_category', 'timestamp', 'netCDF_file']\n",
    "    else:\n",
    "        return ['access_protocol','blank', 'host', 'core', 'product_name', 'directory', 'timestamp', 'netCDF_file']"
   ]
  },
  {
   "cell_type": "code",
   "execution_count": 3,
   "metadata": {
    "collapsed": true
   },
   "outputs": [],
   "source": [
    "def itemize_netCDFname(indexfile):\n",
    "    \"\"\"returns the keys for the items resulting from splitting by '_' the netCDF filename\"\"\"\n",
    "    if indexfile == 'index_history.txt': \n",
    "        return ['region', 'data', 'data_source', 'code', 'subsettingcode'] #RR_XX_YY_CODE<_ZZZ>.nc\n",
    "    elif indexfile == 'index_monthly.txt': \n",
    "        return ['region', 'timestamp', 'data', 'data_source', 'code'] #RR_YYYYMM_XX_YY_CODE.nc\n",
    "    else:\n",
    "        return ['region', 'fixedname', 'data', 'data_source', 'code', 'timestamp'] #RR_LATEST_XX_YY_CODE_YYYYMMDD.nc "
   ]
  },
  {
   "cell_type": "markdown",
   "metadata": {},
   "source": [
    "<h2> SET YOUR CREDENTIALS</h2>"
   ]
  },
  {
   "cell_type": "code",
   "execution_count": 4,
   "metadata": {
    "collapsed": true
   },
   "outputs": [],
   "source": [
    "user = '' #type CMEMS user name\n",
    "password = '' #type CMEMS password"
   ]
  },
  {
   "cell_type": "markdown",
   "metadata": {},
   "source": [
    "<h2> TARGET A PRODUCT, HOST AND INDEX FILE</h2>"
   ]
  },
  {
   "cell_type": "code",
   "execution_count": 5,
   "metadata": {
    "collapsed": true
   },
   "outputs": [],
   "source": [
    "product_name = 'INSITU_MED_NRT_OBSERVATIONS_013_035' #type aimed In Situ product \n",
    "host = 'nrt.cmems-du.eu' #type aimed host (nrt.cmems-du.eu or my.cmems-du)\n",
    "index_file = 'index_latest.txt' #type aimed index file "
   ]
  },
  {
   "cell_type": "markdown",
   "metadata": {},
   "source": [
    "<h2>INDEX FILE RAW INFORMATION</h2>"
   ]
  },
  {
   "cell_type": "code",
   "execution_count": 6,
   "metadata": {
    "collapsed": false
   },
   "outputs": [
    {
     "name": "stderr",
     "output_type": "stream",
     "text": [
      "/home/protllan/anaconda2/lib/python2.7/site-packages/ipykernel/__main__.py:2: DeprecationWarning: `use_list_a_option` will default to `False` in ftputil 4.x.x\n",
      "  from ipykernel import kernelapp as app\n"
     ]
    },
    {
     "data": {
      "text/html": [
       "<div>\n",
       "<table border=\"1\" class=\"dataframe\">\n",
       "  <thead>\n",
       "    <tr style=\"text-align: right;\">\n",
       "      <th></th>\n",
       "      <th>#catalog_id</th>\n",
       "      <th>file_name</th>\n",
       "      <th>geospatial_lat_min</th>\n",
       "      <th>geospatial_lat_max</th>\n",
       "      <th>geospatial_lon_min</th>\n",
       "      <th>geospatial_lon_max</th>\n",
       "      <th>time_coverage_start</th>\n",
       "      <th>time_coverage_end</th>\n",
       "      <th>provider</th>\n",
       "      <th>date_update</th>\n",
       "      <th>data_mode</th>\n",
       "      <th>parameters</th>\n",
       "    </tr>\n",
       "  </thead>\n",
       "  <tbody>\n",
       "    <tr>\n",
       "      <th>0</th>\n",
       "      <td>MYO-MOON-01</td>\n",
       "      <td>ftp://nrt.cmems-du.eu/Core/INSITU_MED_NRT_OBSE...</td>\n",
       "      <td>40.34783</td>\n",
       "      <td>41.34950</td>\n",
       "      <td>4.20067</td>\n",
       "      <td>4.48367</td>\n",
       "      <td>2018-06-04T02:54:49Z</td>\n",
       "      <td>2018-06-04T20:14:27Z</td>\n",
       "      <td>IFREMER  Institut Francais de Recherche pour l...</td>\n",
       "      <td>2018-06-08T07:09:04Z</td>\n",
       "      <td>R</td>\n",
       "      <td>PRES PSAL FLU2 CNDC TEMP DOX2</td>\n",
       "    </tr>\n",
       "    <tr>\n",
       "      <th>1</th>\n",
       "      <td>MYO-MOON-01</td>\n",
       "      <td>ftp://nrt.cmems-du.eu/Core/INSITU_MED_NRT_OBSE...</td>\n",
       "      <td>39.11882</td>\n",
       "      <td>39.11882</td>\n",
       "      <td>24.98735</td>\n",
       "      <td>24.98735</td>\n",
       "      <td>2018-06-04T03:02:30Z</td>\n",
       "      <td>2018-06-04T03:02:30Z</td>\n",
       "      <td>Euro-Argo</td>\n",
       "      <td>2018-06-04T05:05:14Z</td>\n",
       "      <td>R</td>\n",
       "      <td>PRES PSAL TEMP</td>\n",
       "    </tr>\n",
       "    <tr>\n",
       "      <th>2</th>\n",
       "      <td>MYO-MOON-01</td>\n",
       "      <td>ftp://nrt.cmems-du.eu/Core/INSITU_MED_NRT_OBSE...</td>\n",
       "      <td>36.71326</td>\n",
       "      <td>36.71326</td>\n",
       "      <td>21.55295</td>\n",
       "      <td>21.55295</td>\n",
       "      <td>2018-06-04T08:43:30Z</td>\n",
       "      <td>2018-06-04T08:43:30Z</td>\n",
       "      <td>Euro-Argo</td>\n",
       "      <td>2018-06-04T13:05:10Z</td>\n",
       "      <td>R</td>\n",
       "      <td>PRES PSAL TEMP</td>\n",
       "    </tr>\n",
       "    <tr>\n",
       "      <th>3</th>\n",
       "      <td>MYO-MOON-01</td>\n",
       "      <td>ftp://nrt.cmems-du.eu/Core/INSITU_MED_NRT_OBSE...</td>\n",
       "      <td>36.51606</td>\n",
       "      <td>36.52572</td>\n",
       "      <td>-2.47165</td>\n",
       "      <td>-2.43642</td>\n",
       "      <td>2018-06-04T03:00:20Z</td>\n",
       "      <td>2018-06-04T20:59:20Z</td>\n",
       "      <td>OGS  Istituto Nazionale di Oceanografia e di G...</td>\n",
       "      <td>2018-06-21T13:05:37Z</td>\n",
       "      <td>R</td>\n",
       "      <td>PRES TEMP PSAL</td>\n",
       "    </tr>\n",
       "    <tr>\n",
       "      <th>4</th>\n",
       "      <td>MYO-MOON-01</td>\n",
       "      <td>ftp://nrt.cmems-du.eu/Core/INSITU_MED_NRT_OBSE...</td>\n",
       "      <td>35.84379</td>\n",
       "      <td>35.84379</td>\n",
       "      <td>21.83213</td>\n",
       "      <td>21.83213</td>\n",
       "      <td>2018-06-04T09:49:00Z</td>\n",
       "      <td>2018-06-04T09:49:00Z</td>\n",
       "      <td>LOV  Laboratoire Oceanographique de Villefranche</td>\n",
       "      <td>2018-06-04T13:05:24Z</td>\n",
       "      <td>R</td>\n",
       "      <td>PRES PSAL TEMP DOX2 DOWNWELLING_PAR DOWN_IRRA...</td>\n",
       "    </tr>\n",
       "  </tbody>\n",
       "</table>\n",
       "</div>"
      ],
      "text/plain": [
       "   #catalog_id                                          file_name  \\\n",
       "0  MYO-MOON-01  ftp://nrt.cmems-du.eu/Core/INSITU_MED_NRT_OBSE...   \n",
       "1  MYO-MOON-01  ftp://nrt.cmems-du.eu/Core/INSITU_MED_NRT_OBSE...   \n",
       "2  MYO-MOON-01  ftp://nrt.cmems-du.eu/Core/INSITU_MED_NRT_OBSE...   \n",
       "3  MYO-MOON-01  ftp://nrt.cmems-du.eu/Core/INSITU_MED_NRT_OBSE...   \n",
       "4  MYO-MOON-01  ftp://nrt.cmems-du.eu/Core/INSITU_MED_NRT_OBSE...   \n",
       "\n",
       "   geospatial_lat_min  geospatial_lat_max  geospatial_lon_min  \\\n",
       "0            40.34783            41.34950             4.20067   \n",
       "1            39.11882            39.11882            24.98735   \n",
       "2            36.71326            36.71326            21.55295   \n",
       "3            36.51606            36.52572            -2.47165   \n",
       "4            35.84379            35.84379            21.83213   \n",
       "\n",
       "   geospatial_lon_max   time_coverage_start     time_coverage_end  \\\n",
       "0             4.48367  2018-06-04T02:54:49Z  2018-06-04T20:14:27Z   \n",
       "1            24.98735  2018-06-04T03:02:30Z  2018-06-04T03:02:30Z   \n",
       "2            21.55295  2018-06-04T08:43:30Z  2018-06-04T08:43:30Z   \n",
       "3            -2.43642  2018-06-04T03:00:20Z  2018-06-04T20:59:20Z   \n",
       "4            21.83213  2018-06-04T09:49:00Z  2018-06-04T09:49:00Z   \n",
       "\n",
       "                                            provider           date_update  \\\n",
       "0  IFREMER  Institut Francais de Recherche pour l...  2018-06-08T07:09:04Z   \n",
       "1                                          Euro-Argo  2018-06-04T05:05:14Z   \n",
       "2                                          Euro-Argo  2018-06-04T13:05:10Z   \n",
       "3  OGS  Istituto Nazionale di Oceanografia e di G...  2018-06-21T13:05:37Z   \n",
       "4   LOV  Laboratoire Oceanographique de Villefranche  2018-06-04T13:05:24Z   \n",
       "\n",
       "  data_mode                                         parameters  \n",
       "0         R                      PRES PSAL FLU2 CNDC TEMP DOX2  \n",
       "1         R                                     PRES PSAL TEMP  \n",
       "2         R                                     PRES PSAL TEMP  \n",
       "3         R                                     PRES TEMP PSAL  \n",
       "4         R   PRES PSAL TEMP DOX2 DOWNWELLING_PAR DOWN_IRRA...  "
      ]
     },
     "execution_count": 6,
     "metadata": {},
     "output_type": "execute_result"
    }
   ],
   "source": [
    "#connect to CMEMS FTP\n",
    "with ftputil.FTPHost(host, user, password) as ftp_host: \n",
    "    #open the index file to read\n",
    "    with ftp_host.open(\"Core\"+'/'+product_name+'/'+index_file, \"r\") as indexfile:\n",
    "        raw_index_info = pd.read_csv(indexfile, skiprows=5) #load it as pandas dataframe\n",
    "raw_index_info.head()"
   ]
  },
  {
   "cell_type": "markdown",
   "metadata": {},
   "source": [
    "<h2>INDEX FILE ADVANCED INFORMATION</h2>"
   ]
  },
  {
   "cell_type": "code",
   "execution_count": 7,
   "metadata": {
    "collapsed": false
   },
   "outputs": [
    {
     "data": {
      "text/html": [
       "<div>\n",
       "<table border=\"1\" class=\"dataframe\">\n",
       "  <thead>\n",
       "    <tr style=\"text-align: right;\">\n",
       "      <th></th>\n",
       "      <th>#catalog_id</th>\n",
       "      <th>file_name</th>\n",
       "      <th>geospatial_lat_min</th>\n",
       "      <th>geospatial_lat_max</th>\n",
       "      <th>geospatial_lon_min</th>\n",
       "      <th>geospatial_lon_max</th>\n",
       "      <th>time_coverage_start</th>\n",
       "      <th>time_coverage_end</th>\n",
       "      <th>provider</th>\n",
       "      <th>date_update</th>\n",
       "      <th>...</th>\n",
       "      <th>directory</th>\n",
       "      <th>timestamp</th>\n",
       "      <th>netCDF_file</th>\n",
       "      <th>netCDF_file_name</th>\n",
       "      <th>netCDF_file_extension</th>\n",
       "      <th>region</th>\n",
       "      <th>fixedname</th>\n",
       "      <th>data</th>\n",
       "      <th>data_source</th>\n",
       "      <th>code</th>\n",
       "    </tr>\n",
       "  </thead>\n",
       "  <tbody>\n",
       "    <tr>\n",
       "      <th>0</th>\n",
       "      <td>MYO-MOON-01</td>\n",
       "      <td>ftp://nrt.cmems-du.eu/Core/INSITU_MED_NRT_OBSE...</td>\n",
       "      <td>40.34783</td>\n",
       "      <td>41.34950</td>\n",
       "      <td>4.20067</td>\n",
       "      <td>4.48367</td>\n",
       "      <td>2018-06-04T02:54:49Z</td>\n",
       "      <td>2018-06-04T20:14:27Z</td>\n",
       "      <td>IFREMER  Institut Francais de Recherche pour l...</td>\n",
       "      <td>2018-06-08T07:09:04Z</td>\n",
       "      <td>...</td>\n",
       "      <td>latest</td>\n",
       "      <td>20180604</td>\n",
       "      <td>GL_LATEST_PR_CT_FNCM_20180604.nc</td>\n",
       "      <td>GL_LATEST_PR_CT_FNCM_20180604</td>\n",
       "      <td>nc</td>\n",
       "      <td>GL</td>\n",
       "      <td>LATEST</td>\n",
       "      <td>PR</td>\n",
       "      <td>CT</td>\n",
       "      <td>FNCM</td>\n",
       "    </tr>\n",
       "    <tr>\n",
       "      <th>1</th>\n",
       "      <td>MYO-MOON-01</td>\n",
       "      <td>ftp://nrt.cmems-du.eu/Core/INSITU_MED_NRT_OBSE...</td>\n",
       "      <td>39.11882</td>\n",
       "      <td>39.11882</td>\n",
       "      <td>24.98735</td>\n",
       "      <td>24.98735</td>\n",
       "      <td>2018-06-04T03:02:30Z</td>\n",
       "      <td>2018-06-04T03:02:30Z</td>\n",
       "      <td>Euro-Argo</td>\n",
       "      <td>2018-06-04T05:05:14Z</td>\n",
       "      <td>...</td>\n",
       "      <td>latest</td>\n",
       "      <td>20180604</td>\n",
       "      <td>GL_LATEST_PR_PF_3901890_20180604.nc</td>\n",
       "      <td>GL_LATEST_PR_PF_3901890_20180604</td>\n",
       "      <td>nc</td>\n",
       "      <td>GL</td>\n",
       "      <td>LATEST</td>\n",
       "      <td>PR</td>\n",
       "      <td>PF</td>\n",
       "      <td>3901890</td>\n",
       "    </tr>\n",
       "    <tr>\n",
       "      <th>2</th>\n",
       "      <td>MYO-MOON-01</td>\n",
       "      <td>ftp://nrt.cmems-du.eu/Core/INSITU_MED_NRT_OBSE...</td>\n",
       "      <td>36.71326</td>\n",
       "      <td>36.71326</td>\n",
       "      <td>21.55295</td>\n",
       "      <td>21.55295</td>\n",
       "      <td>2018-06-04T08:43:30Z</td>\n",
       "      <td>2018-06-04T08:43:30Z</td>\n",
       "      <td>Euro-Argo</td>\n",
       "      <td>2018-06-04T13:05:10Z</td>\n",
       "      <td>...</td>\n",
       "      <td>latest</td>\n",
       "      <td>20180604</td>\n",
       "      <td>GL_LATEST_PR_PF_3901957_20180604.nc</td>\n",
       "      <td>GL_LATEST_PR_PF_3901957_20180604</td>\n",
       "      <td>nc</td>\n",
       "      <td>GL</td>\n",
       "      <td>LATEST</td>\n",
       "      <td>PR</td>\n",
       "      <td>PF</td>\n",
       "      <td>3901957</td>\n",
       "    </tr>\n",
       "    <tr>\n",
       "      <th>3</th>\n",
       "      <td>MYO-MOON-01</td>\n",
       "      <td>ftp://nrt.cmems-du.eu/Core/INSITU_MED_NRT_OBSE...</td>\n",
       "      <td>36.51606</td>\n",
       "      <td>36.52572</td>\n",
       "      <td>-2.47165</td>\n",
       "      <td>-2.43642</td>\n",
       "      <td>2018-06-04T03:00:20Z</td>\n",
       "      <td>2018-06-04T20:59:20Z</td>\n",
       "      <td>OGS  Istituto Nazionale di Oceanografia e di G...</td>\n",
       "      <td>2018-06-21T13:05:37Z</td>\n",
       "      <td>...</td>\n",
       "      <td>latest</td>\n",
       "      <td>20180604</td>\n",
       "      <td>GL_LATEST_PR_PF_3901974_20180604.nc</td>\n",
       "      <td>GL_LATEST_PR_PF_3901974_20180604</td>\n",
       "      <td>nc</td>\n",
       "      <td>GL</td>\n",
       "      <td>LATEST</td>\n",
       "      <td>PR</td>\n",
       "      <td>PF</td>\n",
       "      <td>3901974</td>\n",
       "    </tr>\n",
       "    <tr>\n",
       "      <th>4</th>\n",
       "      <td>MYO-MOON-01</td>\n",
       "      <td>ftp://nrt.cmems-du.eu/Core/INSITU_MED_NRT_OBSE...</td>\n",
       "      <td>35.84379</td>\n",
       "      <td>35.84379</td>\n",
       "      <td>21.83213</td>\n",
       "      <td>21.83213</td>\n",
       "      <td>2018-06-04T09:49:00Z</td>\n",
       "      <td>2018-06-04T09:49:00Z</td>\n",
       "      <td>LOV  Laboratoire Oceanographique de Villefranche</td>\n",
       "      <td>2018-06-04T13:05:24Z</td>\n",
       "      <td>...</td>\n",
       "      <td>latest</td>\n",
       "      <td>20180604</td>\n",
       "      <td>GL_LATEST_PR_PF_6901765_20180604.nc</td>\n",
       "      <td>GL_LATEST_PR_PF_6901765_20180604</td>\n",
       "      <td>nc</td>\n",
       "      <td>GL</td>\n",
       "      <td>LATEST</td>\n",
       "      <td>PR</td>\n",
       "      <td>PF</td>\n",
       "      <td>6901765</td>\n",
       "    </tr>\n",
       "  </tbody>\n",
       "</table>\n",
       "<p>5 rows × 27 columns</p>\n",
       "</div>"
      ],
      "text/plain": [
       "   #catalog_id                                          file_name  \\\n",
       "0  MYO-MOON-01  ftp://nrt.cmems-du.eu/Core/INSITU_MED_NRT_OBSE...   \n",
       "1  MYO-MOON-01  ftp://nrt.cmems-du.eu/Core/INSITU_MED_NRT_OBSE...   \n",
       "2  MYO-MOON-01  ftp://nrt.cmems-du.eu/Core/INSITU_MED_NRT_OBSE...   \n",
       "3  MYO-MOON-01  ftp://nrt.cmems-du.eu/Core/INSITU_MED_NRT_OBSE...   \n",
       "4  MYO-MOON-01  ftp://nrt.cmems-du.eu/Core/INSITU_MED_NRT_OBSE...   \n",
       "\n",
       "   geospatial_lat_min  geospatial_lat_max  geospatial_lon_min  \\\n",
       "0            40.34783            41.34950             4.20067   \n",
       "1            39.11882            39.11882            24.98735   \n",
       "2            36.71326            36.71326            21.55295   \n",
       "3            36.51606            36.52572            -2.47165   \n",
       "4            35.84379            35.84379            21.83213   \n",
       "\n",
       "   geospatial_lon_max   time_coverage_start     time_coverage_end  \\\n",
       "0             4.48367  2018-06-04T02:54:49Z  2018-06-04T20:14:27Z   \n",
       "1            24.98735  2018-06-04T03:02:30Z  2018-06-04T03:02:30Z   \n",
       "2            21.55295  2018-06-04T08:43:30Z  2018-06-04T08:43:30Z   \n",
       "3            -2.43642  2018-06-04T03:00:20Z  2018-06-04T20:59:20Z   \n",
       "4            21.83213  2018-06-04T09:49:00Z  2018-06-04T09:49:00Z   \n",
       "\n",
       "                                            provider           date_update  \\\n",
       "0  IFREMER  Institut Francais de Recherche pour l...  2018-06-08T07:09:04Z   \n",
       "1                                          Euro-Argo  2018-06-04T05:05:14Z   \n",
       "2                                          Euro-Argo  2018-06-04T13:05:10Z   \n",
       "3  OGS  Istituto Nazionale di Oceanografia e di G...  2018-06-21T13:05:37Z   \n",
       "4   LOV  Laboratoire Oceanographique de Villefranche  2018-06-04T13:05:24Z   \n",
       "\n",
       "    ...    directory timestamp                          netCDF_file  \\\n",
       "0   ...       latest  20180604     GL_LATEST_PR_CT_FNCM_20180604.nc   \n",
       "1   ...       latest  20180604  GL_LATEST_PR_PF_3901890_20180604.nc   \n",
       "2   ...       latest  20180604  GL_LATEST_PR_PF_3901957_20180604.nc   \n",
       "3   ...       latest  20180604  GL_LATEST_PR_PF_3901974_20180604.nc   \n",
       "4   ...       latest  20180604  GL_LATEST_PR_PF_6901765_20180604.nc   \n",
       "\n",
       "                   netCDF_file_name netCDF_file_extension region fixedname  \\\n",
       "0     GL_LATEST_PR_CT_FNCM_20180604                    nc     GL    LATEST   \n",
       "1  GL_LATEST_PR_PF_3901890_20180604                    nc     GL    LATEST   \n",
       "2  GL_LATEST_PR_PF_3901957_20180604                    nc     GL    LATEST   \n",
       "3  GL_LATEST_PR_PF_3901974_20180604                    nc     GL    LATEST   \n",
       "4  GL_LATEST_PR_PF_6901765_20180604                    nc     GL    LATEST   \n",
       "\n",
       "  data data_source     code  \n",
       "0   PR          CT     FNCM  \n",
       "1   PR          PF  3901890  \n",
       "2   PR          PF  3901957  \n",
       "3   PR          PF  3901974  \n",
       "4   PR          PF  6901765  \n",
       "\n",
       "[5 rows x 27 columns]"
      ]
     },
     "execution_count": 7,
     "metadata": {},
     "output_type": "execute_result"
    }
   ],
   "source": [
    "raw_index_info[itemize_ftplink(index_file)] = raw_index_info['file_name'].str.split('/',expand=True) #split the ftplink in items\n",
    "raw_index_info[['netCDF_file_name','netCDF_file_extension']] = raw_index_info['netCDF_file'].str.split('.',expand=True) #split the netCDF name in bare name and extension\n",
    "raw_index_info[itemize_netCDFname(index_file)]= raw_index_info['netCDF_file_name'].str.split('_',expand=True) #split the netCDF name in items\n",
    "raw_index_info.head()"
   ]
  },
  {
   "cell_type": "markdown",
   "metadata": {},
   "source": [
    "<h2>PARAMETERS BREAKDOWN </h2>"
   ]
  },
  {
   "cell_type": "code",
   "execution_count": 8,
   "metadata": {
    "collapsed": false
   },
   "outputs": [
    {
     "name": "stdout",
     "output_type": "stream",
     "text": [
      "There are 77 parameters available in this In Situ product; examples:\n"
     ]
    },
    {
     "data": {
      "text/html": [
       "<div>\n",
       "<table border=\"1\" class=\"dataframe\">\n",
       "  <thead>\n",
       "    <tr style=\"text-align: right;\">\n",
       "      <th></th>\n",
       "      <th>parameters</th>\n",
       "    </tr>\n",
       "  </thead>\n",
       "  <tbody>\n",
       "    <tr>\n",
       "      <th>0</th>\n",
       "      <td>PRES</td>\n",
       "    </tr>\n",
       "    <tr>\n",
       "      <th>1</th>\n",
       "      <td>PSAL</td>\n",
       "    </tr>\n",
       "    <tr>\n",
       "      <th>2</th>\n",
       "      <td>FLU2</td>\n",
       "    </tr>\n",
       "    <tr>\n",
       "      <th>3</th>\n",
       "      <td>CNDC</td>\n",
       "    </tr>\n",
       "    <tr>\n",
       "      <th>4</th>\n",
       "      <td>TEMP</td>\n",
       "    </tr>\n",
       "  </tbody>\n",
       "</table>\n",
       "</div>"
      ],
      "text/plain": [
       "  parameters\n",
       "0       PRES\n",
       "1       PSAL\n",
       "2       FLU2\n",
       "3       CNDC\n",
       "4       TEMP"
      ]
     },
     "execution_count": 8,
     "metadata": {},
     "output_type": "execute_result"
    }
   ],
   "source": [
    "data = {'parameters':[]}\n",
    "for parameters in raw_index_info['parameters'].tolist():\n",
    "    for item in parameters.split(' '):\n",
    "        if item not in data['parameters'] and item != '':\n",
    "            data['parameters'].append(item)\n",
    "parameter_dataframe = pd.DataFrame(data=data)\n",
    "print('There are %s parameters available in this In Situ product; examples:'%(len(parameter_dataframe)))\n",
    "parameter_dataframe.head() #remove .head() if you wanna display full parameter list"
   ]
  },
  {
   "cell_type": "markdown",
   "metadata": {},
   "source": [
    "<h2>DATA SOURCES REPORTING A CERTAIN PARAMETER</h2>"
   ]
  },
  {
   "cell_type": "code",
   "execution_count": 9,
   "metadata": {
    "collapsed": false
   },
   "outputs": [],
   "source": [
    "parameter = 'TEMP'\n",
    "parameter_subset = raw_index_info[raw_index_info['parameters'].str.contains(parameter)]"
   ]
  },
  {
   "cell_type": "code",
   "execution_count": 10,
   "metadata": {
    "collapsed": false
   },
   "outputs": [
    {
     "name": "stdout",
     "output_type": "stream",
     "text": [
      "There are a total of 189 data sources reporting TEMP parameter in the latest directory (INSITU_MED_NRT_OBSERVATIONS_013_035)\n"
     ]
    }
   ],
   "source": [
    "print('There are a total of %s data sources reporting %s parameter in the %s directory (%s)'%(len(parameter_subset['code'].unique().tolist()), parameter, index_file.split('.')[0].split('_')[1], product_name))"
   ]
  },
  {
   "cell_type": "markdown",
   "metadata": {},
   "source": [
    "<h2>PARAMETER'S DATA SOURCES BREAKDOWN</h2>"
   ]
  },
  {
   "cell_type": "code",
   "execution_count": 13,
   "metadata": {
    "collapsed": false
   },
   "outputs": [
    {
     "name": "stdout",
     "output_type": "stream",
     "text": [
      "{'MO': 0, 'DB': 0, 'TS': 0, 'FB': 0, 'PF': 0, 'CT': 0}\n"
     ]
    }
   ],
   "source": [
    "#create empty dictionary for available platform_types\n",
    "data = {} \n",
    "for data_source in parameter_subset['data_source'].unique().tolist(): data[data_source] = 0\n",
    "print(data)"
   ]
  },
  {
   "cell_type": "code",
   "execution_count": 14,
   "metadata": {
    "collapsed": false
   },
   "outputs": [
    {
     "name": "stdout",
     "output_type": "stream",
     "text": [
      "{'MO': 45, 'DB': 72, 'TS': 7, 'FB': 1, 'PF': 64, 'CT': 1}\n"
     ]
    }
   ],
   "source": [
    "#count unique platform_code-plaform_types combos (same platform with code XXXX can works as several platform type: i.e vessels with TS (thermosalinometer) and CT (CTD))\n",
    "combo = parameter_subset['code']+'_'+parameter_subset['data_source']\n",
    "for combo in combo.unique():\n",
    "    data[combo.split('_')[1]] = data[combo.split('_')[1]] + 1\n",
    "print(data)"
   ]
  },
  {
   "cell_type": "code",
   "execution_count": 15,
   "metadata": {
    "collapsed": false
   },
   "outputs": [
    {
     "data": {
      "text/html": [
       "<div>\n",
       "<table border=\"1\" class=\"dataframe\">\n",
       "  <thead>\n",
       "    <tr style=\"text-align: right;\">\n",
       "      <th></th>\n",
       "      <th>number</th>\n",
       "    </tr>\n",
       "  </thead>\n",
       "  <tbody>\n",
       "    <tr>\n",
       "      <th>MO</th>\n",
       "      <td>45</td>\n",
       "    </tr>\n",
       "    <tr>\n",
       "      <th>DB</th>\n",
       "      <td>72</td>\n",
       "    </tr>\n",
       "    <tr>\n",
       "      <th>TS</th>\n",
       "      <td>7</td>\n",
       "    </tr>\n",
       "    <tr>\n",
       "      <th>FB</th>\n",
       "      <td>1</td>\n",
       "    </tr>\n",
       "    <tr>\n",
       "      <th>PF</th>\n",
       "      <td>64</td>\n",
       "    </tr>\n",
       "    <tr>\n",
       "      <th>CT</th>\n",
       "      <td>1</td>\n",
       "    </tr>\n",
       "  </tbody>\n",
       "</table>\n",
       "</div>"
      ],
      "text/plain": [
       "    number\n",
       "MO      45\n",
       "DB      72\n",
       "TS       7\n",
       "FB       1\n",
       "PF      64\n",
       "CT       1"
      ]
     },
     "execution_count": 15,
     "metadata": {},
     "output_type": "execute_result"
    }
   ],
   "source": [
    "parameter_data_source_breakdown = pd.DataFrame(data=data.values(), index = data.keys(), columns = ['number'])\n",
    "parameter_data_source_breakdown"
   ]
  },
  {
   "cell_type": "code",
   "execution_count": 16,
   "metadata": {
    "collapsed": false
   },
   "outputs": [
    {
     "data": {
      "text/plain": [
       "array([<matplotlib.axes._subplots.AxesSubplot object at 0x7f3de76c42d0>], dtype=object)"
      ]
     },
     "execution_count": 16,
     "metadata": {},
     "output_type": "execute_result"
    },
    {
     "data": {
      "image/png": "[encoded data removed]",
      "text/plain": [
       "<matplotlib.figure.Figure at 0x7f3e20435250>"
      ]
     },
     "metadata": {},
     "output_type": "display_data"
    }
   ],
   "source": [
    "parameter_data_source_breakdown.plot.pie(figsize=(10,10), fontsize=15, subplots=True,autopct='%1.0f%%', colors = sns.color_palette())"
   ]
  },
  {
   "cell_type": "code",
   "execution_count": 17,
   "metadata": {
    "collapsed": false
   },
   "outputs": [
    {
     "data": {
      "text/plain": [
       "<matplotlib.axes._subplots.AxesSubplot at 0x7f3de6f6f1d0>"
      ]
     },
     "execution_count": 17,
     "metadata": {},
     "output_type": "execute_result"
    },
    {
     "data": {
      "image/png": "[encoded data removed]",
      "text/plain": [
       "<matplotlib.figure.Figure at 0x7f3de7039d90>"
      ]
     },
     "metadata": {},
     "output_type": "display_data"
    }
   ],
   "source": [
    "parameter_data_source_breakdown.plot.bar(figsize=(10,10), fontsize=15, color = sns.color_palette())"
   ]
  },
  {
   "cell_type": "markdown",
   "metadata": {},
   "source": [
    "<h2>PARAMETER'S DATA SOURCES & DATA TYPES BREAKDOWN</h2>"
   ]
  },
  {
   "cell_type": "code",
   "execution_count": 22,
   "metadata": {
    "collapsed": false
   },
   "outputs": [
    {
     "name": "stdout",
     "output_type": "stream",
     "text": [
      "{'PR': 0, 'TS': 0}\n"
     ]
    }
   ],
   "source": [
    "#create empty dictionary for available data_types\n",
    "data = {} \n",
    "for dtype in parameter_subset['data'].unique().tolist(): data[dtype] = 0\n",
    "print(data)"
   ]
  },
  {
   "cell_type": "code",
   "execution_count": 23,
   "metadata": {
    "collapsed": false
   },
   "outputs": [
    {
     "name": "stdout",
     "output_type": "stream",
     "text": [
      "{'PR': {'PF': 396, 'CT': 3}, 'TS': {'FB': 30, 'MO': 1225, 'DB': 1661, 'TS': 116}}\n"
     ]
    }
   ],
   "source": [
    "#count unique platform_code-plaform's data sources combos (same platform with code XXXX can works as several data sources: i.e vessels with TS (thermosalinometer) and CT (CTD))\n",
    "for dtype in parameter_subset['data'].unique().tolist():\n",
    "    subset = parameter_subset[parameter_subset['data']== dtype]\n",
    "    temp = {}\n",
    "    for data_source in subset['data_source'].unique().tolist():\n",
    "        temp[data_source] = len(subset[subset['data_source']==data_source])\n",
    "    data[dtype] = temp\n",
    "print(data)"
   ]
  },
  {
   "cell_type": "code",
   "execution_count": 24,
   "metadata": {
    "collapsed": false
   },
   "outputs": [
    {
     "data": {
      "text/html": [
       "<div>\n",
       "<table border=\"1\" class=\"dataframe\">\n",
       "  <thead>\n",
       "    <tr style=\"text-align: right;\">\n",
       "      <th></th>\n",
       "      <th>PR</th>\n",
       "      <th>TS</th>\n",
       "    </tr>\n",
       "  </thead>\n",
       "  <tbody>\n",
       "    <tr>\n",
       "      <th>CT</th>\n",
       "      <td>3.0</td>\n",
       "      <td>NaN</td>\n",
       "    </tr>\n",
       "    <tr>\n",
       "      <th>DB</th>\n",
       "      <td>NaN</td>\n",
       "      <td>1661.0</td>\n",
       "    </tr>\n",
       "    <tr>\n",
       "      <th>FB</th>\n",
       "      <td>NaN</td>\n",
       "      <td>30.0</td>\n",
       "    </tr>\n",
       "    <tr>\n",
       "      <th>MO</th>\n",
       "      <td>NaN</td>\n",
       "      <td>1225.0</td>\n",
       "    </tr>\n",
       "    <tr>\n",
       "      <th>PF</th>\n",
       "      <td>396.0</td>\n",
       "      <td>NaN</td>\n",
       "    </tr>\n",
       "    <tr>\n",
       "      <th>TS</th>\n",
       "      <td>NaN</td>\n",
       "      <td>116.0</td>\n",
       "    </tr>\n",
       "  </tbody>\n",
       "</table>\n",
       "</div>"
      ],
      "text/plain": [
       "       PR      TS\n",
       "CT    3.0     NaN\n",
       "DB    NaN  1661.0\n",
       "FB    NaN    30.0\n",
       "MO    NaN  1225.0\n",
       "PF  396.0     NaN\n",
       "TS    NaN   116.0"
      ]
     },
     "execution_count": 24,
     "metadata": {},
     "output_type": "execute_result"
    }
   ],
   "source": [
    "parameter_dsource_datat_breakdown = pd.DataFrame(data=data)\n",
    "parameter_dsource_datat_breakdown"
   ]
  },
  {
   "cell_type": "code",
   "execution_count": 25,
   "metadata": {
    "collapsed": false
   },
   "outputs": [
    {
     "data": {
      "text/plain": [
       "<matplotlib.axes._subplots.AxesSubplot at 0x7f3de6e7d510>"
      ]
     },
     "execution_count": 25,
     "metadata": {},
     "output_type": "execute_result"
    },
    {
     "data": {
      "image/png": "[encoded data removed]",
      "text/plain": [
       "<matplotlib.figure.Figure at 0x7f3de6e6a310>"
      ]
     },
     "metadata": {},
     "output_type": "display_data"
    }
   ],
   "source": [
    "parameter_dsource_datat_breakdown.plot.bar(figsize=(10,10), fontsize=15, color = sns.color_palette())"
   ]
  }
 ],
 "metadata": {
  "kernelspec": {
   "display_name": "Python [anaconda2]",
   "language": "python",
   "name": "Python [anaconda2]"
  },
  "language_info": {
   "codemirror_mode": {
    "name": "ipython",
    "version": 2
   },
   "file_extension": ".py",
   "mimetype": "text/x-python",
   "name": "python",
   "nbconvert_exporter": "python",
   "pygments_lexer": "ipython2",
   "version": "2.7.12"
  }
 },
 "nbformat": 4,
 "nbformat_minor": 0
}
