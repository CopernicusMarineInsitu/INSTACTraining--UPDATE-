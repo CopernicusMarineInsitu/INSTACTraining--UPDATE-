{
 "cells": [
  {
   "cell_type": "markdown",
   "metadata": {},
   "source": [
    "<H2>MADATORY PYTHON LIBRARIES</H2>"
   ]
  },
  {
   "cell_type": "code",
   "execution_count": 2,
   "metadata": {
    "collapsed": true
   },
   "outputs": [],
   "source": [
    "import pandas as pd"
   ]
  },
  {
   "cell_type": "markdown",
   "metadata": {},
   "source": [
    "<H2>POSIBLE SELECTION CRITERIA</H2> "
   ]
  },
  {
   "cell_type": "markdown",
   "metadata": {},
   "source": [
    "If you had a look to the notebook dedicated to the index files (here), you will have detected several properties (raw & derived) that can be used to select netCDFs. Depending on the index file there will be certain criteria that will be missing or will not make any sense to use in order make some subsetting. "
   ]
  },
  {
   "cell_type": "code",
   "execution_count": 3,
   "metadata": {
    "collapsed": false
   },
   "outputs": [
    {
     "data": {
      "text/html": [
       "<div>\n",
       "<table border=\"1\" class=\"dataframe\">\n",
       "  <thead>\n",
       "    <tr style=\"text-align: right;\">\n",
       "      <th></th>\n",
       "      <th>Selection criteria</th>\n",
       "      <th>index_history.txt</th>\n",
       "      <th>index_latest.txt</th>\n",
       "      <th>index_monthly.txt</th>\n",
       "    </tr>\n",
       "  </thead>\n",
       "  <tbody>\n",
       "    <tr>\n",
       "      <th>0</th>\n",
       "      <td>Bounding box</td>\n",
       "      <td>✔</td>\n",
       "      <td>✔</td>\n",
       "      <td>✔</td>\n",
       "    </tr>\n",
       "    <tr>\n",
       "      <th>1</th>\n",
       "      <td>time range</td>\n",
       "      <td>✔</td>\n",
       "      <td>✔</td>\n",
       "      <td>✔</td>\n",
       "    </tr>\n",
       "    <tr>\n",
       "      <th>2</th>\n",
       "      <td>time update</td>\n",
       "      <td>✔ (?)</td>\n",
       "      <td>✔</td>\n",
       "      <td>✔ (?)</td>\n",
       "    </tr>\n",
       "    <tr>\n",
       "      <th>3</th>\n",
       "      <td>provider</td>\n",
       "      <td>✔</td>\n",
       "      <td>✔</td>\n",
       "      <td>✔</td>\n",
       "    </tr>\n",
       "    <tr>\n",
       "      <th>4</th>\n",
       "      <td>data mode</td>\n",
       "      <td>✔</td>\n",
       "      <td>✔</td>\n",
       "      <td>✔</td>\n",
       "    </tr>\n",
       "    <tr>\n",
       "      <th>5</th>\n",
       "      <td>parameters</td>\n",
       "      <td>✔</td>\n",
       "      <td>✔</td>\n",
       "      <td>✔</td>\n",
       "    </tr>\n",
       "    <tr>\n",
       "      <th>6</th>\n",
       "      <td>data source</td>\n",
       "      <td>✔</td>\n",
       "      <td>✔</td>\n",
       "      <td>✔</td>\n",
       "    </tr>\n",
       "    <tr>\n",
       "      <th>7</th>\n",
       "      <td>platform_category</td>\n",
       "      <td>✔</td>\n",
       "      <td>-</td>\n",
       "      <td>✔</td>\n",
       "    </tr>\n",
       "    <tr>\n",
       "      <th>8</th>\n",
       "      <td>timestamp</td>\n",
       "      <td>-</td>\n",
       "      <td>✔</td>\n",
       "      <td>✔</td>\n",
       "    </tr>\n",
       "  </tbody>\n",
       "</table>\n",
       "</div>"
      ],
      "text/plain": [
       "  Selection criteria index_history.txt index_latest.txt index_monthly.txt\n",
       "0       Bounding box                 ✔                ✔                 ✔\n",
       "1         time range                 ✔                ✔                 ✔\n",
       "2        time update             ✔ (?)                ✔             ✔ (?)\n",
       "3           provider                 ✔                ✔                 ✔\n",
       "4          data mode                 ✔                ✔                 ✔\n",
       "5         parameters                 ✔                ✔                 ✔\n",
       "6        data source                 ✔                ✔                 ✔\n",
       "7  platform_category                 ✔                -                 ✔\n",
       "8          timestamp                 -                ✔                 ✔"
      ]
     },
     "execution_count": 3,
     "metadata": {},
     "output_type": "execute_result"
    }
   ],
   "source": [
    "data = { 'Selection criteria': ['Bounding box','time range', 'time update', 'provider', 'data mode', 'parameters', 'data source', 'platform_category', 'timestamp'], 'index_history.txt': [' ✔', ' ✔',' ✔ (?)', ' ✔',' ✔', ' ✔',' ✔', ' ✔','-'], 'index_monthly.txt': [' ✔', ' ✔',' ✔ (?)', ' ✔',' ✔', ' ✔',' ✔', ' ✔',' ✔'],'index_latest.txt': [' ✔', ' ✔',' ✔', ' ✔',' ✔', ' ✔',' ✔', ' -',' ✔']}\n",
    "pd.DataFrame(data=data)"
   ]
  },
  {
   "cell_type": "markdown",
   "metadata": {},
   "source": [
    "<H2> SELECTION CRITERIA OVERVIEW </H2> "
   ]
  },
  {
   "cell_type": "markdown",
   "metadata": {},
   "source": [
    "## 1. Bounding box"
   ]
  },
  {
   "cell_type": "markdown",
   "metadata": {},
   "source": [
    "Thanks to the properities <i>'geospatial_lat_min','geospatial_lat_max','geospatial_lon_min' and 'geospatial_lon_max'</i> available on the index files as metadata for georeferenceing the content of every netCDF available on history, monthly and latest directories, it is posible to filter those and only keep the ones related to a specific area of interest. "
   ]
  },
  {
   "cell_type": "markdown",
   "metadata": {},
   "source": [
    "This selection criteria is highly recomended for any netCDF in the latest directory (index_latest.txt), but its usefullness may decay when targeting certain moving platforms (vessels and gliders in particular) in monthly and history directories (index_monthly.txt and index_history.tx). These platforms can be released/deployed more than once (not the case of profilers which are released just once) and at very different locations, resulting in a very big bounding box that will not be any helpful when trying to filter datasets geographically. "
   ]
  },
  {
   "cell_type": "code",
   "execution_count": 4,
   "metadata": {
    "collapsed": false
   },
   "outputs": [
    {
     "data": {
      "text/html": [
       "<div>\n",
       "<table border=\"1\" class=\"dataframe\">\n",
       "  <thead>\n",
       "    <tr style=\"text-align: right;\">\n",
       "      <th></th>\n",
       "      <th>Selection criteria</th>\n",
       "      <th>index_history.txt</th>\n",
       "      <th>index_latest.txt</th>\n",
       "      <th>index_monthly.txt</th>\n",
       "    </tr>\n",
       "  </thead>\n",
       "  <tbody>\n",
       "    <tr>\n",
       "      <th>0</th>\n",
       "      <td>geographical bounding box</td>\n",
       "      <td>✔</td>\n",
       "      <td>✔ ✔ ✔</td>\n",
       "      <td>✔</td>\n",
       "    </tr>\n",
       "  </tbody>\n",
       "</table>\n",
       "</div>"
      ],
      "text/plain": [
       "          Selection criteria index_history.txt index_latest.txt  \\\n",
       "0  geographical bounding box                 ✔            ✔ ✔ ✔   \n",
       "\n",
       "  index_monthly.txt  \n",
       "0                 ✔  "
      ]
     },
     "execution_count": 4,
     "metadata": {},
     "output_type": "execute_result"
    }
   ],
   "source": [
    "data = { 'Selection criteria': ['geographical bounding box'], 'index_history.txt': [' ✔'], 'index_monthly.txt': [' ✔'],'index_latest.txt': [' ✔ ✔ ✔']}\n",
    "pd.DataFrame(data=data)"
   ]
  },
  {
   "cell_type": "markdown",
   "metadata": {},
   "source": [
    "See example [here](https://github.com/CopernicusMarineInsitu/INSTAC-Tarining-Phase2/blob/master/PythonNotebooks/In_Situ_data_download_by_boundingbox.ipynb)."
   ]
  },
  {
   "cell_type": "markdown",
   "metadata": {},
   "source": [
    "## 2. Time range"
   ]
  },
  {
   "cell_type": "markdown",
   "metadata": {},
   "source": [
    "Thanks to the properities <i>'time_coverage_start' and 'time_coverage_end' </i> available on the index files as metadata for timereferenceing the content of every netCDF available on history, monthly and latest directories, it is posible to filter those and only keep the ones related to a specific time window of interest. "
   ]
  },
  {
   "cell_type": "markdown",
   "metadata": {},
   "source": [
    "This selection criteria is highly recomended for any netCDF in the latest, monthly and history directories (index_latest.txt, index_monthly.txt and index_history.txt):"
   ]
  },
  {
   "cell_type": "code",
   "execution_count": 32,
   "metadata": {
    "collapsed": false
   },
   "outputs": [
    {
     "data": {
      "text/html": [
       "<div>\n",
       "<table border=\"1\" class=\"dataframe\">\n",
       "  <thead>\n",
       "    <tr style=\"text-align: right;\">\n",
       "      <th></th>\n",
       "      <th>Selection criteria</th>\n",
       "      <th>index_history.txt</th>\n",
       "      <th>index_latest.txt</th>\n",
       "      <th>index_monthly.txt</th>\n",
       "    </tr>\n",
       "  </thead>\n",
       "  <tbody>\n",
       "    <tr>\n",
       "      <th>0</th>\n",
       "      <td>time range</td>\n",
       "      <td>✔</td>\n",
       "      <td>✔</td>\n",
       "      <td>✔</td>\n",
       "    </tr>\n",
       "  </tbody>\n",
       "</table>\n",
       "</div>"
      ],
      "text/plain": [
       "  Selection criteria index_history.txt index_latest.txt index_monthly.txt\n",
       "0         time range                 ✔                ✔                 ✔"
      ]
     },
     "execution_count": 32,
     "metadata": {},
     "output_type": "execute_result"
    }
   ],
   "source": [
    "data = { 'Selection criteria': ['time range'], 'index_history.txt': [' ✔'], 'index_monthly.txt': [' ✔'],'index_latest.txt': [' ✔']}\n",
    "pd.DataFrame(data=data)"
   ]
  },
  {
   "cell_type": "markdown",
   "metadata": {},
   "source": [
    "See example [here](https://github.com/CopernicusMarineInsitu/INSTAC-Tarining-Phase2/blob/master/PythonNotebooks/In_Situ_data_download_by_timerange.ipynb)"
   ]
  },
  {
   "cell_type": "markdown",
   "metadata": {},
   "source": [
    "## 3. Time update"
   ]
  },
  {
   "cell_type": "markdown",
   "metadata": {},
   "source": [
    "Thanks to the properity <i>'time_update' </i> available on the index files as metadata for timereferenceing the content-update of every netCDF available on history, monthly and latest directories, it is posible to filter those and only keep the ones related to a specific time windown of interest. "
   ]
  },
  {
   "cell_type": "markdown",
   "metadata": {},
   "source": [
    "This selection criteria is highly recomended for detecting changes in the content of the available neCDFs in the latest, monthly and history directories (index_latest.txt, index_monthly.txt & index_history.txt). Nevertheless, as the update rate of every file in these directories varies (hourly, daily and monthly basis respectively), in order to detect changes in real-time it might be a more effective selection criteria for netCDFs in the latest directory (index_latest.txt). "
   ]
  },
  {
   "cell_type": "code",
   "execution_count": 39,
   "metadata": {
    "collapsed": false
   },
   "outputs": [
    {
     "data": {
      "text/html": [
       "<div>\n",
       "<table border=\"1\" class=\"dataframe\">\n",
       "  <thead>\n",
       "    <tr style=\"text-align: right;\">\n",
       "      <th></th>\n",
       "      <th>Selection criteria</th>\n",
       "      <th>index_history.txt</th>\n",
       "      <th>index_latest.txt</th>\n",
       "      <th>index_monthly.txt</th>\n",
       "    </tr>\n",
       "  </thead>\n",
       "  <tbody>\n",
       "    <tr>\n",
       "      <th>0</th>\n",
       "      <td>time update</td>\n",
       "      <td>✔</td>\n",
       "      <td>✔ ✔</td>\n",
       "      <td>✔</td>\n",
       "    </tr>\n",
       "  </tbody>\n",
       "</table>\n",
       "</div>"
      ],
      "text/plain": [
       "  Selection criteria index_history.txt index_latest.txt index_monthly.txt\n",
       "0        time update                 ✔              ✔ ✔                 ✔"
      ]
     },
     "execution_count": 39,
     "metadata": {},
     "output_type": "execute_result"
    }
   ],
   "source": [
    "data = { 'Selection criteria': ['time update'], 'index_history.txt': [' ✔'], 'index_monthly.txt': [' ✔'],'index_latest.txt': [' ✔ ✔']}\n",
    "pd.DataFrame(data=data)"
   ]
  },
  {
   "cell_type": "markdown",
   "metadata": {},
   "source": [
    "See example [here](https://github.com/CopernicusMarineInsitu/INSTAC-Tarining-Phase2/blob/master/PythonNotebooks/In_Situ_data_download_by_timeupdate.ipynb)"
   ]
  },
  {
   "cell_type": "markdown",
   "metadata": {},
   "source": [
    "## 4. Provider"
   ]
  },
  {
   "cell_type": "markdown",
   "metadata": {},
   "source": [
    "Thanks to the properity <i>'provider' </i> available on the index files as metadata for timereferenceing the content-update of every netCDF available on history, monthly and latest directories, it is posible to filter those and only keep the ones related to a specific institution. "
   ]
  },
  {
   "cell_type": "markdown",
   "metadata": {},
   "source": [
    "This selection criteria is highly recomended for finding only those neCDFs beloging to a specific institution and can be apply with same efectivenness in the latest, monthly and history directories (index_latest.txt, index_monthly.txt & index_history.txt). Keep in mind though that the same provider can be referred by its longname and short name, so most institutions does not have a unique name but several."
   ]
  },
  {
   "cell_type": "code",
   "execution_count": 41,
   "metadata": {
    "collapsed": false
   },
   "outputs": [
    {
     "data": {
      "text/html": [
       "<div>\n",
       "<table border=\"1\" class=\"dataframe\">\n",
       "  <thead>\n",
       "    <tr style=\"text-align: right;\">\n",
       "      <th></th>\n",
       "      <th>Selection criteria</th>\n",
       "      <th>index_history.txt</th>\n",
       "      <th>index_latest.txt</th>\n",
       "      <th>index_monthly.txt</th>\n",
       "    </tr>\n",
       "  </thead>\n",
       "  <tbody>\n",
       "    <tr>\n",
       "      <th>0</th>\n",
       "      <td>provider</td>\n",
       "      <td>✔</td>\n",
       "      <td>✔</td>\n",
       "      <td>✔</td>\n",
       "    </tr>\n",
       "  </tbody>\n",
       "</table>\n",
       "</div>"
      ],
      "text/plain": [
       "  Selection criteria index_history.txt index_latest.txt index_monthly.txt\n",
       "0           provider                 ✔               ✔                  ✔"
      ]
     },
     "execution_count": 41,
     "metadata": {},
     "output_type": "execute_result"
    }
   ],
   "source": [
    "data = { 'Selection criteria': ['provider'], 'index_history.txt': [' ✔'], 'index_monthly.txt': [' ✔'],'index_latest.txt': [' ✔ ']}\n",
    "pd.DataFrame(data=data)"
   ]
  },
  {
   "cell_type": "markdown",
   "metadata": {},
   "source": [
    "See example [here](https://github.com/CopernicusMarineInsitu/INSTAC-Tarining-Phase2/blob/master/PythonNotebooks/In_Situ_data_download_by_provider.ipynb)"
   ]
  },
  {
   "cell_type": "markdown",
   "metadata": {},
   "source": [
    "## 5. Parameters"
   ]
  },
  {
   "cell_type": "markdown",
   "metadata": {},
   "source": [
    "Thanks to the properity <i>'parameters' </i> available on the index files as metadata for referenceing the content of every netCDF (in terms of variables measured) available on history, monthly and latest directories, it is posible to filter those and only keep the ones containing a certain parameter of interest. "
   ]
  },
  {
   "cell_type": "markdown",
   "metadata": {},
   "source": [
    "This selection criteria is highly recomended for finding only those neCDFs including a certain parameter and can be apply with same efectivenness in the latest, monthly and history directories (index_latest.txt, index_monthly.txt & index_history.txt)."
   ]
  },
  {
   "cell_type": "code",
   "execution_count": 42,
   "metadata": {
    "collapsed": false
   },
   "outputs": [
    {
     "data": {
      "text/html": [
       "<div>\n",
       "<table border=\"1\" class=\"dataframe\">\n",
       "  <thead>\n",
       "    <tr style=\"text-align: right;\">\n",
       "      <th></th>\n",
       "      <th>Selection criteria</th>\n",
       "      <th>index_history.txt</th>\n",
       "      <th>index_latest.txt</th>\n",
       "      <th>index_monthly.txt</th>\n",
       "    </tr>\n",
       "  </thead>\n",
       "  <tbody>\n",
       "    <tr>\n",
       "      <th>0</th>\n",
       "      <td>parameters</td>\n",
       "      <td>✔</td>\n",
       "      <td>✔</td>\n",
       "      <td>✔</td>\n",
       "    </tr>\n",
       "  </tbody>\n",
       "</table>\n",
       "</div>"
      ],
      "text/plain": [
       "  Selection criteria index_history.txt index_latest.txt index_monthly.txt\n",
       "0         parameters                 ✔               ✔                  ✔"
      ]
     },
     "execution_count": 42,
     "metadata": {},
     "output_type": "execute_result"
    }
   ],
   "source": [
    "data = { 'Selection criteria': ['parameters'], 'index_history.txt': [' ✔'], 'index_monthly.txt': [' ✔'],'index_latest.txt': [' ✔ ']}\n",
    "pd.DataFrame(data=data)"
   ]
  },
  {
   "cell_type": "markdown",
   "metadata": {},
   "source": [
    "See example [here](https://github.com/CopernicusMarineInsitu/INSTAC-Tarining-Phase2/blob/master/PythonNotebooks/In_Situ_data_download_by_parameters.ipynb)"
   ]
  },
  {
   "cell_type": "markdown",
   "metadata": {},
   "source": [
    "## 6. Platform's data sources"
   ]
  },
  {
   "cell_type": "markdown",
   "metadata": {},
   "source": [
    "Thanks to the properity <i>'file_name' </i> available on the index files for facilititating the ftp link to every netCDF available on history, monthly and latest directories, it is posible to filter those and only keep the ones beloging to a certain data source of interest. "
   ]
  },
  {
   "cell_type": "markdown",
   "metadata": {},
   "source": [
    "The data source is always part of the file name by convention but, the location of such reference within the name structure changes (position 1 in file name for netCDFs in history directory and position 3 in files at monthly and latest directories), so you have to take this into account when filtering."
   ]
  },
  {
   "cell_type": "code",
   "execution_count": 7,
   "metadata": {
    "collapsed": false
   },
   "outputs": [
    {
     "data": {
      "text/html": [
       "<div>\n",
       "<table border=\"1\" class=\"dataframe\">\n",
       "  <thead>\n",
       "    <tr style=\"text-align: right;\">\n",
       "      <th></th>\n",
       "      <th>Selection criteria</th>\n",
       "      <th>index_history.txt</th>\n",
       "      <th>index_latest.txt</th>\n",
       "      <th>index_monthly.txt</th>\n",
       "    </tr>\n",
       "  </thead>\n",
       "  <tbody>\n",
       "    <tr>\n",
       "      <th>0</th>\n",
       "      <td>data source</td>\n",
       "      <td>✔</td>\n",
       "      <td>✔</td>\n",
       "      <td>✔</td>\n",
       "    </tr>\n",
       "  </tbody>\n",
       "</table>\n",
       "</div>"
      ],
      "text/plain": [
       "  Selection criteria index_history.txt index_latest.txt index_monthly.txt\n",
       "0        data source                 ✔               ✔                  ✔"
      ]
     },
     "execution_count": 7,
     "metadata": {},
     "output_type": "execute_result"
    }
   ],
   "source": [
    "data = { 'Selection criteria': ['data source'], 'index_history.txt': [' ✔'], 'index_monthly.txt': [' ✔'],'index_latest.txt': [' ✔ ']}\n",
    "pd.DataFrame(data=data)"
   ]
  },
  {
   "cell_type": "markdown",
   "metadata": {},
   "source": [
    "See example [here](https://github.com/CopernicusMarineInsitu/INSTAC-Tarining-Phase2/blob/master/PythonNotebooks/In_Situ_data_download_by_platform_data_source.ipynb)"
   ]
  },
  {
   "cell_type": "markdown",
   "metadata": {},
   "source": [
    "## 7. Platform category"
   ]
  },
  {
   "cell_type": "markdown",
   "metadata": {},
   "source": [
    "Thanks to the properity <i>'file_name' </i> available on the index files for facilititating the ftp link to every netCDF available on history, monthly and latest directories, it is posible in case of history and monhtly directories to filter those and only keep the ones beloging to a certain platform category; a much more wider concept than the data source. "
   ]
  },
  {
   "cell_type": "code",
   "execution_count": 5,
   "metadata": {
    "collapsed": false
   },
   "outputs": [
    {
     "data": {
      "text/html": [
       "<div>\n",
       "<table border=\"1\" class=\"dataframe\">\n",
       "  <thead>\n",
       "    <tr style=\"text-align: right;\">\n",
       "      <th></th>\n",
       "      <th>Selection criteria</th>\n",
       "      <th>index_history.txt</th>\n",
       "      <th>index_latest.txt</th>\n",
       "      <th>index_monthly.txt</th>\n",
       "    </tr>\n",
       "  </thead>\n",
       "  <tbody>\n",
       "    <tr>\n",
       "      <th>0</th>\n",
       "      <td>platform category</td>\n",
       "      <td>✔</td>\n",
       "      <td>-</td>\n",
       "      <td>✔</td>\n",
       "    </tr>\n",
       "  </tbody>\n",
       "</table>\n",
       "</div>"
      ],
      "text/plain": [
       "  Selection criteria index_history.txt index_latest.txt index_monthly.txt\n",
       "0  platform category                 ✔               -                  ✔"
      ]
     },
     "execution_count": 5,
     "metadata": {},
     "output_type": "execute_result"
    }
   ],
   "source": [
    "data = { 'Selection criteria': ['platform category'], 'index_history.txt': [' ✔'], 'index_monthly.txt': [' ✔'],'index_latest.txt': [' - ']}\n",
    "pd.DataFrame(data=data)"
   ]
  },
  {
   "cell_type": "markdown",
   "metadata": {},
   "source": [
    "See example [here](https://github.com/CopernicusMarineInsitu/INSTAC-Tarining-Phase2/blob/master/PythonNotebooks/In_Situ_data_download_by_platform_category.ipynb)"
   ]
  },
  {
   "cell_type": "markdown",
   "metadata": {},
   "source": [
    "## 8. Timestamp"
   ]
  },
  {
   "cell_type": "markdown",
   "metadata": {},
   "source": [
    "Thanks to the properity <i>'file_name' </i> available on the index files for facilitating the ftp link to every netCDF available on history, monthly and latest directories, it is posible, in case of monthly and latest directories, to filter those and only keep the ones matching a certain timestamp, explicited stated in the file name convention. "
   ]
  },
  {
   "cell_type": "markdown",
   "metadata": {},
   "source": [
    "This selection criteria is highly recomended for finding only those neCDFs matching a certain timestamp in monthly and latest directories."
   ]
  },
  {
   "cell_type": "code",
   "execution_count": 6,
   "metadata": {
    "collapsed": false
   },
   "outputs": [
    {
     "data": {
      "text/html": [
       "<div>\n",
       "<table border=\"1\" class=\"dataframe\">\n",
       "  <thead>\n",
       "    <tr style=\"text-align: right;\">\n",
       "      <th></th>\n",
       "      <th>Selection criteria</th>\n",
       "      <th>index_history.txt</th>\n",
       "      <th>index_latest.txt</th>\n",
       "      <th>index_monthly.txt</th>\n",
       "    </tr>\n",
       "  </thead>\n",
       "  <tbody>\n",
       "    <tr>\n",
       "      <th>0</th>\n",
       "      <td>timestamp</td>\n",
       "      <td>-</td>\n",
       "      <td>✔</td>\n",
       "      <td>✔</td>\n",
       "    </tr>\n",
       "  </tbody>\n",
       "</table>\n",
       "</div>"
      ],
      "text/plain": [
       "  Selection criteria index_history.txt index_latest.txt index_monthly.txt\n",
       "0          timestamp                 -                ✔                 ✔"
      ]
     },
     "execution_count": 6,
     "metadata": {},
     "output_type": "execute_result"
    }
   ],
   "source": [
    "data = { 'Selection criteria': ['timestamp'], 'index_history.txt': [' -'], 'index_monthly.txt': [' ✔'],'index_latest.txt': [' ✔']}\n",
    "pd.DataFrame(data=data)"
   ]
  },
  {
   "cell_type": "markdown",
   "metadata": {},
   "source": [
    "See example [here](https://github.com/CopernicusMarineInsitu/INSTAC-Tarining-Phase2/blob/master/PythonNotebooks/In_Situ_data_download_by_timestamp.ipynb)"
   ]
  }
 ],
 "metadata": {
  "kernelspec": {
   "display_name": "Python [anaconda2]",
   "language": "python",
   "name": "Python [anaconda2]"
  },
  "language_info": {
   "codemirror_mode": {
    "name": "ipython",
    "version": 2
   },
   "file_extension": ".py",
   "mimetype": "text/x-python",
   "name": "python",
   "nbconvert_exporter": "python",
   "pygments_lexer": "ipython2",
   "version": "2.7.12"
  }
 },
 "nbformat": 4,
 "nbformat_minor": 0
}
