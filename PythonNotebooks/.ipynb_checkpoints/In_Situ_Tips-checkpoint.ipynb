{
 "cells": [
  {
   "cell_type": "markdown",
   "metadata": {},
   "source": [
    "<H2>MADATORY PYTHON LIBRARIES</H2>"
   ]
  },
  {
   "cell_type": "code",
   "execution_count": 58,
   "metadata": {
    "collapsed": true
   },
   "outputs": [],
   "source": [
    "import ftputil\n",
    "import numpy as np\n",
    "import pandas as pd\n",
    "from IPython.display import Image\n",
    "%matplotlib inline "
   ]
  },
  {
   "cell_type": "markdown",
   "metadata": {},
   "source": [
    "<h2> SET YOUR CREDENTIALS</h2>"
   ]
  },
  {
   "cell_type": "code",
   "execution_count": 49,
   "metadata": {
    "collapsed": true
   },
   "outputs": [],
   "source": [
    "user = 'protllan' #type CMEMS user name\n",
    "password = 'PazCMEMS2016' #type CMEMS password"
   ]
  },
  {
   "cell_type": "markdown",
   "metadata": {},
   "source": [
    "<h2> INSITU PRODUCT LIST</h2>"
   ]
  },
  {
   "cell_type": "markdown",
   "metadata": {},
   "source": [
    "There are 2 types of In Situ Products: Near Real Time (NRT) and Reprocessed (REP) products that can be found on CMEMS FTPs servers. "
   ]
  },
  {
   "cell_type": "code",
   "execution_count": 51,
   "metadata": {
    "collapsed": false
   },
   "outputs": [
    {
     "data": {
      "text/html": [
       "<div>\n",
       "<table border=\"1\" class=\"dataframe\">\n",
       "  <thead>\n",
       "    <tr style=\"text-align: right;\">\n",
       "      <th></th>\n",
       "      <th>In Situ NRT products</th>\n",
       "    </tr>\n",
       "  </thead>\n",
       "  <tbody>\n",
       "    <tr>\n",
       "      <th>0</th>\n",
       "      <td>INSITU_ARC_NRT_OBSERVATIONS_013_031</td>\n",
       "    </tr>\n",
       "    <tr>\n",
       "      <th>1</th>\n",
       "      <td>INSITU_BAL_NRT_OBSERVATIONS_013_032</td>\n",
       "    </tr>\n",
       "    <tr>\n",
       "      <th>2</th>\n",
       "      <td>INSITU_BS_NRT_OBSERVATIONS_013_034</td>\n",
       "    </tr>\n",
       "    <tr>\n",
       "      <th>3</th>\n",
       "      <td>INSITU_GLO_NRT_OBSERVATIONS_013_030</td>\n",
       "    </tr>\n",
       "    <tr>\n",
       "      <th>4</th>\n",
       "      <td>INSITU_GLO_TS_ASSIM_NRT_OBSERVATIONS_013_047</td>\n",
       "    </tr>\n",
       "    <tr>\n",
       "      <th>5</th>\n",
       "      <td>INSITU_GLO_TS_OA_NRT_OBSERVATIONS_013_002_a</td>\n",
       "    </tr>\n",
       "    <tr>\n",
       "      <th>6</th>\n",
       "      <td>INSITU_IBI_NRT_OBSERVATIONS_013_033</td>\n",
       "    </tr>\n",
       "    <tr>\n",
       "      <th>7</th>\n",
       "      <td>INSITU_MED_NRT_OBSERVATIONS_013_035</td>\n",
       "    </tr>\n",
       "    <tr>\n",
       "      <th>8</th>\n",
       "      <td>INSITU_NWS_NRT_OBSERVATIONS_013_036</td>\n",
       "    </tr>\n",
       "  </tbody>\n",
       "</table>\n",
       "</div>"
      ],
      "text/plain": [
       "                           In Situ NRT products\n",
       "0           INSITU_ARC_NRT_OBSERVATIONS_013_031\n",
       "1           INSITU_BAL_NRT_OBSERVATIONS_013_032\n",
       "2            INSITU_BS_NRT_OBSERVATIONS_013_034\n",
       "3           INSITU_GLO_NRT_OBSERVATIONS_013_030\n",
       "4  INSITU_GLO_TS_ASSIM_NRT_OBSERVATIONS_013_047\n",
       "5   INSITU_GLO_TS_OA_NRT_OBSERVATIONS_013_002_a\n",
       "6           INSITU_IBI_NRT_OBSERVATIONS_013_033\n",
       "7           INSITU_MED_NRT_OBSERVATIONS_013_035\n",
       "8           INSITU_NWS_NRT_OBSERVATIONS_013_036"
      ]
     },
     "execution_count": 51,
     "metadata": {},
     "output_type": "execute_result"
    }
   ],
   "source": [
    "data = {'In Situ NRT products': []}\n",
    "NRT_products, REP_products = [], []\n",
    "#connect to CMEMS FTP\n",
    "with ftputil.FTPHost('nrt.cmems-du.eu', user, password) as ftp_host: \n",
    "    ftp_host.chdir('Core')\n",
    "    product_list = ftp_host.listdir(ftp_host.curdir)\n",
    "    for product in product_list:\n",
    "        items = product.split('_')\n",
    "        if 'INSITU' in items:\n",
    "            data['In Situ NRT products'].append(product)\n",
    "pd.DataFrame(data=data)"
   ]
  },
  {
   "cell_type": "code",
   "execution_count": 52,
   "metadata": {
    "collapsed": false
   },
   "outputs": [
    {
     "data": {
      "text/html": [
       "<div>\n",
       "<table border=\"1\" class=\"dataframe\">\n",
       "  <thead>\n",
       "    <tr style=\"text-align: right;\">\n",
       "      <th></th>\n",
       "      <th>In Situ REP products</th>\n",
       "    </tr>\n",
       "  </thead>\n",
       "  <tbody>\n",
       "    <tr>\n",
       "      <th>0</th>\n",
       "      <td>INSITU_ARC_TS_REP_OBSERVATIONS_013_037</td>\n",
       "    </tr>\n",
       "    <tr>\n",
       "      <th>1</th>\n",
       "      <td>INSITU_BAL_TS_REP_OBSERVATIONS_013_038</td>\n",
       "    </tr>\n",
       "    <tr>\n",
       "      <th>2</th>\n",
       "      <td>INSITU_BS_TS_REP_OBSERVATIONS_013_042</td>\n",
       "    </tr>\n",
       "    <tr>\n",
       "      <th>3</th>\n",
       "      <td>INSITU_GLO_BGC_REP_OBSERVATIONS_013_046</td>\n",
       "    </tr>\n",
       "    <tr>\n",
       "      <th>4</th>\n",
       "      <td>INSITU_GLO_TS_OA_REP_OBSERVATIONS_013_002_b</td>\n",
       "    </tr>\n",
       "    <tr>\n",
       "      <th>5</th>\n",
       "      <td>INSITU_GLO_TS_REP_OBSERVATIONS_013_001_b</td>\n",
       "    </tr>\n",
       "    <tr>\n",
       "      <th>6</th>\n",
       "      <td>INSITU_GLO_UV_L2_REP_OBSERVATIONS_013_044</td>\n",
       "    </tr>\n",
       "    <tr>\n",
       "      <th>7</th>\n",
       "      <td>INSITU_GLO_WAVE_REP_OBSERVATIONS_013_045</td>\n",
       "    </tr>\n",
       "    <tr>\n",
       "      <th>8</th>\n",
       "      <td>INSITU_IBI_TS_REP_OBSERVATIONS_013_040</td>\n",
       "    </tr>\n",
       "    <tr>\n",
       "      <th>9</th>\n",
       "      <td>INSITU_MED_TS_REP_OBSERVATIONS_013_041</td>\n",
       "    </tr>\n",
       "    <tr>\n",
       "      <th>10</th>\n",
       "      <td>INSITU_NWS_TS_REP_OBSERVATIONS_013_043</td>\n",
       "    </tr>\n",
       "  </tbody>\n",
       "</table>\n",
       "</div>"
      ],
      "text/plain": [
       "                           In Situ REP products\n",
       "0        INSITU_ARC_TS_REP_OBSERVATIONS_013_037\n",
       "1        INSITU_BAL_TS_REP_OBSERVATIONS_013_038\n",
       "2         INSITU_BS_TS_REP_OBSERVATIONS_013_042\n",
       "3       INSITU_GLO_BGC_REP_OBSERVATIONS_013_046\n",
       "4   INSITU_GLO_TS_OA_REP_OBSERVATIONS_013_002_b\n",
       "5      INSITU_GLO_TS_REP_OBSERVATIONS_013_001_b\n",
       "6     INSITU_GLO_UV_L2_REP_OBSERVATIONS_013_044\n",
       "7      INSITU_GLO_WAVE_REP_OBSERVATIONS_013_045\n",
       "8        INSITU_IBI_TS_REP_OBSERVATIONS_013_040\n",
       "9        INSITU_MED_TS_REP_OBSERVATIONS_013_041\n",
       "10       INSITU_NWS_TS_REP_OBSERVATIONS_013_043"
      ]
     },
     "execution_count": 52,
     "metadata": {},
     "output_type": "execute_result"
    }
   ],
   "source": [
    "data = {'In Situ REP products': []}\n",
    "NRT_products, REP_products = [], []\n",
    "#connect to CMEMS FTP\n",
    "with ftputil.FTPHost('my.cmems-du.eu', user, password) as ftp_host: \n",
    "    ftp_host.chdir('Core')\n",
    "    product_list = ftp_host.listdir(ftp_host.curdir)\n",
    "    for product in product_list:\n",
    "        items = product.split('_')\n",
    "        if 'INSITU' in items:\n",
    "            data['In Situ REP products'].append(product)\n",
    "pd.DataFrame(data=data)"
   ]
  },
  {
   "cell_type": "markdown",
   "metadata": {},
   "source": [
    "<h2> INSITU INDEX FILES</h2>"
   ]
  },
  {
   "cell_type": "markdown",
   "metadata": {},
   "source": [
    "In Situ products are nothing else that lots of netCDFs containing the observations from the In Situ network of platforms in a given region (7 posible regions). <br>\n",
    "\n",
    "Theese netCDFs are oganized in histocial, monthly and latest directories depending if they store a platform whole-life-span observations (one file per platform), the last 5 years of observations (oner file per platform per month) or the last 30 days of observations (one file per platform per day)."
   ]
  },
  {
   "cell_type": "code",
   "execution_count": 62,
   "metadata": {
    "collapsed": false
   },
   "outputs": [
    {
     "data": {
      "image/png": "[encoded data removed]",
      "text/plain": [
       "<IPython.core.display.Image object>"
      ]
     },
     "execution_count": 62,
     "metadata": {},
     "output_type": "execute_result"
    }
   ],
   "source": [
    "Image(filename='../images/ftpStruture.png')"
   ]
  },
  {
   "cell_type": "markdown",
   "metadata": {},
   "source": [
    "For each product you will have a serie of <i>index files</i> to ease the navigation through the different directories and subdirectories:"
   ]
  },
  {
   "cell_type": "code",
   "execution_count": 63,
   "metadata": {
    "collapsed": false
   },
   "outputs": [
    {
     "data": {
      "text/html": [
       "<div>\n",
       "<table border=\"1\" class=\"dataframe\">\n",
       "  <thead>\n",
       "    <tr style=\"text-align: right;\">\n",
       "      <th></th>\n",
       "      <th>FTP Host</th>\n",
       "      <th>index_history.txt</th>\n",
       "      <th>index_latest.txt</th>\n",
       "      <th>index_monthly.txt</th>\n",
       "    </tr>\n",
       "  </thead>\n",
       "  <tbody>\n",
       "    <tr>\n",
       "      <th>In Situ NRT products</th>\n",
       "      <td>nrt.cmems-du.eu</td>\n",
       "      <td>✔</td>\n",
       "      <td>✔</td>\n",
       "      <td>✔</td>\n",
       "    </tr>\n",
       "    <tr>\n",
       "      <th>In Situ REP products</th>\n",
       "      <td>my.cmems-du.eu</td>\n",
       "      <td>✔</td>\n",
       "      <td>-</td>\n",
       "      <td>-</td>\n",
       "    </tr>\n",
       "  </tbody>\n",
       "</table>\n",
       "</div>"
      ],
      "text/plain": [
       "                             FTP Host index_history.txt index_latest.txt  \\\n",
       "In Situ NRT products  nrt.cmems-du.eu                 ✔                ✔   \n",
       "In Situ REP products   my.cmems-du.eu                 ✔                -   \n",
       "\n",
       "                     index_monthly.txt  \n",
       "In Situ NRT products                 ✔  \n",
       "In Situ REP products                 -  "
      ]
     },
     "execution_count": 63,
     "metadata": {},
     "output_type": "execute_result"
    }
   ],
   "source": [
    "data = { 'FTP Host': ['nrt.cmems-du.eu', 'my.cmems-du.eu'], 'index_history.txt': [' ✔', ' ✔'], 'index_monthly.txt': [' ✔', '-'],'index_latest.txt': [' ✔', '-']}\n",
    "pd.DataFrame(data=data, index=['In Situ NRT products', 'In Situ REP products'])"
   ]
  },
  {
   "cell_type": "markdown",
   "metadata": {},
   "source": [
    "<ul>\n",
    "<li>index_history.txt contains the ftplink and some extra metadata for the netCDFs produced by In Situ platform network since ever</li>\n",
    "<li> index_monthly.txt contains the ftplink and some extra metadata for the netCDFs produced by In Situ platform network during the last 5 years</li>\n",
    "<li>index_latest.txt contains the ftplink and some extra metadata for the netCDFs produced by In Situ platform network during the last 30 days</li>\n",
    "</ul>"
   ]
  },
  {
   "cell_type": "markdown",
   "metadata": {},
   "source": [
    "Look at their content:"
   ]
  },
  {
   "cell_type": "code",
   "execution_count": 80,
   "metadata": {
    "collapsed": true
   },
   "outputs": [],
   "source": [
    "product_name = 'INSITU_MED_NRT_OBSERVATIONS_013_035'\n",
    "host = 'nrt.cmems-du.eu'\n",
    "index_file = 'index_history.txt'"
   ]
  },
  {
   "cell_type": "code",
   "execution_count": 81,
   "metadata": {
    "collapsed": false
   },
   "outputs": [
    {
     "name": "stdout",
     "output_type": "stream",
     "text": [
      "ftplink and some metadata of the netCDFs produced by In Situ platform network since ever\n"
     ]
    },
    {
     "data": {
      "text/html": [
       "<div>\n",
       "<table border=\"1\" class=\"dataframe\">\n",
       "  <thead>\n",
       "    <tr style=\"text-align: right;\">\n",
       "      <th></th>\n",
       "      <th>#catalog_id</th>\n",
       "      <th>file_name</th>\n",
       "      <th>geospatial_lat_min</th>\n",
       "      <th>geospatial_lat_max</th>\n",
       "      <th>geospatial_lon_min</th>\n",
       "      <th>geospatial_lon_max</th>\n",
       "      <th>time_coverage_start</th>\n",
       "      <th>time_coverage_end</th>\n",
       "      <th>provider</th>\n",
       "      <th>date_update</th>\n",
       "      <th>data_mode</th>\n",
       "      <th>parameters</th>\n",
       "    </tr>\n",
       "  </thead>\n",
       "  <tbody>\n",
       "    <tr>\n",
       "      <th>0</th>\n",
       "      <td>MYO-MOON-01</td>\n",
       "      <td>ftp://nrt.cmems-du.eu/Core/INSITU_MED_NRT_OBSE...</td>\n",
       "      <td>41.810</td>\n",
       "      <td>42.820</td>\n",
       "      <td>4.030</td>\n",
       "      <td>7.400</td>\n",
       "      <td>1999-09-10T08:58:00Z</td>\n",
       "      <td>1999-11-15T06:48:00Z</td>\n",
       "      <td>MEDS</td>\n",
       "      <td>2017-07-05T10:21:49Z</td>\n",
       "      <td>R</td>\n",
       "      <td>PRES TEMP</td>\n",
       "    </tr>\n",
       "    <tr>\n",
       "      <th>1</th>\n",
       "      <td>MYO-MOON-01</td>\n",
       "      <td>ftp://nrt.cmems-du.eu/Core/INSITU_MED_NRT_OBSE...</td>\n",
       "      <td>41.760</td>\n",
       "      <td>42.630</td>\n",
       "      <td>3.670</td>\n",
       "      <td>5.330</td>\n",
       "      <td>1999-09-10T07:42:00Z</td>\n",
       "      <td>1999-10-04T10:36:00Z</td>\n",
       "      <td>MEDS</td>\n",
       "      <td>2017-07-05T10:21:48Z</td>\n",
       "      <td>R</td>\n",
       "      <td>PRES TEMP</td>\n",
       "    </tr>\n",
       "    <tr>\n",
       "      <th>2</th>\n",
       "      <td>MYO-MOON-01</td>\n",
       "      <td>ftp://nrt.cmems-du.eu/Core/INSITU_MED_NRT_OBSE...</td>\n",
       "      <td>42.000</td>\n",
       "      <td>43.450</td>\n",
       "      <td>5.330</td>\n",
       "      <td>8.280</td>\n",
       "      <td>1999-09-10T07:42:00Z</td>\n",
       "      <td>1999-11-11T14:37:00Z</td>\n",
       "      <td>MEDS</td>\n",
       "      <td>2017-07-05T10:21:49Z</td>\n",
       "      <td>R</td>\n",
       "      <td>PRES TEMP</td>\n",
       "    </tr>\n",
       "    <tr>\n",
       "      <th>3</th>\n",
       "      <td>MYO-MOON-01</td>\n",
       "      <td>ftp://nrt.cmems-du.eu/Core/INSITU_MED_NRT_OBSE...</td>\n",
       "      <td>41.538</td>\n",
       "      <td>42.395</td>\n",
       "      <td>4.857</td>\n",
       "      <td>5.909</td>\n",
       "      <td>2013-01-31T14:00:00Z</td>\n",
       "      <td>2013-03-21T13:00:00Z</td>\n",
       "      <td>Unknown institution</td>\n",
       "      <td>2017-07-05T10:21:48Z</td>\n",
       "      <td>R</td>\n",
       "      <td>DEPH TEMP</td>\n",
       "    </tr>\n",
       "    <tr>\n",
       "      <th>4</th>\n",
       "      <td>MYO-MOON-01</td>\n",
       "      <td>ftp://nrt.cmems-du.eu/Core/INSITU_MED_NRT_OBSE...</td>\n",
       "      <td>39.893</td>\n",
       "      <td>42.480</td>\n",
       "      <td>3.694</td>\n",
       "      <td>6.325</td>\n",
       "      <td>2013-01-31T14:00:00Z</td>\n",
       "      <td>2013-07-10T12:00:00Z</td>\n",
       "      <td>Naval Oceanographic Office (NAVO)</td>\n",
       "      <td>2017-07-05T10:21:48Z</td>\n",
       "      <td>R</td>\n",
       "      <td>DEPH TEMP</td>\n",
       "    </tr>\n",
       "  </tbody>\n",
       "</table>\n",
       "</div>"
      ],
      "text/plain": [
       "   #catalog_id                                          file_name  \\\n",
       "0  MYO-MOON-01  ftp://nrt.cmems-du.eu/Core/INSITU_MED_NRT_OBSE...   \n",
       "1  MYO-MOON-01  ftp://nrt.cmems-du.eu/Core/INSITU_MED_NRT_OBSE...   \n",
       "2  MYO-MOON-01  ftp://nrt.cmems-du.eu/Core/INSITU_MED_NRT_OBSE...   \n",
       "3  MYO-MOON-01  ftp://nrt.cmems-du.eu/Core/INSITU_MED_NRT_OBSE...   \n",
       "4  MYO-MOON-01  ftp://nrt.cmems-du.eu/Core/INSITU_MED_NRT_OBSE...   \n",
       "\n",
       "   geospatial_lat_min  geospatial_lat_max  geospatial_lon_min  \\\n",
       "0              41.810              42.820               4.030   \n",
       "1              41.760              42.630               3.670   \n",
       "2              42.000              43.450               5.330   \n",
       "3              41.538              42.395               4.857   \n",
       "4              39.893              42.480               3.694   \n",
       "\n",
       "   geospatial_lon_max   time_coverage_start     time_coverage_end  \\\n",
       "0               7.400  1999-09-10T08:58:00Z  1999-11-15T06:48:00Z   \n",
       "1               5.330  1999-09-10T07:42:00Z  1999-10-04T10:36:00Z   \n",
       "2               8.280  1999-09-10T07:42:00Z  1999-11-11T14:37:00Z   \n",
       "3               5.909  2013-01-31T14:00:00Z  2013-03-21T13:00:00Z   \n",
       "4               6.325  2013-01-31T14:00:00Z  2013-07-10T12:00:00Z   \n",
       "\n",
       "                            provider           date_update data_mode  \\\n",
       "0                               MEDS  2017-07-05T10:21:49Z         R   \n",
       "1                               MEDS  2017-07-05T10:21:48Z         R   \n",
       "2                               MEDS  2017-07-05T10:21:49Z         R   \n",
       "3                Unknown institution  2017-07-05T10:21:48Z         R   \n",
       "4  Naval Oceanographic Office (NAVO)  2017-07-05T10:21:48Z         R   \n",
       "\n",
       "   parameters  \n",
       "0   PRES TEMP  \n",
       "1   PRES TEMP  \n",
       "2   PRES TEMP  \n",
       "3   DEPH TEMP  \n",
       "4   DEPH TEMP  "
      ]
     },
     "execution_count": 81,
     "metadata": {},
     "output_type": "execute_result"
    }
   ],
   "source": [
    "#connect to CMEMS FTP\n",
    "with ftputil.FTPHost(host, user, password) as ftp_host: \n",
    "    #open the index file to read\n",
    "    with ftp_host.open(\"Core\"+'/'+product_name+'/'+index_file, \"r\") as indexfile:\n",
    "        raw_index_info = pd.read_csv(indexfile, skiprows=5) #load it as pandas dataframe\n",
    "print('ftplink and some metadata of the netCDFs produced by In Situ platform network since ever')\n",
    "raw_index_info.head()"
   ]
  },
  {
   "cell_type": "code",
   "execution_count": 82,
   "metadata": {
    "collapsed": true
   },
   "outputs": [],
   "source": [
    "product_name = 'INSITU_MED_NRT_OBSERVATIONS_013_035'\n",
    "host = 'nrt.cmems-du.eu'\n",
    "index = 'index_monthly.txt'"
   ]
  },
  {
   "cell_type": "code",
   "execution_count": 83,
   "metadata": {
    "collapsed": false
   },
   "outputs": [
    {
     "name": "stdout",
     "output_type": "stream",
     "text": [
      "ftplink and metadata of the netCDFs produced by In Situ platform network during the last 5 years\n"
     ]
    },
    {
     "data": {
      "text/html": [
       "<div>\n",
       "<table border=\"1\" class=\"dataframe\">\n",
       "  <thead>\n",
       "    <tr style=\"text-align: right;\">\n",
       "      <th></th>\n",
       "      <th>#catalog_id</th>\n",
       "      <th>file_name</th>\n",
       "      <th>geospatial_lat_min</th>\n",
       "      <th>geospatial_lat_max</th>\n",
       "      <th>geospatial_lon_min</th>\n",
       "      <th>geospatial_lon_max</th>\n",
       "      <th>time_coverage_start</th>\n",
       "      <th>time_coverage_end</th>\n",
       "      <th>provider</th>\n",
       "      <th>date_update</th>\n",
       "      <th>data_mode</th>\n",
       "      <th>parameters</th>\n",
       "    </tr>\n",
       "  </thead>\n",
       "  <tbody>\n",
       "    <tr>\n",
       "      <th>0</th>\n",
       "      <td>MYO-MOON-01</td>\n",
       "      <td>ftp://nrt.cmems-du.eu/Core/INSITU_MED_NRT_OBSE...</td>\n",
       "      <td>41.810</td>\n",
       "      <td>42.820</td>\n",
       "      <td>4.030</td>\n",
       "      <td>7.400</td>\n",
       "      <td>1999-09-10T08:58:00Z</td>\n",
       "      <td>1999-11-15T06:48:00Z</td>\n",
       "      <td>MEDS</td>\n",
       "      <td>2017-07-05T10:21:49Z</td>\n",
       "      <td>R</td>\n",
       "      <td>PRES TEMP</td>\n",
       "    </tr>\n",
       "    <tr>\n",
       "      <th>1</th>\n",
       "      <td>MYO-MOON-01</td>\n",
       "      <td>ftp://nrt.cmems-du.eu/Core/INSITU_MED_NRT_OBSE...</td>\n",
       "      <td>41.760</td>\n",
       "      <td>42.630</td>\n",
       "      <td>3.670</td>\n",
       "      <td>5.330</td>\n",
       "      <td>1999-09-10T07:42:00Z</td>\n",
       "      <td>1999-10-04T10:36:00Z</td>\n",
       "      <td>MEDS</td>\n",
       "      <td>2017-07-05T10:21:48Z</td>\n",
       "      <td>R</td>\n",
       "      <td>PRES TEMP</td>\n",
       "    </tr>\n",
       "    <tr>\n",
       "      <th>2</th>\n",
       "      <td>MYO-MOON-01</td>\n",
       "      <td>ftp://nrt.cmems-du.eu/Core/INSITU_MED_NRT_OBSE...</td>\n",
       "      <td>42.000</td>\n",
       "      <td>43.450</td>\n",
       "      <td>5.330</td>\n",
       "      <td>8.280</td>\n",
       "      <td>1999-09-10T07:42:00Z</td>\n",
       "      <td>1999-11-11T14:37:00Z</td>\n",
       "      <td>MEDS</td>\n",
       "      <td>2017-07-05T10:21:49Z</td>\n",
       "      <td>R</td>\n",
       "      <td>PRES TEMP</td>\n",
       "    </tr>\n",
       "    <tr>\n",
       "      <th>3</th>\n",
       "      <td>MYO-MOON-01</td>\n",
       "      <td>ftp://nrt.cmems-du.eu/Core/INSITU_MED_NRT_OBSE...</td>\n",
       "      <td>41.538</td>\n",
       "      <td>42.395</td>\n",
       "      <td>4.857</td>\n",
       "      <td>5.909</td>\n",
       "      <td>2013-01-31T14:00:00Z</td>\n",
       "      <td>2013-03-21T13:00:00Z</td>\n",
       "      <td>Unknown institution</td>\n",
       "      <td>2017-07-05T10:21:48Z</td>\n",
       "      <td>R</td>\n",
       "      <td>DEPH TEMP</td>\n",
       "    </tr>\n",
       "    <tr>\n",
       "      <th>4</th>\n",
       "      <td>MYO-MOON-01</td>\n",
       "      <td>ftp://nrt.cmems-du.eu/Core/INSITU_MED_NRT_OBSE...</td>\n",
       "      <td>39.893</td>\n",
       "      <td>42.480</td>\n",
       "      <td>3.694</td>\n",
       "      <td>6.325</td>\n",
       "      <td>2013-01-31T14:00:00Z</td>\n",
       "      <td>2013-07-10T12:00:00Z</td>\n",
       "      <td>Naval Oceanographic Office (NAVO)</td>\n",
       "      <td>2017-07-05T10:21:48Z</td>\n",
       "      <td>R</td>\n",
       "      <td>DEPH TEMP</td>\n",
       "    </tr>\n",
       "  </tbody>\n",
       "</table>\n",
       "</div>"
      ],
      "text/plain": [
       "   #catalog_id                                          file_name  \\\n",
       "0  MYO-MOON-01  ftp://nrt.cmems-du.eu/Core/INSITU_MED_NRT_OBSE...   \n",
       "1  MYO-MOON-01  ftp://nrt.cmems-du.eu/Core/INSITU_MED_NRT_OBSE...   \n",
       "2  MYO-MOON-01  ftp://nrt.cmems-du.eu/Core/INSITU_MED_NRT_OBSE...   \n",
       "3  MYO-MOON-01  ftp://nrt.cmems-du.eu/Core/INSITU_MED_NRT_OBSE...   \n",
       "4  MYO-MOON-01  ftp://nrt.cmems-du.eu/Core/INSITU_MED_NRT_OBSE...   \n",
       "\n",
       "   geospatial_lat_min  geospatial_lat_max  geospatial_lon_min  \\\n",
       "0              41.810              42.820               4.030   \n",
       "1              41.760              42.630               3.670   \n",
       "2              42.000              43.450               5.330   \n",
       "3              41.538              42.395               4.857   \n",
       "4              39.893              42.480               3.694   \n",
       "\n",
       "   geospatial_lon_max   time_coverage_start     time_coverage_end  \\\n",
       "0               7.400  1999-09-10T08:58:00Z  1999-11-15T06:48:00Z   \n",
       "1               5.330  1999-09-10T07:42:00Z  1999-10-04T10:36:00Z   \n",
       "2               8.280  1999-09-10T07:42:00Z  1999-11-11T14:37:00Z   \n",
       "3               5.909  2013-01-31T14:00:00Z  2013-03-21T13:00:00Z   \n",
       "4               6.325  2013-01-31T14:00:00Z  2013-07-10T12:00:00Z   \n",
       "\n",
       "                            provider           date_update data_mode  \\\n",
       "0                               MEDS  2017-07-05T10:21:49Z         R   \n",
       "1                               MEDS  2017-07-05T10:21:48Z         R   \n",
       "2                               MEDS  2017-07-05T10:21:49Z         R   \n",
       "3                Unknown institution  2017-07-05T10:21:48Z         R   \n",
       "4  Naval Oceanographic Office (NAVO)  2017-07-05T10:21:48Z         R   \n",
       "\n",
       "   parameters  \n",
       "0   PRES TEMP  \n",
       "1   PRES TEMP  \n",
       "2   PRES TEMP  \n",
       "3   DEPH TEMP  \n",
       "4   DEPH TEMP  "
      ]
     },
     "execution_count": 83,
     "metadata": {},
     "output_type": "execute_result"
    }
   ],
   "source": [
    "#connect to CMEMS FTP\n",
    "with ftputil.FTPHost(host, user, password) as ftp_host: \n",
    "    #open the index file to read\n",
    "    with ftp_host.open(\"Core\"+'/'+product_name+'/'+index_file, \"r\") as indexfile:\n",
    "        raw_index_info = pd.read_csv(indexfile, skiprows=5) #load it as pandas dataframe\n",
    "print('ftplink and metadata of the netCDFs produced by In Situ platform network during the last 5 years')\n",
    "raw_index_info.head()"
   ]
  },
  {
   "cell_type": "code",
   "execution_count": 74,
   "metadata": {
    "collapsed": true
   },
   "outputs": [],
   "source": [
    "product_name = 'INSITU_MED_NRT_OBSERVATIONS_013_035'\n",
    "host = 'nrt.cmems-du.eu'\n",
    "index = 'index_latest.txt'"
   ]
  },
  {
   "cell_type": "code",
   "execution_count": 84,
   "metadata": {
    "collapsed": false
   },
   "outputs": [
    {
     "name": "stdout",
     "output_type": "stream",
     "text": [
      "ftplink and metadata to the netCDFs produced by In Situ platform network during the last 30 days\n"
     ]
    },
    {
     "data": {
      "text/html": [
       "<div>\n",
       "<table border=\"1\" class=\"dataframe\">\n",
       "  <thead>\n",
       "    <tr style=\"text-align: right;\">\n",
       "      <th></th>\n",
       "      <th>#catalog_id</th>\n",
       "      <th>file_name</th>\n",
       "      <th>geospatial_lat_min</th>\n",
       "      <th>geospatial_lat_max</th>\n",
       "      <th>geospatial_lon_min</th>\n",
       "      <th>geospatial_lon_max</th>\n",
       "      <th>time_coverage_start</th>\n",
       "      <th>time_coverage_end</th>\n",
       "      <th>provider</th>\n",
       "      <th>date_update</th>\n",
       "      <th>data_mode</th>\n",
       "      <th>parameters</th>\n",
       "    </tr>\n",
       "  </thead>\n",
       "  <tbody>\n",
       "    <tr>\n",
       "      <th>0</th>\n",
       "      <td>MYO-MOON-01</td>\n",
       "      <td>ftp://nrt.cmems-du.eu/Core/INSITU_MED_NRT_OBSE...</td>\n",
       "      <td>41.810</td>\n",
       "      <td>42.820</td>\n",
       "      <td>4.030</td>\n",
       "      <td>7.400</td>\n",
       "      <td>1999-09-10T08:58:00Z</td>\n",
       "      <td>1999-11-15T06:48:00Z</td>\n",
       "      <td>MEDS</td>\n",
       "      <td>2017-07-05T10:21:49Z</td>\n",
       "      <td>R</td>\n",
       "      <td>PRES TEMP</td>\n",
       "    </tr>\n",
       "    <tr>\n",
       "      <th>1</th>\n",
       "      <td>MYO-MOON-01</td>\n",
       "      <td>ftp://nrt.cmems-du.eu/Core/INSITU_MED_NRT_OBSE...</td>\n",
       "      <td>41.760</td>\n",
       "      <td>42.630</td>\n",
       "      <td>3.670</td>\n",
       "      <td>5.330</td>\n",
       "      <td>1999-09-10T07:42:00Z</td>\n",
       "      <td>1999-10-04T10:36:00Z</td>\n",
       "      <td>MEDS</td>\n",
       "      <td>2017-07-05T10:21:48Z</td>\n",
       "      <td>R</td>\n",
       "      <td>PRES TEMP</td>\n",
       "    </tr>\n",
       "    <tr>\n",
       "      <th>2</th>\n",
       "      <td>MYO-MOON-01</td>\n",
       "      <td>ftp://nrt.cmems-du.eu/Core/INSITU_MED_NRT_OBSE...</td>\n",
       "      <td>42.000</td>\n",
       "      <td>43.450</td>\n",
       "      <td>5.330</td>\n",
       "      <td>8.280</td>\n",
       "      <td>1999-09-10T07:42:00Z</td>\n",
       "      <td>1999-11-11T14:37:00Z</td>\n",
       "      <td>MEDS</td>\n",
       "      <td>2017-07-05T10:21:49Z</td>\n",
       "      <td>R</td>\n",
       "      <td>PRES TEMP</td>\n",
       "    </tr>\n",
       "    <tr>\n",
       "      <th>3</th>\n",
       "      <td>MYO-MOON-01</td>\n",
       "      <td>ftp://nrt.cmems-du.eu/Core/INSITU_MED_NRT_OBSE...</td>\n",
       "      <td>41.538</td>\n",
       "      <td>42.395</td>\n",
       "      <td>4.857</td>\n",
       "      <td>5.909</td>\n",
       "      <td>2013-01-31T14:00:00Z</td>\n",
       "      <td>2013-03-21T13:00:00Z</td>\n",
       "      <td>Unknown institution</td>\n",
       "      <td>2017-07-05T10:21:48Z</td>\n",
       "      <td>R</td>\n",
       "      <td>DEPH TEMP</td>\n",
       "    </tr>\n",
       "    <tr>\n",
       "      <th>4</th>\n",
       "      <td>MYO-MOON-01</td>\n",
       "      <td>ftp://nrt.cmems-du.eu/Core/INSITU_MED_NRT_OBSE...</td>\n",
       "      <td>39.893</td>\n",
       "      <td>42.480</td>\n",
       "      <td>3.694</td>\n",
       "      <td>6.325</td>\n",
       "      <td>2013-01-31T14:00:00Z</td>\n",
       "      <td>2013-07-10T12:00:00Z</td>\n",
       "      <td>Naval Oceanographic Office (NAVO)</td>\n",
       "      <td>2017-07-05T10:21:48Z</td>\n",
       "      <td>R</td>\n",
       "      <td>DEPH TEMP</td>\n",
       "    </tr>\n",
       "  </tbody>\n",
       "</table>\n",
       "</div>"
      ],
      "text/plain": [
       "   #catalog_id                                          file_name  \\\n",
       "0  MYO-MOON-01  ftp://nrt.cmems-du.eu/Core/INSITU_MED_NRT_OBSE...   \n",
       "1  MYO-MOON-01  ftp://nrt.cmems-du.eu/Core/INSITU_MED_NRT_OBSE...   \n",
       "2  MYO-MOON-01  ftp://nrt.cmems-du.eu/Core/INSITU_MED_NRT_OBSE...   \n",
       "3  MYO-MOON-01  ftp://nrt.cmems-du.eu/Core/INSITU_MED_NRT_OBSE...   \n",
       "4  MYO-MOON-01  ftp://nrt.cmems-du.eu/Core/INSITU_MED_NRT_OBSE...   \n",
       "\n",
       "   geospatial_lat_min  geospatial_lat_max  geospatial_lon_min  \\\n",
       "0              41.810              42.820               4.030   \n",
       "1              41.760              42.630               3.670   \n",
       "2              42.000              43.450               5.330   \n",
       "3              41.538              42.395               4.857   \n",
       "4              39.893              42.480               3.694   \n",
       "\n",
       "   geospatial_lon_max   time_coverage_start     time_coverage_end  \\\n",
       "0               7.400  1999-09-10T08:58:00Z  1999-11-15T06:48:00Z   \n",
       "1               5.330  1999-09-10T07:42:00Z  1999-10-04T10:36:00Z   \n",
       "2               8.280  1999-09-10T07:42:00Z  1999-11-11T14:37:00Z   \n",
       "3               5.909  2013-01-31T14:00:00Z  2013-03-21T13:00:00Z   \n",
       "4               6.325  2013-01-31T14:00:00Z  2013-07-10T12:00:00Z   \n",
       "\n",
       "                            provider           date_update data_mode  \\\n",
       "0                               MEDS  2017-07-05T10:21:49Z         R   \n",
       "1                               MEDS  2017-07-05T10:21:48Z         R   \n",
       "2                               MEDS  2017-07-05T10:21:49Z         R   \n",
       "3                Unknown institution  2017-07-05T10:21:48Z         R   \n",
       "4  Naval Oceanographic Office (NAVO)  2017-07-05T10:21:48Z         R   \n",
       "\n",
       "   parameters  \n",
       "0   PRES TEMP  \n",
       "1   PRES TEMP  \n",
       "2   PRES TEMP  \n",
       "3   DEPH TEMP  \n",
       "4   DEPH TEMP  "
      ]
     },
     "execution_count": 84,
     "metadata": {},
     "output_type": "execute_result"
    }
   ],
   "source": [
    "#connect to CMEMS FTP\n",
    "with ftputil.FTPHost(host, user, password) as ftp_host: \n",
    "    #open the index file to read\n",
    "    with ftp_host.open(\"Core\"+'/'+product_name+'/'+index_file, \"r\") as indexfile:\n",
    "        raw_index_info = pd.read_csv(indexfile, skiprows=5) #load it as pandas dataframe\n",
    "print('ftplink and metadata to the netCDFs produced by In Situ platform network during the last 30 days')\n",
    "raw_index_info.head()"
   ]
  },
  {
   "cell_type": "markdown",
   "metadata": {},
   "source": []
  },
  {
   "cell_type": "code",
   "execution_count": null,
   "metadata": {
    "collapsed": true
   },
   "outputs": [],
   "source": []
  },
  {
   "cell_type": "code",
   "execution_count": null,
   "metadata": {
    "collapsed": true
   },
   "outputs": [],
   "source": []
  },
  {
   "cell_type": "code",
   "execution_count": null,
   "metadata": {
    "collapsed": true
   },
   "outputs": [],
   "source": []
  },
  {
   "cell_type": "code",
   "execution_count": null,
   "metadata": {
    "collapsed": true
   },
   "outputs": [],
   "source": []
  },
  {
   "cell_type": "code",
   "execution_count": 42,
   "metadata": {
    "collapsed": false
   },
   "outputs": [
    {
     "ename": "FTPOSError",
     "evalue": "[Errno -2] Name or service not known\nDebugging info: ftputil 3.3.1, Python 2.7.12 (linux2)",
     "output_type": "error",
     "traceback": [
      "\u001b[1;31m---------------------------------------------------------------------------\u001b[0m",
      "\u001b[1;31mFTPOSError\u001b[0m                                Traceback (most recent call last)",
      "\u001b[1;32m<ipython-input-42-6bf4cfb881f1>\u001b[0m in \u001b[0;36m<module>\u001b[1;34m()\u001b[0m\n\u001b[0;32m      3\u001b[0m \u001b[0mNRT_products\u001b[0m\u001b[1;33m,\u001b[0m \u001b[0mREP_products\u001b[0m \u001b[1;33m=\u001b[0m \u001b[1;33m[\u001b[0m\u001b[1;33m]\u001b[0m\u001b[1;33m,\u001b[0m \u001b[1;33m[\u001b[0m\u001b[1;33m]\u001b[0m\u001b[1;33m\u001b[0m\u001b[0m\n\u001b[0;32m      4\u001b[0m \u001b[1;31m#connect to CMEMS FTP\u001b[0m\u001b[1;33m\u001b[0m\u001b[1;33m\u001b[0m\u001b[0m\n\u001b[1;32m----> 5\u001b[1;33m \u001b[1;32mwith\u001b[0m \u001b[0mftputil\u001b[0m\u001b[1;33m.\u001b[0m\u001b[0mFTPHost\u001b[0m\u001b[1;33m(\u001b[0m\u001b[1;34m'my.cmems-du'\u001b[0m\u001b[1;33m,\u001b[0m \u001b[0muser\u001b[0m\u001b[1;33m,\u001b[0m \u001b[0mpassword\u001b[0m\u001b[1;33m)\u001b[0m \u001b[1;32mas\u001b[0m \u001b[0mftp_host\u001b[0m\u001b[1;33m:\u001b[0m\u001b[1;33m\u001b[0m\u001b[0m\n\u001b[0m\u001b[0;32m      6\u001b[0m     \u001b[0mftp_host\u001b[0m\u001b[1;33m.\u001b[0m\u001b[0mchdir\u001b[0m\u001b[1;33m(\u001b[0m\u001b[1;34m'Core'\u001b[0m\u001b[1;33m)\u001b[0m\u001b[1;33m\u001b[0m\u001b[0m\n\u001b[0;32m      7\u001b[0m     \u001b[0mproduct_list\u001b[0m \u001b[1;33m=\u001b[0m \u001b[0mftp_host\u001b[0m\u001b[1;33m.\u001b[0m\u001b[0mlistdir\u001b[0m\u001b[1;33m(\u001b[0m\u001b[0mftp_host\u001b[0m\u001b[1;33m.\u001b[0m\u001b[0mcurdir\u001b[0m\u001b[1;33m)\u001b[0m\u001b[1;33m\u001b[0m\u001b[0m\n",
      "\u001b[1;32m/home/protllan/anaconda2/lib/python2.7/site-packages/ftputil/host.pyc\u001b[0m in \u001b[0;36m__init__\u001b[1;34m(self, *args, **kwargs)\u001b[0m\n\u001b[0;32m     69\u001b[0m         \u001b[1;31m#XXX Maybe put the following in a `reset` method.\u001b[0m\u001b[1;33m\u001b[0m\u001b[1;33m\u001b[0m\u001b[0m\n\u001b[0;32m     70\u001b[0m         \u001b[1;31m# The time shift setting shouldn't be reset though.\u001b[0m\u001b[1;33m\u001b[0m\u001b[1;33m\u001b[0m\u001b[0m\n\u001b[1;32m---> 71\u001b[1;33m         \u001b[1;31m# Make a session according to these arguments.\u001b[0m\u001b[1;33m\u001b[0m\u001b[1;33m\u001b[0m\u001b[0m\n\u001b[0m\u001b[0;32m     72\u001b[0m         \u001b[0mself\u001b[0m\u001b[1;33m.\u001b[0m\u001b[0m_session\u001b[0m \u001b[1;33m=\u001b[0m \u001b[0mself\u001b[0m\u001b[1;33m.\u001b[0m\u001b[0m_make_session\u001b[0m\u001b[1;33m(\u001b[0m\u001b[1;33m)\u001b[0m\u001b[1;33m\u001b[0m\u001b[0m\n\u001b[0;32m     73\u001b[0m         \u001b[1;31m# Simulate `os.path`.\u001b[0m\u001b[1;33m\u001b[0m\u001b[1;33m\u001b[0m\u001b[0m\n",
      "\u001b[1;32m/home/protllan/anaconda2/lib/python2.7/site-packages/ftputil/host.pyc\u001b[0m in \u001b[0;36m_make_session\u001b[1;34m(self)\u001b[0m\n\u001b[0;32m    129\u001b[0m         \u001b[0mkwargs\u001b[0m \u001b[1;33m=\u001b[0m \u001b[0mself\u001b[0m\u001b[1;33m.\u001b[0m\u001b[0m_kwargs\u001b[0m\u001b[1;33m.\u001b[0m\u001b[0mcopy\u001b[0m\u001b[1;33m(\u001b[0m\u001b[1;33m)\u001b[0m\u001b[1;33m\u001b[0m\u001b[0m\n\u001b[0;32m    130\u001b[0m         \u001b[1;31m# If a session factory has been given on the instantiation of\u001b[0m\u001b[1;33m\u001b[0m\u001b[1;33m\u001b[0m\u001b[0m\n\u001b[1;32m--> 131\u001b[1;33m         \u001b[1;31m# this `FTPHost` object, use the same factory for this\u001b[0m\u001b[1;33m\u001b[0m\u001b[1;33m\u001b[0m\u001b[0m\n\u001b[0m\u001b[0;32m    132\u001b[0m         \u001b[1;31m# `FTPHost` object's child sessions.\u001b[0m\u001b[1;33m\u001b[0m\u001b[1;33m\u001b[0m\u001b[0m\n\u001b[0;32m    133\u001b[0m         \u001b[0mfactory\u001b[0m \u001b[1;33m=\u001b[0m \u001b[0mkwargs\u001b[0m\u001b[1;33m.\u001b[0m\u001b[0mpop\u001b[0m\u001b[1;33m(\u001b[0m\u001b[1;34m\"session_factory\"\u001b[0m\u001b[1;33m,\u001b[0m \u001b[0mftplib\u001b[0m\u001b[1;33m.\u001b[0m\u001b[0mFTP\u001b[0m\u001b[1;33m)\u001b[0m\u001b[1;33m\u001b[0m\u001b[0m\n",
      "\u001b[1;32m/home/protllan/anaconda2/lib/python2.7/site-packages/ftputil/error.pyc\u001b[0m in \u001b[0;36m__exit__\u001b[1;34m(self, exc_type, exc_value, traceback)\u001b[0m\n\u001b[0;32m    145\u001b[0m             ):\n\u001b[0;32m    146\u001b[0m                 \u001b[1;32mraise\u001b[0m \u001b[0mCommandNotImplementedError\u001b[0m\u001b[1;33m(\u001b[0m\u001b[1;33m*\u001b[0m\u001b[0mexc_value\u001b[0m\u001b[1;33m.\u001b[0m\u001b[0margs\u001b[0m\u001b[1;33m)\u001b[0m\u001b[1;33m\u001b[0m\u001b[0m\n\u001b[1;32m--> 147\u001b[1;33m             \u001b[1;32melse\u001b[0m\u001b[1;33m:\u001b[0m\u001b[1;33m\u001b[0m\u001b[0m\n\u001b[0m\u001b[0;32m    148\u001b[0m                 raise PermanentError(*exc_value.args,\n\u001b[0;32m    149\u001b[0m                                      original_exception=exc_value)\n",
      "\u001b[1;31mFTPOSError\u001b[0m: [Errno -2] Name or service not known\nDebugging info: ftputil 3.3.1, Python 2.7.12 (linux2)"
     ]
    }
   ],
   "source": [
    "data = {'NRT_products': [], 'REP_products': []}\n",
    "\n",
    "NRT_products, REP_products = [], []\n",
    "#connect to CMEMS FTP\n",
    "with ftputil.FTPHost('my.cmems-du.eu', user, password) as ftp_host: \n",
    "    ftp_host.chdir('Core')\n",
    "    product_list = ftp_host.listdir(ftp_host.curdir)\n",
    "    for product in product_list:\n",
    "        items = product.split('_')\n",
    "        if 'INSITU' in items:\n",
    "            data['REP_products'].append(product)\n",
    "pd.DataFrame(data=data)"
   ]
  },
  {
   "cell_type": "code",
   "execution_count": null,
   "metadata": {
    "collapsed": true
   },
   "outputs": [],
   "source": [
    "REP_products = []\n",
    "#connect to CMEMS FTP\n",
    "with ftputil.FTPHost('my.cmems-du', user, password) as ftp_host: \n",
    "    ftp_host.chdir('Core')\n",
    "    product_list = ftp_host.listdir(ftp_host.curdir)\n",
    "    for product in product_list:\n",
    "        items = product.split('_')\n",
    "        if 'INSITU' in items:\n",
    "            REP_products.append(product)\n",
    "            data['Description'].append('<a href=\"http://marine.copernicus.eu/services-portfolio/access-to-products/?option=com_csw&view=details&product_id='+product+'\" target=\"_blank\"></a>')"
   ]
  },
  {
   "cell_type": "code",
   "execution_count": null,
   "metadata": {
    "collapsed": true
   },
   "outputs": [],
   "source": [
    "<br>\n",
    "These products are nothing else that lots of netCDFs containing the observations from the In Situ network of platforms in a given area (7 regions). \n",
    "Depending on the product you will have a serie of <i>index files</i> to better deal with the outstanding amount of avaialable netCDFs in a given product:"
   ]
  },
  {
   "cell_type": "code",
   "execution_count": 11,
   "metadata": {
    "collapsed": false
   },
   "outputs": [
    {
     "data": {
      "text/html": [
       "<div>\n",
       "<table border=\"1\" class=\"dataframe\">\n",
       "  <thead>\n",
       "    <tr style=\"text-align: right;\">\n",
       "      <th></th>\n",
       "      <th>FTP Host</th>\n",
       "      <th>index_history.txt</th>\n",
       "      <th>index_latest.txt</th>\n",
       "      <th>index_monthly.txt</th>\n",
       "    </tr>\n",
       "  </thead>\n",
       "  <tbody>\n",
       "    <tr>\n",
       "      <th>In Situ NRT products</th>\n",
       "      <td>nrt.cmems-du.eu</td>\n",
       "      <td>✔</td>\n",
       "      <td>✔</td>\n",
       "      <td>✔</td>\n",
       "    </tr>\n",
       "    <tr>\n",
       "      <th>In Situ REP products</th>\n",
       "      <td>my.cmems-du</td>\n",
       "      <td>✔</td>\n",
       "      <td>-</td>\n",
       "      <td>-</td>\n",
       "    </tr>\n",
       "  </tbody>\n",
       "</table>\n",
       "</div>"
      ],
      "text/plain": [
       "                             FTP Host index_history.txt index_latest.txt  \\\n",
       "In Situ NRT products  nrt.cmems-du.eu                 ✔                ✔   \n",
       "In Situ REP products      my.cmems-du                 ✔                -   \n",
       "\n",
       "                     index_monthly.txt  \n",
       "In Situ NRT products                 ✔  \n",
       "In Situ REP products                 -  "
      ]
     },
     "execution_count": 11,
     "metadata": {},
     "output_type": "execute_result"
    }
   ],
   "source": [
    "data = { 'FTP Host': ['nrt.cmems-du.eu', 'my.cmems-du'], 'index_history.txt': [' ✔', ' ✔'], 'index_monthly.txt': [' ✔', '-'],'index_latest.txt': [' ✔', '-']}\n",
    "pd.DataFrame(data=data, index=['In Situ NRT products', 'In Situ REP products'])"
   ]
  },
  {
   "cell_type": "code",
   "execution_count": 19,
   "metadata": {
    "collapsed": false
   },
   "outputs": [],
   "source": []
  },
  {
   "cell_type": "code",
   "execution_count": 21,
   "metadata": {
    "collapsed": false
   },
   "outputs": [
    {
     "data": {
      "text/plain": [
       "[u'INSITU_ARC_NRT_OBSERVATIONS_013_031',\n",
       " u'INSITU_BAL_NRT_OBSERVATIONS_013_032',\n",
       " u'INSITU_BS_NRT_OBSERVATIONS_013_034',\n",
       " u'INSITU_GLO_NRT_OBSERVATIONS_013_030',\n",
       " u'INSITU_GLO_TS_ASSIM_NRT_OBSERVATIONS_013_047',\n",
       " u'INSITU_GLO_TS_OA_NRT_OBSERVATIONS_013_002_a',\n",
       " u'INSITU_IBI_NRT_OBSERVATIONS_013_033',\n",
       " u'INSITU_MED_NRT_OBSERVATIONS_013_035',\n",
       " u'INSITU_NWS_NRT_OBSERVATIONS_013_036']"
      ]
     },
     "execution_count": 21,
     "metadata": {},
     "output_type": "execute_result"
    }
   ],
   "source": [
    "sorted(index)"
   ]
  },
  {
   "cell_type": "code",
   "execution_count": null,
   "metadata": {
    "collapsed": true
   },
   "outputs": [],
   "source": [
    "ftp_host.listdir(ftp_host.curdir)"
   ]
  },
  {
   "cell_type": "code",
   "execution_count": null,
   "metadata": {
    "collapsed": true
   },
   "outputs": [],
   "source": [
    "NRT_products = { \n",
    "    'FTP Host': \n",
    "    ['nrt.cmems-du.eu', 'my.cmems-du'], \n",
    "        'index_history.txt': [' ✔', ' ✔'], \n",
    "        'index_monthly.txt': [' ✔', '-'],\n",
    "        'index_latest.txt': [' ✔', '-']\n",
    "       }\n"
   ]
  },
  {
   "cell_type": "code",
   "execution_count": null,
   "metadata": {
    "collapsed": true
   },
   "outputs": [],
   "source": [
    "data = { \n",
    "    'FTP Host': ['nrt.cmems-du.eu', 'my.cmems-du'], \n",
    "    'index_history.txt': [' ✔', ' ✔'], \n",
    "    'index_monthly.txt': [' ✔', '-'],\n",
    "    'index_latest.txt': [' ✔', '-']\n",
    "}"
   ]
  },
  {
   "cell_type": "code",
   "execution_count": null,
   "metadata": {
    "collapsed": true
   },
   "outputs": [],
   "source": []
  },
  {
   "cell_type": "code",
   "execution_count": 9,
   "metadata": {
    "collapsed": false
   },
   "outputs": [
    {
     "data": {
      "text/html": [
       "<div>\n",
       "<table border=\"1\" class=\"dataframe\">\n",
       "  <thead>\n",
       "    <tr style=\"text-align: right;\">\n",
       "      <th></th>\n",
       "      <th>FTP Host</th>\n",
       "      <th>index_history.txt</th>\n",
       "      <th>index_latest.txt</th>\n",
       "      <th>index_monthly.txt</th>\n",
       "    </tr>\n",
       "  </thead>\n",
       "  <tbody>\n",
       "    <tr>\n",
       "      <th>In Situ NRT products</th>\n",
       "      <td>nrt.cmems-du.eu</td>\n",
       "      <td>✔</td>\n",
       "      <td>✔</td>\n",
       "      <td>✔</td>\n",
       "    </tr>\n",
       "    <tr>\n",
       "      <th>In Situ REP products</th>\n",
       "      <td>my.cmems-du</td>\n",
       "      <td>✔</td>\n",
       "      <td>-</td>\n",
       "      <td>-</td>\n",
       "    </tr>\n",
       "  </tbody>\n",
       "</table>\n",
       "</div>"
      ],
      "text/plain": [
       "                             FTP Host index_history.txt index_latest.txt  \\\n",
       "In Situ NRT products  nrt.cmems-du.eu                 ✔                ✔   \n",
       "In Situ REP products      my.cmems-du                 ✔                -   \n",
       "\n",
       "                     index_monthly.txt  \n",
       "In Situ NRT products                 ✔  \n",
       "In Situ REP products                 -  "
      ]
     },
     "execution_count": 9,
     "metadata": {},
     "output_type": "execute_result"
    }
   ],
   "source": []
  },
  {
   "cell_type": "code",
   "execution_count": null,
   "metadata": {
    "collapsed": true
   },
   "outputs": [],
   "source": []
  },
  {
   "cell_type": "markdown",
   "metadata": {},
   "source": []
  },
  {
   "cell_type": "code",
   "execution_count": null,
   "metadata": {
    "collapsed": true
   },
   "outputs": [],
   "source": []
  }
 ],
 "metadata": {
  "kernelspec": {
   "display_name": "Python [anaconda2]",
   "language": "python",
   "name": "Python [anaconda2]"
  },
  "language_info": {
   "codemirror_mode": {
    "name": "ipython",
    "version": 2
   },
   "file_extension": ".py",
   "mimetype": "text/x-python",
   "name": "python",
   "nbconvert_exporter": "python",
   "pygments_lexer": "ipython2",
   "version": "2.7.12"
  }
 },
 "nbformat": 4,
 "nbformat_minor": 0
}
