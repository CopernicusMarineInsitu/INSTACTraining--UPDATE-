{
 "cells": [
  {
   "cell_type": "markdown",
   "metadata": {},
   "source": [
    "<h1> DOWNLOAD IN SITU NETCDF FILES PROGRAMATICALLY</h1>"
   ]
  },
  {
   "cell_type": "markdown",
   "metadata": {},
   "source": [
    "STEPS\n",
    "<ul>\n",
    "<li>Set your credentials</li>\n",
    "<li>Target an In Situ product, Host and index file</li>\n",
    "<li>Loop over the Index File and download the netCDFs that suits you (choose by metadat or filename)</li>\n",
    "</ul>"
   ]
  },
  {
   "cell_type": "markdown",
   "metadata": {},
   "source": [
    "<H2>MADATORY PYTHON LIBRARIES</H2>"
   ]
  },
  {
   "cell_type": "code",
   "execution_count": 157,
   "metadata": {
    "collapsed": true
   },
   "outputs": [],
   "source": [
    "import ftputil\n",
    "import numpy as np\n",
    "import os"
   ]
  },
  {
   "cell_type": "markdown",
   "metadata": {},
   "source": [
    "<H2>SET OUTPUT DIRECTORY</H2>"
   ]
  },
  {
   "cell_type": "code",
   "execution_count": 167,
   "metadata": {
    "collapsed": true
   },
   "outputs": [],
   "source": [
    "output_directory = os.getcwd() #default to current working directory"
   ]
  },
  {
   "cell_type": "markdown",
   "metadata": {},
   "source": [
    "<h2> SET YOUR CREDENTIALS</h2>"
   ]
  },
  {
   "cell_type": "code",
   "execution_count": 163,
   "metadata": {
    "collapsed": true
   },
   "outputs": [],
   "source": [
    "user = '' #type CMEMS user name\n",
    "password = '' #type CMEMS password"
   ]
  },
  {
   "cell_type": "markdown",
   "metadata": {},
   "source": [
    "<h2> TARGET A PRODUCT, HOST AND INDEX FILE</h2>"
   ]
  },
  {
   "cell_type": "markdown",
   "metadata": {},
   "source": [
    "There are Near Real Time products (NRT) and Reprocessed (REP) In Situ products. Depending on the product you will have a host and a number of index files to choose.<br><br>\n",
    "NRT products:<ul>\n",
    "<li> host: <i>nrt.cmems-du.eu</i> </li><li> available index files: <i>index_latest.txt</i>, <i>index_monthly.txt</i> and <i>index_history.txt</i> </li>\n",
    "</ul>\n",
    "<br>\n",
    "REP products: <ul>\n",
    "<li> host: <i>my.cmems-du</i> </li><li> available index file: <i>index_history.txt</i> </li>\n",
    "</ul>"
   ]
  },
  {
   "cell_type": "code",
   "execution_count": 164,
   "metadata": {
    "collapsed": true
   },
   "outputs": [],
   "source": [
    "product_name = '' #type aimed In Situ product i.e INSITU_MED_NRT_OBSERVATIONS_013_035\n",
    "host = '' #type aimed host (nrt.cmems-du.eu or my.cmems-du) i.e. nrt.cmems-du.eu\n",
    "index_file = '' #type aimed index file i.e index_latest.txt"
   ]
  },
  {
   "cell_type": "markdown",
   "metadata": {},
   "source": [
    "<h2>DOWNLOAD ALL AVAILABLE NETCDFS - NO SELECTION CRITERIA</h2>"
   ]
  },
  {
   "cell_type": "code",
   "execution_count": 172,
   "metadata": {
    "collapsed": false
   },
   "outputs": [],
   "source": [
    "#connect to CMEMS FTP\n",
    "with ftputil.FTPHost(host, user, password) as ftp_host: \n",
    "    \n",
    "    #open the index file to read\n",
    "    with ftp_host.open(\"Core\"+'/'+product_name+'/'+index_file, \"r\") as indexfile:\n",
    "        \n",
    "        #read the index file as a comma-separate-value file\n",
    "        index = np.genfromtxt(indexfile, skip_header=6, unpack=False, delimiter=',', dtype=None, names=['catalog_id', 'file_name','geospatial_lat_min', 'geospatial_lat_max', 'geospatial_lon_min','geospatial_lon_max','time_coverage_start', 'time_coverage_end', 'provider', 'date_update', 'data_mode', 'parameters'])\n",
    "        \n",
    "        #loop over the lines/netCDFs and download the most sutable ones for you\n",
    "        for netCDF in index:\n",
    "            \n",
    "            #getting ftplink, filepath and filename\n",
    "            ftplink = netCDF['file_name'].decode('utf-8')\n",
    "            filepath = '/'.join(ftplink.split('/')[3:len(ftplink.split('/'))])\n",
    "            ncdf_file_name = ftplink[ftplink.rfind('/')+1:]\n",
    "            \n",
    "            #download netDCF\n",
    "            if ftp_host.path.isfile(filepath):\n",
    "                cwd = os.getcwd()\n",
    "                os.chdir(output_directory)\n",
    "                ftp_host.download(filepath, ncdf_file_name)  # remote, local\n",
    "                os.chdir(cwd)"
   ]
  },
  {
   "cell_type": "markdown",
   "metadata": {},
   "source": [
    "<h2>DOWNLOAD NETCDFS MATCHING A CERTAIN CRITERIA</h2>"
   ]
  },
  {
   "cell_type": "markdown",
   "metadata": {},
   "source": [
    "There are 12 file metadata:\n",
    "<ul>\n",
    "<li>catalog_id</li>\n",
    "<li>file_name</li>\n",
    "<li>geospatial_lat_min</li>\n",
    "<li>geospatial_lat_max</li>\n",
    "<li>geospatial_lon_min</li>\n",
    "<li>geospatial_lon_max</li>\n",
    "<li>time_coverage_start</li>\n",
    "<li>time_coverage_end</li>\n",
    "<li>date_update</li>\n",
    "<li>data_mode</li>\n",
    "<li>parameters</li>\n",
    "</ul>"
   ]
  },
  {
   "cell_type": "markdown",
   "metadata": {},
   "source": [
    "<h3>DOWNLOAD NETCDFS WITH CERTAIN PARAMETERS</h3>"
   ]
  },
  {
   "cell_type": "code",
   "execution_count": null,
   "metadata": {
    "collapsed": true
   },
   "outputs": [],
   "source": [
    "#connect to CMEMS FTP\n",
    "with ftputil.FTPHost(host, user, password) as ftp_host: \n",
    "    \n",
    "    #open the index file to read\n",
    "    with ftp_host.open(\"Core\"+'/'+product_name+'/'+index_file, \"r\") as indexfile:\n",
    "        \n",
    "        #read the index file as a comma-separate-value file\n",
    "        index = np.genfromtxt(indexfile, skip_header=6, unpack=False, delimiter=',', dtype=None, names=['catalog_id', 'file_name','geospatial_lat_min', 'geospatial_lat_max', 'geospatial_lon_min','geospatial_lon_max','time_coverage_start', 'time_coverage_end', 'provider', 'date_update', 'data_mode', 'parameters'])\n",
    "        \n",
    "        #selection criteria: parameter i.e PSAL\n",
    "        parameter = 'PSAL'\n",
    "            \n",
    "        #loop over the lines/netCDFs and download the most sutable ones for you\n",
    "        for netCDF in index:\n",
    "            \n",
    "            #getting ftplink, filepath and filename\n",
    "            ftplink = netCDF['file_name'].decode('utf-8')\n",
    "            filepath = '/'.join(ftplink.split('/')[3:len(ftplink.split('/'))])\n",
    "            ncdf_file_name = ftplink[ftplink.rfind('/')+1:]\n",
    "            \n",
    "            #download netCDF if meeting selection criteria\n",
    "            parameters = netCDF['parameters'].decode('utf-8')\n",
    "            param_list = parameters.split(' ');\n",
    "            if parameter in param_list: \n",
    "                if ftp_host.path.isfile(filepath):\n",
    "                    cwd = os.getcwd()\n",
    "                    os.chdir(output_directory)\n",
    "                    ftp_host.download(filepath, ncdf_file_name)  # remote, local\n",
    "                    os.chdir(cwd)"
   ]
  },
  {
   "cell_type": "markdown",
   "metadata": {},
   "source": [
    "<h3>DOWNLOAD NETCDFS FROM A CERTAIN PLATFORM</h3>"
   ]
  },
  {
   "cell_type": "code",
   "execution_count": 58,
   "metadata": {
    "collapsed": false
   },
   "outputs": [],
   "source": [
    "def get_filename_structure(filename):\n",
    "    elements = filename.split('.nc')[0].split('_')\n",
    "    json = {}\n",
    "    if len(elements[1]) == 2: #history file RR_XX_YY_CODE<_ZZZ>.nc\n",
    "        json['region'] = elements[0]\n",
    "        json['data'] = elements[1]\n",
    "        json['type'] = elements[2]\n",
    "        json['code'] = elements[3]\n",
    "    elif elements[1] == 'LATEST': #RR_LATEST_XX_YY_CODE_YYYYMMDD.nc\n",
    "        json['region'] = elements[0]\n",
    "        json['data'] = elements[2]\n",
    "        json['type'] = elements[3]\n",
    "        json['code'] = elements[4]\n",
    "        json['timestamp'] = elements[5]\n",
    "    else: #monthly file RR_YYYYMM_XX_YY_CODE.nc\n",
    "        json['region'] = elements[0]\n",
    "        json['data'] = elements[2]\n",
    "        json['type'] = elements[3]\n",
    "        json['code'] = elements[4]\n",
    "        json['timestamp'] = elements[1]\n",
    "    return json"
   ]
  },
  {
   "cell_type": "code",
   "execution_count": 155,
   "metadata": {
    "collapsed": false
   },
   "outputs": [],
   "source": [
    "#connect to CMEMS FTP\n",
    "with ftputil.FTPHost(host, user, password) as ftp_host: \n",
    "    \n",
    "    #open the index file to read\n",
    "    with ftp_host.open(\"Core\"+'/'+product_name+'/'+index_file, \"r\") as indexfile:\n",
    "        \n",
    "        #read the index file as a comma-separate-value file\n",
    "        index = np.genfromtxt(indexfile, skip_header=6, unpack=False, delimiter=',', dtype=None, names=['catalog_id', 'file_name','geospatial_lat_min', 'geospatial_lat_max', 'geospatial_lon_min','geospatial_lon_max','time_coverage_start', 'time_coverage_end', 'provider', 'date_update', 'data_mode', 'parameters'])\n",
    "        \n",
    "        #selection criteria: platform_type i.e MO\n",
    "        platform_type = 'MO'\n",
    "        \n",
    "        #loop over the lines/netCDFs and download the most sutable ones for you\n",
    "        for netCDF in index:\n",
    "            \n",
    "            #getting ftplink, filepath and filename\n",
    "            ftplink = netCDF['file_name'].decode('utf-8')\n",
    "            filepath = '/'.join(ftplink.split('/')[3:len(ftplink.split('/'))])\n",
    "            ncdf_file_name = ftplink[ftplink.rfind('/')+1:]\n",
    "            \n",
    "            #download netCDF if meeting selection criteria\n",
    "            filename_convention = get_filename_structure(ncdf_file_name)\n",
    "            if filename_convention['type'] == platform_type: \n",
    "                if ftp_host.path.isfile(filepath):\n",
    "                    cwd = os.getcwd()\n",
    "                    os.chdir(output_directory)\n",
    "                    ftp_host.download(filepath, ncdf_file_name)  # remote, local\n",
    "                    os.chdir(cwd)"
   ]
  },
  {
   "cell_type": "markdown",
   "metadata": {},
   "source": [
    "<h3>DOWNLOAD NETCDFS WITHIN A CERTAIN TIMERANGE</h3>"
   ]
  },
  {
   "cell_type": "code",
   "execution_count": 83,
   "metadata": {
    "collapsed": true
   },
   "outputs": [],
   "source": [
    "import datetime"
   ]
  },
  {
   "cell_type": "code",
   "execution_count": 88,
   "metadata": {
    "collapsed": false
   },
   "outputs": [],
   "source": [
    "#connect to CMEMS FTP\n",
    "with ftputil.FTPHost(host, user, password) as ftp_host: \n",
    "    \n",
    "    #open the index file to read\n",
    "    with ftp_host.open(\"Core\"+'/'+product_name+'/'+index_file, \"r\") as indexfile:\n",
    "        \n",
    "        #read the index file as a comma-separate-value file\n",
    "        index = np.genfromtxt(indexfile, skip_header=6, unpack=False, delimiter=',', dtype=None, names=['catalog_id', 'file_name','geospatial_lat_min', 'geospatial_lat_max', 'geospatial_lon_min','geospatial_lon_max','time_coverage_start', 'time_coverage_end', 'provider', 'date_update', 'data_mode', 'parameters'])\n",
    "        \n",
    "        #selection criteria: time coverage\n",
    "        date_format = \"%Y-%m-%dT%H:%M:%SZ\" \n",
    "        ini = datetime.datetime.strptime('2018-05-01T00:00:00Z', date_format)\n",
    "        end = datetime.datetime.strptime('2018-05-31T23:59:59Z', date_format)        \n",
    "        \n",
    "        #loop over the lines/netCDFs and download the most sutable ones for you\n",
    "        for netCDF in index:\n",
    "            \n",
    "            #getting ftplink, filepath and filename\n",
    "            ftplink = netCDF['file_name'].decode('utf-8')\n",
    "            filepath = '/'.join(ftplink.split('/')[3:len(ftplink.split('/'))])\n",
    "            ncdf_file_name = ftplink[ftplink.rfind('/')+1:]\n",
    "            \n",
    "            #download netCDF if meeting selection criteria\n",
    "            time_start = datetime.datetime.strptime(netCDF['time_coverage_start'].decode('utf-8'), date_format)\n",
    "            time_end = datetime.datetime.strptime(netCDF['time_coverage_start'].decode('utf-8'), date_format)\n",
    "            if time_start > ini  and time_end < end: \n",
    "                if ftp_host.path.isfile(filepath):\n",
    "                    cwd = os.getcwd()\n",
    "                    os.chdir(output_directory)\n",
    "                    ftp_host.download(filepath, ncdf_file_name)  # remote, local\n",
    "                    os.chdir(cwd)"
   ]
  },
  {
   "cell_type": "markdown",
   "metadata": {},
   "source": [
    "<h3>DOWNLOAD NETCDFS WITHIN A CERTAIN BOUNDINGBOX</h3>"
   ]
  },
  {
   "cell_type": "code",
   "execution_count": 141,
   "metadata": {
    "collapsed": false
   },
   "outputs": [],
   "source": [
    "from shapely.geometry import box\n",
    "import folium"
   ]
  },
  {
   "cell_type": "code",
   "execution_count": 152,
   "metadata": {
    "collapsed": false
   },
   "outputs": [],
   "source": [
    "#connect to CMEMS FTP\n",
    "with ftputil.FTPHost(host, user, password) as ftp_host: \n",
    "    \n",
    "    #open the index file to read\n",
    "    with ftp_host.open(\"Core\"+'/'+product_name+'/'+index_file, \"r\") as indexfile:\n",
    "        \n",
    "        #read the index file as a comma-separate-value file\n",
    "        index = np.genfromtxt(indexfile, skip_header=6, unpack=False, delimiter=',', dtype=None, names=['catalog_id', 'file_name','geospatial_lat_min', 'geospatial_lat_max', 'geospatial_lon_min','geospatial_lon_max','time_coverage_start', 'time_coverage_end', 'provider', 'date_update', 'data_mode', 'parameters'])\n",
    "        \n",
    "        #selection criteria: spatial coverage\n",
    "        targeted_geospatial_lat_min = 39.0   # enter min latitude of your bounding box\n",
    "        targeted_geospatial_lat_max =  40.0   # enter max latitude of your bounding box\n",
    "        targeted_geospatial_lon_min = 2.0  # enter min longitude of your bounding box\n",
    "        targeted_geospatial_lon_max =  3.00  # enter max longitude of your bounding box   \n",
    "        targeted_bounding_box = box(targeted_geospatial_lon_min, targeted_geospatial_lat_min, targeted_geospatial_lon_max, targeted_geospatial_lat_max)\n",
    "        \n",
    "        map = folium.Map(location=[targeted_bounding_box.centroid.y, targeted_bounding_box.centroid.x], zoom_start=7)\n",
    "        folium.PolyLine([[targeted_geospatial_lat_min, targeted_geospatial_lon_min],[targeted_geospatial_lat_min, targeted_geospatial_lon_max],[targeted_geospatial_lat_max, targeted_geospatial_lon_max],[targeted_geospatial_lat_max, targeted_geospatial_lon_min], [targeted_geospatial_lat_min, targeted_geospatial_lon_min]]).add_to(map)\n",
    "            \n",
    "        #loop over the lines/netCDFs and download the most sutable ones for you\n",
    "        for netCDF in index:\n",
    "            \n",
    "            #getting ftplink, filepath and filename\n",
    "            ftplink = netCDF['file_name'].decode('utf-8')\n",
    "            filepath = '/'.join(ftplink.split('/')[3:len(ftplink.split('/'))])\n",
    "            ncdf_file_name = ftplink[ftplink.rfind('/')+1:]\n",
    "\n",
    "            #download netCDF if meeting selection criteria\n",
    "            geospatial_lat_min = float(netCDF['geospatial_lat_min'])\n",
    "            geospatial_lat_max = float(netCDF['geospatial_lat_max'])\n",
    "            geospatial_lon_min = float(netCDF['geospatial_lon_min'])\n",
    "            geospatial_lon_max = float(netCDF['geospatial_lon_max'])\n",
    "            bounding_box = box(geospatial_lon_min, geospatial_lat_min, geospatial_lon_max, geospatial_lat_max)\n",
    "                    \n",
    "            if targeted_bounding_box.disjoint(bounding_box) is False: \n",
    "                if ftp_host.path.isfile(filepath):\n",
    "                    folium.Marker(location = [bounding_box.centroid.y, bounding_box.centroid.x], popup=ncdf_file_name).add_to(map)\n",
    "                    cwd = os.getcwd()\n",
    "                    os.chdir(output_directory)\n",
    "                    ftp_host.download(filepath, ncdf_file_name)  # remote, local\n",
    "                    os.chdir(cwd)"
   ]
  },
  {
   "cell_type": "code",
   "execution_count": 153,
   "metadata": {
    "collapsed": false
   },
   "outputs": [
    {
     "data": {
      "text/html": [
       "<div style=\"width:100%;\"><div style=\"position:relative;width:100%;height:0;padding-bottom:60%;\"><iframe src=\"data:text/html;base64,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\" style=\"position:absolute;width:100%;height:100%;left:0;top:0;\"></iframe></div></div>"
      ],
      "text/plain": [
       "<folium.folium.Map at 0x7f036384ff90>"
      ]
     },
     "execution_count": 153,
     "metadata": {},
     "output_type": "execute_result"
    }
   ],
   "source": [
    "map"
   ]
  }
 ],
 "metadata": {
  "kernelspec": {
   "display_name": "Python [Root]",
   "language": "python",
   "name": "Python [Root]"
  },
  "language_info": {
   "codemirror_mode": {
    "name": "ipython",
    "version": 2
   },
   "file_extension": ".py",
   "mimetype": "text/x-python",
   "name": "python",
   "nbconvert_exporter": "python",
   "pygments_lexer": "ipython2",
   "version": "2.7.12"
  }
 },
 "nbformat": 4,
 "nbformat_minor": 0
}
