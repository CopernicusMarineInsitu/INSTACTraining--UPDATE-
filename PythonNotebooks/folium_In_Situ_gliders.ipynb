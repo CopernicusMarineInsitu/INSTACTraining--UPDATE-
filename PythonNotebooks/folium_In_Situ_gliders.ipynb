{
 "cells": [
  {
   "cell_type": "markdown",
   "metadata": {},
   "source": [
    "<H1>MADATORY PYTHON LIBRARIES</H1>"
   ]
  },
  {
   "cell_type": "code",
   "execution_count": 649,
   "metadata": {
    "collapsed": true
   },
   "outputs": [],
   "source": [
    "import xarray\n",
    "import pandas as pd\n",
    "import folium\n",
    "import os\n",
    "import numpy as np\n",
    "from folium import plugins\n",
    "import datetime\n",
    "import matplotlib.pyplot as plt\n",
    "%matplotlib  inline"
   ]
  },
  {
   "cell_type": "markdown",
   "metadata": {},
   "source": [
    "<h1>IN SITU GLIDERS</h1>"
   ]
  },
  {
   "cell_type": "markdown",
   "metadata": {},
   "source": [
    "In Situ 'gliders' comprehends are moving platforms that follow a predefined route submerging every now and then in the water column to report profiles of certain parameters. In Situ gliders produce only PR data (profiles) and its platform data source is GL."
   ]
  },
  {
   "cell_type": "markdown",
   "metadata": {},
   "source": [
    "## 1. In Situ netCDF"
   ]
  },
  {
   "cell_type": "markdown",
   "metadata": {},
   "source": [
    "Imagine you have downloaded some <i>_PR_ (profile)</i> dataset from In Situ gliders (see how to download files from a  certain [platform data source](https://github.com/CopernicusMarineInsitu/INSTAC-Tarining-Phase2/blob/master/PythonNotebook/In_Situ_data_download_by_platform_data_source.ipynb) or [platform category](https://github.com/CopernicusMarineInsitu/INSTAC-Tarining-Phase2/blob/master/PythonNotebooks/In_Situ_data_download_by_platform_type.ipynb)) like: [GL_PR_GL_68996.nc](ftp://nrt.cmems-du.eu/Core/INSITU_MED_NRT_OBSERVATIONS_013_035/history/profiler-glider/GL_PR_GL_68996.nc)"
   ]
  },
  {
   "cell_type": "code",
   "execution_count": 650,
   "metadata": {
    "collapsed": true
   },
   "outputs": [],
   "source": [
    "dataset = 'GL_PR_GL_68996.nc'"
   ]
  },
  {
   "cell_type": "markdown",
   "metadata": {},
   "source": [
    "Let's have a look to its content:"
   ]
  },
  {
   "cell_type": "code",
   "execution_count": 651,
   "metadata": {
    "collapsed": false
   },
   "outputs": [
    {
     "name": "stdout",
     "output_type": "stream",
     "text": [
      "path2file: /home/protllan/code/Training/INSTACTraining-PhaseII/PythonNotebooks/GL_PR_GL_68996.nc\n"
     ]
    }
   ],
   "source": [
    "full_path2file = os.getcwd()+'/'+dataset #default to current directory\n",
    "print('path2file: %s'%(full_path2file))"
   ]
  },
  {
   "cell_type": "code",
   "execution_count": 652,
   "metadata": {
    "collapsed": true
   },
   "outputs": [],
   "source": [
    "ds = xarray.open_dataset(dataset)"
   ]
  },
  {
   "cell_type": "markdown",
   "metadata": {},
   "source": [
    "ds contains all the information about the dataset (relevant metadata, variables, dimensions etc):"
   ]
  },
  {
   "cell_type": "code",
   "execution_count": 653,
   "metadata": {
    "collapsed": false
   },
   "outputs": [
    {
     "data": {
      "text/plain": [
       "<xarray.Dataset>\n",
       "Dimensions:         (DEPTH: 1883, LATITUDE: 199, LONGITUDE: 199, POSITION: 199, TIME: 199)\n",
       "Coordinates:\n",
       "  * TIME            (TIME) datetime64[ns] 2011-01-25T17:35:40.963200 ...\n",
       "  * LATITUDE        (LATITUDE) float64 0.0 39.58 39.58 39.58 39.6 39.6 39.6 ...\n",
       "  * LONGITUDE       (LONGITUDE) float64 0.0 2.282 2.278 2.276 2.262 2.26 ...\n",
       "Dimensions without coordinates: DEPTH, POSITION\n",
       "Data variables:\n",
       "    TIME_QC         (TIME) float64 1.0 1.0 1.0 1.0 1.0 1.0 1.0 1.0 1.0 1.0 ...\n",
       "    POSITION_QC     (POSITION) float64 1.0 1.0 1.0 1.0 1.0 1.0 1.0 1.0 1.0 ...\n",
       "    DC_REFERENCE    (TIME) object '40453189                        ' ...\n",
       "    DATA_MODE       (TIME) object 'R' 'R' 'R' 'R' 'R' 'R' 'R' 'R' 'R' 'R' ...\n",
       "    DIRECTION       (TIME) object 'D' 'D' 'D' 'D' 'D' 'D' 'D' 'D' 'D' 'D' ...\n",
       "    DATA_MODE_CORA  (TIME) float64 0.0 0.0 0.0 0.0 0.0 0.0 0.0 0.0 0.0 0.0 ...\n",
       "    PRES            (TIME, DEPTH) float64 15.63 15.85 16.1 16.39 16.72 17.13 ...\n",
       "    PRES_QC         (TIME, DEPTH) float64 1.0 1.0 1.0 1.0 1.0 1.0 1.0 1.0 ...\n",
       "    TEMP            (TIME, DEPTH) float64 14.5 14.49 14.49 14.5 14.5 14.5 ...\n",
       "    TEMP_QC         (TIME, DEPTH) float64 1.0 3.0 3.0 1.0 1.0 1.0 1.0 1.0 ...\n",
       "    PSAL            (TIME, DEPTH) float64 37.36 37.36 37.36 37.35 37.35 ...\n",
       "    PSAL_QC         (TIME, DEPTH) float64 1.0 3.0 3.0 1.0 1.0 1.0 1.0 1.0 ...\n",
       "    TEMP_DOXY       (TIME, DEPTH) float64 14.62 14.62 14.62 14.62 14.61 ...\n",
       "    TEMP_DOXY_QC    (TIME, DEPTH) float64 9.0 9.0 9.0 9.0 9.0 9.0 9.0 9.0 ...\n",
       "    CPHL            (TIME, DEPTH) float64 0.738 0.7626 0.7503 0.7257 0.7134 ...\n",
       "    CPHL_QC         (TIME, DEPTH) float64 9.0 9.0 9.0 9.0 9.0 9.0 9.0 9.0 ...\n",
       "    TUR4            (TIME, DEPTH) float64 0.0806 0.0806 0.1054 0.0806 0.0744 ...\n",
       "    TUR4_QC         (TIME, DEPTH) float64 9.0 9.0 9.0 9.0 9.0 9.0 9.0 9.0 ...\n",
       "    DOX2            (TIME, DEPTH) float64 193.1 193.1 193.2 193.2 193.2 ...\n",
       "    DOX2_QC         (TIME, DEPTH) float64 9.0 9.0 9.0 9.0 9.0 9.0 9.0 9.0 ...\n",
       "    CNDC            (TIME, DEPTH) float64 0.4497 0.4497 0.4497 0.4497 0.4497 ...\n",
       "    CNDC_QC         (TIME, DEPTH) float64 9.0 9.0 9.0 9.0 9.0 9.0 9.0 9.0 ...\n",
       "Attributes:\n",
       "    data_type:                   OceanSITES vertical profile\n",
       "    format_version:              1.2\n",
       "    platform_code:               68996\n",
       "    date_update:                 2017-02-11T13:01:38Z\n",
       "    institution:                 SOCIB (Spain)\n",
       "    institution_edmo_code:       3410\n",
       "    site_code:                    \n",
       "    wmo_platform_code:           68996\n",
       "    coriolis_platform_code:      68996\n",
       "    platform_name:               ideep01\n",
       "    wmo_inst_type:               999\n",
       "    source:                      GLIDER\n",
       "    source_platform_class_code:  4A\n",
       "    history:                     2017-02-11T13:01:38Z : Creation\n",
       "    history_version:             5\n",
       "    data_mode:                   R\n",
       "    quality_control_indicator:   6\n",
       "    quality_index:               A\n",
       "    references:                  http://marine.copernicus.eu,http://www.corio...\n",
       "    comment:                      \n",
       "    Conventions:                 CF-1.6 OceanSITES-Manual-1.2 Copernicus-InSi...\n",
       "    netcdf_version:              3.5\n",
       "    title:                       Global Ocean - In Situ Observation Copernicus\n",
       "    summary:                      \n",
       "    naming_authority:            OceanSITES\n",
       "    id:                          GL_PR_GL_68996\n",
       "    cdm_data_type:               vertical profile\n",
       "    family_label:                profiler-glider\n",
       "    family_code:                 GL\n",
       "    area:                        Global Ocean\n",
       "    geospatial_lat_min:          0.00000\n",
       "    geospatial_lat_max:          39.92002\n",
       "    geospatial_lon_min:          0.00000\n",
       "    geospatial_lon_max:          2.46439\n",
       "    geospatial_vertical_min:     0.10\n",
       "    geospatial_vertical_max:     973.86\n",
       "    time_coverage_start:         2011-01-25T17:35:41Z\n",
       "    time_coverage_end:           2011-02-05T12:04:27Z\n",
       "    institution_references:       \n",
       "    contact:                     codac@ifremer.fr\n",
       "    author:                      Coriolis and Copernicus data provider\n",
       "    data_assembly_center:        Coriolis\n",
       "    pi_name:                      \n",
       "    distribution_statement:      These data follow Copernicus standards; they...\n",
       "    citation:                    These data were collected and made freely av...\n",
       "    update_interval:             daily\n",
       "    qc_manual:                   OceanSITES User's Manual v1.2\n",
       "    last_date_observation:       2011-02-05T12:04:27Z\n",
       "    last_latitude_observation:   39.47420\n",
       "    last_longitude_observation:  2.01068"
      ]
     },
     "execution_count": 653,
     "metadata": {},
     "output_type": "execute_result"
    }
   ],
   "source": [
    "ds"
   ]
  },
  {
   "cell_type": "code",
   "execution_count": 539,
   "metadata": {
    "collapsed": false
   },
   "outputs": [
    {
     "data": {
      "text/plain": [
       "[u'TIME',\n",
       " u'TIME_QC',\n",
       " u'LATITUDE',\n",
       " u'LONGITUDE',\n",
       " u'POSITION_QC',\n",
       " u'DC_REFERENCE',\n",
       " u'DATA_MODE',\n",
       " u'DIRECTION',\n",
       " u'DATA_MODE_CORA',\n",
       " u'PRES',\n",
       " u'PRES_QC',\n",
       " u'TEMP',\n",
       " u'TEMP_QC',\n",
       " u'PSAL',\n",
       " u'PSAL_QC',\n",
       " u'TEMP_DOXY',\n",
       " u'TEMP_DOXY_QC',\n",
       " u'CPHL',\n",
       " u'CPHL_QC',\n",
       " u'TUR4',\n",
       " u'TUR4_QC',\n",
       " u'DOX2',\n",
       " u'DOX2_QC',\n",
       " u'CNDC',\n",
       " u'CNDC_QC']"
      ]
     },
     "execution_count": 539,
     "metadata": {},
     "output_type": "execute_result"
    }
   ],
   "source": [
    "ds.variables.keys()"
   ]
  },
  {
   "cell_type": "markdown",
   "metadata": {},
   "source": [
    "Every of the above parameters varies along certain dimensions (within parenthesis when checking the parameter metadata):"
   ]
  },
  {
   "cell_type": "code",
   "execution_count": 540,
   "metadata": {
    "collapsed": false
   },
   "outputs": [
    {
     "data": {
      "text/plain": [
       "<xarray.DataArray 'LATITUDE' (LATITUDE: 199)>\n",
       "array([  0.      ,  39.575829,  39.579788,  39.5825  ,  39.597912,  39.599449,\n",
       "        39.601082,  39.602749,  39.60746 ,  39.609241,  39.611031,  39.612782,\n",
       "        39.614559,  39.617249,  39.62009 ,  39.621601,  39.623089,  39.626091,\n",
       "        39.627529,  39.629059,  39.6306  ,  39.634548,  39.63612 ,  39.637562,\n",
       "        39.638519,  39.639622,  39.64119 ,  39.642731,  39.64431 ,  39.64576 ,\n",
       "        39.646629,  39.647148,  39.6479  ,  39.65086 ,  39.654289,  39.65852 ,\n",
       "        39.662979,  39.667629,  39.672901,  39.678341,  39.687431,  39.699348,\n",
       "        39.718349,  39.741741,  39.764858,  39.77483 ,  39.803371,  39.829239,\n",
       "        39.845009,  39.870659,  39.89019 ,  39.89584 ,  39.90329 ,  39.920021,\n",
       "        39.894642,  39.870449,  39.849079,  39.819241,  39.791569,  39.764271,\n",
       "        39.7332  ,  39.704651,  39.679272,  39.649361,  39.617641,  39.586578,\n",
       "        39.559269,  39.544418,  39.513519,  39.483582,  39.450951,  39.417412,\n",
       "        39.393261,  39.387032,  39.376911,  39.371471,  39.356972,  39.344799,\n",
       "        39.339989,  39.336712,  39.33387 ,  39.331692,  39.32951 ,  39.327518,\n",
       "        39.32634 ,  39.324989,  39.323051,  39.32135 ,  39.319672,  39.317532,\n",
       "        39.315498,  39.313438,  39.311619,  39.31094 ,  39.310211,  39.308159,\n",
       "        39.306622,  39.304241,  39.300812,  39.296848,  39.291271,  39.285759,\n",
       "        39.278339,  39.270771,  39.262218,  39.255199,  39.24781 ,  39.23605 ,\n",
       "        39.224312,  39.214642,  39.208488,  39.19529 ,  39.18211 ,  39.169891,\n",
       "        39.167252,  39.180771,  39.193451,  39.20396 ,  39.2131  ,   0.      ,\n",
       "         0.      ,   0.      ,  39.507801,  39.507439,  39.507118,  39.506821,\n",
       "        39.5065  ,  39.506161,  39.50584 ,  39.505531,  39.505211,  39.50491 ,\n",
       "        39.504601,  39.504292,  39.503971,  39.50367 ,  39.503361,  39.503052,\n",
       "        39.502762,  39.502449,  39.502129,  39.501808,  39.501492,  39.501179,\n",
       "        39.500858,  39.500542,  39.500221,  39.499901,  39.499569,  39.49921 ,\n",
       "        39.498871,  39.498539,  39.498199,  39.49786 ,  39.49752 ,  39.497189,\n",
       "        39.496849,  39.496521,  39.496181,  39.495831,  39.495491,  39.495129,\n",
       "        39.49477 ,  39.4944  ,  39.49403 ,  39.49366 ,  39.493301,  39.49295 ,\n",
       "        39.49258 ,  39.492199,  39.491852,  39.491459,  39.495209,  39.494621,\n",
       "        39.49408 ,  39.493549,  39.493011,  39.492489,  39.491959,  39.49144 ,\n",
       "        39.490929,  39.490372,  39.489841,  39.489311,  39.488781,  39.488258,\n",
       "        39.487259,  39.485779,  39.484402,  39.483292,  39.478722,  39.491402,\n",
       "        39.489342,  39.487099,  39.484379,  39.481758,  39.479221,  39.476059,\n",
       "        39.474201])\n",
       "Coordinates:\n",
       "  * LATITUDE  (LATITUDE) float64 0.0 39.58 39.58 39.58 39.6 39.6 39.6 39.6 ...\n",
       "Attributes:\n",
       "    long_name:      Latitude of each location\n",
       "    standard_name:  latitude\n",
       "    units:          degree_north\n",
       "    valid_min:      -90.0\n",
       "    valid_max:      90.0\n",
       "    QC_indicator:   1\n",
       "    QC_procedure:   1\n",
       "    uncertainty:     \n",
       "    comment:         \n",
       "    axis:           Y"
      ]
     },
     "execution_count": 540,
     "metadata": {},
     "output_type": "execute_result"
    }
   ],
   "source": [
    "ds['LATITUDE']"
   ]
  },
  {
   "cell_type": "markdown",
   "metadata": {},
   "source": [
    "Every of the above variables have a corresponding '_QC' variable, which is the variable that contains the data quality flags:"
   ]
  },
  {
   "cell_type": "code",
   "execution_count": 541,
   "metadata": {
    "collapsed": false
   },
   "outputs": [
    {
     "data": {
      "text/plain": [
       "<xarray.DataArray 'POSITION_QC' (POSITION: 199)>\n",
       "array([ 1.,  1.,  1.,  1.,  1.,  1.,  1.,  1.,  1.,  1.,  1.,  1.,  1.,  1.,\n",
       "        1.,  1.,  1.,  1.,  1.,  1.,  1.,  1.,  1.,  1.,  1.,  1.,  1.,  1.,\n",
       "        1.,  1.,  1.,  1.,  1.,  1.,  1.,  1.,  1.,  1.,  1.,  1.,  1.,  1.,\n",
       "        1.,  1.,  1.,  1.,  1.,  1.,  1.,  1.,  1.,  1.,  1.,  1.,  1.,  1.,\n",
       "        1.,  1.,  1.,  1.,  1.,  1.,  1.,  1.,  1.,  1.,  1.,  1.,  1.,  1.,\n",
       "        1.,  1.,  1.,  1.,  1.,  1.,  1.,  1.,  1.,  1.,  1.,  1.,  1.,  1.,\n",
       "        1.,  1.,  1.,  1.,  1.,  1.,  1.,  1.,  1.,  1.,  1.,  1.,  1.,  1.,\n",
       "        1.,  1.,  1.,  1.,  1.,  1.,  1.,  1.,  1.,  1.,  1.,  1.,  1.,  1.,\n",
       "        1.,  1.,  1.,  1.,  1.,  1.,  1.,  1.,  1.,  1.,  1.,  1.,  1.,  1.,\n",
       "        1.,  1.,  1.,  1.,  1.,  1.,  1.,  1.,  1.,  1.,  1.,  1.,  1.,  1.,\n",
       "        1.,  1.,  1.,  1.,  1.,  1.,  1.,  1.,  1.,  1.,  1.,  1.,  1.,  1.,\n",
       "        1.,  1.,  1.,  1.,  1.,  1.,  1.,  1.,  1.,  1.,  1.,  1.,  1.,  1.,\n",
       "        1.,  1.,  1.,  1.,  1.,  1.,  1.,  1.,  1.,  1.,  1.,  1.,  1.,  1.,\n",
       "        1.,  1.,  1.,  1.,  1.,  1.,  1.,  1.,  1.,  1.,  1.,  1.,  1.,  1.,\n",
       "        1.,  1.,  1.])\n",
       "Dimensions without coordinates: POSITION\n",
       "Attributes:\n",
       "    long_name:      quality flag\n",
       "    conventions:    OceanSITES reference table 2\n",
       "    valid_min:      0\n",
       "    valid_max:      9\n",
       "    flag_values:    [0 1 2 3 4 5 6 7 8 9]\n",
       "    flag_meanings:  no_qc_performed good_data probably_good_data bad_data_tha..."
      ]
     },
     "execution_count": 541,
     "metadata": {},
     "output_type": "execute_result"
    }
   ],
   "source": [
    "ds['POSITION_QC']"
   ]
  },
  {
   "cell_type": "markdown",
   "metadata": {},
   "source": [
    "This '_QC' variable will therefore guide us when when working with the parameter data to distinguish good from bad data: "
   ]
  },
  {
   "cell_type": "code",
   "execution_count": 542,
   "metadata": {
    "collapsed": false
   },
   "outputs": [
    {
     "data": {
      "text/html": [
       "<div>\n",
       "<table border=\"1\" class=\"dataframe\">\n",
       "  <thead>\n",
       "    <tr style=\"text-align: right;\">\n",
       "      <th></th>\n",
       "      <th>quality flag</th>\n",
       "    </tr>\n",
       "  </thead>\n",
       "  <tbody>\n",
       "    <tr>\n",
       "      <th>no_qc_performed</th>\n",
       "      <td>0</td>\n",
       "    </tr>\n",
       "    <tr>\n",
       "      <th>good_data</th>\n",
       "      <td>1</td>\n",
       "    </tr>\n",
       "    <tr>\n",
       "      <th>probably_good_data</th>\n",
       "      <td>2</td>\n",
       "    </tr>\n",
       "    <tr>\n",
       "      <th>bad_data_that_are_potentially_correctable</th>\n",
       "      <td>3</td>\n",
       "    </tr>\n",
       "    <tr>\n",
       "      <th>bad_data</th>\n",
       "      <td>4</td>\n",
       "    </tr>\n",
       "    <tr>\n",
       "      <th>value_changed</th>\n",
       "      <td>5</td>\n",
       "    </tr>\n",
       "    <tr>\n",
       "      <th>not_used</th>\n",
       "      <td>6</td>\n",
       "    </tr>\n",
       "    <tr>\n",
       "      <th>nominal_value</th>\n",
       "      <td>7</td>\n",
       "    </tr>\n",
       "    <tr>\n",
       "      <th>interpolated_value</th>\n",
       "      <td>8</td>\n",
       "    </tr>\n",
       "    <tr>\n",
       "      <th>missing_value</th>\n",
       "      <td>9</td>\n",
       "    </tr>\n",
       "  </tbody>\n",
       "</table>\n",
       "</div>"
      ],
      "text/plain": [
       "                                           quality flag\n",
       "no_qc_performed                                       0\n",
       "good_data                                             1\n",
       "probably_good_data                                    2\n",
       "bad_data_that_are_potentially_correctable             3\n",
       "bad_data                                              4\n",
       "value_changed                                         5\n",
       "not_used                                              6\n",
       "nominal_value                                         7\n",
       "interpolated_value                                    8\n",
       "missing_value                                         9"
      ]
     },
     "execution_count": 542,
     "metadata": {},
     "output_type": "execute_result"
    }
   ],
   "source": [
    "pd.DataFrame(data=ds['POSITION_QC'].attrs['flag_values'], index = ds['POSITION_QC'].attrs['flag_meanings'].split(' '), columns = ['quality flag'])"
   ]
  },
  {
   "cell_type": "code",
   "execution_count": 543,
   "metadata": {
    "collapsed": false
   },
   "outputs": [
    {
     "data": {
      "text/plain": [
       "[<matplotlib.lines.Line2D at 0x7fcafa2be1d0>]"
      ]
     },
     "execution_count": 543,
     "metadata": {},
     "output_type": "execute_result"
    },
    {
     "data": {
      "image/png": "[encoded data removed]",
      "text/plain": [
       "<matplotlib.figure.Figure at 0x7fcafa4b45d0>"
      ]
     },
     "metadata": {},
     "output_type": "display_data"
    }
   ],
   "source": [
    "ds['POSITION_QC'].plot(aspect=2, size=5)"
   ]
  },
  {
   "cell_type": "markdown",
   "metadata": {},
   "source": [
    "In this case, all positions are considered 'good' so we skip any further data selection to overlook not-good data."
   ]
  },
  {
   "cell_type": "markdown",
   "metadata": {},
   "source": [
    "## 2. Animating a glider trajectory with folium"
   ]
  },
  {
   "cell_type": "markdown",
   "metadata": {},
   "source": [
    "### a) First glimpse"
   ]
  },
  {
   "cell_type": "code",
   "execution_count": 544,
   "metadata": {
    "collapsed": true
   },
   "outputs": [],
   "source": [
    "lats = ds['LATITUDE'].values.tolist()\n",
    "lons = ds['LONGITUDE'].values.tolist()\n",
    "times = ds['TIME'].values.tolist()"
   ]
  },
  {
   "cell_type": "code",
   "execution_count": 545,
   "metadata": {
    "collapsed": true
   },
   "outputs": [],
   "source": [
    "mean_lat = np.mean(lats)\n",
    "mean_lon = np.mean(lons)"
   ]
  },
  {
   "cell_type": "code",
   "execution_count": 546,
   "metadata": {
    "collapsed": true
   },
   "outputs": [],
   "source": [
    "glider = {\n",
    "    'type': 'Feature',\n",
    "    'geometry': {\n",
    "        'type': 'LineString',\n",
    "        'coordinates': []\n",
    "    },\n",
    "    'properties': {\n",
    "        'times': [],\n",
    "        'variable': []\n",
    "    }\n",
    "}"
   ]
  },
  {
   "cell_type": "code",
   "execution_count": 547,
   "metadata": {
    "collapsed": false
   },
   "outputs": [],
   "source": [
    "for time, lat, lon in zip(times, lats, lons) :\n",
    "    unix_timestamp = int(str(time)[:13])\n",
    "    glider['properties']['times'].append(unix_timestamp)\n",
    "    glider['geometry']['coordinates'].append([lon,lat])"
   ]
  },
  {
   "cell_type": "code",
   "execution_count": 548,
   "metadata": {
    "collapsed": false
   },
   "outputs": [
    {
     "data": {
      "text/html": [
       "<div style=\"width:100%;\"><div style=\"position:relative;width:100%;height:0;padding-bottom:60%;\"><iframe src=\"data:text/html;charset=utf-8;base64,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\" style=\"position:absolute;width:100%;height:100%;left:0;top:0;border:none !important;\" allowfullscreen webkitallowfullscreen mozallowfullscreen></iframe></div></div>"
      ],
      "text/plain": [
       "<folium.folium.Map at 0x7fcafa45c550>"
      ]
     },
     "execution_count": 548,
     "metadata": {},
     "output_type": "execute_result"
    }
   ],
   "source": [
    "view = folium.Map(location=[mean_lat, mean_lon], zoom_start=8)\n",
    "marker = plugins.TimestampedGeoJson({\n",
    "    'type': 'FeatureCollection',\n",
    "    'features': [glider],\n",
    "}, period='PT1H', add_last_point=True, loop=False).add_to(view)\n",
    "view"
   ]
  },
  {
   "cell_type": "markdown",
   "metadata": {},
   "source": [
    "From above whe see: \n",
    "<ul>\n",
    "<li>At leats 2 deployments of the same platform (glider):</li>\n",
    "<ul>\n",
    "<li>From 2011-01-25 to 2011-01-31</li>\n",
    "<li>From 2011-02-04 to 2011-02-05</li>\n",
    "</ul>\n",
    "<li>lat-lon errors (beginning and end of the first deployment)</li>\n",
    "</ul>"
   ]
  },
  {
   "cell_type": "markdown",
   "metadata": {},
   "source": [
    "### b) Finding deployments"
   ]
  },
  {
   "cell_type": "markdown",
   "metadata": {},
   "source": [
    "Let's find first the different deployments. What will help to split the platform file in deployments?  Time 'jumps' (pause among deployments) will point out the end and beginning of a deployment. This way we first will try to find these so called 'jumps':"
   ]
  },
  {
   "cell_type": "code",
   "execution_count": 594,
   "metadata": {
    "collapsed": true
   },
   "outputs": [],
   "source": [
    "unix_time = []\n",
    "for item in ds['TIME'].values.tolist():\n",
    "    unix_time.append(int(str(item)[:10]))"
   ]
  },
  {
   "cell_type": "markdown",
   "metadata": {},
   "source": [
    "Let's compute time steps to find the peaks (pauses)"
   ]
  },
  {
   "cell_type": "code",
   "execution_count": 656,
   "metadata": {
    "collapsed": false
   },
   "outputs": [
    {
     "data": {
      "text/plain": [
       "<Container object of 198 artists>"
      ]
     },
     "execution_count": 656,
     "metadata": {},
     "output_type": "execute_result"
    },
    {
     "data": {
      "image/png": "[encoded data removed]",
      "text/plain": [
       "<matplotlib.figure.Figure at 0x7fcaf0c67910>"
      ]
     },
     "metadata": {},
     "output_type": "display_data"
    }
   ],
   "source": [
    "plt.rcParams.update({'font.size': 15})\n",
    "y = np.diff(unix_time).tolist()\n",
    "N = len(y)\n",
    "x = range(N)\n",
    "width = 1/1.5\n",
    "fig, ax = plt.subplots(figsize=(20, 10))\n",
    "plt.bar(x, y, width, color=\"blue\")"
   ]
  },
  {
   "cell_type": "code",
   "execution_count": 657,
   "metadata": {
    "collapsed": false
   },
   "outputs": [
    {
     "data": {
      "text/plain": [
       "3803.0808080808079"
      ]
     },
     "execution_count": 657,
     "metadata": {},
     "output_type": "execute_result"
    }
   ],
   "source": [
    "np.mean(np.diff(unix_time[:100]).tolist()))#regular transimission cadence"
   ]
  },
  {
   "cell_type": "code",
   "execution_count": 662,
   "metadata": {
    "collapsed": false
   },
   "outputs": [
    {
     "name": "stdout",
     "output_type": "stream",
     "text": [
      "There has been at least 2 deployments of this same platform (vessel)\n"
     ]
    }
   ],
   "source": [
    "deployments_break = []\n",
    "diff = np.diff(unix_time).tolist()\n",
    "for n in range(0, len(unix_time)-1):\n",
    "    if diff[n] > 24*np.mean(np.diff(unix_time[:100]).tolist()): \n",
    "        deployments_break.append(n)\n",
    "print('There has been at least %s deployments of this same platform (vessel)'%(len(deployments_break)+1))"
   ]
  },
  {
   "cell_type": "code",
   "execution_count": 645,
   "metadata": {
    "collapsed": true
   },
   "outputs": [],
   "source": [
    "range_limits = []\n",
    "for n in range(0, len(deployments_break)+1):\n",
    "    if n == 0:\n",
    "        range_limits.append([0, deployments_break[n]+1])\n",
    "    elif n == len(deployments_break):\n",
    "        range_limits.append([deployments_break[n-1]+1, len(lats)])\n",
    "    else:\n",
    "        range_limits.append([deployments_break[n-1]+1, deployments_break[n]+1])"
   ]
  },
  {
   "cell_type": "code",
   "execution_count": 646,
   "metadata": {
    "collapsed": false
   },
   "outputs": [
    {
     "data": {
      "text/plain": [
       "[[0, 122], [122, 199]]"
      ]
     },
     "execution_count": 646,
     "metadata": {},
     "output_type": "execute_result"
    }
   ],
   "source": [
    "range_limits"
   ]
  },
  {
   "cell_type": "code",
   "execution_count": 647,
   "metadata": {
    "collapsed": false
   },
   "outputs": [
    {
     "name": "stdout",
     "output_type": "stream",
     "text": [
      "from 11-01-25 to 11-01-31\n",
      "from 11-02-04 to 11-02-05\n"
     ]
    }
   ],
   "source": [
    "for item in range_limits:\n",
    "    print('from %s to %s'%(datetime.datetime.fromtimestamp(unix_time[item[0]]).strftime('%y-%m-%d'),datetime.datetime.fromtimestamp(unix_time[item[1]-1]).strftime('%y-%m-%d')))"
   ]
  },
  {
   "cell_type": "markdown",
   "metadata": {},
   "source": [
    "Let's animate again the different deployments:"
   ]
  },
  {
   "cell_type": "code",
   "execution_count": 648,
   "metadata": {
    "collapsed": true
   },
   "outputs": [],
   "source": [
    "deployments = []\n",
    "for item in range_limits:\n",
    "    deployment = {\n",
    "        'type': 'Feature',\n",
    "        'geometry': {\n",
    "            'type': 'LineString',\n",
    "            'coordinates': []\n",
    "        },\n",
    "        'properties': {\n",
    "            'times': [],\n",
    "            'variable': []\n",
    "        }\n",
    "    }\n",
    "    for n in range(item[0],item[1]):\n",
    "        unix_timestamp = int(str(times[n])[:13])\n",
    "        deployment['properties']['times'].append(unix_timestamp)\n",
    "        deployment['geometry']['coordinates'].append([lons[n],lats[n]])\n",
    "    deployments.append(deployment)"
   ]
  },
  {
   "cell_type": "code",
   "execution_count": 626,
   "metadata": {
    "collapsed": false
   },
   "outputs": [
    {
     "data": {
      "text/html": [
       "<div style=\"width:100%;\"><div style=\"position:relative;width:100%;height:0;padding-bottom:60%;\"><iframe src=\"data:text/html;charset=utf-8;base64,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\" style=\"position:absolute;width:100%;height:100%;left:0;top:0;border:none !important;\" allowfullscreen webkitallowfullscreen mozallowfullscreen></iframe></div></div>"
      ],
      "text/plain": [
       "<folium.folium.Map at 0x7fcafa232fd0>"
      ]
     },
     "execution_count": 626,
     "metadata": {},
     "output_type": "execute_result"
    }
   ],
   "source": [
    "view = folium.Map(location=[mean_lat, mean_lon], zoom_start=8)\n",
    "marker = plugins.TimestampedGeoJson({\n",
    "    'type': 'FeatureCollection',\n",
    "    'features': deployments,\n",
    "}, period='PT1H', add_last_point=True, loop=False).add_to(view)\n",
    "view"
   ]
  },
  {
   "cell_type": "markdown",
   "metadata": {},
   "source": [
    "### c) Removing noise from lat-lon"
   ]
  },
  {
   "cell_type": "markdown",
   "metadata": {},
   "source": [
    "The above first deployment contains some outliers in the positions. Let's get rid of them:"
   ]
  },
  {
   "cell_type": "code",
   "execution_count": 601,
   "metadata": {
    "collapsed": false
   },
   "outputs": [],
   "source": [
    "mean_latdeployment = np.mean(lats[range_limits[0][0]:range_limits[0][1]])\n",
    "mean_londeployment = np.mean(lons[range_limits[0][0]:range_limits[0][1]])"
   ]
  },
  {
   "cell_type": "code",
   "execution_count": 602,
   "metadata": {
    "collapsed": true
   },
   "outputs": [],
   "source": [
    "lats_2befiltered = [n for n in range(0,len(deployment1_lats)) if deployment1_lats[n]>3*mean_latdeployment or deployment1_lats[n]<mean_latdeployment/3]\n",
    "lons_2befiltered = [n for n in range(0,len(deployment1_lons)) if deployment1_lons[n]>3*mean_londeployment or deployment1_lons[n]<mean_londeployment/3]"
   ]
  },
  {
   "cell_type": "code",
   "execution_count": 603,
   "metadata": {
    "collapsed": false
   },
   "outputs": [
    {
     "data": {
      "text/plain": [
       "[0, 119, 120, 121]"
      ]
     },
     "execution_count": 603,
     "metadata": {},
     "output_type": "execute_result"
    }
   ],
   "source": [
    "lats_2befiltered"
   ]
  },
  {
   "cell_type": "code",
   "execution_count": 604,
   "metadata": {
    "collapsed": false
   },
   "outputs": [
    {
     "data": {
      "text/plain": [
       "[0, 119, 120, 121]"
      ]
     },
     "execution_count": 604,
     "metadata": {},
     "output_type": "execute_result"
    }
   ],
   "source": [
    "lons_2befiltered"
   ]
  },
  {
   "cell_type": "code",
   "execution_count": 605,
   "metadata": {
    "collapsed": true
   },
   "outputs": [],
   "source": [
    "deployment1_filtered = {\n",
    "    'type': 'Feature',\n",
    "    'geometry': {\n",
    "        'type': 'LineString',\n",
    "        'coordinates': []\n",
    "    },\n",
    "    'properties': {\n",
    "        'times': [],\n",
    "        'variable': []\n",
    "    }\n",
    "}"
   ]
  },
  {
   "cell_type": "code",
   "execution_count": 606,
   "metadata": {
    "collapsed": false
   },
   "outputs": [],
   "source": [
    "for time, lat, lon in zip(times[range_limits[0][0]:range_limits[0][1]], lats[range_limits[0][0]:range_limits[0][1]], lons[range_limits[0][0]:range_limits[0][1]]):\n",
    "    index = times.index(time)\n",
    "    if index in [0,119,120, 121]:\n",
    "        continue\n",
    "    else:\n",
    "        unix_timestamp = int(str(time)[:13])\n",
    "        deployment1_filtered['properties']['times'].append(unix_timestamp)\n",
    "        deployment1_filtered['geometry']['coordinates'].append([lon,lat])"
   ]
  },
  {
   "cell_type": "code",
   "execution_count": 607,
   "metadata": {
    "collapsed": true
   },
   "outputs": [],
   "source": [
    "deployments[0] = deployment1_filtered"
   ]
  },
  {
   "cell_type": "code",
   "execution_count": 608,
   "metadata": {
    "collapsed": false
   },
   "outputs": [
    {
     "data": {
      "text/html": [
       "<div style=\"width:100%;\"><div style=\"position:relative;width:100%;height:0;padding-bottom:60%;\"><iframe src=\"data:text/html;charset=utf-8;base64,PCFET0NUWVBFIGh0bWw+CjxoZWFkPiAgICAKICAgIDxtZXRhIGh0dHAtZXF1aXY9ImNvbnRlbnQtdHlwZSIgY29udGVudD0idGV4dC9odG1sOyBjaGFyc2V0PVVURi04IiAvPgogICAgPHNjcmlwdD5MX1BSRUZFUl9DQU5WQVMgPSBmYWxzZTsgTF9OT19UT1VDSCA9IGZhbHNlOyBMX0RJU0FCTEVfM0QgPSBmYWxzZTs8L3NjcmlwdD4KICAgIDxzY3JpcHQgc3JjPSJodHRwczovL2Nkbi5qc2RlbGl2ci5uZXQvbnBtL2xlYWZsZXRAMS4yLjAvZGlzdC9sZWFmbGV0LmpzIj48L3NjcmlwdD4KICAgIDxzY3JpcHQgc3JjPSJodHRwczovL2FqYXguZ29vZ2xlYXBpcy5jb20vYWpheC9saWJzL2pxdWVyeS8xLjExLjEvanF1ZXJ5Lm1pbi5qcyI+PC9zY3JpcHQ+CiAgICA8c2NyaXB0IHNyYz0iaHR0cHM6Ly9tYXhjZG4uYm9vdHN0cmFwY2RuLmNvbS9ib290c3RyYXAvMy4yLjAvanMvYm9vdHN0cmFwLm1pbi5qcyI+PC9zY3JpcHQ+CiAgICA8c2NyaXB0IHNyYz0iaHR0cHM6Ly9jZG5qcy5jbG91ZGZsYXJlLmNvbS9hamF4L2xpYnMvTGVhZmxldC5hd2Vzb21lLW1hcmtlcnMvMi4wLjIvbGVhZmxldC5hd2Vzb21lLW1hcmtlcnMuanMiPjwvc2NyaXB0PgogICAgPGxpbmsgcmVsPSJzdHlsZXNoZWV0IiBocmVmPSJodHRwczovL2Nkbi5qc2RlbGl2ci5uZXQvbnBtL2xlYWZsZXRAMS4yLjAvZGlzdC9sZWFmbGV0LmNzcyIvPgogICAgPGxpbmsgcmVsPSJzdHlsZXNoZWV0IiBocmVmPSJodHRwczovL21heGNkbi5ib290c3RyYXBjZG4uY29tL2Jvb3RzdHJhcC8zLjIuMC9jc3MvYm9vdHN0cmFwLm1pbi5jc3MiLz4KICAgIDxsaW5rIHJlbD0ic3R5bGVzaGVldCIgaHJlZj0iaHR0cHM6Ly9tYXhjZG4uYm9vdHN0cmFwY2RuLmNvbS9ib290c3RyYXAvMy4yLjAvY3NzL2Jvb3RzdHJhcC10aGVtZS5taW4uY3NzIi8+CiAgICA8bGluayByZWw9InN0eWxlc2hlZXQiIGhyZWY9Imh0dHBzOi8vbWF4Y2RuLmJvb3RzdHJhcGNkbi5jb20vZm9udC1hd2Vzb21lLzQuNi4zL2Nzcy9mb250LWF3ZXNvbWUubWluLmNzcyIvPgogICAgPGxpbmsgcmVsPSJzdHlsZXNoZWV0IiBocmVmPSJodHRwczovL2NkbmpzLmNsb3VkZmxhcmUuY29tL2FqYXgvbGlicy9MZWFmbGV0LmF3ZXNvbWUtbWFya2Vycy8yLjAuMi9sZWFmbGV0LmF3ZXNvbWUtbWFya2Vycy5jc3MiLz4KICAgIDxsaW5rIHJlbD0ic3R5bGVzaGVldCIgaHJlZj0iaHR0cHM6Ly9yYXdnaXQuY29tL3B5dGhvbi12aXN1YWxpemF0aW9uL2ZvbGl1bS9tYXN0ZXIvZm9saXVtL3RlbXBsYXRlcy9sZWFmbGV0LmF3ZXNvbWUucm90YXRlLmNzcyIvPgogICAgPHN0eWxlPmh0bWwsIGJvZHkge3dpZHRoOiAxMDAlO2hlaWdodDogMTAwJTttYXJnaW46IDA7cGFkZGluZzogMDt9PC9zdHlsZT4KICAgIDxzdHlsZT4jbWFwIHtwb3NpdGlvbjphYnNvbHV0ZTt0b3A6MDtib3R0b206MDtyaWdodDowO2xlZnQ6MDt9PC9zdHlsZT4KICAgIAogICAgICAgICAgICA8c3R5bGU+ICNtYXBfOWQ0ZDc3NWI0ZDBmNDkwODljYzA2NTgwZTA4ZGQ1MDMgewogICAgICAgICAgICAgICAgcG9zaXRpb24gOiByZWxhdGl2ZTsKICAgICAgICAgICAgICAgIHdpZHRoIDogMTAwLjAlOwogICAgICAgICAgICAgICAgaGVpZ2h0OiAxMDAuMCU7CiAgICAgICAgICAgICAgICBsZWZ0OiAwLjAlOwogICAgICAgICAgICAgICAgdG9wOiAwLjAlOwogICAgICAgICAgICAgICAgfQogICAgICAgICAgICA8L3N0eWxlPgogICAgICAgIAogICAgPHNjcmlwdCBzcmM9Imh0dHBzOi8vY2RuanMuY2xvdWRmbGFyZS5jb20vYWpheC9saWJzL2pxdWVyeS8yLjAuMC9qcXVlcnkubWluLmpzIj48L3NjcmlwdD4KICAgIDxzY3JpcHQgc3JjPSJodHRwczovL2NkbmpzLmNsb3VkZmxhcmUuY29tL2FqYXgvbGlicy9qcXVlcnl1aS8xLjEwLjIvanF1ZXJ5LXVpLm1pbi5qcyI+PC9zY3JpcHQ+CiAgICA8c2NyaXB0IHNyYz0iaHR0cHM6Ly9yYXdnaXQuY29tL25lemFzYS9pc284NjAxLWpzLXBlcmlvZC9tYXN0ZXIvaXNvODYwMS5taW4uanMiPjwvc2NyaXB0PgogICAgPHNjcmlwdCBzcmM9Imh0dHBzOi8vcmF3Z2l0LmNvbS9zb2NpYi9MZWFmbGV0LlRpbWVEaW1lbnNpb24vbWFzdGVyL2Rpc3QvbGVhZmxldC50aW1lZGltZW5zaW9uLm1pbi5qcyI+PC9zY3JpcHQ+CiAgICA8bGluayByZWw9InN0eWxlc2hlZXQiIGhyZWY9Imh0dHBzOi8vY2RuanMuY2xvdWRmbGFyZS5jb20vYWpheC9saWJzL2hpZ2hsaWdodC5qcy84LjQvc3R5bGVzL2RlZmF1bHQubWluLmNzcyIvPgogICAgPGxpbmsgcmVsPSJzdHlsZXNoZWV0IiBocmVmPSJodHRwOi8vYXBwcy5zb2NpYi5lcy9MZWFmbGV0LlRpbWVEaW1lbnNpb24vZGlzdC9sZWFmbGV0LnRpbWVkaW1lbnNpb24uY29udHJvbC5taW4uY3NzIi8+CjwvaGVhZD4KPGJvZHk+ICAgIAogICAgCiAgICAgICAgICAgIDxkaXYgY2xhc3M9ImZvbGl1bS1tYXAiIGlkPSJtYXBfOWQ0ZDc3NWI0ZDBmNDkwODljYzA2NTgwZTA4ZGQ1MDMiID48L2Rpdj4KICAgICAgICAKPC9ib2R5Pgo8c2NyaXB0PiAgICAKICAgIAoKICAgICAgICAgICAgCiAgICAgICAgICAgICAgICB2YXIgYm91bmRzID0gbnVsbDsKICAgICAgICAgICAgCgogICAgICAgICAgICB2YXIgbWFwXzlkNGQ3NzViNGQwZjQ5MDg5Y2MwNjU4MGUwOGRkNTAzID0gTC5tYXAoCiAgICAgICAgICAgICAgICAgICAgICAgICAgICAgICAgICAnbWFwXzlkNGQ3NzViNGQwZjQ5MDg5Y2MwNjU4MGUwOGRkNTAzJywKICAgICAgICAgICAgICAgICAgICAgICAgICAgICAgICAgIHtjZW50ZXI6IFszOC43MTYwNDQyODcsMi4wOTk4NzYyMzEyOF0sCiAgICAgICAgICAgICAgICAgICAgICAgICAgICAgICAgICB6b29tOiA4LAogICAgICAgICAgICAgICAgICAgICAgICAgICAgICAgICAgbWF4Qm91bmRzOiBib3VuZHMsCiAgICAgICAgICAgICAgICAgICAgICAgICAgICAgICAgICBsYXllcnM6IFtdLAogICAgICAgICAgICAgICAgICAgICAgICAgICAgICAgICAgd29ybGRDb3B5SnVtcDogZmFsc2UsCiAgICAgICAgICAgICAgICAgICAgICAgICAgICAgICAgICBjcnM6IEwuQ1JTLkVQU0czODU3CiAgICAgICAgICAgICAgICAgICAgICAgICAgICAgICAgIH0pOwogICAgICAgICAgICAKICAgICAgICAKICAgIAogICAgICAgICAgICB2YXIgdGlsZV9sYXllcl9mY2I3YTc2N2E4ZmI0M2QzYjA4YTBjMDk2OGRlNzRjNCA9IEwudGlsZUxheWVyKAogICAgICAgICAgICAgICAgJ2h0dHBzOi8ve3N9LnRpbGUub3BlbnN0cmVldG1hcC5vcmcve3p9L3t4fS97eX0ucG5nJywKICAgICAgICAgICAgICAgIHsKICAiYXR0cmlidXRpb24iOiBudWxsLCAKICAiZGV0ZWN0UmV0aW5hIjogZmFsc2UsIAogICJtYXhab29tIjogMTgsIAogICJtaW5ab29tIjogMSwgCiAgIm5vV3JhcCI6IGZhbHNlLCAKICAic3ViZG9tYWlucyI6ICJhYmMiCn0KICAgICAgICAgICAgICAgICkuYWRkVG8obWFwXzlkNGQ3NzViNGQwZjQ5MDg5Y2MwNjU4MGUwOGRkNTAzKTsKICAgICAgICAKICAgIAogICAgICAgICAgICBtYXBfOWQ0ZDc3NWI0ZDBmNDkwODljYzA2NTgwZTA4ZGQ1MDMudGltZURpbWVuc2lvbiA9IEwudGltZURpbWVuc2lvbih7cGVyaW9kOiJQVDFIIn0pOwogICAgICAgICAgICBtYXBfOWQ0ZDc3NWI0ZDBmNDkwODljYzA2NTgwZTA4ZGQ1MDMudGltZURpbWVuc2lvbkNvbnRyb2wgPSBMLmNvbnRyb2wudGltZURpbWVuc2lvbih7CiAgICAgICAgICAgICAgICBwb3NpdGlvbjogJ2JvdHRvbWxlZnQnLAogICAgICAgICAgICAgICAgYXV0b1BsYXk6IHRydWUsCiAgICAgICAgICAgICAgICBwbGF5ZXJPcHRpb25zOiB7CiAgICAgICAgICAgICAgICAgICAgdHJhbnNpdGlvblRpbWU6IDIwMCwKICAgICAgICAgICAgICAgICAgICBsb29wOiBmYWxzZX0KICAgICAgICAgICAgICAgICAgICB9KTsKICAgICAgICAgICAgbWFwXzlkNGQ3NzViNGQwZjQ5MDg5Y2MwNjU4MGUwOGRkNTAzLmFkZENvbnRyb2wobWFwXzlkNGQ3NzViNGQwZjQ5MDg5Y2MwNjU4MGUwOGRkNTAzLnRpbWVEaW1lbnNpb25Db250cm9sKTsKCiAgICAgICAgICAgIHZhciB0aW1lc3RhbXBlZF9nZW9fanNvbl8wNWJlYjRhZGNiNzY0ZDYwYWEzMDk1MGFkMDM3YTQ4MSA9IEwudGltZURpbWVuc2lvbi5sYXllci5nZW9Kc29uKAogICAgICAgICAgICAgICAgTC5nZW9Kc29uKHsidHlwZSI6ICJGZWF0dXJlQ29sbGVjdGlvbiIsICJmZWF0dXJlcyI6IFt7Imdlb21ldHJ5IjogeyJ0eXBlIjogIkxpbmVTdHJpbmciLCAiY29vcmRpbmF0ZXMiOiBbWzIuMjgxODIwMDU4ODIyNjMyLCAzOS41NzU4Mjg1NTIyNDYwOTRdLCBbMi4yNzgyMzk5NjU0Mzg4NDI4LCAzOS41Nzk3ODgyMDgwMDc4MV0sIFsyLjI3NTc3OTk2MjUzOTY3MywgMzkuNTgyNTAwNDU3NzYzNjddLCBbMi4yNjE4MjAwNzc4OTYxMTgsIDM5LjU5NzkxMTgzNDcxNjhdLCBbMi4yNjA0MjAwODM5OTk2MzQsIDM5LjU5OTQ0OTE1NzcxNDg0NF0sIFsyLjI1ODk0OTk5NTA0MDg5MzYsIDM5LjYwMTA4MTg0ODE0NDUzXSwgWzIuMjU3NDMwMDc2NTk5MTIxLCAzOS42MDI3NDg4NzA4NDk2MV0sIFsyLjI1MzE1OTk5OTg0NzQxMiwgMzkuNjA3NDYwMDIxOTcyNjU2XSwgWzIuMjUxNTQ5OTU5MTgyNzM5MywgMzkuNjA5MjQxNDg1NTk1N10sIFsyLjI0OTkyOTkwNDkzNzc0NCwgMzkuNjExMDMwNTc4NjEzMjhdLCBbMi4yNDgzMzk4OTE0MzM3MTYsIDM5LjYxMjc4MTUyNDY1ODJdLCBbMi4yNDY3MzAwODkxODc2MjIsIDM5LjYxNDU1OTE3MzU4Mzk4NF0sIFsyLjI0NzE0OTk0NDMwNTQyLCAzOS42MTcyNDg1MzUxNTYyNV0sIFsyLjI0MjAyOTkwNTMxOTIxNCwgMzkuNjIwMDkwNDg0NjE5MTRdLCBbMi4yMzkzMDAwMTI1ODg1MDEsIDM5LjYyMTYwMTEwNDczNjMzXSwgWzIuMjM2NjI5OTYyOTIxMTQyNiwgMzkuNjIzMDg4ODM2NjY5OTJdLCBbMi4yMzEyMjAwMDY5NDI3NDksIDM5LjYyNjA5MTAwMzQxNzk3XSwgWzIuMjI4NjIwMDUyMzM3NjQ2NSwgMzkuNjI3NTI5MTQ0Mjg3MTFdLCBbMi4yMjU4Njk4OTQwMjc3MSwgMzkuNjI5MDU4ODM3ODkwNjI1XSwgWzIuMjIzMDk5OTQ2OTc1NzA4LCAzOS42MzA1OTk5NzU1ODU5NF0sIFsyLjIxNTk5MDA2NjUyODMyMDMsIDM5LjYzNDU0ODE4NzI1NTg2XSwgWzIuMjEzMTYwMDM3OTk0Mzg0OCwgMzkuNjM2MTE5ODQyNTI5M10sIFsyLjIxMDU2MDA4MzM4OTI4MjIsIDM5LjYzNzU2MTc5ODA5NTddLCBbMi4yMDg4Mzk4OTMzNDEwNjQ1LCAzOS42Mzg1MTkyODcxMDkzNzVdLCBbMi4yMDY4NTAwNTE4Nzk4ODMsIDM5LjYzOTYyMTczNDYxOTE0XSwgWzIuMjA0MDIwMDIzMzQ1OTQ3MywgMzkuNjQxMTg5NTc1MTk1MzFdLCBbMi4yMDEyNTAwNzYyOTM5NDUzLCAzOS42NDI3MzA3MTI4OTA2MjVdLCBbMi4xOTg0MDAwMjA1OTkzNjUyLCAzOS42NDQzMDk5OTc1NTg1OTRdLCBbMi4xOTU3OTAwNTI0MTM5NDA0LCAzOS42NDU3NTk1ODI1MTk1M10sIFsyLjE5NDIzMDA3OTY1MDg3OSwgMzkuNjQ2NjI5MzMzNDk2MDk0XSwgWzIuMTkzMzAwMDA4NzczODAzNywgMzkuNjQ3MTQ4MTMyMzI0MjJdLCBbMi4xOTE5MzAwNTU2MTgyODYsIDM5LjY0Nzg5OTYyNzY4NTU1XSwgWzIuMTg5NTI5ODk1NzgyNDcwNywgMzkuNjUwODU5ODMyNzYzNjddLCBbMi4xODQ0Nzk5NTE4NTg1MjA1LCAzOS42NTQyODkyNDU2MDU0N10sIFsyLjE3ODIyMDAzMzY0NTYzLCAzOS42NTg1MTk3NDQ4NzMwNV0sIFsyLjE3MTY0OTkzMjg2MTMyOCwgMzkuNjYyOTc5MTI1OTc2NTZdLCBbMi4xNjQ3Njk4ODc5MjQxOTQzLCAzOS42Njc2MjkyNDE5NDMzNl0sIFsyLjE1NzAxMDA3ODQzMDE3NiwgMzkuNjcyOTAxMTUzNTY0NDVdLCBbMi4xNDg5Njk4ODg2ODcxMzQsIDM5LjY3ODM0MDkxMTg2NTIzNF0sIFsyLjEzNTU0MDAwODU0NDkyMiwgMzkuNjg3NDMxMzM1NDQ5MjJdLCBbMi4xMjE4MDk5NTk0MTE2MjEsIDM5LjY5OTM0ODQ0OTcwNzAzXSwgWzIuMTE5MDQwMDEyMzU5NjE5LCAzOS43MTgzNDk0NTY3ODcxMV0sIFsyLjExNTYxOTg5Nzg0MjQwNzIsIDM5Ljc0MTc0MTE4MDQxOTkyXSwgWzIuMTEyMjUwMDg5NjQ1Mzg1NywgMzkuNzY0ODU4MjQ1ODQ5NjFdLCBbMi4xMDk0MTAwNDc1MzExMjgsIDM5Ljc3NDgyOTg2NDUwMTk1XSwgWzIuMDk2OTMwMDI3MDA4MDU2NiwgMzkuODAzMzcxNDI5NDQzMzZdLCBbMi4wODA3OTAwNDI4NzcxOTczLCAzOS44MjkyMzg4OTE2MDE1Nl0sIFsyLjA3MTQ2MDAwODYyMTIxNiwgMzkuODQ1MDA4ODUwMDk3NjU2XSwgWzIuMDUwNjc5OTIyMTAzODgyLCAzOS44NzA2NTg4NzQ1MTE3Ml0sIFsyLjAzNDg2OTkwOTI4NjQ5OSwgMzkuODkwMTkwMTI0NTExNzJdLCBbMi4wMjc3MTk5NzQ1MTc4MjIzLCAzOS44OTU4Mzk2OTExNjIxMV0sIFsyLjAwNzQ4OTkxOTY2MjQ3NTYsIDM5LjkwMzI4OTc5NDkyMTg3NV0sIFsyLjAwNTkzOTk2MDQ3OTczNjMsIDM5LjkyMDAyMTA1NzEyODkwNl0sIFsxLjk5Mjk0OTk2MjYxNTk2NjgsIDM5Ljg5NDY0MTg3NjIyMDddLCBbMS45ODA1NTk5NDUxMDY1MDYzLCAzOS44NzA0NDkwNjYxNjIxMV0sIFsxLjk3MTk3OTk3NTcwMDM3ODQsIDM5Ljg0OTA3OTEzMjA4MDA4XSwgWzEuOTcxNDIwMDQ5NjY3MzU4NCwgMzkuODE5MjQwNTcwMDY4MzZdLCBbMS45NzQyNTk5NzI1NzIzMjY3LCAzOS43OTE1Njg3NTYxMDM1MTZdLCBbMS45ODQ4Nzk5NzA1NTA1MzcsIDM5Ljc2NDI3MDc4MjQ3MDddLCBbMS45ODM3OTAwNDAwMTYxNzQzLCAzOS43MzMyMDAwNzMyNDIxOV0sIFsxLjk4Mjc4OTk5MzI4NjEzMjgsIDM5LjcwNDY1MDg3ODkwNjI1XSwgWzEuOTgxNzM5OTk3ODYzNzY5NSwgMzkuNjc5MjcxNjk3OTk4MDVdLCBbMS45ODQyMTAwMTQzNDMyNjE3LCAzOS42NDkzNjA2NTY3MzgyOF0sIFsxLjk4NjYzOTk3NjUwMTQ2NDgsIDM5LjYxNzY0MTQ0ODk3NDYxXSwgWzEuOTkwNDc5OTQ2MTM2NDc0NiwgMzkuNTg2NTc4MzY5MTQwNjI1XSwgWzEuOTkzODYwMDA2MzMyMzk3NSwgMzkuNTU5MjY4OTUxNDE2MDE2XSwgWzEuOTk0NzQwMDA5MzA3ODYxMywgMzkuNTQ0NDE4MzM0OTYwOTRdLCBbMS45OTMzNDAwMTU0MTEzNzcsIDM5LjUxMzUxOTI4NzEwOTM3NV0sIFsxLjk5MTk4OTk3MDIwNzIxNDQsIDM5LjQ4MzU4MTU0Mjk2ODc1XSwgWzEuOTkwMjAwMDQyNzI0NjA5NCwgMzkuNDUwOTUwNjIyNTU4NTk0XSwgWzEuOTg4OTk5OTYyODA2NzAxNywgMzkuNDE3NDExODA0MTk5MjJdLCBbMS45ODg0OTk5OTkwNDYzMjU3LCAzOS4zOTMyNjA5NTU4MTA1NV0sIFsxLjk5NjU2OTk5MTExMTc1NTQsIDM5LjM4NzAzMTU1NTE3NTc4XSwgWzIuMDA5NTQwMDgxMDI0MTcsIDM5LjM3NjkxMTE2MzMzMDA4XSwgWzIuMDE2NTIwMDIzMzQ1OTQ3MywgMzkuMzcxNDcxNDA1MDI5M10sIFsyLjAzNTA3OTk1NjA1NDY4NzUsIDM5LjM1Njk3MTc0MDcyMjY1Nl0sIFsyLjA1NDA0OTk2ODcxOTQ4MjQsIDM5LjM0NDc5OTA0MTc0ODA1XSwgWzIuMDcxMDY5OTU1ODI1ODA1NywgMzkuMzM5OTg4NzA4NDk2MDk0XSwgWzIuMDgyNjc5OTg2OTUzNzM1NCwgMzkuMzM2NzExODgzNTQ0OTJdLCBbMi4wOTI3MDAwMDQ1Nzc2MzY3LCAzOS4zMzM4Njk5MzQwODIwM10sIFsyLjEwMDQxOTk5ODE2ODk0NTMsIDM5LjMzMTY5MTc0MTk0MzM2XSwgWzIuMTA4MTE5OTY0NTk5NjA5NCwgMzkuMzI5NTA5NzM1MTA3NDJdLCBbMi4xMTUxNzAwMDE5ODM2NDI2LCAzOS4zMjc1MTg0NjMxMzQ3NjZdLCBbMi4xMTkzNDk5NTY1MTI0NTEsIDM5LjMyNjMzOTcyMTY3OTY5XSwgWzIuMTIxNDU5OTYwOTM3NSwgMzkuMzI0OTg5MzE4ODQ3NjU2XSwgWzIuMTI0MDM5ODg4MzgxOTU4LCAzOS4zMjMwNTE0NTI2MzY3Ml0sIFsyLjEyNjMxMDExMDA5MjE2MywgMzkuMzIxMzUwMDk3NjU2MjVdLCBbMi4xMjg1NTAwNTI2NDI4MjIzLCAzOS4zMTk2NzE2MzA4NTkzNzVdLCBbMi4xMzEzOTAwOTQ3NTcwOCwgMzkuMzE3NTMxNTg1NjkzMzZdLCBbMi4xMzQwOTk5NjAzMjcxNDg0LCAzOS4zMTU0OTgzNTIwNTA3OF0sIFsyLjEzNjg0MDEwNTA1Njc2MjcsIDM5LjMxMzQzODQxNTUyNzM0NF0sIFsyLjEzOTI3MDA2NzIxNDk2NiwgMzkuMzExNjE4ODA0OTMxNjRdLCBbMi4xNDAxODAxMTA5MzEzOTY1LCAzOS4zMTA5Mzk3ODg4MTgzNl0sIFsyLjE0MTE2MDAxMTI5MTUwNCwgMzkuMzEwMjExMTgxNjQwNjI1XSwgWzIuMTQzODg5OTA0MDIyMjE3LCAzOS4zMDgxNTg4NzQ1MTE3Ml0sIFsyLjE0NTk0MDA2NTM4MzkxMSwgMzkuMzA2NjIxNTUxNTEzNjddLCBbMi4xNDkxMDAwNjUyMzEzMjMyLCAzOS4zMDQyNDExODA0MTk5Ml0sIFsyLjE1MzY4MDA4NjEzNTg2NDMsIDM5LjMwMDgxMTc2NzU3ODEyNV0sIFsyLjE1ODk2MDEwMzk4ODY0NzUsIDM5LjI5Njg0ODI5NzExOTE0XSwgWzIuMTY2Mzg5OTQyMTY5MTg5NSwgMzkuMjkxMjcxMjA5NzE2OF0sIFsyLjE3NDk5OTk1MjMxNjI4NCwgMzkuMjg1NzU4OTcyMTY3OTddLCBbMi4xODgyMjAwMjQxMDg4ODY3LCAzOS4yNzgzMzkzODU5ODYzM10sIFsyLjIwMTcwOTk4NTczMzAzMjIsIDM5LjI3MDc3MTAyNjYxMTMzXSwgWzIuMjE2OTQ5OTM5NzI3NzgzLCAzOS4yNjIyMTg0NzUzNDE4XSwgWzIuMjMwOTUwMTE3MTExMjA2LCAzOS4yNTUxOTk0MzIzNzMwNV0sIFsyLjI0NTI2MDAwMDIyODg4MiwgMzkuMjQ3ODEwMzYzNzY5NTNdLCBbMi4yNjQyMTk5OTkzMTMzNTQ1LCAzOS4yMzYwNDk2NTIwOTk2MV0sIFsyLjI4MzE0OTk1NzY1Njg2MDQsIDM5LjIyNDMxMTgyODYxMzI4XSwgWzIuMjk4NzI5ODk2NTQ1NDEsIDM5LjIxNDY0MTU3MTA0NDkyXSwgWzIuMzA5NjY5OTcxNDY2MDY0NSwgMzkuMjA4NDg4NDY0MzU1NDddLCBbMi4zMjk5NDAwODA2NDI3LCAzOS4xOTUyODk2MTE4MTY0MDZdLCBbMi4zNTAxNTAxMDgzMzc0MDIzLCAzOS4xODIxMDk4MzI3NjM2N10sIFsyLjM2ODkxMDA3NDIzNDAwOSwgMzkuMTY5ODkxMzU3NDIxODc1XSwgWzIuMzc5NjUwMTE1OTY2Nzk3LCAzOS4xNjcyNTE1ODY5MTQwNl0sIFsyLjQwNTAxOTk5ODU1MDQxNSwgMzkuMTgwNzcwODc0MDIzNDRdLCBbMi40Mjg3ODAwNzg4ODc5Mzk1LCAzOS4xOTM0NTA5Mjc3MzQzNzVdLCBbMi40NDg0ODk5MDQ0MDM2ODY1LCAzOS4yMDM5NjA0MTg3MDExN10sIFsyLjQ2NDM5MDAzOTQ0Mzk2OTcsIDM5LjIxMzEwMDQzMzM0OTYxXV19LCAidHlwZSI6ICJGZWF0dXJlIiwgInByb3BlcnRpZXMiOiB7InZhcmlhYmxlIjogW10sICJ0aW1lcyI6IFsxMjk1OTgyNzExMDE0LCAxMjk1OTg0NjEzMDI0LCAxMjk1OTg1OTE4MDA5LCAxMjk1OTkzMzIzMDA4LCAxMjk1OTk0MDY2OTk4LCAxMjk1OTk0ODQ1OTgwLCAxMjk1OTk1NjUzMDQzLCAxMjk1OTk3OTE4MDE5LCAxMjk1OTk4NzczMDMzLCAxMjk1OTk5NjMyMDIyLCAxMjk2MDAwNDczOTkwLCAxMjk2MDAxMzI5MDA0LCAxMjk2MDAzMTM1OTc0LCAxMjk2MDA1MDEzMDE0LCAxMjk2MDA2MDExOTcxLCAxMjk2MDA2OTkyMDA2LCAxMjk2MDA4OTc0OTcyLCAxMjk2MDA5OTI3OTY0LCAxMjk2MDEwOTM3MDMwLCAxMjk2MDExOTUxOTcxLCAxMjk2MDE0NTU5MDA0LCAxMjk2MDE1NTk1OTc3LCAxMjk2MDE2NTUwMDA2LCAxMjk2MDE3MTgwMDM1LCAxMjk2MDE3OTA4MDQxLCAxMjk2MDE4OTQzOTc3LCAxMjk2MDE5OTYwOTkyLCAxMjk2MDIxMDA0OTYzLCAxMjk2MDIxOTYwOTc5LCAxMjk2MDIyNTM1MDIwLCAxMjk2MDIyODc2MDQxLCAxMjk2MDIzMzc2MDM4LCAxMjk2MDI1MzQzOTcxLCAxMjk2MDI2ODg1MDAxLCAxMjk2MDI4NzkyOTcyLCAxMjk2MDMwNzk3MDIwLCAxMjk2MDMyODkxMDExLCAxMjk2MDM1MjU4MDI1LCAxMjk2MDM3NzA1OTk2LCAxMjk2MDQxNzk5MDI0LCAxMjk2MDQ3Mjg4OTY2LCAxMjk2MDUyODcxMDExLCAxMjk2MDU5NzQzOTU4LCAxMjk2MDY2NTM4OTcyLCAxMjk2MDcwMTYzMDIwLCAxMjk2MDc5Mjg5OTcxLCAxMjk2MDg3NTQ3OTk2LCAxMjk2MDkzMzY5MDI0LCAxMjk2MTAyNzE2OTg1LCAxMjk2MTA5ODMyMDI1LCAxMjk2MTEzMjkwMDEyLCAxMjk2MTIwOTc1OTg0LCAxMjk2MTMwODk2MDAwLCAxMjk2MTM5OTY5MDM2LCAxMjk2MTQ4NjE4OTcyLCAxMjk2MTU2OTEzOTc3LCAxMjk2MTY2Mjk3MDE3LCAxMjk2MTc2MDIyOTc5LCAxMjk2MTg2MTk3OTYxLCAxMjk2MTk1NDc2MDI1LCAxMjk2MjAzOTk5OTkwLCAxMjk2MjEyMjQwOTk1LCAxMjk2MjIwODcyOTYwLCAxMjk2MjMwNjQwOTk4LCAxMjk2MjM5NjI1MDQzLCAxMjk2MjQ3NTI3OTY0LCAxMjk2MjUyNjc4MDA5LCAxMjk2MjYxMjAzOTYxLCAxMjk2MjY5NDcwMDIyLCAxMjk2Mjc5MDUyOTkyLCAxMjk2Mjg3OTE5MDE0LCAxMjk2Mjk1MTQ4OTY2LCAxMjk2Mjk4OTM1OTY0LCAxMjk2MzAzMjUxMDQwLCAxMjk2MzA1NTczOTkwLCAxMjk2MzExNzUyOTcyLCAxMjk2MzE4MzcxMDQwLCAxMjk2MzIzMjA1MDMzLCAxMjk2MzI2NTAzMDA4LCAxMjk2MzI5MzUxMDExLCAxMjk2MzMxNTQ0MDE2LCAxMjk2MzMzNzMyMDA5LCAxMjk2MzM1NzMzMDMzLCAxMjk2MzM2OTIzMDIwLCAxMjk2MzM4MTkxOTc3LCAxMjk2MzM5MjQzOTg0LCAxMjk2MzQwMTY4MDMyLCAxMjk2MzQxMDc3OTk2LCAxMjk2MzQyMjM0MDI4LCAxMjk2MzQzMzM3MDExLCAxMjk2MzQ0NDUwMDE2LCAxMjk2MzQ1NDM5MDM2LCAxMjk2MzQ1ODEwMDM4LCAxMjk2MzQ2MjA2MDA5LCAxMjk2MzQ3MzE1OTkwLCAxMjk2MzQ4MTQ4MDIyLCAxMjk2MzQ5NDM3MDI0LCAxMjk2MzUxMjk2MDA2LCAxMjk2MzUzNDQ1MDMzLCAxMjk2MzU2NDY5OTg0LCAxMjk2MzYwNTkyOTkyLCAxMjk2MzY0NjQ4MDAzLCAxMjk2MzY4NzgzMDIwLCAxMjk2MzczNDU1MDE0LCAxMjk2Mzc5MTExMDE3LCAxMjk2Mzg0NzAyOTk4LCAxMjk2MzkwNTgzMDM2LCAxMjk2Mzk2NDUyOTY2LCAxMjk2NDAxMjg2MDA5LCAxMjk2NDA0OTg0OTY2LCAxMjk2NDExMTMzOTY4LCAxMjk2NDE3MjY4MDIyLCAxMjk2NDIyOTU3OTgwLCAxMjk2NDI5MzEyOTYwLCAxMjk2NDM2MjE1MDI0LCAxMjk2NDQyNjgzMDE0LCAxMjk2NDQ4MDQ2OTg1LCAxMjk2NDUzMzk2OTYwXX19LCB7Imdlb21ldHJ5IjogeyJ0eXBlIjogIkxpbmVTdHJpbmciLCAiY29vcmRpbmF0ZXMiOiBbWzIuMTcwODcwMDY1Njg5MDg3LCAzOS41MDc4MDEwNTU5MDgyXSwgWzIuMTY5NzgwMDE1OTQ1NDM0NiwgMzkuNTA3NDM4NjU5NjY3OTddLCBbMi4xNjg4NDk5NDUwNjgzNTk0LCAzOS41MDcxMTgyMjUwOTc2NTZdLCBbMi4xNjc5Mjk4ODc3NzE2MDY0LCAzOS41MDY4MjA2Nzg3MTA5NF0sIFsyLjE2NzAwMDA1NTMxMzExMDQsIDM5LjUwNjUwMDI0NDE0MDYyNV0sIFsyLjE2NTk4MDEwMDYzMTcxNCwgMzkuNTA2MTYwNzM2MDgzOTg0XSwgWzIuMTY1MDE5OTg5MDEzNjcyLCAzOS41MDU4NDAzMDE1MTM2N10sIFsyLjE2NDA4OTkxODEzNjU5NjcsIDM5LjUwNTUzMTMxMTAzNTE1Nl0sIFsyLjE2MzE2MDA4NTY3ODEwMDYsIDM5LjUwNTIxMDg3NjQ2NDg0NF0sIFsyLjE2MjI2MDA1NTU0MTk5MiwgMzkuNTA0OTA5NTE1MzgwODZdLCBbMi4xNjEzMjk5ODQ2NjQ5MTcsIDM5LjUwNDYwMDUyNDkwMjM0NF0sIFsyLjE2MDQwOTkyNzM2ODE2NCwgMzkuNTA0MjkxNTM0NDIzODNdLCBbMi4xNTk0ODAwOTQ5MDk2NjgsIDM5LjUwMzk3MTA5OTg1MzUxNl0sIFsyLjE1ODU3MDA1MTE5MzIzNzMsIDM5LjUwMzY2OTczODc2OTUzXSwgWzIuMTU3NjM5OTgwMzE2MTYyLCAzOS41MDMzNjA3NDgyOTEwMTZdLCBbMi4xNTY3MTk5MjMwMTk0MDksIDM5LjUwMzA1MTc1NzgxMjVdLCBbMi4xNTU4Njk5NjA3ODQ5MTIsIDM5LjUwMjc2MTg0MDgyMDMxXSwgWzIuMTU0OTMwMTE0NzQ2MDkzOCwgMzkuNTAyNDQ5MDM1NjQ0NTNdLCBbMi4xNTM5ODAwMTY3MDgzNzQsIDM5LjUwMjEyODYwMTA3NDIyXSwgWzIuMTUzMDI5OTE4NjcwNjU0MywgMzkuNTAxODA4MTY2NTAzOTA2XSwgWzIuMTUyMDcwMDQ1NDcxMTkxNCwgMzkuNTAxNDkxNTQ2NjMwODZdLCBbMi4xNTExNjAwMDE3NTQ3NjA3LCAzOS41MDExNzg3NDE0NTUwOF0sIFsyLjE1MDE5OTg5MDEzNjcxODgsIDM5LjUwMDg1ODMwNjg4NDc2Nl0sIFsyLjE0OTI1MDAzMDUxNzU3OCwgMzkuNTAwNTQxNjg3MDExNzJdLCBbMi4xNDgyODk5MTg4OTk1MzYsIDM5LjUwMDIyMTI1MjQ0MTQwNl0sIFsyLjE0NzM1MDA3Mjg2MDcxNzgsIDM5LjQ5OTkwMDgxNzg3MTA5NF0sIFsyLjE0NjM3OTk0NzY2MjM1MzUsIDM5LjQ5OTU2ODkzOTIwODk4NF0sIFsyLjE0NTI4OTg5NzkxODcwMSwgMzkuNDk5MjEwMzU3NjY2MDE2XSwgWzIuMTQ0Mjc5OTU2ODE3NjI3LCAzOS40OTg4NzA4NDk2MDkzNzVdLCBbMi4xNDMyOTAwNDI4NzcxOTczLCAzOS40OTg1Mzg5NzA5NDcyNjZdLCBbMi4xNDIyODAxMDE3NzYxMjMsIDM5LjQ5ODE5OTQ2Mjg5MDYyNV0sIFsyLjE0MTI3OTkzNTgzNjc5MiwgMzkuNDk3ODU5OTU0ODMzOTg0XSwgWzIuMTQwMjU5OTgxMTU1Mzk1NSwgMzkuNDk3NTIwNDQ2Nzc3MzQ0XSwgWzIuMTM5MjgwMDgwNzk1Mjg4LCAzOS40OTcxODg1NjgxMTUyMzRdLCBbMi4xMzgyNjk5MDEyNzU2MzQ4LCAzOS40OTY4NDkwNjAwNTg1OTRdLCBbMi4xMzcyNzk5ODczMzUyMDUsIDM5LjQ5NjUyMDk5NjA5Mzc1XSwgWzIuMTM2MjYwMDMyNjUzODA4NiwgMzkuNDk2MTgxNDg4MDM3MTFdLCBbMi4xMzUyMjAwNTA4MTE3Njc2LCAzOS40OTU4MzA1MzU4ODg2N10sIFsyLjEzNDIyOTg5ODQ1Mjc1OSwgMzkuNDk1NDkxMDI3ODMyMDNdLCBbMi4xMzMxNjk4ODk0NTAwNzMyLCAzOS40OTUxMjg2MzE1OTE4XSwgWzIuMTMyMDcwMDY0NTQ0Njc3NywgMzkuNDk0NzcwMDUwMDQ4ODNdLCBbMi4xMzA5ODAwMTQ4MDEwMjU0LCAzOS40OTQ0MDAwMjQ0MTQwNl0sIFsyLjEyOTg2OTkzNzg5NjcyODUsIDM5LjQ5NDAyOTk5ODc3OTNdLCBbMi4xMjg3Nzk4ODgxNTMwNzYsIDM5LjQ5MzY1OTk3MzE0NDUzXSwgWzIuMTI3NzEwMTAzOTg4NjQ3NSwgMzkuNDkzMzAxMzkxNjAxNTZdLCBbMi4xMjY2Njk4ODM3MjgwMjczLCAzOS40OTI5NTA0Mzk0NTMxMjVdLCBbMi4xMjU1NzAwNTg4MjI2MzIsIDM5LjQ5MjU4MDQxMzgxODM2XSwgWzIuMTI0NDI5OTQxMTc3MzY4LCAzOS40OTIxOTg5NDQwOTE4XSwgWzIuMTIzMzc5OTQ1NzU1MDA1LCAzOS40OTE4NTE4MDY2NDA2MjVdLCBbMi4xMjIyMjAwMzkzNjc2NzYsIDM5LjQ5MTQ1ODg5MjgyMjI2Nl0sIFsyLjEyNDM3MDA5ODExNDAxMzcsIDM5LjQ5NTIwODc0MDIzNDM3NV0sIFsyLjEyMjkyMDAzNjMxNTkxOCwgMzkuNDk0NjIxMjc2ODU1NDddLCBbMi4xMjE2MTk5Mzk4MDQwNzcsIDM5LjQ5NDA3OTU4OTg0Mzc1XSwgWzIuMTIwMzIwMDgxNzEwODE1NCwgMzkuNDkzNTQ5MzQ2OTIzODNdLCBbMi4xMTkwMDk5NzE2MTg2NTIzLCAzOS40OTMwMTE0NzQ2MDkzNzVdLCBbMi4xMTc3Mzk5MTU4NDc3NzgzLCAzOS40OTI0ODg4NjEwODM5ODRdLCBbMi4xMTY0NTAwNzEzMzQ4MzksIDM5LjQ5MTk1ODYxODE2NDA2XSwgWzIuMTE1MTgwMDE1NTYzOTY1LCAzOS40OTE0Mzk4MTkzMzU5NF0sIFsyLjExMzkyOTk4Njk1MzczNTQsIDM5LjQ5MDkyODY0OTkwMjM0NF0sIFsyLjExMjU3MDA0NzM3ODU0LCAzOS40OTAzNzE3MDQxMDE1Nl0sIFsyLjExMTI2OTk1MDg2NjY5OSwgMzkuNDg5ODQxNDYxMTgxNjRdLCBbMi4xMDk5ODk4ODE1MTU1MDMsIDM5LjQ4OTMxMTIxODI2MTcyXSwgWzIuMTA4NjkwMDIzNDIyMjQxLCAzOS40ODg3ODA5NzUzNDE4XSwgWzIuMTA3NDE5OTY3NjUxMzY3LCAzOS40ODgyNTgzNjE4MTY0MDZdLCBbMi4xMDQ5Njk5NzgzMzI1MTk1LCAzOS40ODcyNTg5MTExMzI4MV0sIFsyLjEwMTM4MDEwOTc4Njk4NzMsIDM5LjQ4NTc3ODgwODU5Mzc1XSwgWzIuMDk4MDAwMDQ5NTkxMDY0NSwgMzkuNDg0NDAxNzAyODgwODZdLCBbMi4wOTUzMDk5NzI3NjMwNjE1LCAzOS40ODMyOTE2MjU5NzY1Nl0sIFsyLjA4NDE1MDA3NTkxMjQ3NTYsIDM5LjQ3ODcyMTYxODY1MjM0NF0sIFsyLjA3MTA4OTk4Mjk4NjQ1LCAzOS40OTE0MDE2NzIzNjMyOF0sIFsyLjA2MzgyOTg5ODgzNDIyODUsIDM5LjQ4OTM0MTczNTgzOTg0NF0sIFsyLjA1NTk4OTk4MDY5NzYzMiwgMzkuNDg3MDk4NjkzODQ3NjU2XSwgWzIuMDQ2NDIwMDk3MzUxMDc0LCAzOS40ODQzNzg4MTQ2OTcyNjZdLCBbMi4wMzcyMjAwMDEyMjA3MDMsIDM5LjQ4MTc1ODExNzY3NTc4XSwgWzIuMDI4MzIwMDc0MDgxNDIxLCAzOS40NzkyMjEzNDM5OTQxNF0sIFsyLjAxNzIyMDAyMDI5NDE4OTUsIDM5LjQ3NjA1ODk1OTk2MDk0XSwgWzIuMDEwNjc5OTYwMjUwODU0NSwgMzkuNDc0MjAxMjAyMzkyNThdXX0sICJ0eXBlIjogIkZlYXR1cmUiLCAicHJvcGVydGllcyI6IHsidmFyaWFibGUiOiBbXSwgInRpbWVzIjogWzEyOTY4NDAyOTk5NjEsIDEyOTY4NDA3ODEwMzYsIDEyOTY4NDExOTI5OTIsIDEyOTY4NDE1OTY5OTgsIDEyOTY4NDIwMDkwNDAsIDEyOTY4NDI0NTc5NzQsIDEyOTY4NDI4ODIwMjUsIDEyOTY4NDMyOTE5OTMsIDEyOTY4NDM3MDI5OTgsIDEyOTY4NDQxMDM5ODAsIDEyOTY4NDQ1MTE5NjEsIDEyOTY4NDQ5MTcwMDQsIDEyOTY4NDUzMzE5ODQsIDEyOTY4NDU3MzA5NzksIDEyOTY4NDYxNDEwMzMsIDEyOTY4NDY1NDcwMjcsIDEyOTY4NDY5MjMwNDAsIDEyOTY4NDczMzY5ODIsIDEyOTY4NDc3NTgwMDksIDEyOTY4NDgxNzgwMDAsIDEyOTY4NDg1OTk5NzcsIDEyOTY4NDkwMDM5ODQsIDEyOTY4NDk0MjU5NjEsIDEyOTY4NDk4NDY5ODgsIDEyOTY4NTAyNzAwMDMsIDEyOTY4NTA2ODQwMzIsIDEyOTY4NTExMTQ5OTUsIDEyOTY4NTE1OTUwMzMsIDEyOTY4NTIwNDE5ODAsIDEyOTY4NTI0NzgwNDEsIDEyOTY4NTI5MjY5NzYsIDEyOTY4NTMzNjU5NzQsIDEyOTY4NTM4MTY5ODIsIDEyOTY4NTQyNTA5NjksIDEyOTY4NTQ2OTQwMjgsIDEyOTY4NTUxMzE5OTAsIDEyOTY4NTU1ODI5OTgsIDEyOTY4NTYwNDEwMDQsIDEyOTY4NTY0NzY5NzksIDEyOTY4NTY5NTAwMTksIDEyOTY4NTc0MzQwMzIsIDEyOTY4NTc5MTcwMDgsIDEyOTY4NTg0MDY5ODIsIDEyOTY4NTg4ODUwMzMsIDEyOTY4NTkzNTc5ODcsIDEyOTY4NTk4MTc5ODAsIDEyOTY4NjAzMDU5NjgsIDEyOTY4NjA4MDgwMzgsIDEyOTY4NjEyNzA5NjksIDEyOTY4NjE3ODQwMTIsIDEyOTY4NjQ0NTQ5ODIsIDEyOTY4NjUwMjYwMDAsIDEyOTY4NjU1MzYwMTksIDEyOTY4NjYwNDM5NjQsIDEyOTY4NjY1NTUwMjAsIDEyOTY4NjcwNTU5NjgsIDEyOTY4Njc1NjA5NzYsIDEyOTY4NjgwNTg5ODUsIDEyOTY4Njg1NDY5NzIsIDEyOTY4NjkwODEwMTEsIDEyOTY4Njk1OTE5ODAsIDEyOTY4NzAwOTEwMjcsIDEyOTY4NzA2MDAwMDksIDEyOTY4NzEwOTgwMTksIDEyOTY4NzIwNTY5NzIsIDEyOTY4NzM0NjM5OTYsIDEyOTY4NzQ3ODk5NzcsIDEyOTY4NzU4NDU5NTgsIDEyOTY4Nzk5NDU5ODQsIDEyOTY4ODk0MDIwMzIsIDEyOTY4OTE1NzQwNDEsIDEyOTY4OTM5MTkwMjQsIDEyOTY4OTY3Nzk5ODcsIDEyOTY4OTk1MzA5NjMsIDEyOTY5MDIxOTE5OTYsIDEyOTY5MDU1MTM5OTAsIDEyOTY5MDc0NjY5NzZdfX1dfSwgeydzdHlsZSc6IGZ1bmN0aW9uIChmZWF0dXJlKSB7CiAgICAgICAgICAgICAgICAgICAgcmV0dXJuIGZlYXR1cmUucHJvcGVydGllcy5zdHlsZQogICAgICAgICAgICAgICAgfX0pLAogICAgICAgICAgICAgICAge3VwZGF0ZVRpbWVEaW1lbnNpb246IHRydWUsYWRkbGFzdFBvaW50OiB0cnVlfQogICAgICAgICAgICAgICAgKS5hZGRUbyhtYXBfOWQ0ZDc3NWI0ZDBmNDkwODljYzA2NTgwZTA4ZGQ1MDMpOwogICAgICAgIAo8L3NjcmlwdD4=\" style=\"position:absolute;width:100%;height:100%;left:0;top:0;border:none !important;\" allowfullscreen webkitallowfullscreen mozallowfullscreen></iframe></div></div>"
      ],
      "text/plain": [
       "<folium.folium.Map at 0x7fcafa272b90>"
      ]
     },
     "execution_count": 608,
     "metadata": {},
     "output_type": "execute_result"
    }
   ],
   "source": [
    "view = folium.Map(location=[mean_lat, mean_lon], zoom_start=8)\n",
    "marker = plugins.TimestampedGeoJson({\n",
    "    'type': 'FeatureCollection',\n",
    "    'features': deployments,\n",
    "}, period='PT1H', add_last_point=True, loop=False).add_to(view)\n",
    "view"
   ]
  }
 ],
 "metadata": {
  "kernelspec": {
   "display_name": "Python [anaconda2]",
   "language": "python",
   "name": "Python [anaconda2]"
  },
  "language_info": {
   "codemirror_mode": {
    "name": "ipython",
    "version": 2
   },
   "file_extension": ".py",
   "mimetype": "text/x-python",
   "name": "python",
   "nbconvert_exporter": "python",
   "pygments_lexer": "ipython2",
   "version": "2.7.12"
  }
 },
 "nbformat": 4,
 "nbformat_minor": 0
}
